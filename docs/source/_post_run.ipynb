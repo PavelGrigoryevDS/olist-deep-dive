{
 "cells": [
  {
   "cell_type": "code",
   "execution_count": null,
   "id": "9f8d652b",
   "metadata": {},
   "outputs": [],
   "source": [
    "%store df_orders\n",
    "%store df_items\n",
    "%store df_reviews\n",
    "%store df_products\n",
    "%store df_geolocations\n",
    "%store df_sellers\n",
    "%store df_payments\n",
    "%store df_customers\n",
    "%store df_categories\n",
    "\n",
    "try:\n",
    "    %store df_customers_origin\n",
    "except Exception as ex:\n",
    "    print(ex) \n",
    "    \n",
    "try:\n",
    "    %store df_sales\n",
    "except Exception as ex:\n",
    "    print(ex)       \n",
    "    \n",
    "try:\n",
    "    %store base_labels\n",
    "except Exception as ex:\n",
    "    print(ex)     \n",
    "    \n",
    "try:\n",
    "    %store customers_dim\n",
    "except Exception as ex:\n",
    "    print(ex)     \n",
    "\n",
    "try:\n",
    "    %store base_category_orders\n",
    "except Exception as ex:\n",
    "    print(ex)  \n",
    "       \n",
    "try:\n",
    "    %store df_rfm\n",
    "except Exception as ex:\n",
    "    print(ex)     "
   ]
  }
 ],
 "metadata": {
  "language_info": {
   "name": "python"
  }
 },
 "nbformat": 4,
 "nbformat_minor": 5
}
