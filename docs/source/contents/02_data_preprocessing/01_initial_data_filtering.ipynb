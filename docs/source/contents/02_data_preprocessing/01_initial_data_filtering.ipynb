{
  "metadata": {},
  "nbformat": 4,
  "nbformat_minor": 4,
  "cells": [
    {
      "cell_type": "code",
      "execution_count": null,
      "metadata": {
        "tags": [
          "remove-cell"
        ]
      },
      "source": [
        "%run ../../_pre_run.ipynb"
      ],
      "outputs": []
    },
    {
      "cell_type": "markdown",
      "metadata": {},
      "source": [
        "# Initial Data Filtering"
      ]
    },
    {
      "cell_type": "markdown",
      "metadata": {},
      "source": [
        "**Selecting the Time Period for Analysis**"
      ]
    },
    {
      "cell_type": "markdown",
      "metadata": {},
      "source": [
        "Let's see how many orders there were before 2017."
      ]
    },
    {
      "cell_type": "code",
      "execution_count": null,
      "metadata": {},
      "outputs": [],
      "source": [
        "df_orders[df_orders.order_approved_dt < '2017-04-01'].groupby(pd.Grouper(key='order_approved_dt', freq='ME')).agg({'order_id': 'nunique'})"
      ]
    },
    {
      "cell_type": "markdown",
      "metadata": {},
      "source": [
        "**Key Observations:**\n",
        "\n",
        "- Before 2017, either there were very few orders or the data is incomplete. It would be reasonable to use data starting from 2017.\n",
        "- If we include data before 2017, the results for this period will not be statistically significant, as only October 2016 had a somewhat sufficient number of orders. This will manifest as anomalous values in average metrics on graphs due to small sample sizes in groups."
      ]
    },
    {
      "cell_type": "markdown",
      "metadata": {},
      "source": [
        "Let's see how many orders were approved after September 2018."
      ]
    },
    {
      "cell_type": "code",
      "execution_count": null,
      "metadata": {},
      "outputs": [],
      "source": [
        "df_orders[df_orders.order_approved_dt > '2018-09-01']"
      ]
    },
    {
      "cell_type": "markdown",
      "metadata": {},
      "source": [
        "**Key Observations:**  \n",
        "\n",
        "- Only one order. We conclude that data after August 2018 is incomplete."
      ]
    },
    {
      "cell_type": "markdown",
      "metadata": {},
      "source": [
        "Let's examine what orders were created after August 2018."
      ]
    },
    {
      "cell_type": "code",
      "execution_count": null,
      "metadata": {},
      "outputs": [],
      "source": [
        "df_orders[df_orders.order_purchase_dt > '2018-09-01']"
      ]
    },
    {
      "cell_type": "markdown",
      "metadata": {},
      "source": [
        "**Key Observations:**  \n",
        "\n",
        "- All orders created after August 2018 were canceled, except for one. This means we can safely trim the data up to September 2018."
      ]
    },
    {
      "cell_type": "markdown",
      "metadata": {},
      "source": [
        "As we determined, there were very few sales before January 2017, or the data is incomplete, so for more accurate analysis, we will consider data from January 2017.\n",
        "\n",
        "Additionally, there is only one approved order after August 2018. Very few were created, and all were canceled, so we will analyze data up to and including August 2018 to avoid distorting results with incomplete data.\n",
        "\n",
        "At the same time, it's important not to lose rows with missing values in order_approved_dt."
      ]
    },
    {
      "cell_type": "code",
      "execution_count": null,
      "metadata": {},
      "outputs": [],
      "source": [
        "df_orders = df_orders[\n",
        "    df_orders.order_purchase_dt.between(pd.to_datetime('2017-01-01'), pd.to_datetime('2018-09-01'), inclusive='left')\n",
        "    | df_orders.order_purchase_dt.isna()\n",
        "]"
      ]
    },
    {
      "cell_type": "markdown",
      "metadata": {},
      "source": [
        "We’ll do the same for the reviews table. But we’ll only trim the lower date since reviews are created later than orders."
      ]
    },
    {
      "cell_type": "code",
      "execution_count": null,
      "metadata": {},
      "outputs": [],
      "source": [
        "df_reviews = df_reviews[\n",
        "    (df_reviews.review_creation_dt >= pd.to_datetime('2017-01-01'))\n",
        "    | df_reviews.review_creation_dt.isna()\n",
        "]"
      ]
    },
    {
      "cell_type": "markdown",
      "metadata": {},
      "source": [
        "---"
      ]
    },
    {
      "cell_type": "markdown",
      "metadata": {},
      "source": [
        "**Filtering by Order Presence**"
      ]
    },
    {
      "cell_type": "markdown",
      "metadata": {},
      "source": [
        "To ensure data integrity, we kept only those records in related tables that have a corresponding order_id in the orders table."
      ]
    },
    {
      "cell_type": "markdown",
      "metadata": {},
      "source": [
        "We’ll keep only users present in the orders table."
      ]
    },
    {
      "cell_type": "code",
      "execution_count": null,
      "metadata": {},
      "outputs": [],
      "source": [
        "fron.analyze_join_keys(df_customers, df_orders, on='customer_id', how='inner')"
      ]
    },
    {
      "cell_type": "code",
      "execution_count": null,
      "metadata": {},
      "outputs": [],
      "source": [
        "df_customers = df_customers.merge(df_orders[['customer_id']], on='customer_id', how='inner')"
      ]
    },
    {
      "cell_type": "code",
      "execution_count": null,
      "metadata": {},
      "outputs": [],
      "source": [
        "fron.analyze_join_keys(df_customers, df_orders, on='customer_id', only_coverage=True)"
      ]
    },
    {
      "cell_type": "markdown",
      "metadata": {},
      "source": [
        "We’ll keep only payments present in the orders table."
      ]
    },
    {
      "cell_type": "code",
      "execution_count": null,
      "metadata": {},
      "outputs": [],
      "source": [
        "fron.analyze_join_keys(df_payments, df_orders, on='order_id', how='inner')"
      ]
    },
    {
      "cell_type": "code",
      "execution_count": null,
      "metadata": {},
      "outputs": [],
      "source": [
        "df_payments = df_payments.merge(df_orders[['order_id']], on='order_id', how='inner')"
      ]
    },
    {
      "cell_type": "code",
      "execution_count": null,
      "metadata": {},
      "outputs": [],
      "source": [
        "fron.analyze_join_keys(df_payments, df_orders, on='order_id', only_coverage=True)"
      ]
    },
    {
      "cell_type": "markdown",
      "metadata": {},
      "source": [
        "We’ll keep only reviews present in the orders table."
      ]
    },
    {
      "cell_type": "code",
      "execution_count": null,
      "metadata": {},
      "outputs": [],
      "source": [
        "fron.analyze_join_keys(df_reviews, df_orders, on='order_id', how='inner')"
      ]
    },
    {
      "cell_type": "code",
      "execution_count": null,
      "metadata": {},
      "outputs": [],
      "source": [
        "df_reviews = df_reviews.merge(df_orders[['order_id']], on='order_id', how='inner')"
      ]
    },
    {
      "cell_type": "code",
      "execution_count": null,
      "metadata": {},
      "outputs": [],
      "source": [
        "fron.analyze_join_keys(df_reviews, df_orders, on='order_id', only_coverage=True)"
      ]
    },
    {
      "cell_type": "markdown",
      "metadata": {},
      "source": [
        "We’ll keep only order items present in the orders table."
      ]
    },
    {
      "cell_type": "code",
      "execution_count": null,
      "metadata": {},
      "outputs": [],
      "source": [
        "fron.analyze_join_keys(df_items, df_orders, on='order_id', how='inner')"
      ]
    },
    {
      "cell_type": "code",
      "execution_count": null,
      "metadata": {},
      "outputs": [],
      "source": [
        "df_items = df_items.merge(df_orders[['order_id']], on='order_id', how='inner')"
      ]
    },
    {
      "cell_type": "code",
      "execution_count": null,
      "metadata": {},
      "outputs": [],
      "source": [
        "fron.analyze_join_keys(df_items, df_orders, on='order_id', only_coverage=True)"
      ]
    },
    {
      "cell_type": "markdown",
      "metadata": {},
      "source": [
        "Orders that exist in the orders table but not in the order items table cannot be deleted."
      ]
    },
    {
      "cell_type": "markdown",
      "metadata": {},
      "source": [
        "We’ll keep all products to identify which ones were never purchased."
      ]
    },
    {
      "cell_type": "markdown",
      "metadata": {},
      "source": [
        "We’ll also keep all sellers to see whose products didn’t sell."
      ]
    },
    {
      "cell_type": "code",
      "execution_count": null,
      "metadata": {
        "tags": [
          "remove-cell"
        ]
      },
      "source": [
        "%run ../../_post_run.ipynb"
      ],
      "outputs": []
    }
  ]
}