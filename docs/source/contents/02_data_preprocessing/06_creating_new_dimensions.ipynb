{
  "metadata": {},
  "nbformat": 4,
  "nbformat_minor": 4,
  "cells": [
    {
      "cell_type": "code",
      "execution_count": null,
      "metadata": {
        "tags": [
          "remove-cell"
        ]
      },
      "source": [
        "%run ../../_pre_run.ipynb"
      ],
      "outputs": []
    },
    {
      "cell_type": "markdown",
      "metadata": {},
      "source": [
        "# Creating New Dimensions"
      ]
    },
    {
      "cell_type": "markdown",
      "metadata": {},
      "source": [
        "We'll create new dimensions for future analysis."
      ]
    },
    {
      "cell_type": "markdown",
      "metadata": {},
      "source": [
        "## Table payments"
      ]
    },
    {
      "cell_type": "markdown",
      "metadata": {},
      "source": [
        "Create a new dimension indicating installment payments."
      ]
    },
    {
      "cell_type": "code",
      "execution_count": null,
      "metadata": {},
      "outputs": [],
      "source": [
        "df_payments['has_installments'] = (df_payments.payment_installments > 1)"
      ]
    },
    {
      "cell_type": "code",
      "execution_count": null,
      "metadata": {},
      "outputs": [],
      "source": [
        "df_payments['has_installments'] = df_payments.has_installments.map({True: 'Has Installments', False: 'No Installments'}).astype('category')"
      ]
    },
    {
      "cell_type": "markdown",
      "metadata": {},
      "source": [
        "## Table orders"
      ]
    },
    {
      "cell_type": "markdown",
      "metadata": {},
      "source": [
        "**Delivery Failure Reason**"
      ]
    },
    {
      "cell_type": "markdown",
      "metadata": {},
      "source": [
        "Categorize as follows (note: \"approved\" could fit both categories - we'll classify it as service-side):\n",
        "\n",
        "- Service-side issues: shipped, processing, unavailable, approved\n",
        "- Customer-side issues: created, invoiced, canceled"
      ]
    },
    {
      "cell_type": "code",
      "execution_count": null,
      "metadata": {},
      "outputs": [],
      "source": [
        "rules = {\n",
        "    \"No Issues\": lambda x: x == 'Delivered',\n",
        "    \"Service Issue\": lambda x: x.isin(['Approved', 'Shipped', 'Processing', 'Unavailable']),\n",
        "    'Customer Issue': lambda x: x.isin(['Created', 'Invoiced', 'Canceled']),\n",
        "    \"Missing Status\": \"default\"\n",
        "}\n",
        "df_orders['delivery_issue_reason'] = df_orders.order_status.preproc.to_categorical(rules=rules)"
      ]
    },
    {
      "cell_type": "markdown",
      "metadata": {},
      "source": [
        "---"
      ]
    },
    {
      "cell_type": "markdown",
      "metadata": {},
      "source": [
        "**Delivery Delay Status**"
      ]
    },
    {
      "cell_type": "code",
      "execution_count": null,
      "metadata": {},
      "outputs": [],
      "source": [
        "rules = {\n",
        "    \"Missing Delivery Dt\": lambda x: df_orders['order_delivered_customer_dt'].isna() | df_orders['order_estimated_delivery_dt'].isna(),\n",
        "    \"Delayed\": lambda x: df_orders['order_delivered_customer_dt'] > df_orders['order_estimated_delivery_dt'], \n",
        "    'Not Delayed': lambda x: df_orders['order_delivered_customer_dt'] <= df_orders['order_estimated_delivery_dt'],    \n",
        "    \"Missing Delivery Dt\": \"default\"\n",
        "}\n",
        "df_orders['is_delayed'] = df_orders.order_delivered_customer_dt.preproc.to_categorical(rules=rules)"
      ]
    },
    {
      "cell_type": "markdown",
      "metadata": {},
      "source": [
        "---"
      ]
    },
    {
      "cell_type": "markdown",
      "metadata": {},
      "source": [
        "**Delivery Status**"
      ]
    },
    {
      "cell_type": "code",
      "execution_count": null,
      "metadata": {},
      "outputs": [],
      "source": [
        "rules = {\n",
        "    \"Delivered\": lambda x: x == 'Delivered',\n",
        "    \"Not Delivered\": lambda x: x != 'Delivered', \n",
        "    \"Missing Status\": \"default\"\n",
        "}\n",
        "df_orders['is_delivered'] = df_orders.order_status.preproc.to_categorical(rules=rules)"
      ]
    },
    {
      "cell_type": "markdown",
      "metadata": {},
      "source": [
        "---"
      ]
    },
    {
      "cell_type": "markdown",
      "metadata": {},
      "source": [
        "**Season**"
      ]
    },
    {
      "cell_type": "markdown",
      "metadata": {},
      "source": [
        "Create a season variable.\n",
        "\n",
        "Note: South American seasons differ from Europe due to hemispheric positioning."
      ]
    },
    {
      "cell_type": "code",
      "execution_count": null,
      "metadata": {},
      "outputs": [],
      "source": [
        "rules = {\n",
        "    \"Summer\": lambda x: x.dt.month.isin([12, 1, 2]),\n",
        "    \"Autumn\": lambda x: x.dt.month.isin([3, 4, 5]),\n",
        "    \"Winter\": lambda x: x.dt.month.isin([6, 7, 8]),\n",
        "    \"Spring\": lambda x: x.dt.month.isin([9, 10, 11]),\n",
        "    \"Missing Purchase Dt\": \"default\"\n",
        "}\n",
        "df_orders['purchase_season'] = df_orders.order_purchase_dt.preproc.to_categorical(rules=rules)"
      ]
    },
    {
      "cell_type": "markdown",
      "metadata": {},
      "source": [
        "---"
      ]
    },
    {
      "cell_type": "markdown",
      "metadata": {},
      "source": [
        "**Year**"
      ]
    },
    {
      "cell_type": "code",
      "execution_count": null,
      "metadata": {},
      "outputs": [],
      "source": [
        "df_orders['purchase_year'] = df_orders['order_purchase_dt'].dt.year.fillna('Missing Purchase Dt')\n",
        "df_orders['purchase_year'] = df_orders['purchase_year'].astype('category')\n",
        "df_orders['purchase_year'].value_counts()"
      ]
    },
    {
      "cell_type": "markdown",
      "metadata": {},
      "source": [
        "---"
      ]
    },
    {
      "cell_type": "markdown",
      "metadata": {},
      "source": [
        "**Month Name**"
      ]
    },
    {
      "cell_type": "markdown",
      "metadata": {},
      "source": [
        "Create a month name variable for the orders table."
      ]
    },
    {
      "cell_type": "code",
      "execution_count": null,
      "metadata": {},
      "outputs": [],
      "source": [
        "df_orders['purchase_month'] = df_orders['order_purchase_dt'].dt.month_name().fillna('Missing Purchase Dt')\n",
        "month_order = ['January', 'February', 'March', 'April', 'May', 'June', 'July', 'August', 'September', 'October', 'November', 'December']\n",
        "df_orders['purchase_month'] = df_orders['purchase_month'].astype('category').cat.reorder_categories(month_order, ordered=True)\n",
        "df_orders['purchase_month'].value_counts()"
      ]
    },
    {
      "cell_type": "markdown",
      "metadata": {},
      "source": [
        "---"
      ]
    },
    {
      "cell_type": "markdown",
      "metadata": {},
      "source": [
        "**Day Type**"
      ]
    },
    {
      "cell_type": "code",
      "execution_count": null,
      "metadata": {},
      "outputs": [],
      "source": [
        "rules = {\n",
        "    \"Weekend\": lambda x: x.dt.day_of_week.isin([5, 6]),\n",
        "    \"Weekday\": lambda x: x.dt.day_of_week.isin(range(5)),\n",
        "    \"Missing Purchase Dt\": \"default\"\n",
        "}\n",
        "df_orders['purchase_day_type'] = df_orders.order_purchase_dt.preproc.to_categorical(rules=rules)"
      ]
    },
    {
      "cell_type": "markdown",
      "metadata": {},
      "source": [
        "---"
      ]
    },
    {
      "cell_type": "markdown",
      "metadata": {},
      "source": [
        "**Day of Week**"
      ]
    },
    {
      "cell_type": "code",
      "execution_count": null,
      "metadata": {},
      "outputs": [],
      "source": [
        "df_orders['purchase_weekday'] = df_orders['order_purchase_dt'].dt.day_name().fillna('Missing Purchase Dt')\n",
        "weekday_order = ['Monday', 'Tuesday', 'Wednesday', 'Thursday', 'Friday', 'Saturday', 'Sunday']\n",
        "df_orders['purchase_weekday'] = df_orders['purchase_weekday'].astype('category').cat.reorder_categories(weekday_order, ordered=True)\n",
        "df_orders['purchase_weekday'].value_counts(dropna=False)"
      ]
    },
    {
      "cell_type": "markdown",
      "metadata": {},
      "source": [
        "---"
      ]
    },
    {
      "cell_type": "markdown",
      "metadata": {},
      "source": [
        "**Time of Day**"
      ]
    },
    {
      "cell_type": "code",
      "execution_count": null,
      "metadata": {},
      "outputs": [],
      "source": [
        "rules = {\n",
        "    \"Morning\": lambda x: x.dt.hour.between(5,11),\n",
        "    \"Afternoon\": lambda x: x.dt.hour.between(12,16),\n",
        "    \"Evening\": lambda x: x.dt.hour.between(17,22),\n",
        "    \"Night\": lambda x: x.dt.hour.isin([23, 0, 1, 2, 3, 4]),\n",
        "    \"Missing Purchase Dt\": \"default\"\n",
        "}\n",
        "df_orders['purchase_time_of_day'] = df_orders.order_purchase_dt.preproc.to_categorical(rules=rules)"
      ]
    },
    {
      "cell_type": "markdown",
      "metadata": {},
      "source": [
        "---"
      ]
    },
    {
      "cell_type": "markdown",
      "metadata": {},
      "source": [
        "**Hour**"
      ]
    },
    {
      "cell_type": "code",
      "execution_count": null,
      "metadata": {},
      "outputs": [],
      "source": [
        "df_orders['purchase_hour'] = df_orders['order_purchase_dt'].dt.hour.fillna('Missing Purchase Dt')\n",
        "df_orders['purchase_hour'] = df_orders['purchase_hour'].astype('category')\n",
        "df_orders['purchase_hour'].value_counts()"
      ]
    },
    {
      "cell_type": "markdown",
      "metadata": {},
      "source": [
        "---"
      ]
    },
    {
      "cell_type": "markdown",
      "metadata": {},
      "source": [
        "**Delivery Time Category**"
      ]
    },
    {
      "cell_type": "markdown",
      "metadata": {},
      "source": [
        "Let's look at quantiles"
      ]
    },
    {
      "cell_type": "code",
      "execution_count": null,
      "metadata": {},
      "outputs": [],
      "source": [
        "df_orders.delivery_time_days.quantile([0, 0.05, 0.25, 0.5, 0.75, 0.95, 1])"
      ]
    },
    {
      "cell_type": "markdown",
      "metadata": {},
      "source": [
        "Based on quantile analysis:\n",
        "\n",
        "- Fast: ≤5 days\n",
        "- Medium: 5-15 days\n",
        "- Long: >15 days"
      ]
    },
    {
      "cell_type": "code",
      "execution_count": null,
      "metadata": {},
      "outputs": [],
      "source": [
        "labels = ['Fast', 'Medium', 'Long']\n",
        "bins = [-np.inf, 5, 15, np.inf]"
      ]
    },
    {
      "cell_type": "code",
      "execution_count": null,
      "metadata": {},
      "outputs": [],
      "source": [
        "df_orders['delivery_time_days_cat'] = df_orders.delivery_time_days.preproc.to_categorical(method='custom_bins', labels=labels, bins=bins)"
      ]
    },
    {
      "cell_type": "markdown",
      "metadata": {},
      "source": [
        "## Table reviews"
      ]
    },
    {
      "cell_type": "markdown",
      "metadata": {},
      "source": [
        "**Season**"
      ]
    },
    {
      "cell_type": "code",
      "execution_count": null,
      "metadata": {},
      "outputs": [],
      "source": [
        "rules = {\n",
        "    \"Summer\": lambda x: x.dt.month.isin([12, 1, 2]),\n",
        "    \"Autumn\": lambda x: x.dt.month.isin([3, 4, 5]),\n",
        "    \"Winter\": lambda x: x.dt.month.isin([6, 7, 8]),\n",
        "    \"Spring\": lambda x: x.dt.month.isin([9, 10, 11]),\n",
        "    \"Missing Review Dt\": \"default\"\n",
        "}\n",
        "df_reviews['review_season'] = df_reviews.review_creation_dt.preproc.to_categorical(rules=rules)"
      ]
    },
    {
      "cell_type": "markdown",
      "metadata": {},
      "source": [
        "---"
      ]
    },
    {
      "cell_type": "markdown",
      "metadata": {},
      "source": [
        "**Day Type**"
      ]
    },
    {
      "cell_type": "code",
      "execution_count": null,
      "metadata": {},
      "outputs": [],
      "source": [
        "rules = {\n",
        "    \"Weekend\": lambda x: x.dt.day_of_week.isin([5, 6]),\n",
        "    \"Weekday\": lambda x: x.dt.day_of_week.isin(range(5)),\n",
        "    \"Missing Review Dt\": \"default\"\n",
        "}\n",
        "df_reviews['review_day_type'] = df_reviews.review_creation_dt.preproc.to_categorical(rules=rules)"
      ]
    },
    {
      "cell_type": "markdown",
      "metadata": {},
      "source": [
        "---"
      ]
    },
    {
      "cell_type": "markdown",
      "metadata": {},
      "source": [
        "**Day of Week**"
      ]
    },
    {
      "cell_type": "code",
      "execution_count": null,
      "metadata": {},
      "outputs": [],
      "source": [
        "df_reviews['review_creation_weekday'] = df_reviews['review_creation_dt'].dt.day_name().fillna('Missing Review Dt')\n",
        "weekday_order = ['Monday', 'Tuesday', 'Wednesday', 'Thursday', 'Friday', 'Saturday', 'Sunday']\n",
        "df_reviews['review_creation_weekday'] = df_reviews['review_creation_weekday'].astype('category').cat.reorder_categories(weekday_order, ordered=True)\n",
        "df_reviews['review_creation_weekday'].value_counts()"
      ]
    },
    {
      "cell_type": "markdown",
      "metadata": {},
      "source": [
        "## Table products"
      ]
    },
    {
      "cell_type": "markdown",
      "metadata": {},
      "source": [
        "**Translate category names to English**"
      ]
    },
    {
      "cell_type": "markdown",
      "metadata": {},
      "source": [
        "Verify key consistency."
      ]
    },
    {
      "cell_type": "code",
      "execution_count": null,
      "metadata": {},
      "outputs": [],
      "source": [
        "fron.analyze_join_keys(df_products, df_categories, 'product_category_name', how='left')"
      ]
    },
    {
      "cell_type": "markdown",
      "metadata": {},
      "source": [
        "Examine category discrepancies."
      ]
    },
    {
      "cell_type": "code",
      "execution_count": null,
      "metadata": {},
      "outputs": [],
      "source": [
        "np.setdiff1d(df_products.product_category_name.unique(), df_categories.product_category_name.unique())"
      ]
    },
    {
      "cell_type": "markdown",
      "metadata": {},
      "source": [
        "Add English translations."
      ]
    },
    {
      "cell_type": "code",
      "execution_count": null,
      "metadata": {},
      "outputs": [],
      "source": [
        "df_categories.loc[df_categories.shape[0]] = ('pc_gamer', 'Gaming Pc')\n",
        "df_categories.loc[df_categories.shape[0]] = ('portateis_cozinha_e_preparadores_de_alimentos', 'Kitchen Appliances And Food Preparers')\n",
        "df_categories.loc[df_categories.shape[0]] = ('Missing in Products', 'Missing in Products')"
      ]
    },
    {
      "cell_type": "markdown",
      "metadata": {},
      "source": [
        "Replace categories with English versions."
      ]
    },
    {
      "cell_type": "code",
      "execution_count": null,
      "metadata": {},
      "outputs": [],
      "source": [
        "df_products = (df_products.merge(df_categories, on='product_category_name', how='left')\n",
        "               .drop(columns=['product_category_name'])\n",
        "               .rename(columns={'product_category_name_english':'product_category'})\n",
        ")"
      ]
    },
    {
      "cell_type": "markdown",
      "metadata": {},
      "source": [
        "Check for missing values."
      ]
    },
    {
      "cell_type": "code",
      "execution_count": null,
      "metadata": {},
      "outputs": [],
      "source": [
        "df_products.explore.detect_anomalies()"
      ]
    },
    {
      "cell_type": "markdown",
      "metadata": {},
      "source": [
        "---"
      ]
    },
    {
      "cell_type": "markdown",
      "metadata": {},
      "source": [
        "**Generalized Product Categories**"
      ]
    },
    {
      "cell_type": "markdown",
      "metadata": {},
      "source": [
        "Create broader product categories for visualization."
      ]
    },
    {
      "cell_type": "code",
      "execution_count": null,
      "metadata": {},
      "outputs": [],
      "source": [
        "category_mapping = {\n",
        "    'Furniture': [\n",
        "        'Office Furniture', 'Furniture Decor', 'Furniture Living Room', \n",
        "        'Kitchen Dining Laundry Garden Furniture', 'Bed Bath Table', \n",
        "        'Home Comfort', 'Home Comfort 2', 'Home Construction', \n",
        "        'Garden Tools', 'Furniture Bedroom', 'Furniture Mattress And Upholstery'\n",
        "    ],\n",
        "    'Electronics': [\n",
        "        'Auto', 'Computers Accessories', 'Gaming Pc', 'Musical Instruments', \n",
        "        'Consoles Games', 'Watches Gifts', 'Air Conditioning', 'Telephony', \n",
        "        'Electronics', 'Fixed Telephony', 'Tablets Printing Image', \n",
        "        'Computers', 'Small Appliances Home Oven And Coffee', \n",
        "        'Small Appliances', 'Audio', 'Signaling And Security', \n",
        "        'Security And Services'\n",
        "    ],\n",
        "    'Fashion': [\n",
        "        'Fashio Female Clothing', 'Fashion Male Clothing', \n",
        "        'Fashion Bags Accessories', 'Fashion Shoes', 'Fashion Sport', \n",
        "        'Fashion Underwear Beach', 'Fashion Childrens Clothes', 'Baby', \n",
        "        'Cool Stuff'\n",
        "    ],\n",
        "    'Home & Garden': [\n",
        "        'Housewares', 'Kitchen Appliances And Food Preparers', \n",
        "        'Home Confort', 'Home Appliances', 'Home Appliances 2', \n",
        "        'Flowers', 'Costruction Tools Garden', 'Garden Tools', \n",
        "        'Construction Tools Lights', 'Costruction Tools Tools', \n",
        "        'Luggage Accessories', 'La Cuisine', 'Pet Shop', 'Market Place'\n",
        "    ],\n",
        "    'Entertainment': [\n",
        "        'Sports Leisure', 'Toys', 'Cds Dvds Musicals', 'Music', \n",
        "        'Dvds Blu Ray', 'Cine Photo', 'Party Supplies', \n",
        "        'Christmas Supplies', 'Arts And Craftmanship', 'Art'\n",
        "    ],\n",
        "    'Beauty & Health': [\n",
        "        'Health Beauty', 'Perfumery', 'Diapers And Hygiene'\n",
        "    ],\n",
        "    'Food & Drinks': [\n",
        "        'Food Drink', 'Drinks', 'Food'\n",
        "    ],\n",
        "    'Books & Stationery': [\n",
        "        'Books General Interest', 'Books Technical', \n",
        "        'Books Imported', 'Stationery'\n",
        "    ],\n",
        "    'Industry & Construction': [\n",
        "        'Construction Tools Construction', 'Construction Tools Safety', \n",
        "        'Industry Commerce And Business', 'Agro Industry And Commerce'\n",
        "    ]\n",
        "}\n",
        "\n",
        "category_dict = {item: category for category, items in category_mapping.items() for item in items}\n",
        "df_products['general_product_category'] = df_products['product_category'].map(category_dict).fillna('Missing in Products').astype('category')\n",
        "df_products['general_product_category'].value_counts(dropna=False)"
      ]
    },
    {
      "cell_type": "markdown",
      "metadata": {},
      "source": [
        "## Table df_geolocations"
      ]
    },
    {
      "cell_type": "markdown",
      "metadata": {},
      "source": [
        "Add a field indicating South American coordinates."
      ]
    },
    {
      "cell_type": "code",
      "execution_count": null,
      "metadata": {},
      "outputs": [],
      "source": [
        "df_geolocations['in_south_america'] = (\n",
        "    (df_geolocations.geolocation_lat >= -53.90) &  # Southern border\n",
        "    (df_geolocations.geolocation_lat <= 12.45) &   # Northern border\n",
        "    (df_geolocations.geolocation_lng >= -81.32) &  # Western border\n",
        "    (df_geolocations.geolocation_lng <= -34.79)    # Eastern border\n",
        ")"
      ]
    },
    {
      "cell_type": "code",
      "execution_count": null,
      "metadata": {
        "tags": [
          "remove-cell"
        ]
      },
      "source": [
        "%run ../../_post_run.ipynb"
      ],
      "outputs": []
    }
  ]
}