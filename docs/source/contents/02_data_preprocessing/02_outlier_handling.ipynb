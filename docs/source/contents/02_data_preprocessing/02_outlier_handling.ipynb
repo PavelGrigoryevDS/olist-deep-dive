{
  "metadata": {},
  "nbformat": 4,
  "nbformat_minor": 4,
  "cells": [
    {
      "cell_type": "code",
      "execution_count": null,
      "metadata": {
        "tags": [
          "remove-cell"
        ]
      },
      "source": [
        "%run ../../_pre_run.ipynb"
      ],
      "outputs": []
    },
    {
      "cell_type": "markdown",
      "metadata": {},
      "source": [
        "# Outlier Handling"
      ]
    },
    {
      "cell_type": "markdown",
      "metadata": {},
      "source": [
        "Let’s examine where we have zero values.\n"
      ]
    },
    {
      "cell_type": "code",
      "execution_count": null,
      "metadata": {},
      "outputs": [],
      "source": [
        "for key, df in dfs:\n",
        "    print(f'DataFrame {key}')\n",
        "    df.explore.detect_anomalies(anomaly_type='zero')"
      ]
    },
    {
      "cell_type": "markdown",
      "metadata": {},
      "source": [
        "Zeros in delivery cost cannot be processed, as they may indicate free shipping."
      ]
    },
    {
      "cell_type": "markdown",
      "metadata": {},
      "source": [
        "Zeros in product weight likely mean the value was not specified for the product.\n",
        "\n",
        "Since there are few of them and they all belong to the same category (cama_mesa_banho), we’ll replace them with the median value for that category."
      ]
    },
    {
      "cell_type": "code",
      "execution_count": null,
      "metadata": {},
      "outputs": [],
      "source": [
        "median_for_fill = df_products[df_products['product_category_name'] == 'cama_mesa_banho']['product_weight_g'].median()\n",
        "df_products.loc[df_products['product_weight_g'] == 0, 'product_weight_g'] = median_for_fill"
      ]
    },
    {
      "cell_type": "markdown",
      "metadata": {},
      "source": [
        "Zeros in payment_installments will be replaced with 1, as it is both the mode and median."
      ]
    },
    {
      "cell_type": "code",
      "execution_count": null,
      "metadata": {},
      "outputs": [],
      "source": [
        "df_payments.loc[df_payments['payment_installments'] == 0, 'payment_installments'] = 1"
      ]
    },
    {
      "cell_type": "markdown",
      "metadata": {},
      "source": [
        "Zeros in payment_value cannot be processed, as there may be a payment-specific reason."
      ]
    },
    {
      "cell_type": "markdown",
      "metadata": {},
      "source": [
        "We won’t process outliers in order value because they carry business significance—these are large purchases."
      ]
    },
    {
      "cell_type": "markdown",
      "metadata": {},
      "source": [
        "We have orders where reviews were created before the orders themselves.\n",
        "\n",
        "We’ll consider these outliers, as they violate temporal logic.\n",
        "\n",
        "But we don’t know whether the issue lies in the order creation date or the review creation date.\n",
        "\n",
        "Modifying them could introduce bias, and since most of these orders were canceled and there are very few, we’ll leave them as is.\n",
        "\n",
        "We’ve recorded them as anomalies and will note them in the conclusions."
      ]
    },
    {
      "cell_type": "code",
      "execution_count": null,
      "metadata": {
        "tags": [
          "remove-cell"
        ]
      },
      "source": [
        "%run ../../_post_run.ipynb"
      ],
      "outputs": []
    }
  ]
}