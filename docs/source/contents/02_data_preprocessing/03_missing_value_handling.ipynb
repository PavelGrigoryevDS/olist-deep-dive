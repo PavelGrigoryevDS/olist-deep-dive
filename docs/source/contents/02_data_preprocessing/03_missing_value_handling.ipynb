{
  "metadata": {},
  "nbformat": 4,
  "nbformat_minor": 4,
  "cells": [
    {
      "cell_type": "code",
      "execution_count": null,
      "metadata": {
        "tags": [
          "remove-cell"
        ]
      },
      "source": [
        "%run ../../_pre_run.ipynb"
      ],
      "outputs": []
    },
    {
      "cell_type": "markdown",
      "metadata": {},
      "source": [
        "# Missing Value Handling\n"
      ]
    },
    {
      "cell_type": "markdown",
      "metadata": {},
      "source": [
        "## Table orders"
      ]
    },
    {
      "cell_type": "markdown",
      "metadata": {},
      "source": [
        "Let’s examine missing values."
      ]
    },
    {
      "cell_type": "code",
      "execution_count": null,
      "metadata": {},
      "outputs": [],
      "source": [
        "tmp_miss = df_orders.explore.detect_anomalies(return_mode='by_column')"
      ]
    },
    {
      "cell_type": "markdown",
      "metadata": {},
      "source": [
        "To calculate time intervals between different dates, we should ideally fill missing values between dates if the next stage’s date is present.\n",
        "\n",
        "We’ll replace missing timestamps."
      ]
    },
    {
      "cell_type": "markdown",
      "metadata": {},
      "source": [
        "**order_delivered_carrier_dt**"
      ]
    },
    {
      "cell_type": "markdown",
      "metadata": {},
      "source": [
        "Let’s look at orders missing the carrier handoff date but having a delivery date or delivery status."
      ]
    },
    {
      "cell_type": "code",
      "execution_count": null,
      "metadata": {},
      "outputs": [],
      "source": [
        "tmp_miss['order_delivered_carrier_dt'].order_status.value_counts()"
      ]
    },
    {
      "cell_type": "code",
      "execution_count": null,
      "metadata": {},
      "outputs": [],
      "source": [
        "tmp_mask = lambda x: (x.order_delivered_carrier_dt.isna()) & (x.order_delivered_customer_dt.notna() | (x.order_status == 'Delivered'))"
      ]
    },
    {
      "cell_type": "code",
      "execution_count": null,
      "metadata": {},
      "outputs": [],
      "source": [
        "df_orders[tmp_mask].head()"
      ]
    },
    {
      "cell_type": "markdown",
      "metadata": {},
      "source": [
        "There are only 2 such orders—we’ll replace them with the median value."
      ]
    },
    {
      "cell_type": "code",
      "execution_count": null,
      "metadata": {},
      "outputs": [],
      "source": [
        "order_carrier_time = (df_orders.order_delivered_carrier_dt - df_orders.order_approved_dt).median()\n",
        "order_carrier_time"
      ]
    },
    {
      "cell_type": "code",
      "execution_count": null,
      "metadata": {},
      "outputs": [],
      "source": [
        "df_orders.loc[tmp_mask, 'order_delivered_carrier_dt'] = df_orders.order_approved_dt + order_carrier_time"
      ]
    },
    {
      "cell_type": "markdown",
      "metadata": {},
      "source": [
        "**order_approved_dt**"
      ]
    },
    {
      "cell_type": "markdown",
      "metadata": {},
      "source": [
        "Let’s examine orders missing the payment approval date but having a carrier handoff timestamp."
      ]
    },
    {
      "cell_type": "code",
      "execution_count": null,
      "metadata": {},
      "outputs": [],
      "source": [
        "tmp_miss['order_approved_dt'].order_status.value_counts()"
      ]
    },
    {
      "cell_type": "code",
      "execution_count": null,
      "metadata": {},
      "outputs": [],
      "source": [
        "tmp_mask = lambda x: x.order_approved_dt.isna() & x.order_delivered_carrier_dt.notna()"
      ]
    },
    {
      "cell_type": "code",
      "execution_count": null,
      "metadata": {},
      "outputs": [],
      "source": [
        "print(f'Rows count: {df_orders[tmp_mask].shape[0]}')\n",
        "df_orders[tmp_mask].head()"
      ]
    },
    {
      "cell_type": "markdown",
      "metadata": {},
      "source": [
        "Since there are only 14 such orders, we’ll simply fill the gaps using this time."
      ]
    },
    {
      "cell_type": "markdown",
      "metadata": {},
      "source": [
        "Let’s check the median time from order creation to payment approval."
      ]
    },
    {
      "cell_type": "code",
      "execution_count": null,
      "metadata": {},
      "outputs": [],
      "source": [
        "order_processing_time_hours = (df_orders.order_approved_dt - df_orders.order_purchase_dt).median()\n",
        "order_processing_time_hours"
      ]
    },
    {
      "cell_type": "code",
      "execution_count": null,
      "metadata": {},
      "outputs": [],
      "source": [
        "df_orders.loc[tmp_mask, 'order_approved_dt'] = df_orders.order_purchase_dt + order_processing_time_hours"
      ]
    },
    {
      "cell_type": "markdown",
      "metadata": {},
      "source": [
        "**order_delivered_customer_dt**"
      ]
    },
    {
      "cell_type": "markdown",
      "metadata": {},
      "source": [
        "Let’s examine delivered orders missing the customer receipt date."
      ]
    },
    {
      "cell_type": "code",
      "execution_count": null,
      "metadata": {},
      "outputs": [],
      "source": [
        "tmp_miss['order_delivered_customer_dt'].order_status.value_counts()"
      ]
    },
    {
      "cell_type": "code",
      "execution_count": null,
      "metadata": {},
      "outputs": [],
      "source": [
        "tmp_miss['order_delivered_customer_dt'][lambda x: x.order_status == 'Delivered']"
      ]
    },
    {
      "cell_type": "markdown",
      "metadata": {},
      "source": [
        "There are only 8 such orders—we’ll also replace them with the median value."
      ]
    },
    {
      "cell_type": "code",
      "execution_count": null,
      "metadata": {},
      "outputs": [],
      "source": [
        "order_customer_time = (df_orders.order_delivered_customer_dt - df_orders.order_delivered_carrier_dt).median()\n",
        "order_customer_time"
      ]
    },
    {
      "cell_type": "code",
      "execution_count": null,
      "metadata": {},
      "outputs": [],
      "source": [
        "tmp_mask = df_orders.order_delivered_customer_dt.isna() & (df_orders.order_status=='Delivered')"
      ]
    },
    {
      "cell_type": "code",
      "execution_count": null,
      "metadata": {},
      "outputs": [],
      "source": [
        "df_orders.loc[tmp_mask, 'order_delivered_customer_dt'] = df_orders.order_delivered_carrier_dt + order_customer_time"
      ]
    },
    {
      "cell_type": "markdown",
      "metadata": {},
      "source": [
        "Missing values in review_comment_title and review_comment_message indicate these fields were left blank, so processing them is unnecessary."
      ]
    },
    {
      "cell_type": "markdown",
      "metadata": {},
      "source": [
        "## Table df_products"
      ]
    },
    {
      "cell_type": "markdown",
      "metadata": {},
      "source": [
        "Let’s examine missing values in df_products."
      ]
    },
    {
      "cell_type": "code",
      "execution_count": null,
      "metadata": {},
      "outputs": [],
      "source": [
        "tmp_miss = df_products.explore.detect_anomalies(return_mode='by_column')"
      ]
    },
    {
      "cell_type": "markdown",
      "metadata": {},
      "source": [
        "In product_category_name, we’ll replace missing values with 'Missing in Products'."
      ]
    },
    {
      "cell_type": "code",
      "execution_count": null,
      "metadata": {},
      "outputs": [],
      "source": [
        "df_products['product_category_name'] = df_products['product_category_name'].cat.add_categories(['Missing in Products'])\n",
        "df_products['product_category_name'] = df_products['product_category_name'].fillna('Missing in Products')"
      ]
    },
    {
      "cell_type": "markdown",
      "metadata": {},
      "source": [
        "Since only 2 orders lack specifications, we’ll replace them with the median value for their product category."
      ]
    },
    {
      "cell_type": "markdown",
      "metadata": {},
      "source": [
        "Let’s check group sizes if we replace within these groups."
      ]
    },
    {
      "cell_type": "code",
      "execution_count": null,
      "metadata": {},
      "outputs": [],
      "source": [
        "category_columns = 'product_category_name'\n",
        "df_products['product_weight_g'].preproc.check_group_counts(category_columns=category_columns)"
      ]
    },
    {
      "cell_type": "markdown",
      "metadata": {},
      "source": [
        "The group sizes are sufficient, so we’ll replace with the group median."
      ]
    },
    {
      "cell_type": "code",
      "execution_count": null,
      "metadata": {},
      "outputs": [],
      "source": [
        "df_products[df_products[['product_weight_g', 'product_length_cm', 'product_height_cm', 'product_width_cm']].isna().any(axis=1)]"
      ]
    },
    {
      "cell_type": "code",
      "execution_count": null,
      "metadata": {},
      "outputs": [],
      "source": [
        "df_products['product_weight_g'].preproc.fill_missing_by_category(category_columns=category_columns, inplace=True)\n",
        "df_products['product_length_cm'].preproc.fill_missing_by_category(category_columns=category_columns, inplace=True)\n",
        "df_products['product_height_cm'].preproc.fill_missing_by_category(category_columns=category_columns, inplace=True)\n",
        "df_products['product_width_cm'].preproc.fill_missing_by_category(category_columns=category_columns, inplace=True)"
      ]
    },
    {
      "cell_type": "markdown",
      "metadata": {},
      "source": [
        "Missing values in product name length and product description length won’t be filled, as we won’t use them for analysis.\n",
        "\n",
        "Missing values in photo count will be replaced with 1, as it’s both the median and mode."
      ]
    },
    {
      "cell_type": "code",
      "execution_count": null,
      "metadata": {},
      "outputs": [],
      "source": [
        "df_products.loc[df_products.product_photos_qty.isna(), 'product_photos_qty'] = 1"
      ]
    },
    {
      "cell_type": "markdown",
      "metadata": {},
      "source": [
        "Let’s check how many missing values remain.\n"
      ]
    },
    {
      "cell_type": "code",
      "execution_count": null,
      "metadata": {},
      "outputs": [],
      "source": [
        "df_products.explore.detect_anomalies()"
      ]
    },
    {
      "cell_type": "code",
      "execution_count": null,
      "metadata": {},
      "outputs": [],
      "source": [
        "del tmp_miss"
      ]
    },
    {
      "cell_type": "code",
      "execution_count": null,
      "metadata": {
        "tags": [
          "remove-cell"
        ]
      },
      "source": [
        "%run ../../_post_run.ipynb"
      ],
      "outputs": []
    }
  ]
}