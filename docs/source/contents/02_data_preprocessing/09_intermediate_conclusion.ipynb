{
  "metadata": {},
  "nbformat": 4,
  "nbformat_minor": 4,
  "cells": [
    {
      "cell_type": "code",
      "execution_count": null,
      "metadata": {
        "tags": [
          "remove-cell"
        ]
      },
      "source": [
        "%run ../../_pre_run.ipynb"
      ],
      "outputs": []
    },
    {
      "cell_type": "markdown",
      "metadata": {},
      "source": [
        "# Intermediate Conclusion\n"
      ]
    },
    {
      "cell_type": "markdown",
      "metadata": {},
      "source": [
        "Key preprocessing steps completed:\n",
        "\n",
        "- Replaced zero values in payment_installments with 1 (mode and median)\n",
        "- Removed complete duplicate rows from df_geolocations\n",
        "- Averaged coordinates by geolocation_zip_code_prefix\n",
        "- Replaced missing product dimensions/weights with median values by product category\n",
        "- Replaced missing photo counts with 1 (mode and median)\n",
        "- Replaced missing product category names with 'unknown'\n",
        "- Converted product dimensions/weights to integer type\n"
      ]
    },
    {
      "cell_type": "markdown",
      "metadata": {},
      "source": [
        "New variables created:\n",
        "\n",
        "- Time-related metrics:\n",
        "    - Order processing time\n",
        "    - Total delivery time\n",
        "    - Carrier delivery time\n",
        "    - Difference between actual and estimated delivery times\n",
        "- Review response time\n",
        "- Total product cost (including shipping)\n",
        "- Product volume\n",
        "- Weight-to-volume ratio\n",
        "- Delivery time categories (Fast/Medium/Slow)\n",
        "- Review character length\n",
        "- Average review score per order\n"
      ]
    },
    {
      "cell_type": "markdown",
      "metadata": {},
      "source": [
        "Data filtering:\n",
        "\n",
        "- Trimmed order data to January 2017 - August 2018\n",
        "- Created order cancellation flag\n",
        "- Orders present in orders table but missing from items table were either canceled or unavailable\n"
      ]
    },
    {
      "cell_type": "markdown",
      "metadata": {},
      "source": [
        "Data integration:\n",
        "\n",
        "- Merged datasets and created analysis-ready dataframes\n",
        "- Calculated buyer-seller distances\n"
      ]
    },
    {
      "cell_type": "markdown",
      "metadata": {},
      "source": [
        "All missing values were expected and properly handled according to their business context."
      ]
    },
    {
      "cell_type": "code",
      "execution_count": null,
      "metadata": {
        "tags": [
          "remove-cell"
        ]
      },
      "source": [
        "%run ../../_post_run.ipynb"
      ],
      "outputs": []
    }
  ]
}