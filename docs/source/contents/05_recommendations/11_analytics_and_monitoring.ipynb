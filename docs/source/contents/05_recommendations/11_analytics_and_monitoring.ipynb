{
  "metadata": {},
  "nbformat": 4,
  "nbformat_minor": 4,
  "cells": [
    {
      "cell_type": "code",
      "execution_count": null,
      "metadata": {
        "tags": [
          "remove-cell"
        ]
      },
      "source": [
        "%run ../../_pre_run.ipynb"
      ],
      "outputs": []
    },
    {
      "cell_type": "markdown",
      "metadata": {},
      "source": [
        "# Analytics and Monitoring"
      ]
    },
    {
      "cell_type": "markdown",
      "metadata": {},
      "source": [
        "**Deep-dive analyses:**\n",
        "\n",
        "- Investigate 2018 growth plateau:\n",
        "  - Likely caused by declining retention + slowing new customer acquisition\n",
        "- Underperforming states:\n",
        "  - Benchmark against top 5 states for best practices\n",
        "- Nov 2017-Mar 2018 delivery delays:\n",
        "  - Root cause analysis may reveal systemic issues"
      ]
    },
    {
      "cell_type": "markdown",
      "metadata": {},
      "source": [
        "**Real-time dashboards tracking:**\n",
        "\n",
        "- Revenue\n",
        "- MAU\n",
        "- First-month repeat purchase rate\n",
        "- Retention Rate\n",
        "- ARPPU\n",
        "- New customer acquisition share\n",
        "- Delivery times (geo-specific)\n",
        "- NPS"
      ]
    },
    {
      "cell_type": "markdown",
      "metadata": {},
      "source": [
        "**Order cancellation analysis:**\n",
        "\n",
        "- Feb/Aug 2018 spikes require investigation:\n",
        "  - Technical failures\n",
        "  - Carrier issues\n",
        "  - Payment processing problems"
      ]
    },
    {
      "cell_type": "code",
      "execution_count": null,
      "metadata": {
        "tags": [
          "remove-cell"
        ]
      },
      "source": [
        "%run ../../_post_run.ipynb"
      ],
      "outputs": []
    }
  ]
}