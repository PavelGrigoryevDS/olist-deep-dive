{
  "metadata": {},
  "nbformat": 4,
  "nbformat_minor": 4,
  "cells": [
    {
      "cell_type": "code",
      "execution_count": null,
      "metadata": {
        "tags": [
          "remove-cell"
        ]
      },
      "source": [
        "%run ../../_pre_run.ipynb"
      ],
      "outputs": []
    },
    {
      "cell_type": "markdown",
      "metadata": {},
      "source": [
        "# Customer Experience Improvement"
      ]
    },
    {
      "cell_type": "markdown",
      "metadata": {},
      "source": [
        "- Use CustDev to investigate causes of low review ratings (12% rated 1, 3% rated 2).\n",
        "  - Focus on customers leaving 1- and 2-star ratings.\n",
        "  - Categorize complaints: product quality, delivery, service, UI, etc.\n",
        "  - Identify top pain points (e.g., 40% complain about slow delivery).\n",
        "  - Focus on root causes, not just symptoms.\n",
        "  - Prioritize fixes based on findings.\n",
        "- Investigate why high-value orders receive more 1- and 2-star ratings—a clear problem in this segment.\n",
        "- Improve UX for credit card and boleto payments (most used payment methods).\n",
        "- Address issues for orders with multiple categories—they receive more 1- and 2-star ratings.\n",
        "- Prioritize fixing 1-star ratings in Rio de Janeiro—a key market with disproportionately high poor ratings."
      ]
    },
    {
      "cell_type": "code",
      "execution_count": null,
      "metadata": {
        "tags": [
          "remove-cell"
        ]
      },
      "source": [
        "%run ../../_post_run.ipynb"
      ],
      "outputs": []
    }
  ]
}