{
  "metadata": {},
  "nbformat": 4,
  "nbformat_minor": 4,
  "cells": [
    {
      "cell_type": "code",
      "execution_count": null,
      "metadata": {
        "tags": [
          "remove-cell"
        ]
      },
      "source": [
        "%run ../../_pre_run.ipynb"
      ],
      "outputs": []
    },
    {
      "cell_type": "markdown",
      "metadata": {},
      "source": [
        "# Logistics and Delivery Optimization"
      ]
    },
    {
      "cell_type": "markdown",
      "metadata": {},
      "source": [
        "**Payment processing:**\n",
        "\n",
        "- Reduce payment processing time (from order creation to approval).\n",
        "  - 75% of orders take ≥14 hours; 5% take ≥48 hours.\n",
        "  - Long processing harms UX.\n",
        "- Optimize installment payment handling (heavier items, more delays)."
      ]
    },
    {
      "cell_type": "markdown",
      "metadata": {},
      "source": [
        "**Payment approval to carrier handover:**\n",
        "\n",
        "- Reduce this interval to speed up delivery and improve CX.\n",
        "- Work with slow-to-ship sellers."
      ]
    },
    {
      "cell_type": "markdown",
      "metadata": {},
      "source": [
        "**Carrier delivery time:**\n",
        "\n",
        "- Reduce carrier delivery time (71% of total delivery time).\n",
        "- Collaborate with carriers to identify and fix delays.\n",
        "- Focus on problematic regions."
      ]
    },
    {
      "cell_type": "markdown",
      "metadata": {},
      "source": [
        "**Delivery delays:**\n",
        "\n",
        "- Investigate root causes (service issues, seller delays, logistics).\n",
        "- Implement targeted fixes."
      ]
    },
    {
      "cell_type": "markdown",
      "metadata": {},
      "source": [
        "**Heavy order focus:**\n",
        "\n",
        "- Heavy orders are more prone to delays and low ratings.\n",
        "- Special handling: reinforced packaging, dedicated vehicles, detailed tracking.\n",
        "- Leverage data: 75% of orders weigh <2kg—optimize logistics accordingly.\n",
        "- Note: Rio de Janeiro has among the heaviest average order weights in top states."
      ]
    },
    {
      "cell_type": "markdown",
      "metadata": {},
      "source": [
        "**Premium product delivery:**\n",
        "\n",
        "- Expedite delivery for high-value items—critical segment sensitive to delays."
      ]
    },
    {
      "cell_type": "markdown",
      "metadata": {},
      "source": [
        "**Special Attention to Lagging Regions:**\n",
        "\n",
        "- Among the top states with the highest number of sales:\n",
        "    - The top 3 states with the longest delivery times: Para, Maranhão, Ceará.\n",
        "- Among the top cities with the highest number of sales:\n",
        "    - The top 3 cities with the longest delivery times: Salvador, Porto Alegre, Rio de Janeiro.\n"
      ]
    },
    {
      "cell_type": "code",
      "execution_count": null,
      "metadata": {
        "tags": [
          "remove-cell"
        ]
      },
      "source": [
        "%run ../../_post_run.ipynb"
      ],
      "outputs": []
    }
  ]
}