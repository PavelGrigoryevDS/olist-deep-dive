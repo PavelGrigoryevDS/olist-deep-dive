{
  "metadata": {},
  "nbformat": 4,
  "nbformat_minor": 4,
  "cells": [
    {
      "cell_type": "code",
      "execution_count": null,
      "metadata": {
        "tags": [
          "remove-cell"
        ]
      },
      "source": [
        "%run ../../_pre_run.ipynb"
      ],
      "outputs": []
    },
    {
      "cell_type": "markdown",
      "metadata": {},
      "source": [
        "# Customer loyalty Enhancement"
      ]
    },
    {
      "cell_type": "markdown",
      "metadata": {},
      "source": [
        "**Implement a loyalty program for One-Time buyers:**\n",
        "\n",
        "- Incentivize repeat purchases: discounts on second orders, loyalty points. 97% of buyers make only one purchase.\n",
        "- Particularly target High-Spend customers—they have potential to become loyal.\n",
        "- Offer discounts on previously purchased categories."
      ]
    },
    {
      "cell_type": "markdown",
      "metadata": {},
      "source": [
        "**Personalized communications for Potential Core customers:**\n",
        "\n",
        "- This segment shows high metrics but hasn't transitioned to core loyalty.\n",
        "- Provide exclusive offers in categories they've purchased before.\n",
        "- Offer early access to sales."
      ]
    },
    {
      "cell_type": "markdown",
      "metadata": {},
      "source": [
        "**Premium service for Core customers:**\n",
        "\n",
        "- Priority delivery, dedicated managers, special installment terms."
      ]
    },
    {
      "cell_type": "markdown",
      "metadata": {},
      "source": [
        "**Target critical segments:**\n",
        "\n",
        "- Critics have high order values but low loyalty due to delivery issues.\n",
        "- Offer personalized apologies and compensation for delayed orders.\n",
        "- Create a \"Second Chance\" program with special offers."
      ]
    },
    {
      "cell_type": "markdown",
      "metadata": {},
      "source": [
        "**For Promoters:**\n",
        "\n",
        "- Introduce a referral program.\n",
        "- Offer exclusive discounts on frequently purchased categories."
      ]
    },
    {
      "cell_type": "code",
      "execution_count": null,
      "metadata": {
        "tags": [
          "remove-cell"
        ]
      },
      "source": [
        "%run ../../_post_run.ipynb"
      ],
      "outputs": []
    }
  ]
}