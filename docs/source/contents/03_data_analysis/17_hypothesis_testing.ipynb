{
  "metadata": {},
  "nbformat": 4,
  "nbformat_minor": 4,
  "cells": [
    {
      "cell_type": "code",
      "execution_count": null,
      "metadata": {
        "tags": [
          "remove-cell"
        ]
      },
      "source": [
        "%run ../../_pre_run.ipynb"
      ],
      "outputs": []
    },
    {
      "cell_type": "markdown",
      "metadata": {},
      "source": [
        "#  Hypothesis Testing"
      ]
    },
    {
      "cell_type": "markdown",
      "metadata": {},
      "source": [
        "As we previously determined, the following metrics have a right-skewed distribution:\n",
        "\n",
        "- from_purchase_to_approved_hours\n",
        "- total_payment\n",
        "- delivery_time_days\n",
        "- total_weight_kg\n",
        "- avg_products_price\n",
        "- total_freight_value\n",
        "\n",
        "Given the skewness of these metrics and the fact that most of our hypotheses will involve more than two categories, we will use regression analysis to test our hypotheses. \n",
        "\n",
        "Regression analysis utilizes the full variance of the data when building a model.\n",
        "\n",
        "To account for the right-skewness, we will employ a Generalized Linear Model (GLM) regression with a Gamma distribution and a log-link function.\n",
        "\n",
        "For multiple comparisons, we will apply the Holm correction."
      ]
    },
    {
      "cell_type": "markdown",
      "metadata": {},
      "source": [
        "## Time Patterns"
      ]
    },
    {
      "cell_type": "markdown",
      "metadata": {},
      "source": [
        "**Are orders processed longer at night?**"
      ]
    },
    {
      "cell_type": "markdown",
      "metadata": {},
      "source": [
        "For each time of day N (except Sunday):\n",
        "\n",
        "- $H_{0}^{N}:$ The mean order processing time at night equals the mean order processing time during time period N.\n",
        "- $H_{1}^{N}:$ The mean order processing time at night does not equal the mean order processing time during time period N."
      ]
    },
    {
      "cell_type": "code",
      "execution_count": null,
      "metadata": {},
      "outputs": [],
      "source": [
        "df_sales.assign(from_purchase_to_approved_hours = lambda x: x.from_purchase_to_approved_hours + 1e-6).stats.glm(\n",
        "    formula='from_purchase_to_approved_hours ~ C(purchase_time_of_day, Treatment(reference=\"Night\"))'\n",
        "    , family=sm.families.Gamma(link=sm.families.links.Log())\n",
        "    , p_adjust='holm'\n",
        ")"
      ]
    },
    {
      "cell_type": "markdown",
      "metadata": {},
      "source": [
        "**Result:**\n",
        "\n",
        "- At the 0.05 significance level, the mean order processing time at night is statistically significantly different from the mean order processing time at any other time of day.\n",
        "- Moreover, the processing time at night is statistically significantly longer than during other periods."
      ]
    },
    {
      "cell_type": "markdown",
      "metadata": {},
      "source": [
        "---"
      ]
    },
    {
      "cell_type": "markdown",
      "metadata": {},
      "source": [
        "**Are orders processed longer on weekdays?**"
      ]
    },
    {
      "cell_type": "markdown",
      "metadata": {},
      "source": [
        "- H0: The average processing time for orders on weekdays and weekends is the same.\n",
        "- H1: The average processing time for orders on weekdays and weekends differs"
      ]
    },
    {
      "cell_type": "code",
      "execution_count": null,
      "metadata": {},
      "outputs": [],
      "source": [
        "df_sales.assign(from_purchase_to_approved_hours = lambda x: x.from_purchase_to_approved_hours + 1e-6).stats.glm(\n",
        "    formula='from_purchase_to_approved_hours ~ C(purchase_day_type, Treatment(reference=\"Weekday\"))'\n",
        "    , family=sm.families.Gamma(link=sm.families.links.Log())\n",
        ")"
      ]
    },
    {
      "cell_type": "markdown",
      "metadata": {},
      "source": [
        "**Result:**\n",
        "\n",
        "- At the 0.05 significance level, the mean order processing time on weekdays is statistically significantly different from the mean order processing time on weekends.\n",
        "- Moreover, the processing time on weekdays is statistically significantly shorter than on weekends."
      ]
    },
    {
      "cell_type": "markdown",
      "metadata": {},
      "source": [
        "## Customer Reviews Scores"
      ]
    },
    {
      "cell_type": "markdown",
      "metadata": {},
      "source": [
        "**Does reviews score of 1 have a higher average order value?**"
      ]
    },
    {
      "cell_type": "markdown",
      "metadata": {},
      "source": [
        "For each rating N (except 1):\n",
        "\n",
        "- $H_{0}^{N}:$ The mean order value for rating 1 equals the mean order value for rating N.\n",
        "- $H_{1}^{N}:$ The mean order value for rating 1 does not equal the mean order value for rating N."
      ]
    },
    {
      "cell_type": "code",
      "execution_count": null,
      "metadata": {},
      "outputs": [],
      "source": [
        "df_sales.stats.glm(\n",
        "    formula='total_payment ~ C(order_avg_reviews_score, Treatment(reference=1))'\n",
        "    , family=sm.families.Gamma(link=sm.families.links.Log())\n",
        "    , p_adjust='holm'\n",
        ")"
      ]
    },
    {
      "cell_type": "markdown",
      "metadata": {},
      "source": [
        "**Result:**\n",
        "\n",
        "- At the 0.05 significance level, the mean order value for rating 1 is statistically significantly different from the mean order value for any other rating.\n",
        "- Moreover, the mean order value for rating 1 is statistically significantly higher than for other ratings."
      ]
    },
    {
      "cell_type": "markdown",
      "metadata": {},
      "source": [
        "---"
      ]
    },
    {
      "cell_type": "markdown",
      "metadata": {},
      "source": [
        "**Are orders with review score of 1 delivered longer?**"
      ]
    },
    {
      "cell_type": "markdown",
      "metadata": {},
      "source": [
        "For each rating N (except 1):\n",
        "\n",
        "- $H_{0}^{N}:$ The mean delivery time for rating 1 equals the mean delivery time for rating N.\n",
        "- $H_{1}^{N}:$ The mean delivery time for rating 1 does not equal the mean delivery time for rating N."
      ]
    },
    {
      "cell_type": "code",
      "execution_count": null,
      "metadata": {},
      "outputs": [],
      "source": [
        "df_sales.stats.glm(\n",
        "    formula='delivery_time_days ~ C(order_avg_reviews_score, Treatment(reference=1))'\n",
        "    , family=sm.families.Gamma(link=sm.families.links.Log())\n",
        "    , p_adjust='holm'\n",
        ")"
      ]
    },
    {
      "cell_type": "markdown",
      "metadata": {},
      "source": [
        "**Result:**\n",
        "\n",
        "- At the 0.05 significance level, the mean delivery time for rating 1 is statistically significantly different from the mean delivery time for any other rating.\n",
        "- Moreover, the mean delivery time for rating 1 is statistically significantly longer than for other ratings."
      ]
    },
    {
      "cell_type": "markdown",
      "metadata": {},
      "source": [
        "## Installments"
      ]
    },
    {
      "cell_type": "markdown",
      "metadata": {},
      "source": [
        "**Are installment orders processed faster?**"
      ]
    },
    {
      "cell_type": "markdown",
      "metadata": {},
      "source": [
        "- $H_{0}:$ The mean processing time of installment-based orders equals the mean processing time of non-installment orders.\n",
        "- $H_{1}:$ The mean processing time of installment-based orders does not equal the mean processing time of non-installment orders."
      ]
    },
    {
      "cell_type": "code",
      "execution_count": null,
      "metadata": {},
      "outputs": [],
      "source": [
        "df_sales.assign(from_purchase_to_approved_hours = lambda x: x.from_purchase_to_approved_hours + 1e-6).stats.glm(\n",
        "    formula='from_purchase_to_approved_hours ~ C(order_has_installment, Treatment(reference=\"Has Installments\"))'\n",
        "    , family=sm.families.Gamma(link=sm.families.links.Log())\n",
        ")"
      ]
    },
    {
      "cell_type": "markdown",
      "metadata": {},
      "source": [
        "**Result:**\n",
        "\n",
        "- At the 0.05 significance level, the mean order processing time for installment payments is statistically significantly different from the mean order processing time for non-installment payments.\n",
        "- Moreover, the mean order processing time for installment payments is statistically significantly shorter than for non-installment payments."
      ]
    },
    {
      "cell_type": "markdown",
      "metadata": {},
      "source": [
        "---"
      ]
    },
    {
      "cell_type": "markdown",
      "metadata": {},
      "source": [
        "**Do installment orders have a higher average order value?**"
      ]
    },
    {
      "cell_type": "markdown",
      "metadata": {},
      "source": [
        "- $H_{0}:$ The mean order value of installment-based orders equals the mean order value of non-installment orders.\n",
        "- $H_{1}:$ The mean order value of installment-based orders does not equal the mean order value of non-installment orders."
      ]
    },
    {
      "cell_type": "code",
      "execution_count": null,
      "metadata": {},
      "outputs": [],
      "source": [
        "df_sales.stats.glm(\n",
        "    formula='total_payment ~ C(order_has_installment, Treatment(reference=\"Has Installments\"))'\n",
        "    , family=sm.families.Gamma(link=sm.families.links.Log())\n",
        ")"
      ]
    },
    {
      "cell_type": "markdown",
      "metadata": {},
      "source": [
        "**Result:**\n",
        "\n",
        "- At the 0.05 significance level, the mean order value for installment payments is statistically significantly different from the mean order value for non-installment payments.\n",
        "- Moreover, the mean order value for installment payments is statistically significantly higher than for non-installment payments."
      ]
    },
    {
      "cell_type": "markdown",
      "metadata": {},
      "source": [
        "---"
      ]
    },
    {
      "cell_type": "markdown",
      "metadata": {},
      "source": [
        "**Do installment orders have a higher average order weight?**"
      ]
    },
    {
      "cell_type": "markdown",
      "metadata": {},
      "source": [
        "- $H_{0}:$ The mean weight of installment-based orders equals the mean weight of non-installment orders.\n",
        "- $H_{1}:$ The mean weight of installment-based orders does not equal the mean weight of non-installment orders."
      ]
    },
    {
      "cell_type": "code",
      "execution_count": null,
      "metadata": {},
      "outputs": [],
      "source": [
        "df_sales.assign(total_weight_kg = lambda x: x.total_weight_kg + 1e-6).stats.glm(\n",
        "    formula='total_weight_kg ~ C(order_has_installment, Treatment(reference=\"Has Installments\"))'\n",
        "    , family=sm.families.Gamma(link=sm.families.links.Log())\n",
        ")"
      ]
    },
    {
      "cell_type": "markdown",
      "metadata": {},
      "source": [
        "**Result:**\n",
        "\n",
        "- At the 0.05 significance level, the mean order weight for installment payments is statistically significantly different from the mean order weight for non-installment payments.\n",
        "- Moreover, the mean order weight for installment payments is statistically significantly higher than for non-installment payments."
      ]
    },
    {
      "cell_type": "markdown",
      "metadata": {},
      "source": [
        "---"
      ]
    },
    {
      "cell_type": "markdown",
      "metadata": {},
      "source": [
        "**Do installment orders have a higher average product price in the order?**"
      ]
    },
    {
      "cell_type": "markdown",
      "metadata": {},
      "source": [
        "- $H_{0}:$ The mean product price in orders with installment payments equals the mean product price in orders without installment payments.\n",
        "- $H_{1}:$ The mean product price in orders with installment payments does not equal the mean product price in orders without installment payments."
      ]
    },
    {
      "cell_type": "code",
      "execution_count": null,
      "metadata": {},
      "outputs": [],
      "source": [
        "df_sales.stats.glm(\n",
        "    formula='avg_products_price ~ C(order_has_installment, Treatment(reference=\"Has Installments\"))'\n",
        "    , family=sm.families.Gamma(link=sm.families.links.Log())\n",
        ")"
      ]
    },
    {
      "cell_type": "markdown",
      "metadata": {},
      "source": [
        "**Result:**\n",
        "\n",
        "- At the 0.05 significance level, the mean product price in orders with installment payments is statistically significantly different from the mean product price in orders without installment payments.\n",
        "- Moreover, the mean product price in orders with installment payments is statistically significantly higher than in orders without installment payments."
      ]
    },
    {
      "cell_type": "markdown",
      "metadata": {},
      "source": [
        "---"
      ]
    },
    {
      "cell_type": "markdown",
      "metadata": {},
      "source": [
        "**Do installment orders have a higher average delivery cost?**"
      ]
    },
    {
      "cell_type": "markdown",
      "metadata": {},
      "source": [
        "- $H_{0}:$ The mean delivery cost for orders with installment payments equals the mean delivery cost for orders without installment payments.\n",
        "- $H_{1}:$ The mean delivery cost for orders with installment payments does not equal the mean delivery cost for orders without installment payments."
      ]
    },
    {
      "cell_type": "code",
      "execution_count": null,
      "metadata": {},
      "outputs": [],
      "source": [
        "df_sales.assign(total_freight_value = lambda x: x.total_freight_value + 1e-6).stats.glm(\n",
        "    formula='total_freight_value ~ C(order_has_installment, Treatment(reference=\"Has Installments\"))'\n",
        "    , family=sm.families.Gamma(link=sm.families.links.Log())\n",
        ")"
      ]
    },
    {
      "cell_type": "markdown",
      "metadata": {},
      "source": [
        "**Result:**\n",
        "\n",
        "- At the 0.05 significance level, the mean delivery cost for orders with installment payments is statistically significantly different from the mean delivery cost for orders without installment payments.\n",
        "- Moreover, the mean delivery cost for orders with installment payments is statistically significantly higher than for orders without installment payments."
      ]
    },
    {
      "cell_type": "markdown",
      "metadata": {},
      "source": [
        "## Order Processing and Delivery"
      ]
    },
    {
      "cell_type": "markdown",
      "metadata": {},
      "source": [
        "**Do delayed orders have a higher average order value?**"
      ]
    },
    {
      "cell_type": "markdown",
      "metadata": {},
      "source": [
        "- $H_{0}:$ The mean value of delayed orders equals the mean value of non-delayed orders.\n",
        "- $H_{1}:$ The mean value of delayed orders does not equal the mean value of non-delayed orders."
      ]
    },
    {
      "cell_type": "code",
      "execution_count": null,
      "metadata": {},
      "outputs": [],
      "source": [
        "df_sales.stats.glm(\n",
        "    formula='total_payment ~ C(is_delayed, Treatment(reference=\"Delayed\"))'\n",
        "    , family=sm.families.Gamma(link=sm.families.links.Log())\n",
        ")"
      ]
    },
    {
      "cell_type": "markdown",
      "metadata": {},
      "source": [
        "**Result:**\n",
        "\n",
        "- At the 0.05 significance level, the mean value of delayed orders is statistically significantly different from the mean value of non-delayed orders.\n",
        "- Moreover, the mean value of delayed orders is statistically significantly higher than of non-delayed orders."
      ]
    },
    {
      "cell_type": "markdown",
      "metadata": {},
      "source": [
        "---"
      ]
    },
    {
      "cell_type": "markdown",
      "metadata": {},
      "source": [
        "**Do delayed orders have a higher average order weight?**"
      ]
    },
    {
      "cell_type": "markdown",
      "metadata": {},
      "source": [
        "- $H_{0}:$ The mean weight of delayed orders equals the mean weight of non-delayed orders.\n",
        "- $H_{1}:$ The mean weight of delayed orders does not equal the mean weight of non-delayed orders."
      ]
    },
    {
      "cell_type": "code",
      "execution_count": null,
      "metadata": {},
      "outputs": [],
      "source": [
        "df_sales.assign(total_weight_kg = lambda x: x.total_weight_kg + 1e-6).stats.glm(\n",
        "    formula='total_weight_kg ~ C(is_delayed, Treatment(reference=\"Delayed\"))'\n",
        "    , family=sm.families.Gamma(link=sm.families.links.Log())\n",
        ")"
      ]
    },
    {
      "cell_type": "markdown",
      "metadata": {},
      "source": [
        "**Result:**\n",
        "\n",
        "- At the 0.05 significance level, the mean weight of delayed orders is statistically significantly different from the mean weight of non-delayed orders.\n",
        "- Moreover, the mean weight of delayed orders is statistically significantly higher than that of non-delayed orders."
      ]
    },
    {
      "cell_type": "markdown",
      "metadata": {},
      "source": [
        "---"
      ]
    },
    {
      "cell_type": "markdown",
      "metadata": {},
      "source": [
        "**Do delayed orders have a higher average product price in the order?**"
      ]
    },
    {
      "cell_type": "markdown",
      "metadata": {},
      "source": [
        "- $H_{0}:$ The mean product price in delayed orders equals the mean product price in non-delayed orders.\n",
        "- $H_{1}:$ The mean product price in delayed orders does not equal the mean product price in non-delayed orders."
      ]
    },
    {
      "cell_type": "code",
      "execution_count": null,
      "metadata": {},
      "outputs": [],
      "source": [
        "df_sales.stats.glm(\n",
        "    formula='avg_products_price ~ C(is_delayed, Treatment(reference=\"Delayed\"))'\n",
        "    , family=sm.families.Gamma(link=sm.families.links.Log())\n",
        ")"
      ]
    },
    {
      "cell_type": "markdown",
      "metadata": {},
      "source": [
        "**Result:**\n",
        "\n",
        "- At the 0.05 significance level, the mean product price in delayed orders is statistically significantly different from the mean product price in non-delayed orders.\n",
        "- Moreover, the mean product price in delayed orders is statistically significantly higher than in non-delayed orders."
      ]
    },
    {
      "cell_type": "markdown",
      "metadata": {},
      "source": [
        "---"
      ]
    },
    {
      "cell_type": "markdown",
      "metadata": {},
      "source": [
        "**Do delayed orders have a higher average delivery cost?**"
      ]
    },
    {
      "cell_type": "markdown",
      "metadata": {},
      "source": [
        "- $H_{0}:$ The mean delivery cost for delayed orders equals the mean delivery cost for non-delayed orders.\n",
        "- $H_{1}:$ The mean delivery cost for delayed orders does not equal the mean delivery cost for non-delayed orders."
      ]
    },
    {
      "cell_type": "code",
      "execution_count": null,
      "metadata": {},
      "outputs": [],
      "source": [
        "df_sales.assign(total_freight_value = lambda x: x.total_freight_value + 1e-6).stats.glm(\n",
        "    formula='total_freight_value ~ C(is_delayed, Treatment(reference=\"Delayed\"))'\n",
        "    , family=sm.families.Gamma(link=sm.families.links.Log())\n",
        ")"
      ]
    },
    {
      "cell_type": "markdown",
      "metadata": {},
      "source": [
        "**Result:**\n",
        "\n",
        "- At the 0.05 significance level, the mean delivery cost in delayed orders is statistically significantly different from the mean delivery cost in non-delayed orders.\n",
        "- Moreover, the mean delivery cost in delayed orders is statistically significantly higher than in non-delayed orders."
      ]
    },
    {
      "cell_type": "markdown",
      "metadata": {},
      "source": [
        "---"
      ]
    },
    {
      "cell_type": "markdown",
      "metadata": {},
      "source": [
        "**Does delivery delay affect the distribution of order ratings?**"
      ]
    },
    {
      "cell_type": "markdown",
      "metadata": {},
      "source": [
        "- $H_{0}:$ The distribution of order ratings is identical for delayed and non-delayed orders.\n",
        "- $H_{1}:$ The distribution of order ratings differs between delayed and non-delayed orders."
      ]
    },
    {
      "cell_type": "markdown",
      "metadata": {},
      "source": [
        "We will use:\n",
        "\n",
        "- OrderedModel, since the rating is an ordinal variable."
      ]
    },
    {
      "cell_type": "code",
      "execution_count": null,
      "metadata": {},
      "outputs": [],
      "source": [
        "(\n",
        "    df_sales.assign(\n",
        "        order_avg_reviews_score=lambda x: pd.Categorical(\n",
        "            x.order_avg_reviews_score,\n",
        "            categories=[1, 2, 3, 4, 5],\n",
        "            ordered=True\n",
        "        )\n",
        "    )\n",
        "    .stats.ordered_model(\n",
        "        formula = 'order_avg_reviews_score ~ C(is_delayed, Treatment(reference=\"Delayed\"))'\n",
        "    )\n",
        ")"
      ]
    },
    {
      "cell_type": "markdown",
      "metadata": {},
      "source": [
        "**Result:**\n",
        "\n",
        "- At the 0.05 significance level, the distribution of order ratings differs between delayed and non-delayed orders.\n",
        "- Moreover, non-delayed orders have statistically significantly higher chances of receiving a higher rating."
      ]
    },
    {
      "cell_type": "markdown",
      "metadata": {},
      "source": [
        "---"
      ]
    },
    {
      "cell_type": "markdown",
      "metadata": {},
      "source": [
        "**Are expensive orders delivered longer?**"
      ]
    },
    {
      "cell_type": "markdown",
      "metadata": {},
      "source": [
        "For each order price category N (except expensive):\n",
        "\n",
        "- $H_{0}^{N}:$ The mean delivery cost for the expensive price category equals the mean delivery cost for category N.\n",
        "- $H_{1}^{N}:$ The mean delivery cost for the expensive price category does not equal the mean delivery cost for category N."
      ]
    },
    {
      "cell_type": "code",
      "execution_count": null,
      "metadata": {},
      "outputs": [],
      "source": [
        "df_sales.stats.glm(\n",
        "    formula='delivery_time_days ~ C(order_total_payment_cat, Treatment(reference=\"Expensive\"))'\n",
        "    , family=sm.families.Gamma(link=sm.families.links.Log())\n",
        "    , p_adjust='holm'\n",
        ")"
      ]
    },
    {
      "cell_type": "markdown",
      "metadata": {},
      "source": [
        "**Result:**\n",
        "\n",
        "- At the 0.05 significance level, the mean delivery cost for the high-price order category is statistically significantly different from the mean delivery cost for any other category.\n",
        "- Moreover, the mean delivery cost for the high-price category is statistically significantly higher than for other categories."
      ]
    },
    {
      "cell_type": "code",
      "execution_count": null,
      "metadata": {
        "tags": [
          "remove-cell"
        ]
      },
      "source": [
        "%run ../../_post_run.ipynb"
      ],
      "outputs": []
    }
  ]
}