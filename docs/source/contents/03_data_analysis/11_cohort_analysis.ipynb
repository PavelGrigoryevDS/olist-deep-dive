{
  "metadata": {},
  "nbformat": 4,
  "nbformat_minor": 4,
  "cells": [
    {
      "cell_type": "code",
      "execution_count": null,
      "metadata": {
        "tags": [
          "remove-cell"
        ]
      },
      "source": [
        "%run ../../_pre_run.ipynb"
      ],
      "outputs": []
    },
    {
      "cell_type": "markdown",
      "metadata": {},
      "source": [
        "# Cohort Analysis"
      ]
    },
    {
      "cell_type": "markdown",
      "metadata": {},
      "source": [
        "We will analyze different metrics by monthly cohorts. \n",
        "\n",
        "We will choose a period of 30 days for lifetime, meaning each 30 days, the cohort's lifetime will increase by 1."
      ]
    },
    {
      "cell_type": "markdown",
      "metadata": {},
      "source": [
        "**Number of Sales**"
      ]
    },
    {
      "cell_type": "code",
      "execution_count": null,
      "metadata": {},
      "outputs": [],
      "source": [
        "fig = df_sales.analysis.cohort(\n",
        "    mode='sales'\n",
        "    , user_id_col='customer_unique_id'\n",
        "    , date_col='order_purchase_dt'\n",
        "    , order_id_col='order_id'\n",
        ")\n",
        "pb.to_slide(fig)\n",
        "fig.show()"
      ]
    },
    {
      "cell_type": "markdown",
      "metadata": {},
      "source": [
        "**Key Observations:**  \n",
        "\n",
        "- Most purchases occur in the cohort's first month  \n",
        "- Stabilization after first month without sharp decline  "
      ]
    },
    {
      "cell_type": "markdown",
      "metadata": {},
      "source": [
        "**Revenue**"
      ]
    },
    {
      "cell_type": "markdown",
      "metadata": {},
      "source": [
        "Since Olist is a marketplace, it is reasonable to calculate revenue by the total amount of sold products. This is because the revenue for marketplaces typically comes from commissions on sellers."
      ]
    },
    {
      "cell_type": "code",
      "execution_count": null,
      "metadata": {},
      "outputs": [],
      "source": [
        "fig = df_sales.analysis.cohort(\n",
        "    mode='revenue'\n",
        "    , user_id_col='customer_unique_id'\n",
        "    , date_col='order_purchase_dt'\n",
        "    , order_id_col='order_id'\n",
        "    , revenue_col='total_products_price'\n",
        "    , text_auto='.2s'\n",
        ")\n",
        "pb.to_slide(fig)\n",
        "fig.show()"
      ]
    },
    {
      "cell_type": "markdown",
      "metadata": {},
      "source": [
        "**Key Observations:**  \n",
        "\n",
        "- Revenue follows similar pattern to sales volume  \n",
        "- Majority of cohort revenue generated in first month  \n",
        "- No sharp lifetime decline observed  "
      ]
    },
    {
      "cell_type": "markdown",
      "metadata": {},
      "source": [
        "**Average Order Value**"
      ]
    },
    {
      "cell_type": "markdown",
      "metadata": {},
      "source": [
        "For calculating the average order value, it is reasonable to take the total payment amount per order. This is because the average order value should reflect the total cost of the order."
      ]
    },
    {
      "cell_type": "code",
      "execution_count": null,
      "metadata": {},
      "outputs": [],
      "source": [
        "fig = df_sales.analysis.cohort(\n",
        "    mode='aov'\n",
        "    , user_id_col='customer_unique_id'\n",
        "    , date_col='order_purchase_dt'\n",
        "    , order_id_col='order_id'\n",
        "    , revenue_col='total_payment'\n",
        ")\n",
        "pb.to_slide(fig)\n",
        "fig.show()"
      ]
    },
    {
      "cell_type": "markdown",
      "metadata": {},
      "source": [
        "**Key Observations:**  \n",
        "\n",
        "- No post-first-month decline in average order value (relative metric)  \n",
        "- No clear growth/decline trend across cohort lifetimes  \n",
        "- Some peak values in isolated periods  \n",
        "- Median AOV shows slight decline after 11 months  \n",
        "- Anomalously high AOV:  \n",
        "  - March 2017 cohort (month 5)  \n",
        "  - April 2017 cohort (month 15)  "
      ]
    },
    {
      "cell_type": "markdown",
      "metadata": {},
      "source": [
        "**Number of Buyers**"
      ]
    },
    {
      "cell_type": "code",
      "execution_count": null,
      "metadata": {},
      "outputs": [],
      "source": [
        "fig = df_sales.analysis.cohort(\n",
        "    mode='buyers'\n",
        "    , user_id_col='customer_unique_id'\n",
        "    , date_col='order_purchase_dt'\n",
        "    , order_id_col='order_id'\n",
        ")\n",
        "pb.to_slide(fig)\n",
        "fig.show()"
      ]
    },
    {
      "cell_type": "markdown",
      "metadata": {},
      "source": [
        "**Key Observations:**  \n",
        "\n",
        "- Customer count pattern mirrors revenue/sales  \n",
        "- Nearly all customers don't return after first month  "
      ]
    },
    {
      "cell_type": "markdown",
      "metadata": {},
      "source": [
        "**Retention**"
      ]
    },
    {
      "cell_type": "code",
      "execution_count": null,
      "metadata": {},
      "outputs": [],
      "source": [
        "fig = df_sales.analysis.cohort(\n",
        "    mode='retention'\n",
        "    , user_id_col='customer_unique_id'\n",
        "    , date_col='order_purchase_dt'\n",
        "    , order_id_col='order_id'\n",
        "    , include_period0=False\n",
        ")\n",
        "pb.to_slide(fig) \n",
        "fig.show()"
      ]
    },
    {
      "cell_type": "markdown",
      "metadata": {},
      "source": [
        "**Key Observations:**  \n",
        "\n",
        "- Extremely low 1st+ month retention  \n",
        "- Olist shows very poor customer retention  "
      ]
    },
    {
      "cell_type": "markdown",
      "metadata": {},
      "source": [
        "Let's look at the median retention of cohorts by periods."
      ]
    },
    {
      "cell_type": "code",
      "execution_count": null,
      "metadata": {},
      "outputs": [],
      "source": [
        "fig = df_sales.analysis.cohort(\n",
        "    mode='retention'\n",
        "    , user_id_col='customer_unique_id'\n",
        "    , date_col='order_purchase_dt'\n",
        "    , order_id_col='order_id'\n",
        "    , display_mode='summary'\n",
        ")\n",
        "pb.to_slide(fig) \n",
        "fig.show()"
      ]
    },
    {
      "cell_type": "markdown",
      "metadata": {},
      "source": [
        "**Key Observations:**  \n",
        "\n",
        "- Clear pattern: minimal customers return for repeat purchases  "
      ]
    },
    {
      "cell_type": "markdown",
      "metadata": {},
      "source": [
        "**Average Payment Count**"
      ]
    },
    {
      "cell_type": "code",
      "execution_count": null,
      "metadata": {},
      "outputs": [],
      "source": [
        "fig = df_sales.analysis.cohort(\n",
        "    mode='apc'\n",
        "    , user_id_col='customer_unique_id'\n",
        "    , date_col='order_purchase_dt'\n",
        "    , order_id_col='order_id'\n",
        ") \n",
        "pb.to_slide(fig) \n",
        "fig.show()"
      ]
    },
    {
      "cell_type": "markdown",
      "metadata": {},
      "source": [
        "**Key Observations:**  \n",
        "\n",
        "- Customers typically make 1-1.3 purchases per period  "
      ]
    },
    {
      "cell_type": "markdown",
      "metadata": {},
      "source": [
        "**ARPPU**"
      ]
    },
    {
      "cell_type": "markdown",
      "metadata": {},
      "source": [
        "For ARPPU, it is reasonable to take the total cost of products in the order, as we need the revenue per customer."
      ]
    },
    {
      "cell_type": "code",
      "execution_count": null,
      "metadata": {},
      "outputs": [],
      "source": [
        "fig = df_sales.analysis.cohort(\n",
        "    mode='arppu'\n",
        "    , user_id_col='customer_unique_id'\n",
        "    , date_col='order_purchase_dt'\n",
        "    , order_id_col='order_id'\n",
        "    , revenue_col='total_products_price'\n",
        ") \n",
        "pb.to_slide(fig) \n",
        "fig.show()"
      ]
    },
    {
      "cell_type": "markdown",
      "metadata": {},
      "source": [
        "**Key Observations:**  \n",
        "\n",
        "- Pattern similar to average order value  \n",
        "- ARPPU resembles AOV since most customers make single purchases  "
      ]
    },
    {
      "cell_type": "markdown",
      "metadata": {},
      "source": [
        "**LTV (Revenue-Based)**"
      ]
    },
    {
      "cell_type": "markdown",
      "metadata": {},
      "source": [
        "Since we do not have data on expenses or the margin coefficient, we cannot calculate the actual LTV. \n",
        "\n",
        "We will calculate LTV (Revenue-Based), assuming a margin coefficient of 1. This will serve as a proxy for LTV."
      ]
    },
    {
      "cell_type": "code",
      "execution_count": null,
      "metadata": {},
      "outputs": [],
      "source": [
        "fig = df_sales.analysis.cohort(\n",
        "    mode='ltv'\n",
        "    , user_id_col='customer_unique_id'\n",
        "    , date_col='order_purchase_dt'\n",
        "    , order_id_col='order_id'\n",
        "    , margin=1\n",
        ") \n",
        "pb.to_slide(fig) \n",
        "fig.show()"
      ]
    },
    {
      "cell_type": "markdown",
      "metadata": {},
      "source": [
        "**Key Observations:**  \n",
        "\n",
        "- Revenue-Based LTV remains stable across lifetime periods  \n",
        "- Expected pattern since most purchases occur in first month  \n",
        "- LTV reflects cumulative lifetime performance  "
      ]
    },
    {
      "cell_type": "code",
      "execution_count": null,
      "metadata": {
        "tags": [
          "remove-cell"
        ]
      },
      "source": [
        "%run ../../_post_run.ipynb"
      ],
      "outputs": []
    }
  ]
}