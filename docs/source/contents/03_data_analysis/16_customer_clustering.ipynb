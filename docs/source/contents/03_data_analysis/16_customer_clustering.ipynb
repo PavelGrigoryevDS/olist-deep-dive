{
  "metadata": {},
  "nbformat": 4,
  "nbformat_minor": 4,
  "cells": [
    {
      "cell_type": "code",
      "execution_count": null,
      "metadata": {
        "tags": [
          "remove-cell"
        ]
      },
      "source": [
        "%run ../../_pre_run.ipynb"
      ],
      "outputs": []
    },
    {
      "cell_type": "markdown",
      "metadata": {},
      "source": [
        "# Customer Clustering"
      ]
    },
    {
      "cell_type": "markdown",
      "metadata": {},
      "source": [
        "## All Customers"
      ]
    },
    {
      "cell_type": "markdown",
      "metadata": {},
      "source": [
        "### Cluster Definition"
      ]
    },
    {
      "cell_type": "markdown",
      "metadata": {},
      "source": [
        "- For clustering, we will use RFM metrics and the average number of unique products per order.\n",
        "- RFM metrics are well-suited for clustering. Adding the average number of unique products will help account for assortment demand diversity."
      ]
    },
    {
      "cell_type": "code",
      "execution_count": null,
      "metadata": {},
      "outputs": [],
      "source": [
        "selected_metrics = [\n",
        "    'avg_unique_products_cnt'\n",
        "]"
      ]
    },
    {
      "cell_type": "markdown",
      "metadata": {},
      "source": [
        "Create a dataframe with the selected metrics."
      ]
    },
    {
      "cell_type": "markdown",
      "metadata": {},
      "source": [
        "We will only consider customers who have made at least one successful purchase."
      ]
    },
    {
      "cell_type": "code",
      "execution_count": null,
      "metadata": {},
      "outputs": [],
      "source": [
        "mask = df_customers.buys_cnt.notna()"
      ]
    },
    {
      "cell_type": "code",
      "execution_count": null,
      "metadata": {},
      "outputs": [],
      "source": [
        "cols_to_drop = ['recency_score', 'frequency_score', 'monetary_score', 'rfm_score', 'rfm_segment']\n",
        "df_processed = (\n",
        "    df_customers.loc[mask, ['customer_unique_id', *selected_metrics]]\n",
        "    .merge(df_rfm, on='customer_unique_id', how='left')\n",
        "    .drop(cols_to_drop, axis=1)\n",
        "    .set_index('customer_unique_id')\n",
        ")"
      ]
    },
    {
      "cell_type": "markdown",
      "metadata": {},
      "source": [
        "Check for highly correlated features."
      ]
    },
    {
      "cell_type": "code",
      "execution_count": null,
      "metadata": {},
      "outputs": [],
      "source": [
        "corr_matrix = df_processed.corr().abs()"
      ]
    },
    {
      "cell_type": "code",
      "execution_count": null,
      "metadata": {},
      "outputs": [],
      "source": [
        "upper_triangle = corr_matrix.where(np.triu(np.ones(corr_matrix.shape), k=1).astype(bool))"
      ]
    },
    {
      "cell_type": "code",
      "execution_count": null,
      "metadata": {},
      "outputs": [],
      "source": [
        "cols_to_drop = [column for column in upper_triangle.columns if any(upper_triangle[column] > 0.6)]\n",
        "cols_to_drop"
      ]
    },
    {
      "cell_type": "markdown",
      "metadata": {},
      "source": [
        "No need to delete anything. "
      ]
    },
    {
      "cell_type": "markdown",
      "metadata": {},
      "source": [
        "Look for missing values in the columns."
      ]
    },
    {
      "cell_type": "code",
      "execution_count": null,
      "metadata": {},
      "outputs": [],
      "source": [
        "df_processed.isna().sum().nlargest(5)"
      ]
    },
    {
      "cell_type": "markdown",
      "metadata": {},
      "source": [
        "There are very few missing values, and they relate to customers who made only one purchase and have not yet received their item. \n",
        "\n",
        "We will remove these rows before standardization."
      ]
    },
    {
      "cell_type": "code",
      "execution_count": null,
      "metadata": {},
      "outputs": [],
      "source": [
        "scaler = StandardScaler()\n",
        "df_processed = df_processed.dropna()\n",
        "X_scaled = scaler.fit_transform(df_processed)"
      ]
    },
    {
      "cell_type": "markdown",
      "metadata": {},
      "source": [
        "Determine the optimal number of clusters using the elbow method and silhouette analysis."
      ]
    },
    {
      "cell_type": "code",
      "execution_count": null,
      "metadata": {},
      "outputs": [],
      "source": [
        "wcss = []\n",
        "for i in range(1, 15):\n",
        "    kmeans = KMeans(n_clusters=i, init='k-means++', random_state=42)\n",
        "    kmeans.fit(X_scaled)\n",
        "    wcss.append(kmeans.inertia_)\n",
        "\n",
        "px.line(\n",
        "    x=range(1, 15)\n",
        "    , y=wcss\n",
        "    , labels={'x': 'Number of clusters', 'y': 'WCSS'}\n",
        "    , title='The Elbow Method'\n",
        "    , width=600\n",
        "    , height=400\n",
        ")"
      ]
    },
    {
      "cell_type": "markdown",
      "metadata": {},
      "source": [
        "**Key Observations:**\n",
        "\n",
        "- The elbow method shows a clear break at 5 clusters. We'll use 5 clusters."
      ]
    },
    {
      "cell_type": "code",
      "execution_count": null,
      "metadata": {},
      "outputs": [],
      "source": [
        "optimal_clusters = 5\n",
        "kmeans = KMeans(\n",
        "    n_clusters=optimal_clusters\n",
        "    , init='k-means++'\n",
        "    , random_state=42)\n",
        "cluster_labels = kmeans.fit_predict(X_scaled)"
      ]
    },
    {
      "cell_type": "markdown",
      "metadata": {},
      "source": [
        "Examine quality"
      ]
    },
    {
      "cell_type": "code",
      "execution_count": null,
      "metadata": {},
      "outputs": [],
      "source": [
        "score = silhouette_score(X_scaled, cluster_labels)\n",
        "print(f'Silhouette Score: {score:.3f}')"
      ]
    },
    {
      "cell_type": "markdown",
      "metadata": {},
      "source": [
        "**Key Observations:**\n",
        "\n",
        "- Silhouette score of 0.492 indicates good cluster separation."
      ]
    },
    {
      "cell_type": "markdown",
      "metadata": {},
      "source": [
        "Add cluster labels to the dataframe."
      ]
    },
    {
      "cell_type": "code",
      "execution_count": null,
      "metadata": {},
      "outputs": [],
      "source": [
        "df_processed['cluster'] = cluster_labels + 1"
      ]
    },
    {
      "cell_type": "markdown",
      "metadata": {},
      "source": [
        "### Cluster Analysis"
      ]
    },
    {
      "cell_type": "markdown",
      "metadata": {},
      "source": [
        "Analyze the resulting clusters."
      ]
    },
    {
      "cell_type": "code",
      "execution_count": null,
      "metadata": {},
      "outputs": [],
      "source": [
        "df_processed = df_processed.reset_index()"
      ]
    },
    {
      "cell_type": "markdown",
      "metadata": {},
      "source": [
        "**Distribution by Clustering Metrics**"
      ]
    },
    {
      "cell_type": "code",
      "execution_count": null,
      "metadata": {},
      "outputs": [],
      "source": [
        "selected_metrics = [\n",
        "    'avg_unique_products_cnt',\n",
        "    'recency', \n",
        "    'frequency',\n",
        "    'monetary',\n",
        "]"
      ]
    },
    {
      "cell_type": "markdown",
      "metadata": {},
      "source": [
        "Provide more readable names for the metrics on the graphs."
      ]
    },
    {
      "cell_type": "code",
      "execution_count": null,
      "metadata": {},
      "outputs": [],
      "source": [
        "metric_labels = {\n",
        "    'avg_unique_products_cnt': 'Avg Unique Products',\n",
        "    'recency': 'Recency', \n",
        "    'frequency': 'Frequency', \n",
        "    'monetary': 'Monetary', \n",
        "}\n",
        "cluster_label = {'cluster': 'Cluster'}"
      ]
    },
    {
      "cell_type": "code",
      "execution_count": null,
      "metadata": {},
      "outputs": [],
      "source": [
        "labels_for_polar={**cluster_label, **base_labels, **metric_labels}"
      ]
    },
    {
      "cell_type": "code",
      "execution_count": null,
      "metadata": {},
      "outputs": [],
      "source": [
        "fig = df_processed.analysis.segment_polar(\n",
        "    metrics=selected_metrics\n",
        "    , dimension='cluster'\n",
        "    , count_column='customer_unique_id'\n",
        "    , labels=labels_for_polar\n",
        ")\n",
        "pb.to_slide(fig, 'cluster all')\n",
        "fig.show()"
      ]
    },
    {
      "cell_type": "code",
      "execution_count": null,
      "metadata": {},
      "outputs": [],
      "source": [
        "df_processed.analysis.segment_table(\n",
        "    metrics=selected_metrics\n",
        "    , dimension='cluster'\n",
        "    , count_column='customer_unique_id' \n",
        ")\n",
        "fig.show()"
      ]
    },
    {
      "cell_type": "markdown",
      "metadata": {},
      "source": [
        "**Key Observations:**\n",
        "\n",
        "- Most customers fall in Cluster 1 (53%) and Cluster 2 (39%).\n",
        "- Cluster 1: No standout metrics\n",
        "- Cluster 2: Highest Recency\n",
        "- Cluster 3: Highest Monetary, Cluster 4: Highest Avg Unique Products, Cluster 5: Highest Frequency"
      ]
    },
    {
      "cell_type": "markdown",
      "metadata": {},
      "source": [
        "---"
      ]
    },
    {
      "cell_type": "markdown",
      "metadata": {},
      "source": [
        "**Number of Customers by Clusters in Different Segments**"
      ]
    },
    {
      "cell_type": "markdown",
      "metadata": {},
      "source": [
        "Add dimensions to the dataframe with clusters."
      ]
    },
    {
      "cell_type": "code",
      "execution_count": null,
      "metadata": {},
      "outputs": [],
      "source": [
        "df_processed = (\n",
        "    df_processed.merge(df_customers[['customer_unique_id', *customers_dim]], on='customer_unique_id', how='left')\n",
        ")"
      ]
    },
    {
      "cell_type": "code",
      "execution_count": null,
      "metadata": {},
      "outputs": [],
      "source": [
        "df_processed.viz.update_plotly_settings(\n",
        "    labels={**base_labels, 'cluster': 'Cluster'}\n",
        ")"
      ]
    },
    {
      "cell_type": "code",
      "execution_count": null,
      "metadata": {},
      "outputs": [],
      "source": [
        "pb.configure(\n",
        "    df = df_processed\n",
        "    , metric = 'customer_unique_id'\n",
        "    , metric_label = 'Share of Customers'\n",
        "    , agg_func = 'nunique'\n",
        "    , norm_by='all'\n",
        "    , axis_sort_order='descending'    \n",
        "    , text_auto='.1%'\n",
        "    , plotly_kwargs= {'category_orders': {'cluster': list(range(1, 6))}}\n",
        ")"
      ]
    },
    {
      "cell_type": "markdown",
      "metadata": {},
      "source": [
        "**By Activity Segment**"
      ]
    },
    {
      "cell_type": "code",
      "execution_count": null,
      "metadata": {},
      "outputs": [],
      "source": [
        "pb.cat_compare(\n",
        "    cat1='cluster'\n",
        "    , cat2 = 'activity_segment' \n",
        "    , visible_graphs = [2, 3]\n",
        ")"
      ]
    },
    {
      "cell_type": "markdown",
      "metadata": {},
      "source": [
        "**Key Observations:**\n",
        "\n",
        "- Clusters 1-4 are dominated by one-time purchasers.\n",
        "- Cluster 5 dominates all active segments except one-time purchases.\n",
        "- One-time purchase rates are similar across all clusters except Cluster 5."
      ]
    },
    {
      "cell_type": "markdown",
      "metadata": {},
      "source": [
        "**By Purchase Amount Segment**"
      ]
    },
    {
      "cell_type": "code",
      "execution_count": null,
      "metadata": {},
      "outputs": [],
      "source": [
        "pb.cat_compare(\n",
        "    cat1='cluster'\n",
        "    , cat2 = 'value_segment'\n",
        "    , visible_graphs = [2, 3]\n",
        ")"
      ]
    },
    {
      "cell_type": "markdown",
      "metadata": {},
      "source": [
        "**Key Observations:**  \n",
        "\n",
        "- Clusters 1-2: Mostly medium payment tier\n",
        "- Cluster 3: Entirely high-value segment\n",
        "- Clusters 1-2 are less common in high-value segment\n",
        "- Clusters 1-2 dominate within each value segment"
      ]
    },
    {
      "cell_type": "markdown",
      "metadata": {},
      "source": [
        "**By Loyalty Segment**"
      ]
    },
    {
      "cell_type": "code",
      "execution_count": null,
      "metadata": {},
      "outputs": [],
      "source": [
        "pb.cat_compare(\n",
        "    cat1='cluster'\n",
        "    , cat2 = 'loyalty_segment'\n",
        "    , visible_graphs = [2, 3]\n",
        ")"
      ]
    },
    {
      "cell_type": "markdown",
      "metadata": {},
      "source": [
        "**Key Observations:**\n",
        "\n",
        "- Cluster 4 has notably more critics\n",
        "- Clusters 1-2 dominate across loyalty segments\n",
        "- Fewer promoters in Cluster 4\n",
        "- More neutrals in Cluster 5\n",
        "- More critics in Cluster 4"
      ]
    },
    {
      "cell_type": "markdown",
      "metadata": {},
      "source": [
        "**By Risk Segment**"
      ]
    },
    {
      "cell_type": "code",
      "execution_count": null,
      "metadata": {},
      "outputs": [],
      "source": [
        "pb.cat_compare(\n",
        "    cat1='cluster'\n",
        "    , cat2 = 'risk_segment'\n",
        "    , visible_graphs = [2, 3]\n",
        ")"
      ]
    },
    {
      "cell_type": "markdown",
      "metadata": {},
      "source": [
        "**Key Observations:**\n",
        "\n",
        "- Clusters 4-5 are more common among risky customers (with order cancellations)"
      ]
    },
    {
      "cell_type": "markdown",
      "metadata": {},
      "source": [
        "**By Installment Segment**"
      ]
    },
    {
      "cell_type": "code",
      "execution_count": null,
      "metadata": {},
      "outputs": [],
      "source": [
        "pb.cat_compare(\n",
        "    cat1='cluster'\n",
        "    , cat2 = 'installment_segment'\n",
        "    , visible_graphs = [2, 3]\n",
        ")"
      ]
    },
    {
      "cell_type": "markdown",
      "metadata": {},
      "source": [
        "**Key Observations:**\n",
        "\n",
        "- Installments don't dominate Clusters 1-2\n",
        "- Installments clearly dominate Clusters 3-5\n",
        "- Highest installment rate in Cluster 3"
      ]
    },
    {
      "cell_type": "markdown",
      "metadata": {},
      "source": [
        "**By Average Number of Products per Order Segment**"
      ]
    },
    {
      "cell_type": "code",
      "execution_count": null,
      "metadata": {},
      "outputs": [],
      "source": [
        "pb.cat_compare(\n",
        "    cat1='cluster'\n",
        "    , cat2 = 'products_cnt_segment'\n",
        "    , visible_graphs = [2, 3]\n",
        ")"
      ]
    },
    {
      "cell_type": "markdown",
      "metadata": {},
      "source": [
        "**Key Observations:**\n",
        "\n",
        "- Cluster 4 consists entirely of customers averaging >1 product per order"
      ]
    },
    {
      "cell_type": "markdown",
      "metadata": {},
      "source": [
        "**By Average Order Weight Segment**"
      ]
    },
    {
      "cell_type": "code",
      "execution_count": null,
      "metadata": {},
      "outputs": [],
      "source": [
        "pb.cat_compare(\n",
        "    cat1='cluster'\n",
        "    , cat2 = 'weight_segment'\n",
        "    , visible_graphs = [2, 3]\n",
        ")"
      ]
    },
    {
      "cell_type": "markdown",
      "metadata": {},
      "source": [
        "**Key Observations:**\n",
        "\n",
        "- Cluster 3 has more heavy-weight orders\n",
        "- Cluster 1 dominates light-weight orders"
      ]
    },
    {
      "cell_type": "markdown",
      "metadata": {},
      "source": [
        "**By Top Payment Types**"
      ]
    },
    {
      "cell_type": "code",
      "execution_count": null,
      "metadata": {},
      "outputs": [],
      "source": [
        "pb.cat_compare(\n",
        "    cat1='cluster'\n",
        "    , cat2 = 'customer_payment_types'\n",
        "    , trim_top_n_cat2=5\n",
        "    , visible_graphs = [2, 3]\n",
        ")"
      ]
    },
    {
      "cell_type": "markdown",
      "metadata": {},
      "source": [
        "**Key Observations:**\n",
        "\n",
        "- Cluster 1 has more debit card users"
      ]
    },
    {
      "cell_type": "markdown",
      "metadata": {},
      "source": [
        "**By Top Product Categories**"
      ]
    },
    {
      "cell_type": "code",
      "execution_count": null,
      "metadata": {},
      "outputs": [],
      "source": [
        "pb.cat_compare(\n",
        "    cat1='cluster'\n",
        "    , cat2 = 'customer_top_product_categories'\n",
        "    , trim_top_n_cat2=5\n",
        "    , visible_graphs = [2, 3]\n",
        ")"
      ]
    },
    {
      "cell_type": "markdown",
      "metadata": {},
      "source": [
        "**Key Observations:**\n",
        "\n",
        "- Cluster 4 dominates Bed Bath Table category"
      ]
    },
    {
      "cell_type": "markdown",
      "metadata": {},
      "source": [
        "**By Top Generalized Product Categories**"
      ]
    },
    {
      "cell_type": "code",
      "execution_count": null,
      "metadata": {},
      "outputs": [],
      "source": [
        "pb.cat_compare(\n",
        "    cat1='cluster'\n",
        "    , cat2 = 'customer_top_general_product_categories'\n",
        "    , trim_top_n_cat2=5\n",
        "    , visible_graphs = [2, 3]\n",
        ")"
      ]
    },
    {
      "cell_type": "markdown",
      "metadata": {},
      "source": [
        "**Key Observations:**\n",
        "\n",
        "- Cluster 3: Dominated by electronics\n",
        "- Cluster 4: Dominated by furniture"
      ]
    },
    {
      "cell_type": "markdown",
      "metadata": {},
      "source": [
        "**By Customer State**"
      ]
    },
    {
      "cell_type": "code",
      "execution_count": null,
      "metadata": {},
      "outputs": [],
      "source": [
        "pb.cat_compare(\n",
        "    cat1='cluster'\n",
        "    , cat2 = 'customer_city'\n",
        "    , trim_top_n_cat2=5\n",
        "    , visible_graphs = [2, 3]\n",
        ")"
      ]
    },
    {
      "cell_type": "markdown",
      "metadata": {},
      "source": [
        "**Key Observations:**\n",
        "\n",
        "- Cluster 2 is more common in Rio de Janeiro\n",
        "- Cluster 1 is less common in Rio de Janeiro"
      ]
    },
    {
      "cell_type": "markdown",
      "metadata": {},
      "source": [
        "## Customers with Multiple Purchases"
      ]
    },
    {
      "cell_type": "markdown",
      "metadata": {},
      "source": [
        "### Cluster Definition"
      ]
    },
    {
      "cell_type": "markdown",
      "metadata": {},
      "source": [
        "We will conduct a separate clustering of customers who have made more than one successful purchase. \n",
        "\n",
        "We will use the same metrics as in the clustering of all customers."
      ]
    },
    {
      "cell_type": "code",
      "execution_count": null,
      "metadata": {},
      "outputs": [],
      "source": [
        "selected_metrics = [\n",
        "    'avg_unique_products_cnt'\n",
        "]"
      ]
    },
    {
      "cell_type": "code",
      "execution_count": null,
      "metadata": {},
      "outputs": [],
      "source": [
        "mask = df_customers.buys_cnt >= 2"
      ]
    },
    {
      "cell_type": "code",
      "execution_count": null,
      "metadata": {},
      "outputs": [],
      "source": [
        "cols_to_drop = ['recency_score', 'frequency_score', 'monetary_score', 'rfm_score', 'rfm_segment']\n",
        "df_processed = (\n",
        "    df_customers.loc[mask, ['customer_unique_id', *selected_metrics]]\n",
        "    .merge(df_rfm[lambda x: x.rfm_segment=='Champions'], on='customer_unique_id', how='inner')\n",
        "    .drop(cols_to_drop, axis=1)\n",
        "    .set_index('customer_unique_id')\n",
        ")"
      ]
    },
    {
      "cell_type": "markdown",
      "metadata": {},
      "source": [
        "Check for missing values."
      ]
    },
    {
      "cell_type": "code",
      "execution_count": null,
      "metadata": {},
      "outputs": [],
      "source": [
        "df_processed.isna().sum().nlargest(5)"
      ]
    },
    {
      "cell_type": "markdown",
      "metadata": {},
      "source": [
        "There are no missing values."
      ]
    },
    {
      "cell_type": "code",
      "execution_count": null,
      "metadata": {},
      "outputs": [],
      "source": [
        "scaler = StandardScaler()\n",
        "df_processed = df_processed.dropna()\n",
        "X_scaled = scaler.fit_transform(df_processed)"
      ]
    },
    {
      "cell_type": "markdown",
      "metadata": {},
      "source": [
        "Determine the optimal number of clusters using the silhouette method."
      ]
    },
    {
      "cell_type": "code",
      "execution_count": null,
      "metadata": {},
      "outputs": [],
      "source": [
        "silhouette_scores = []\n",
        "for n_clusters in range(2, 15):\n",
        "    kmeans = KMeans(n_clusters=n_clusters, random_state=42)\n",
        "    cluster_labels = kmeans.fit_predict(X_scaled)\n",
        "    silhouette_avg = silhouette_score(X_scaled, cluster_labels)\n",
        "    silhouette_scores.append(silhouette_avg)\n",
        "px.line(\n",
        "    x=range(2, 15)\n",
        "    , y=silhouette_scores\n",
        "    , labels={'x': 'Number of clusters', 'y': 'Silhouette Score'}\n",
        "    , title='Silhouette Score Method'\n",
        "    , width=600\n",
        "    , height=400\n",
        ")"
      ]
    },
    {
      "cell_type": "markdown",
      "metadata": {},
      "source": [
        "**Key Observations:**\n",
        "\n",
        "- Global peak at 7 clusters\n",
        "- Sharp drop after k=7 suggests overfitting"
      ]
    },
    {
      "cell_type": "markdown",
      "metadata": {},
      "source": [
        "Examine the dendrogram of hierarchical clustering."
      ]
    },
    {
      "cell_type": "code",
      "execution_count": null,
      "metadata": {},
      "outputs": [],
      "source": [
        "linked = linkage(X_scaled, method='ward')\n",
        "fig = ff.create_dendrogram(\n",
        "    linked\n",
        "    , orientation='bottom'\n",
        ")\n",
        "fig.update_layout(\n",
        "    title='Dendrogram of hierarchical clustering',\n",
        "    xaxis_title='Observations',\n",
        "    yaxis_title='Distance',\n",
        "    width=800,\n",
        "    height=500,\n",
        "    margin=dict(l=50, r=50, b=50, t=50),\n",
        "    yaxis_mirror=False,\n",
        ")\n",
        "fig.update_xaxes(showticklabels=False, ticks='', mirror=False)\n",
        "fig.show(config=dict(displayModeBar=False), renderer=\"png\")"
      ]
    },
    {
      "cell_type": "markdown",
      "metadata": {},
      "source": [
        "**Key Observations:**\n",
        "\n",
        "- Optimal cut at 6-7 clusters (where branches lengthen)\n",
        "- We'll choose 7 clusters"
      ]
    },
    {
      "cell_type": "code",
      "execution_count": null,
      "metadata": {},
      "outputs": [],
      "source": [
        "optimal_clusters = 7\n",
        "model = AgglomerativeClustering(n_clusters=optimal_clusters)\n",
        "cluster_labels = model.fit_predict(X_scaled)"
      ]
    },
    {
      "cell_type": "markdown",
      "metadata": {},
      "source": [
        "Evaluate quality."
      ]
    },
    {
      "cell_type": "code",
      "execution_count": null,
      "metadata": {},
      "outputs": [],
      "source": [
        "score = silhouette_score(X_scaled, cluster_labels)\n",
        "print(f'Silhouette Score: {score:.3f}')"
      ]
    },
    {
      "cell_type": "markdown",
      "metadata": {},
      "source": [
        "**Key Observations:**\n",
        "\n",
        "- Silhouette score of 0.41 indicates good clustering\n",
        "- Clusters remain distinguishable despite score <0.5"
      ]
    },
    {
      "cell_type": "markdown",
      "metadata": {},
      "source": [
        "Add cluster labels to the dataframe."
      ]
    },
    {
      "cell_type": "code",
      "execution_count": null,
      "metadata": {},
      "outputs": [],
      "source": [
        "df_processed['cluster'] = cluster_labels + 1"
      ]
    },
    {
      "cell_type": "markdown",
      "metadata": {},
      "source": [
        "### Cluster Analysis"
      ]
    },
    {
      "cell_type": "markdown",
      "metadata": {},
      "source": [
        "Analyze the resulting clusters."
      ]
    },
    {
      "cell_type": "code",
      "execution_count": null,
      "metadata": {},
      "outputs": [],
      "source": [
        "df_processed = df_processed.reset_index()"
      ]
    },
    {
      "cell_type": "markdown",
      "metadata": {},
      "source": [
        "**Distribution by Clustering Metrics**"
      ]
    },
    {
      "cell_type": "code",
      "execution_count": null,
      "metadata": {},
      "outputs": [],
      "source": [
        "selected_metrics = [\n",
        "    'avg_unique_products_cnt',\n",
        "    'recency', \n",
        "    'frequency',\n",
        "    'monetary',\n",
        "]"
      ]
    },
    {
      "cell_type": "markdown",
      "metadata": {},
      "source": [
        "Provide more readable names for the metrics on the graphs."
      ]
    },
    {
      "cell_type": "code",
      "execution_count": null,
      "metadata": {},
      "outputs": [],
      "source": [
        "metric_labels = {\n",
        "    'avg_unique_products_cnt': 'Avg Unique Products',\n",
        "    'recency': 'Recency', \n",
        "    'frequency': 'Frequency', \n",
        "    'monetary': 'Monetary', \n",
        "}\n",
        "cluster_label = {'cluster': 'Cluster'}"
      ]
    },
    {
      "cell_type": "code",
      "execution_count": null,
      "metadata": {},
      "outputs": [],
      "source": [
        "labels_for_polar={**cluster_label, **base_labels, **metric_labels}"
      ]
    },
    {
      "cell_type": "code",
      "execution_count": null,
      "metadata": {},
      "outputs": [],
      "source": [
        "fig = df_processed.analysis.segment_polar(\n",
        "    metrics=selected_metrics\n",
        "    , dimension='cluster'\n",
        "    , count_column='customer_unique_id'\n",
        "    , labels=labels_for_polar\n",
        ")\n",
        "pb.to_slide(fig, 'cluster repeat')\n",
        "fig.show()"
      ]
    },
    {
      "cell_type": "code",
      "execution_count": null,
      "metadata": {},
      "outputs": [],
      "source": [
        "df_processed.analysis.segment_table(\n",
        "    metrics=selected_metrics\n",
        "    , dimension='cluster'\n",
        "    , count_column='customer_unique_id' \n",
        ")\n",
        "fig.show()"
      ]
    },
    {
      "cell_type": "markdown",
      "metadata": {},
      "source": [
        "**Key Observations:**\n",
        "\n",
        "- Most customers in Cluster 4 (43%) and Cluster 3 (34%)\n",
        "- Cluster 1: No standout metrics\n",
        "- Cluster 2: Highest Monetary\n",
        "- Cluster 6: High Frequency and Monetary\n",
        "- Cluster 7: High avg unique products"
      ]
    },
    {
      "cell_type": "markdown",
      "metadata": {},
      "source": [
        "---"
      ]
    },
    {
      "cell_type": "markdown",
      "metadata": {},
      "source": [
        "**Number of Customers by Clusters in Different Segments**"
      ]
    },
    {
      "cell_type": "markdown",
      "metadata": {},
      "source": [
        "Add dimensions to the dataframe with clusters."
      ]
    },
    {
      "cell_type": "code",
      "execution_count": null,
      "metadata": {},
      "outputs": [],
      "source": [
        "df_processed = (\n",
        "    df_processed.merge(df_customers[['customer_unique_id', *customers_dim]], on='customer_unique_id', how='left')\n",
        ")"
      ]
    },
    {
      "cell_type": "code",
      "execution_count": null,
      "metadata": {},
      "outputs": [],
      "source": [
        "df_processed.viz.update_plotly_settings(\n",
        "    labels={**base_labels, 'cluster': 'Cluster'}\n",
        ")"
      ]
    },
    {
      "cell_type": "code",
      "execution_count": null,
      "metadata": {},
      "outputs": [],
      "source": [
        "pb.configure(\n",
        "    df = df_processed\n",
        "    , metric = 'customer_unique_id'\n",
        "    , metric_label = 'Share of Customers'\n",
        "    , agg_func = 'nunique'\n",
        "    , norm_by='all'\n",
        "    , axis_sort_order='descending'    \n",
        "    , text_auto='.1%'\n",
        ")"
      ]
    },
    {
      "cell_type": "markdown",
      "metadata": {},
      "source": [
        "**By Activity Segment**"
      ]
    },
    {
      "cell_type": "code",
      "execution_count": null,
      "metadata": {},
      "outputs": [],
      "source": [
        "pb.cat_compare(\n",
        "    cat1='cluster'\n",
        "    , cat2 = 'activity_segment' \n",
        "    , visible_graphs = [2, 3]\n",
        ")"
      ]
    },
    {
      "cell_type": "markdown",
      "metadata": {},
      "source": [
        "**Key Observations:**\n",
        "\n",
        "- Cluster 6: Entirely core audience\n",
        "- Core also dominates Cluster 1\n",
        "- Cluster 4 dominates potential core segment"
      ]
    },
    {
      "cell_type": "markdown",
      "metadata": {},
      "source": [
        "**By Purchase Amount Segment**"
      ]
    },
    {
      "cell_type": "code",
      "execution_count": null,
      "metadata": {},
      "outputs": [],
      "source": [
        "pb.cat_compare(\n",
        "    cat1='cluster'\n",
        "    , cat2 = 'value_segment'\n",
        "    , visible_graphs = [2, 3]\n",
        ")"
      ]
    },
    {
      "cell_type": "markdown",
      "metadata": {},
      "source": [
        "**Key Observations:**\n",
        "\n",
        "- Clusters 2 and 6: Entirely high-value segment\n",
        "- Cluster 4 dominates medium-value segment"
      ]
    },
    {
      "cell_type": "markdown",
      "metadata": {},
      "source": [
        "**By Loyalty Segment**"
      ]
    },
    {
      "cell_type": "code",
      "execution_count": null,
      "metadata": {},
      "outputs": [],
      "source": [
        "pb.cat_compare(\n",
        "    cat1='cluster'\n",
        "    , cat2 = 'loyalty_segment'\n",
        "    , visible_graphs = [2, 3]\n",
        ")"
      ]
    },
    {
      "cell_type": "markdown",
      "metadata": {},
      "source": [
        "**Key Observations:**\n",
        "\n",
        "- Cluster 6: Entirely promoters\n",
        "- Cluster 4 dominates critics\n",
        "- Clusters 4-5 more common among critics"
      ]
    },
    {
      "cell_type": "markdown",
      "metadata": {},
      "source": [
        "**By Installment Segment**"
      ]
    },
    {
      "cell_type": "code",
      "execution_count": null,
      "metadata": {},
      "outputs": [],
      "source": [
        "pb.cat_compare(\n",
        "    cat1='cluster'\n",
        "    , cat2 = 'installment_segment'\n",
        "    , visible_graphs = [2, 3]\n",
        ")"
      ]
    },
    {
      "cell_type": "markdown",
      "metadata": {},
      "source": [
        "**Key Observations:**\n",
        "\n",
        "- Cluster 6: Entirely installment users\n",
        "- Cluster 7 has more full-payment users"
      ]
    },
    {
      "cell_type": "markdown",
      "metadata": {},
      "source": [
        "**By Average Number of Products per Order Segment**"
      ]
    },
    {
      "cell_type": "code",
      "execution_count": null,
      "metadata": {},
      "outputs": [],
      "source": [
        "pb.cat_compare(\n",
        "    cat1='cluster'\n",
        "    , cat2 = 'products_cnt_segment'\n",
        "    , visible_graphs = [2, 3]\n",
        ")"
      ]
    },
    {
      "cell_type": "markdown",
      "metadata": {},
      "source": [
        "**Key Observations:**\n",
        "\n",
        "- Cluster 6: Entirely single-product orders\n",
        "- Cluster 7: No single-product orders\n",
        "- Clusters 3-4 dominate single-product orders\n",
        "- Clusters 2 and 7 dominate bulk orders (>2 products)\n",
        "- Cluster 5 has more multi-product orders"
      ]
    },
    {
      "cell_type": "markdown",
      "metadata": {},
      "source": [
        "**By Average Order Weight Segment**"
      ]
    },
    {
      "cell_type": "code",
      "execution_count": null,
      "metadata": {},
      "outputs": [],
      "source": [
        "pb.cat_compare(\n",
        "    cat1='cluster'\n",
        "    , cat2 = 'weight_segment'\n",
        "    , visible_graphs = [2, 3]\n",
        ")"
      ]
    },
    {
      "cell_type": "markdown",
      "metadata": {},
      "source": [
        "**Key Observations:**\n",
        "\n",
        "- Cluster 6: Entirely light-weight orders\n",
        "- Cluster 2: Heavy-weight orders dominate"
      ]
    },
    {
      "cell_type": "markdown",
      "metadata": {},
      "source": [
        "**By Top Payment Types**"
      ]
    },
    {
      "cell_type": "code",
      "execution_count": null,
      "metadata": {},
      "outputs": [],
      "source": [
        "pb.cat_compare(\n",
        "    cat1='cluster'\n",
        "    , cat2 = 'customer_payment_types'\n",
        "    , trim_top_n_cat2=5\n",
        "    , visible_graphs = [2, 3]\n",
        ")"
      ]
    },
    {
      "cell_type": "markdown",
      "metadata": {},
      "source": [
        "**Key Observations:**\n",
        "\n",
        "- Cluster 6: Entirely credit card users\n",
        "- Cluster 7 has more boleto users"
      ]
    },
    {
      "cell_type": "markdown",
      "metadata": {},
      "source": [
        "**By Top Product Categories**"
      ]
    },
    {
      "cell_type": "code",
      "execution_count": null,
      "metadata": {},
      "outputs": [],
      "source": [
        "pb.cat_compare(\n",
        "    cat1='cluster'\n",
        "    , cat2 = 'customer_top_product_categories'\n",
        "    , trim_top_n_cat2=5\n",
        "    , visible_graphs = [2, 3]\n",
        ")"
      ]
    },
    {
      "cell_type": "markdown",
      "metadata": {},
      "source": [
        "**Key Observations:**\n",
        "\n",
        "- Clusters 1-2 dominate Watches Gifts category\n",
        "- Cluster 7 dominates Bed Bath Table"
      ]
    },
    {
      "cell_type": "markdown",
      "metadata": {},
      "source": [
        "**By Top Generalized Product Categories**"
      ]
    },
    {
      "cell_type": "code",
      "execution_count": null,
      "metadata": {},
      "outputs": [],
      "source": [
        "pb.cat_compare(\n",
        "    cat1='cluster'\n",
        "    , cat2 = 'customer_top_general_product_categories'\n",
        "    , trim_top_n_cat2=5\n",
        "    , visible_graphs = [2, 3]\n",
        ")"
      ]
    },
    {
      "cell_type": "markdown",
      "metadata": {},
      "source": [
        "**Key Observations:**\n",
        "\n",
        "- Cluster 2 strongly dominates electronics\n",
        "- Cluster 7 dominates furniture and home/garden"
      ]
    },
    {
      "cell_type": "markdown",
      "metadata": {},
      "source": [
        "**By Customer State**"
      ]
    },
    {
      "cell_type": "code",
      "execution_count": null,
      "metadata": {},
      "outputs": [],
      "source": [
        "pb.cat_compare(\n",
        "    cat1='cluster'\n",
        "    , cat2 = 'customer_city'\n",
        "    , trim_top_n_cat2=5\n",
        "    , visible_graphs = [2, 3]\n",
        ")"
      ]
    },
    {
      "cell_type": "markdown",
      "metadata": {},
      "source": [
        "**Key Observations:**\n",
        "\n",
        "- Cluster 6: Entirely São Paulo customers (top 5 cities)\n",
        "- Cluster 1 more common in Niterói\n",
        "- Cluster 3 more common in Campinas"
      ]
    },
    {
      "cell_type": "code",
      "execution_count": null,
      "metadata": {
        "tags": [
          "remove-cell"
        ]
      },
      "source": [
        "%run ../../_post_run.ipynb"
      ],
      "outputs": []
    }
  ]
}