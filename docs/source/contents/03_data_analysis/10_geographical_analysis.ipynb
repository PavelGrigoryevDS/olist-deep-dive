{
  "metadata": {},
  "nbformat": 4,
  "nbformat_minor": 4,
  "cells": [
    {
      "cell_type": "code",
      "execution_count": null,
      "metadata": {
        "tags": [
          "remove-cell"
        ]
      },
      "source": [
        "%run ../../_pre_run.ipynb"
      ],
      "outputs": []
    },
    {
      "cell_type": "markdown",
      "metadata": {},
      "source": [
        "# Geographical Analysis"
      ]
    },
    {
      "cell_type": "markdown",
      "metadata": {},
      "source": [
        "## Geo-analysis by ZIP Codes"
      ]
    },
    {
      "cell_type": "markdown",
      "metadata": {},
      "source": [
        "### Data Preparation\n"
      ]
    },
    {
      "cell_type": "markdown",
      "metadata": {},
      "source": [
        "We will aggregate data by the first 3 digits of the customer’s ZIP code. Each point on the map will represent a unique truncated ZIP code. \n",
        "\n",
        "Without truncation, we would get excessive detail and no noticeable differences. \n",
        "\n",
        "We will prepare the data for visualization."
      ]
    },
    {
      "cell_type": "markdown",
      "metadata": {},
      "source": [
        "We have 6 orders that were made outside South America. \n",
        "\n",
        "After truncating the prefixes, we may get additional coordinates outside South America. \n",
        "\n",
        "We will remove them to avoid interfering with the map analysis."
      ]
    },
    {
      "cell_type": "code",
      "execution_count": null,
      "metadata": {},
      "outputs": [],
      "source": [
        "tmp_df_res = df_sales.copy()\n",
        "tmp_df_res['is_delayed'] = tmp_df_res['is_delayed'] == 'Delayed'\n",
        "tmp_df_res['order_has_installment'] = tmp_df_res['order_has_installment'] == 'Has Installments'"
      ]
    },
    {
      "cell_type": "code",
      "execution_count": null,
      "metadata": {},
      "outputs": [],
      "source": [
        "tmp_df_res = (\n",
        "    tmp_df_res.merge(df_customers_origin[['customer_id', 'customer_zip_code_prefix_3_digits']], on='customer_id')\n",
        "    .groupby('customer_zip_code_prefix_3_digits', as_index=False)\n",
        "    .agg(\n",
        "        total_orders=('order_id', 'nunique')\n",
        "        , orders_delayed_share = ('is_delayed', 'mean')\n",
        "        , total_payment = ('total_payment', 'sum')\n",
        "        , aov = ('total_payment', 'mean')\n",
        "        , avg_installments = ('total_installments_cnt', 'mean')\n",
        "        , first_orders_cnt = ('sale_is_customer_first_purchase', 'sum')\n",
        "        , installment_orders_cnt = ('order_has_installment', 'sum')\n",
        "        , total_reviews = ('reviews_cnt', 'sum')\n",
        "        , avg_review_score = ('order_avg_reviews_score', 'mean')\n",
        "        , avg_delivery_delay_days = ('delivery_delay_days', 'mean')\n",
        "        , avg_delivery_time_days = ('delivery_time_days', 'mean')\n",
        "        , avg_products_cnt = ('products_cnt', 'mean')\n",
        "        , avg_freight_ratio = ('freight_ratio', 'mean')\n",
        "        , avg_order_weight_kg = ('total_weight_kg', 'mean')\n",
        "        , avg_order_volume_cm3 = ('total_volume_cm3', 'mean')\n",
        "    ) \n",
        ")"
      ]
    },
    {
      "cell_type": "code",
      "execution_count": null,
      "metadata": {},
      "outputs": [],
      "source": [
        "tmp_df_res = (\n",
        "    df_orders.assign(\n",
        "        is_canceled = lambda x: x.order_status=='Canceled'\n",
        "    )\n",
        "    .merge(df_customers_origin, on='customer_unique_id')\n",
        "    .groupby('customer_zip_code_prefix_3_digits', as_index=False)\n",
        "    .agg(\n",
        "        cancel_rate = ('is_canceled', 'mean')\n",
        "    )\n",
        "    .merge(tmp_df_res, on='customer_zip_code_prefix_3_digits', how='right')\n",
        "    .merge(df_geolocations[lambda x:x.in_south_america], left_on = 'customer_zip_code_prefix_3_digits', right_on='geolocation_zip_code_prefix_3_digits')\n",
        ")"
      ]
    },
    {
      "cell_type": "code",
      "execution_count": null,
      "metadata": {},
      "outputs": [],
      "source": [
        "tmp_df_res['repeat_purchase_rate'] = (tmp_df_res['total_orders'] - tmp_df_res['first_orders_cnt']) / tmp_df_res['total_orders']\n",
        "tmp_df_res['installment_orders_rate'] = tmp_df_res['installment_orders_cnt'] / tmp_df_res['total_orders']"
      ]
    },
    {
      "cell_type": "markdown",
      "metadata": {},
      "source": [
        "We will calculate the average MAU by the truncated ZIP code."
      ]
    },
    {
      "cell_type": "code",
      "execution_count": null,
      "metadata": {},
      "outputs": [],
      "source": [
        "temp_mau = (\n",
        "    df_sales.merge(df_customers_origin[['customer_id', 'customer_zip_code_prefix_3_digits']], on='customer_id')\n",
        "    .groupby(['customer_zip_code_prefix_3_digits', pd.Grouper(key='order_purchase_dt', freq='ME')], observed=False)\n",
        "    .agg(mau = ('customer_unique_id', 'nunique'))\n",
        "    .groupby('customer_zip_code_prefix_3_digits', observed=False)\n",
        "    .mean()\n",
        ")\n",
        "tmp_df_res = tmp_df_res.merge(temp_mau, on='customer_zip_code_prefix_3_digits', how='left')"
      ]
    },
    {
      "cell_type": "code",
      "execution_count": null,
      "metadata": {},
      "outputs": [],
      "source": [
        "del temp_mau"
      ]
    },
    {
      "cell_type": "markdown",
      "metadata": {},
      "source": [
        "### Data Visualization"
      ]
    },
    {
      "cell_type": "markdown",
      "metadata": {},
      "source": [
        "We will create labels for displaying on the maps."
      ]
    },
    {
      "cell_type": "code",
      "execution_count": null,
      "metadata": {},
      "outputs": [],
      "source": [
        "labels_for_map = dict(\n",
        "    total_orders = 'Number of Sales'\n",
        "    , total_payment = 'Sales Amount, R$'\n",
        "    , aov = 'Average Order Value, R$'\n",
        "    , mau = 'MAU'\n",
        "    , avg_freight_ratio = 'Average Freight Ratio'\n",
        "    , avg_delivery_time_days = 'Average Delivery Time, days'\n",
        "    , avg_review_score = 'Average Review Score'\n",
        "    , orders_delayed_share = 'Percentage of Delayed Orders'\n",
        "    , avg_products_cnt = 'Average Number of Products in Order'\n",
        "    , installment_orders_rate = 'Installment Payment Rate'\n",
        "    , avg_installments = 'Average Number of Installments in Order'\n",
        "    , avg_order_weight_kg = 'Average Order Weight, kg'\n",
        "    , avg_order_volume_cm3 = 'Average Order Volume, cm3'\n",
        "    , repeat_purchase_rate = 'Repeat Purchase Rate'\n",
        "    , cancel_rate = 'Cancel Rate'\n",
        "    , geolocation_lat = 'Latitude'\n",
        "    , geolocation_lng = 'Longitude'\n",
        "    , customer_zip_code_prefix_3_digits = 'Zip Code Prefix'\n",
        ")"
      ]
    },
    {
      "cell_type": "markdown",
      "metadata": {},
      "source": [
        "We will create a function for visualization."
      ]
    },
    {
      "cell_type": "code",
      "execution_count": null,
      "metadata": {},
      "outputs": [],
      "source": [
        "def plot_map_zip(metric: str):\n",
        "    \"\"\"Create plotly map by 3-digit zip code prefix\"\"\"\n",
        "    title = f\"Distribution of {labels_for_map[metric].split(',')[0]} by 3-Digit Zip Code Prefix\"\n",
        "    colorbar_title = labels_for_map[metric].split(',')[1] if ',' in labels_for_map[metric] else None\n",
        "    hover_data = {'geolocation_lat': False, 'geolocation_lng': False, 'customer_zip_code_prefix_3_digits': True}\n",
        "    is_percentage = metric in [\n",
        "        'avg_freight_ratio', 'orders_delayed_share', \n",
        "        'installment_orders_rate', 'repeat_purchase_rate', \n",
        "        'cancel_rate']\n",
        "    if metric != 'total_orders':\n",
        "        hover_data['total_orders'] = ':.2s'\n",
        "    if not is_percentage:\n",
        "        hover_data[metric] = ':.2s'\n",
        "    else:\n",
        "        hover_data[metric] = ':.1%'\n",
        "    fig = px.scatter_map(\n",
        "        tmp_df_res,\n",
        "        lat='geolocation_lat',\n",
        "        lon='geolocation_lng',\n",
        "        color=metric,\n",
        "        labels=labels_for_map,\n",
        "        zoom=3,\n",
        "        height=650,\n",
        "        hover_data=hover_data,\n",
        "        width=700,\n",
        "        title=title,\n",
        "        color_continuous_scale=\"matter\",\n",
        "        center={\"lat\": -14.235004, \"lon\": -55.92528}\n",
        "    )\n",
        "    if is_percentage:\n",
        "        fig.update_coloraxes(\n",
        "            colorbar_tickformat=\".0%\"\n",
        "        )\n",
        "    fig.update_layout(\n",
        "        margin = dict(l=10, r=10, b=10, t=30)\n",
        "        , title_y=0.99\n",
        "        , coloraxis_colorbar_title_text = colorbar_title\n",
        "    )\n",
        "    pb.to_slide(fig)\n",
        "    return fig"
      ]
    },
    {
      "cell_type": "markdown",
      "metadata": {},
      "source": [
        "**Where are the sales volume higher?**"
      ]
    },
    {
      "cell_type": "code",
      "execution_count": null,
      "metadata": {},
      "outputs": [],
      "source": [
        "plot_map_zip('total_orders')"
      ]
    },
    {
      "cell_type": "markdown",
      "metadata": {},
      "source": [
        "**Where is the sales amount higher?**"
      ]
    },
    {
      "cell_type": "code",
      "execution_count": null,
      "metadata": {},
      "outputs": [],
      "source": [
        "plot_map_zip('total_payment')"
      ]
    },
    {
      "cell_type": "markdown",
      "metadata": {},
      "source": [
        "**Where is the average order value higher?**"
      ]
    },
    {
      "cell_type": "code",
      "execution_count": null,
      "metadata": {},
      "outputs": [],
      "source": [
        "plot_map_zip('aov')"
      ]
    },
    {
      "cell_type": "markdown",
      "metadata": {},
      "source": [
        "**Where is average MAU higher?**"
      ]
    },
    {
      "cell_type": "code",
      "execution_count": null,
      "metadata": {},
      "outputs": [],
      "source": [
        "plot_map_zip('mau')"
      ]
    },
    {
      "cell_type": "markdown",
      "metadata": {},
      "source": [
        "**Where do customers pay more for delivery?**"
      ]
    },
    {
      "cell_type": "code",
      "execution_count": null,
      "metadata": {},
      "outputs": [],
      "source": [
        "plot_map_zip('avg_freight_ratio')"
      ]
    },
    {
      "cell_type": "markdown",
      "metadata": {},
      "source": [
        "**How is delivery time distributed across regions?**"
      ]
    },
    {
      "cell_type": "code",
      "execution_count": null,
      "metadata": {},
      "outputs": [],
      "source": [
        "plot_map_zip('avg_delivery_time_days')"
      ]
    },
    {
      "cell_type": "markdown",
      "metadata": {},
      "source": [
        "**What is the average rating by regions?**"
      ]
    },
    {
      "cell_type": "code",
      "execution_count": null,
      "metadata": {},
      "outputs": [],
      "source": [
        "plot_map_zip('avg_review_score')"
      ]
    },
    {
      "cell_type": "markdown",
      "metadata": {},
      "source": [
        "**How are delayed orders distributed across regions?**"
      ]
    },
    {
      "cell_type": "code",
      "execution_count": null,
      "metadata": {},
      "outputs": [],
      "source": [
        "plot_map_zip('orders_delayed_share')"
      ]
    },
    {
      "cell_type": "markdown",
      "metadata": {},
      "source": [
        "**How is the number of items per order distributed across regions?**"
      ]
    },
    {
      "cell_type": "code",
      "execution_count": null,
      "metadata": {},
      "outputs": [],
      "source": [
        "plot_map_zip('avg_products_cnt')"
      ]
    },
    {
      "cell_type": "markdown",
      "metadata": {},
      "source": [
        "**What is the higher proportion of installment payments in which regions?**"
      ]
    },
    {
      "cell_type": "code",
      "execution_count": null,
      "metadata": {},
      "outputs": [],
      "source": [
        "plot_map_zip('installment_orders_rate')"
      ]
    },
    {
      "cell_type": "markdown",
      "metadata": {},
      "source": [
        "**What regions have more installments per order?**"
      ]
    },
    {
      "cell_type": "code",
      "execution_count": null,
      "metadata": {},
      "outputs": [],
      "source": [
        "plot_map_zip('avg_installments')"
      ]
    },
    {
      "cell_type": "markdown",
      "metadata": {},
      "source": [
        "**What regions have the heaviest orders?**"
      ]
    },
    {
      "cell_type": "code",
      "execution_count": null,
      "metadata": {},
      "outputs": [],
      "source": [
        "plot_map_zip('avg_order_weight_kg')"
      ]
    },
    {
      "cell_type": "markdown",
      "metadata": {},
      "source": [
        "**What regions have the largest volume orders?**"
      ]
    },
    {
      "cell_type": "code",
      "execution_count": null,
      "metadata": {},
      "outputs": [],
      "source": [
        "plot_map_zip('avg_order_volume_cm3')"
      ]
    },
    {
      "cell_type": "markdown",
      "metadata": {},
      "source": [
        "**What regions have a higher repeat purchases rate?**"
      ]
    },
    {
      "cell_type": "code",
      "execution_count": null,
      "metadata": {},
      "outputs": [],
      "source": [
        "plot_map_zip('repeat_purchase_rate')"
      ]
    },
    {
      "cell_type": "markdown",
      "metadata": {},
      "source": [
        "**What regions have a higher proportion of canceled orders?**"
      ]
    },
    {
      "cell_type": "code",
      "execution_count": null,
      "metadata": {},
      "outputs": [],
      "source": [
        "plot_map_zip('cancel_rate')"
      ]
    },
    {
      "cell_type": "markdown",
      "metadata": {},
      "source": [
        "## Geo-analysis by State"
      ]
    },
    {
      "cell_type": "markdown",
      "metadata": {},
      "source": [
        "### Data Preparation"
      ]
    },
    {
      "cell_type": "markdown",
      "metadata": {},
      "source": [
        "Creating dataframe for visualization"
      ]
    },
    {
      "cell_type": "code",
      "execution_count": null,
      "metadata": {},
      "outputs": [],
      "source": [
        "tmp_df_res = (\n",
        "    df_sales.merge(df_customers_origin[['customer_id', 'customer_state_short', 'population', ]], on='customer_id', how='left')\n",
        ")\n",
        "tmp_df_res['is_delayed'] = tmp_df_res['is_delayed'] == 'Delayed'\n",
        "tmp_df_res['order_has_installment'] = tmp_df_res['order_has_installment'] == 'Has Installments'"
      ]
    },
    {
      "cell_type": "markdown",
      "metadata": {},
      "source": [
        "Calculate average MAU by state."
      ]
    },
    {
      "cell_type": "code",
      "execution_count": null,
      "metadata": {},
      "outputs": [],
      "source": [
        "temp_mau = (\n",
        "    tmp_df_res.groupby(['customer_state_short', pd.Grouper(key='order_purchase_dt', freq='ME')], observed=False)\n",
        "    .agg(mau = ('customer_unique_id', 'nunique'))\n",
        "    .groupby('customer_state_short', observed=False)\n",
        "    .mean()\n",
        ")"
      ]
    },
    {
      "cell_type": "code",
      "execution_count": null,
      "metadata": {},
      "outputs": [],
      "source": [
        "tmp_df_res = (\n",
        "    tmp_df_res.groupby('customer_state_short', observed=False, as_index=False)\n",
        "    .agg(\n",
        "        total_orders=('order_id', 'nunique')\n",
        "        , total_payment = ('total_payment', 'sum')\n",
        "        , aov = ('total_payment', 'mean')\n",
        "        , first_orders_cnt = ('sale_is_customer_first_purchase', 'sum')\n",
        "        , installment_orders_cnt = ('order_has_installment', 'sum')\n",
        "        , total_reviews = ('reviews_cnt', 'sum')\n",
        "        , avg_review_score = ('order_avg_reviews_score', 'mean')\n",
        "        , avg_delivery_time_days = ('delivery_time_days', 'mean')\n",
        "        , avg_delivery_delay_days = ('delivery_delay_days', 'mean')\n",
        "        , avg_installments = ('total_installments_cnt', 'mean')\n",
        "        , avg_products_cnt = ('products_cnt', 'mean')\n",
        "        , population = ('population', 'first')\n",
        "        , avg_order_weight_kg = ('total_weight_kg', 'mean')\n",
        "        , avg_order_volume_cm3 = ('total_volume_cm3', 'mean')\n",
        "    )\n",
        "    .merge(temp_mau, on='customer_state_short', how='left')\n",
        ")"
      ]
    },
    {
      "cell_type": "code",
      "execution_count": null,
      "metadata": {},
      "outputs": [],
      "source": [
        "tmp_df_res = (\n",
        "    df_orders.assign(\n",
        "        is_canceled = lambda x: x.order_status=='Canceled'\n",
        "    )\n",
        "    .merge(df_customers_origin[['customer_id', 'customer_state_short']], on='customer_id')\n",
        "    .groupby('customer_state_short', as_index=False)\n",
        "    .agg(\n",
        "        cancel_rate = ('is_canceled', 'mean')\n",
        "    )\n",
        "    .merge(tmp_df_res, on='customer_state_short', how='right')\n",
        ")"
      ]
    },
    {
      "cell_type": "code",
      "execution_count": null,
      "metadata": {},
      "outputs": [],
      "source": [
        "tmp_df_res['orders_per_thousand_person'] = tmp_df_res['total_orders'] * 1000 / tmp_df_res['population']\n",
        "tmp_df_res['total_payment_per_thousand_person'] = tmp_df_res['total_payment'] * 1000 / tmp_df_res['population']\n",
        "tmp_df_res['repeat_purchase_rate'] = (tmp_df_res['total_orders'] - tmp_df_res['first_orders_cnt']) / tmp_df_res['total_orders']\n",
        "tmp_df_res['installment_orders_rate'] = tmp_df_res['installment_orders_cnt'] / tmp_df_res['total_orders']"
      ]
    },
    {
      "cell_type": "code",
      "execution_count": null,
      "metadata": {},
      "outputs": [],
      "source": [
        "del temp_mau"
      ]
    },
    {
      "cell_type": "markdown",
      "metadata": {},
      "source": [
        "Let's calculate the median retention of the first lifetime by state through cohorts. We will define the period as 30 days.\n"
      ]
    },
    {
      "cell_type": "code",
      "execution_count": null,
      "metadata": {},
      "outputs": [],
      "source": [
        "retention_1st_month_state = (\n",
        "    df_sales.merge(df_customers_origin[['customer_id', 'customer_state_short']], on='customer_id', how='left')\n",
        ")"
      ]
    },
    {
      "cell_type": "code",
      "execution_count": null,
      "metadata": {},
      "outputs": [],
      "source": [
        "retention_1st_month_state['cohort'] = retention_1st_month_state['customer_first_purchase_dt'].dt.to_period('M')\n",
        "retention_1st_month_state['lifetime'] = (retention_1st_month_state['order_purchase_dt'] - retention_1st_month_state['customer_first_purchase_dt']).dt.days // 30"
      ]
    },
    {
      "cell_type": "code",
      "execution_count": null,
      "metadata": {},
      "outputs": [],
      "source": [
        "retention_1st_month_state = (\n",
        "    retention_1st_month_state.groupby(['customer_state_short', 'cohort', 'lifetime'])['customer_unique_id']\n",
        "    .nunique()\n",
        "    .unstack()\n",
        "    .fillna(0)\n",
        ")"
      ]
    },
    {
      "cell_type": "code",
      "execution_count": null,
      "metadata": {},
      "outputs": [],
      "source": [
        "retention_1st_month_state = retention_1st_month_state.div(retention_1st_month_state[0], axis=0)[1].reset_index()"
      ]
    },
    {
      "cell_type": "code",
      "execution_count": null,
      "metadata": {},
      "outputs": [],
      "source": [
        "retention_1st_month_state = (\n",
        "    retention_1st_month_state.groupby('customer_state_short', as_index=False, observed=False)\n",
        "    .median()\n",
        ")"
      ]
    },
    {
      "cell_type": "code",
      "execution_count": null,
      "metadata": {},
      "outputs": [],
      "source": [
        "retention_1st_month_state['retention_1st_month_state'] = retention_1st_month_state[1]"
      ]
    },
    {
      "cell_type": "code",
      "execution_count": null,
      "metadata": {},
      "outputs": [],
      "source": [
        "retention_1st_month_state = retention_1st_month_state[['customer_state_short', 'retention_1st_month_state']]"
      ]
    },
    {
      "cell_type": "code",
      "execution_count": null,
      "metadata": {},
      "outputs": [],
      "source": [
        "tmp_df_res = tmp_df_res.merge(retention_1st_month_state, on='customer_state_short', how='left')"
      ]
    },
    {
      "cell_type": "markdown",
      "metadata": {},
      "source": [
        "### Data Visualization"
      ]
    },
    {
      "cell_type": "markdown",
      "metadata": {},
      "source": [
        "Add some metrics in labels_for_map"
      ]
    },
    {
      "cell_type": "code",
      "execution_count": null,
      "metadata": {},
      "outputs": [],
      "source": [
        "labels_for_map.update(dict(\n",
        "    total_reviews = 'Number of Reviews'\n",
        "    , avg_delivery_delay_days = 'Average Delivery Delay, days'\n",
        "    , orders_per_thousand_person = 'Number of Orders per Thousand Residents'\n",
        "    , total_payment_per_thousand_person = 'Sales Amount per Thousand Residents, R$'\n",
        "    , retention_1st_month_state = 'Retention 1st Month by State'\n",
        "    , customer_state_short = 'Customer State'\n",
        "))\n",
        "labels_for_map.update({'mau': 'Average MAU'})"
      ]
    },
    {
      "cell_type": "markdown",
      "metadata": {},
      "source": [
        "Let’s calculate the centroids of the states."
      ]
    },
    {
      "cell_type": "code",
      "execution_count": null,
      "metadata": {},
      "outputs": [],
      "source": [
        "brazil_states_geojson = \"https://raw.githubusercontent.com/codeforamerica/click_that_hood/master/public/data/brazil-states.geojson\"\n",
        "with urlopen(brazil_states_geojson) as response:\n",
        "    geojson = json.load(response)\n",
        "\n",
        "gdf = gpd.GeoDataFrame.from_features(geojson['features'])"
      ]
    },
    {
      "cell_type": "code",
      "execution_count": null,
      "metadata": {},
      "outputs": [],
      "source": [
        "gdf['centroid'] = gdf['geometry'].centroid\n",
        "gdf['centroid_lon'] = gdf['centroid'].x\n",
        "gdf['centroid_lat'] = gdf['centroid'].y\n",
        "\n",
        "state_centroids = gdf[['sigla', 'centroid_lon', 'centroid_lat']]\n",
        "state_centroids.head(1)"
      ]
    },
    {
      "cell_type": "code",
      "execution_count": null,
      "metadata": {},
      "outputs": [],
      "source": [
        "def plot_map_state(metric: str):\n",
        "    \"\"\"Create plotly map by states\"\"\"\n",
        "    title = f\"Distribution of {labels_for_map[metric].split(',')[0]} by State\"\n",
        "    colorbar_title = labels_for_map[metric].split(',')[1] if ',' in labels_for_map[metric] else None\n",
        "    df_for_color_text = tmp_df_res[['customer_state_short', metric]]\n",
        "    color_level = (tmp_df_res[metric].max() - tmp_df_res[metric].min()) * 0.7 + tmp_df_res[metric].min()\n",
        "    df_for_color_text['color'] = df_for_color_text[metric].apply(lambda x: 'rgba(255, 255, 255, 0.8)'  if x < color_level else 'rgba(50, 50, 50, 0.8)')\n",
        "\n",
        "    # print(tmp_df_res)\n",
        "    hover_data = dict()\n",
        "    is_percentage = metric in [\n",
        "        'avg_freight_ratio', 'orders_delayed_share', \n",
        "        'installment_orders_rate', 'repeat_purchase_rate', \n",
        "        'cancel_rate', 'retention_1st_month_state']\n",
        "    if metric != 'total_orders':\n",
        "        hover_data['total_orders'] = ':.2s'\n",
        "    if not is_percentage:\n",
        "        hover_data[metric] = ':.2s'\n",
        "    else:\n",
        "        if metric == 'retention_1st_month_state':\n",
        "            hover_data[metric] = ':.2%'\n",
        "        else:\n",
        "            hover_data[metric] = ':.1%'\n",
        "\n",
        "    fig = px.choropleth(\n",
        "        tmp_df_res,\n",
        "        geojson=brazil_states_geojson,\n",
        "        locations='customer_state_short',  \n",
        "        featureidkey=\"properties.sigla\", \n",
        "        color=metric,\n",
        "        color_continuous_scale=\"Viridis\",\n",
        "        title=title,\n",
        "        labels=labels_for_map,\n",
        "        hover_data=hover_data\n",
        "    )\n",
        "\n",
        "    fig.add_trace(\n",
        "        go.Scattergeo(\n",
        "            lon=state_centroids['centroid_lon'],\n",
        "            lat=state_centroids['centroid_lat'],\n",
        "            text=state_centroids['sigla'],\n",
        "            hoverinfo='none',\n",
        "            mode='text',\n",
        "            textfont=dict(\n",
        "                color='gray',\n",
        "                size=10\n",
        "            ),\n",
        "            showlegend=False\n",
        "        )\n",
        "    )\n",
        "\n",
        "    color_dict = dict(zip(df_for_color_text['customer_state_short'], df_for_color_text['color']))\n",
        "    for trace in fig.data:\n",
        "        if trace.type == 'scattergeo':\n",
        "            states_in_trace = trace.text\n",
        "            ordered_colors = [color_dict[state] for state in states_in_trace]\n",
        "            trace.textfont.color = ordered_colors\n",
        "\n",
        "    if is_percentage:\n",
        "        fig.update_coloraxes(\n",
        "            colorbar_tickformat=\".0%\" if metric != 'retention_1st_month_state' else \".2%\"\n",
        "        )\n",
        "        \n",
        "    fig.update_geos(\n",
        "        visible=False,\n",
        "        lataxis_range=[-40.7, 7.3],  \n",
        "        lonaxis_range=[-85, -34.5],  \n",
        "        projection_scale=1.2,        \n",
        "        center=dict(lat=-15, lon=-55)  \n",
        "    )\n",
        "    \n",
        "    fig.update_layout(\n",
        "        margin={\"r\":0,\"t\":50,\"l\":0,\"b\":0}\n",
        "        , width=550\n",
        "        , height=500\n",
        "        , coloraxis_colorbar_title_text = colorbar_title\n",
        "    )    \n",
        "    pb.to_slide(fig)\n",
        "    return fig"
      ]
    },
    {
      "cell_type": "markdown",
      "metadata": {},
      "source": [
        "**In which states is the sales volume higher?**"
      ]
    },
    {
      "cell_type": "code",
      "execution_count": null,
      "metadata": {},
      "outputs": [],
      "source": [
        "plot_map_state('total_orders')"
      ]
    },
    {
      "cell_type": "markdown",
      "metadata": {},
      "source": [
        "**What is the number of orders per resident?**"
      ]
    },
    {
      "cell_type": "code",
      "execution_count": null,
      "metadata": {},
      "outputs": [],
      "source": [
        "plot_map_state('orders_per_thousand_person')"
      ]
    },
    {
      "cell_type": "markdown",
      "metadata": {},
      "source": [
        "**In which states is the sales amount higher?**"
      ]
    },
    {
      "cell_type": "code",
      "execution_count": null,
      "metadata": {},
      "outputs": [],
      "source": [
        "plot_map_state('total_payment')"
      ]
    },
    {
      "cell_type": "markdown",
      "metadata": {},
      "source": [
        "**What is the sales amount per resident?**"
      ]
    },
    {
      "cell_type": "code",
      "execution_count": null,
      "metadata": {},
      "outputs": [],
      "source": [
        "plot_map_state('total_payment_per_thousand_person')"
      ]
    },
    {
      "cell_type": "markdown",
      "metadata": {},
      "source": [
        "**In which states is the average MAU higher?**"
      ]
    },
    {
      "cell_type": "code",
      "execution_count": null,
      "metadata": {},
      "outputs": [],
      "source": [
        "plot_map_state('mau')"
      ]
    },
    {
      "cell_type": "markdown",
      "metadata": {},
      "source": [
        "**What is the average order value higher in which states?**"
      ]
    },
    {
      "cell_type": "code",
      "execution_count": null,
      "metadata": {},
      "outputs": [],
      "source": [
        "plot_map_state('aov')"
      ]
    },
    {
      "cell_type": "markdown",
      "metadata": {},
      "source": [
        "**What is the proportion of repeat purchases by states?**"
      ]
    },
    {
      "cell_type": "code",
      "execution_count": null,
      "metadata": {},
      "outputs": [],
      "source": [
        "plot_map_state('repeat_purchase_rate')"
      ]
    },
    {
      "cell_type": "markdown",
      "metadata": {},
      "source": [
        "**In which states is the number of reviews higher?**"
      ]
    },
    {
      "cell_type": "code",
      "execution_count": null,
      "metadata": {},
      "outputs": [],
      "source": [
        "plot_map_state('total_reviews')"
      ]
    },
    {
      "cell_type": "markdown",
      "metadata": {},
      "source": [
        "**What is the review score higher in which states?**"
      ]
    },
    {
      "cell_type": "code",
      "execution_count": null,
      "metadata": {},
      "outputs": [],
      "source": [
        "plot_map_state('avg_review_score')"
      ]
    },
    {
      "cell_type": "markdown",
      "metadata": {},
      "source": [
        "**What is the average delivery time higher in which states?**"
      ]
    },
    {
      "cell_type": "code",
      "execution_count": null,
      "metadata": {},
      "outputs": [],
      "source": [
        "plot_map_state('avg_delivery_time_days')"
      ]
    },
    {
      "cell_type": "markdown",
      "metadata": {},
      "source": [
        "**What is the average delivery delay higher in which states?**"
      ]
    },
    {
      "cell_type": "code",
      "execution_count": null,
      "metadata": {},
      "outputs": [],
      "source": [
        "plot_map_state('avg_delivery_delay_days')"
      ]
    },
    {
      "cell_type": "markdown",
      "metadata": {},
      "source": [
        "**What is the proportion of canceled orders higher in which states?**"
      ]
    },
    {
      "cell_type": "code",
      "execution_count": null,
      "metadata": {},
      "outputs": [],
      "source": [
        "plot_map_state('cancel_rate')"
      ]
    },
    {
      "cell_type": "markdown",
      "metadata": {},
      "source": [
        "**What is the proportion of orders with installment payments higher in which states?**"
      ]
    },
    {
      "cell_type": "code",
      "execution_count": null,
      "metadata": {},
      "outputs": [],
      "source": [
        "plot_map_state('installment_orders_rate')"
      ]
    },
    {
      "cell_type": "markdown",
      "metadata": {},
      "source": [
        "**What is the number of installments higher in which states?**"
      ]
    },
    {
      "cell_type": "code",
      "execution_count": null,
      "metadata": {},
      "outputs": [],
      "source": [
        "plot_map_state('avg_installments')"
      ]
    },
    {
      "cell_type": "markdown",
      "metadata": {},
      "source": [
        "**What is the number of items per order higher in which states?**"
      ]
    },
    {
      "cell_type": "code",
      "execution_count": null,
      "metadata": {},
      "outputs": [],
      "source": [
        "plot_map_state('avg_products_cnt')"
      ]
    },
    {
      "cell_type": "markdown",
      "metadata": {},
      "source": [
        "**In which states are the heaviest orders?**"
      ]
    },
    {
      "cell_type": "code",
      "execution_count": null,
      "metadata": {},
      "outputs": [],
      "source": [
        "plot_map_state('avg_order_weight_kg')"
      ]
    },
    {
      "cell_type": "markdown",
      "metadata": {},
      "source": [
        "**In which states are the largest volume orders?**"
      ]
    },
    {
      "cell_type": "code",
      "execution_count": null,
      "metadata": {},
      "outputs": [],
      "source": [
        "plot_map_state('avg_order_volume_cm3')"
      ]
    },
    {
      "cell_type": "markdown",
      "metadata": {},
      "source": [
        "**What is the median retention of the first month higher in which states?**"
      ]
    },
    {
      "cell_type": "code",
      "execution_count": null,
      "metadata": {},
      "outputs": [],
      "source": [
        "plot_map_state('retention_1st_month_state')"
      ]
    },
    {
      "cell_type": "code",
      "execution_count": null,
      "metadata": {
        "tags": [
          "remove-cell"
        ]
      },
      "source": [
        "%run ../../_post_run.ipynb"
      ],
      "outputs": []
    }
  ]
}