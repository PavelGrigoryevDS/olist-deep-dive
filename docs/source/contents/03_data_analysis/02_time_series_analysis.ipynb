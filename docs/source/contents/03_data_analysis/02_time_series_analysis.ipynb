{
  "cells": [
    {
      "cell_type": "code",
      "execution_count": null,
      "metadata": {
        "tags": [
          "remove-cell"
        ]
      },
      "outputs": [],
      "source": [
        "%run -i ../../_pre_run.ipynb"
      ]
    },
    {
      "cell_type": "markdown",
      "metadata": {},
      "source": [
        "#  Time Series Analysis"
      ]
    },
    {
      "cell_type": "markdown",
      "metadata": {},
      "source": [
        "## Order Volume vs. Successful Purchases"
      ]
    },
    {
      "cell_type": "markdown",
      "metadata": {},
      "source": [
        "**Order Status Distribution**"
      ]
    },
    {
      "cell_type": "markdown",
      "metadata": {},
      "source": [
        "First, we examine order counts by status. Note that for purchase analysis, we'll focus solely on delivered orders since other statuses don't represent completed purchases."
      ]
    },
    {
      "cell_type": "code",
      "execution_count": null,
      "metadata": {},
      "outputs": [],
      "source": [
        "labels = pd.Series(dict(\n",
        "    order_purchase_dt = 'Date'\n",
        "    , order_id = 'Number of Orders'\n",
        "    , order_status = 'Order Status'\n",
        "))\n",
        "df_orders.viz.line(\n",
        "    x=labels.index[0]\n",
        "    , y=labels.index[1]\n",
        "    , color='order_status'\n",
        "    , agg_func='nunique'\n",
        "    , freq='ME'\n",
        "    , labels=labels\n",
        "    , width=900\n",
        "    , title='Number of Orders by Order Status and Month'\n",
        ")"
      ]
    },
    {
      "cell_type": "markdown",
      "metadata": {},
      "source": [
        "**Key Observations:**  \n",
        "\n",
        "- Delivered orders consistently dominated all other statuses throughout the period."
      ]
    },
    {
      "cell_type": "markdown",
      "metadata": {},
      "source": [
        "Let's look without delivered."
      ]
    },
    {
      "cell_type": "code",
      "execution_count": null,
      "metadata": {},
      "outputs": [],
      "source": [
        "labels = pd.Series(dict(\n",
        "    order_purchase_dt = 'Date'\n",
        "    , order_id = 'Number of Orders'\n",
        "    , order_status = 'Order Status'\n",
        "))\n",
        "df_orders[lambda x: x.order_status != 'Delivered'].viz.line(\n",
        "    x=labels.index[0]\n",
        "    , y=labels.index[1]\n",
        "    , color='order_status'\n",
        "    , agg_func='nunique'\n",
        "    , freq='ME'\n",
        "    , labels=labels\n",
        "    , width=900\n",
        "    , markers=True\n",
        "    , title='Number of Orders by Order Status and Month (Without Delivered)'\n",
        ")"
      ]
    },
    {
      "cell_type": "markdown",
      "metadata": {},
      "source": [
        "**Key Observations:**  \n",
        "\n",
        "- March-April 2018 saw a sharp spike in orders stuck in \"shipped\" status\n",
        "- February and August 2018 peaks in \"canceled\" status\n",
        "- November 2017 \"unavailable\" peak coincided with Black Friday promotions\n",
        "- As identified during anomaly detection, most of these orders ultimately weren't delivered for various reasons"
      ]
    },
    {
      "cell_type": "markdown",
      "metadata": {},
      "source": [
        "Let's compare the number of orders and sales."
      ]
    },
    {
      "cell_type": "code",
      "execution_count": null,
      "metadata": {},
      "outputs": [],
      "source": [
        "tmp_df_orders_resampled = (\n",
        "    df_orders.resample('ME', on='order_purchase_dt')['order_id']\n",
        "    .nunique()\n",
        "    .reset_index(name='Orders')\n",
        ")\n",
        "tmp_tmp_df_resampled = (\n",
        "    df_sales.resample('ME', on='order_purchase_dt')['order_id']\n",
        "    .nunique()\n",
        "    .reset_index(name='Sales')\n",
        "    .merge(tmp_df_orders_resampled, on='order_purchase_dt', how='inner')\n",
        ")\n",
        "tmp_tmp_df_resampled['sale_share'] = tmp_tmp_df_resampled['Sales'] / tmp_tmp_df_resampled['Orders']\n",
        "tmp_tmp_df_resampled_melted = tmp_tmp_df_resampled.melt(id_vars='order_purchase_dt', value_vars=['Orders', 'Sales'], var_name='order_or_sale', value_name='count')"
      ]
    },
    {
      "cell_type": "markdown",
      "metadata": {},
      "source": [
        "**By month**"
      ]
    },
    {
      "cell_type": "code",
      "execution_count": null,
      "metadata": {},
      "outputs": [],
      "source": [
        "labels = pd.Series(dict(\n",
        "    order_purchase_dt = 'Date'\n",
        "    , count = 'Number of Orders'\n",
        "    , order_or_sale = 'Orders or Sales'\n",
        "))\n",
        "tmp_tmp_df_resampled_melted.viz.line(\n",
        "    x=labels.index[0]\n",
        "    , y=labels.index[1]\n",
        "    , color='order_or_sale'\n",
        "    , labels=labels\n",
        "    , category_orders=dict(order_or_sale=['Orders', 'Sales'])\n",
        "    , title='Number of Orders and Sales by Month'\n",
        ")"
      ]
    },
    {
      "cell_type": "markdown",
      "metadata": {},
      "source": [
        "**Key Observations:**  \n",
        "\n",
        "- Stable purchase-to-order ratio maintained month-over-month"
      ]
    },
    {
      "cell_type": "markdown",
      "metadata": {},
      "source": [
        "Let's look at conversion to success sale"
      ]
    },
    {
      "cell_type": "code",
      "execution_count": null,
      "metadata": {},
      "outputs": [],
      "source": [
        "labels = pd.Series(dict(\n",
        "    order_purchase_dt = 'Date'\n",
        "    , sale_share = 'Conversion to Sale'\n",
        "))\n",
        "fig = tmp_tmp_df_resampled.viz.line(\n",
        "    x=labels.index[0]\n",
        "    , y=labels.index[1]\n",
        "    , labels=labels\n",
        "    , title='Conversion to Success Sale by Month'\n",
        ")\n",
        "pb.to_slide(fig)\n",
        "fig.show()"
      ]
    },
    {
      "cell_type": "markdown",
      "metadata": {},
      "source": [
        "**Key Observations:**  \n",
        "\n",
        "- Consistent month-over-month improvement in successful purchase conversion"
      ]
    },
    {
      "cell_type": "markdown",
      "metadata": {},
      "source": [
        "## Share of Canceled Orders"
      ]
    },
    {
      "cell_type": "code",
      "execution_count": null,
      "metadata": {},
      "outputs": [],
      "source": [
        "pb.configure(\n",
        "    time_column = 'order_purchase_dt'\n",
        "    , time_column_label = 'Date'\n",
        "    , metric = 'target_share'\n",
        "    , metric_label = 'Share of Canceled Orders'\n",
        "    , freq='ME'\n",
        ")"
      ]
    },
    {
      "cell_type": "markdown",
      "metadata": {},
      "source": [
        "**By month**"
      ]
    },
    {
      "cell_type": "code",
      "execution_count": null,
      "metadata": {},
      "outputs": [],
      "source": [
        "tmp_tmp_df_res = df_orders['order_status'].preproc.calc_target_category_share(\n",
        "    target_category='Canceled'\n",
        "    , group_columns=['order_purchase_dt']\n",
        "    , resample_freq = 'ME'\n",
        ")"
      ]
    },
    {
      "cell_type": "code",
      "execution_count": null,
      "metadata": {},
      "outputs": [],
      "source": [
        "pb.line(\n",
        "    data_frame=tmp_tmp_df_res\n",
        "    , to_slide=True\n",
        ")"
      ]
    },
    {
      "cell_type": "markdown",
      "metadata": {},
      "source": [
        "**Key Observations:**  \n",
        "\n",
        "- Fluctuated between 0.2% and 1.2% across months"
      ]
    },
    {
      "cell_type": "markdown",
      "metadata": {},
      "source": [
        "**By Review Score**"
      ]
    },
    {
      "cell_type": "code",
      "execution_count": null,
      "metadata": {},
      "outputs": [],
      "source": [
        "tmp_tmp_df_res = df_orders['order_status'].preproc.calc_target_category_share(\n",
        "     target_category='Canceled'\n",
        "    , group_columns=['order_purchase_dt', 'order_avg_reviews_score']\n",
        "    , resample_freq = 'ME'\n",
        ")"
      ]
    },
    {
      "cell_type": "code",
      "execution_count": null,
      "metadata": {},
      "outputs": [],
      "source": [
        "pb.line(\n",
        "    data_frame=tmp_tmp_df_res\n",
        "    , color='order_avg_reviews_score'\n",
        "    , to_slide=True\n",
        ")"
      ]
    },
    {
      "cell_type": "markdown",
      "metadata": {},
      "source": [
        "**Key Observations:**  \n",
        "\n",
        "- Orders with score 1 showed significantly higher cancelation rates\n",
        "- Scores 4-5 maintained 0% cancelation rates for most months"
      ]
    },
    {
      "cell_type": "code",
      "execution_count": null,
      "metadata": {},
      "outputs": [],
      "source": [
        "del tmp_tmp_df_res"
      ]
    },
    {
      "cell_type": "markdown",
      "metadata": {},
      "source": [
        "## Number of Sales"
      ]
    },
    {
      "cell_type": "code",
      "execution_count": null,
      "metadata": {},
      "outputs": [],
      "source": [
        "pb.configure(\n",
        "    df = df_sales\n",
        "    , time_column = 'order_purchase_dt'\n",
        "    , time_column_label = 'Date'\n",
        "    , metric = 'order_id'\n",
        "    , metric_label = 'Number of Sales'\n",
        "    , agg_func = 'nunique'\n",
        "    , freq = 'ME'\n",
        ")"
      ]
    },
    {
      "cell_type": "markdown",
      "metadata": {},
      "source": [
        "**By Day and Month**"
      ]
    },
    {
      "cell_type": "code",
      "execution_count": null,
      "metadata": {},
      "outputs": [],
      "source": [
        "for freq in ['D', 'ME']:\n",
        "    pb.line_resample(\n",
        "        freq=freq\n",
        "        , to_slide=True if freq == 'ME' else False\n",
        "    ).show()"
      ]
    },
    {
      "cell_type": "markdown",
      "metadata": {},
      "source": [
        "**Key Observations:**  \n",
        "\n",
        "- There was an anomalous peak in sales volume on November 24, 2017 - Black Friday  \n",
        "- The number of sales steadily increased until November 2017, reaching a peak of approximately 7.3k orders per month. After that, sales stabilized and fluctuated in the range of 6-7k orders per month.\n"
      ]
    },
    {
      "cell_type": "markdown",
      "metadata": {},
      "source": [
        "**Monthly Growth**"
      ]
    },
    {
      "cell_type": "code",
      "execution_count": null,
      "metadata": {},
      "outputs": [],
      "source": [
        "pb.period_change(\n",
        "    period='mom'\n",
        "    , to_slide=True\n",
        ")"
      ]
    },
    {
      "cell_type": "markdown",
      "metadata": {},
      "source": [
        "**Key Observations:**  \n",
        "\n",
        "- The most significant decline in sales (more than 5% month-over-month) was observed in April, June, and December 2017, as well as in February and June 2018.\n",
        "- Conversely, the most pronounced spikes in growth (exceeding 50%) were recorded in February, March, and May 2017, and in November 2018 (Black Friday). \n",
        "- This indicates strong demand volatility in specific months, possibly linked to seasonality or marketing activities."
      ]
    },
    {
      "cell_type": "markdown",
      "metadata": {},
      "source": [
        "**By Time of Day**"
      ]
    },
    {
      "cell_type": "code",
      "execution_count": null,
      "metadata": {},
      "outputs": [],
      "source": [
        "pb.line_resample(\n",
        "    color='purchase_time_of_day'\n",
        "    , to_slide=True\n",
        ")"
      ]
    },
    {
      "cell_type": "markdown",
      "metadata": {},
      "source": [
        "**Key Observations:**  \n",
        "\n",
        "- Nighttime sales are on average lower than other times of day  \n",
        "- The highest sales volume occurs in the evening  "
      ]
    },
    {
      "cell_type": "markdown",
      "metadata": {},
      "source": [
        "**By Day of Week**"
      ]
    },
    {
      "cell_type": "markdown",
      "metadata": {},
      "source": [
        "Analyzing trends by month would be incorrect, as one month might have 4 Mondays while another has 5.\n",
        "\n",
        "Therefore, we'll examine weekly patterns."
      ]
    },
    {
      "cell_type": "code",
      "execution_count": null,
      "metadata": {},
      "outputs": [],
      "source": [
        "pb.area_resample(color='purchase_weekday', freq='W', title='Number of Sales by Day of Week and Week')"
      ]
    },
    {
      "cell_type": "code",
      "execution_count": null,
      "metadata": {},
      "outputs": [],
      "source": [
        "pb.heatmap(x=pd.Grouper(key=pb.time_column, freq='W')\n",
        "        , y='purchase_weekday'\n",
        "        , text_auto=False\n",
        "        , title='Number of Sales by Day of Week and Week'\n",
        ")"
      ]
    },
    {
      "cell_type": "markdown",
      "metadata": {},
      "source": [
        "**Key Observations:**  \n",
        "\n",
        "- There's no significant difference in sales by day of week, though weekends show slightly lower volumes  \n",
        "- The peak value occurred on Black Friday  "
      ]
    },
    {
      "cell_type": "markdown",
      "metadata": {},
      "source": [
        "**By Weekday vs Weekend**"
      ]
    },
    {
      "cell_type": "code",
      "execution_count": null,
      "metadata": {},
      "outputs": [],
      "source": [
        "pb.line_resample(color='purchase_day_type')"
      ]
    },
    {
      "cell_type": "markdown",
      "metadata": {},
      "source": [
        "**Key Observations:**  \n",
        "\n",
        "- Weekday sales grew faster than weekend sales  "
      ]
    },
    {
      "cell_type": "markdown",
      "metadata": {},
      "source": [
        "**By Review Score**"
      ]
    },
    {
      "cell_type": "code",
      "execution_count": null,
      "metadata": {},
      "outputs": [],
      "source": [
        "pb.line_resample(\n",
        "    color='order_avg_reviews_score'\n",
        "    , to_slide=True\n",
        ")"
      ]
    },
    {
      "cell_type": "markdown",
      "metadata": {},
      "source": [
        "**Key Observations:**  \n",
        "\n",
        "- Orders with 5-star reviews significantly outnumber others each month  \n",
        "- Orders with 2-star reviews are consistently the least common  \n",
        "- 5-star orders continued growing in 2018 despite overall sales plateauing, due to declining 1-star orders  "
      ]
    },
    {
      "cell_type": "markdown",
      "metadata": {},
      "source": [
        "**By Delivery Delay Status**"
      ]
    },
    {
      "cell_type": "code",
      "execution_count": null,
      "metadata": {},
      "outputs": [],
      "source": [
        "pb.line_resample(\n",
        "    color='is_delayed'\n",
        "    , to_slide=True\n",
        ")"
      ]
    },
    {
      "cell_type": "markdown",
      "metadata": {},
      "source": [
        "**Key Observations:**  \n",
        "\n",
        "- Delayed orders aren't increasing proportionally with total orders - a positive trend  \n",
        "- Peak months for delays: November 2017 (Black Friday) and March 2018  "
      ]
    },
    {
      "cell_type": "markdown",
      "metadata": {},
      "source": [
        "**By Payment Category**"
      ]
    },
    {
      "cell_type": "code",
      "execution_count": null,
      "metadata": {},
      "outputs": [],
      "source": [
        "pb.line_resample(color='order_total_payment_cat')"
      ]
    },
    {
      "cell_type": "markdown",
      "metadata": {},
      "source": [
        "**Key Observations:**  \n",
        "\n",
        "- The overall sales trend remains consistent across cheap, medium, and expensive orders  "
      ]
    },
    {
      "cell_type": "markdown",
      "metadata": {},
      "source": [
        "**By Order Weight Category**"
      ]
    },
    {
      "cell_type": "code",
      "execution_count": null,
      "metadata": {},
      "outputs": [],
      "source": [
        "pb.line_resample(color='order_total_weight_cat')"
      ]
    },
    {
      "cell_type": "markdown",
      "metadata": {},
      "source": [
        "**Key Observations:**  \n",
        "\n",
        "- The overall sales trend remains consistent across light, medium, and heavy orders  "
      ]
    },
    {
      "cell_type": "markdown",
      "metadata": {},
      "source": [
        "**By Delivery Time Category**"
      ]
    },
    {
      "cell_type": "code",
      "execution_count": null,
      "metadata": {},
      "outputs": [],
      "source": [
        "pb.line_resample(\n",
        "    color='delivery_time_days_cat'\n",
        "    , to_slide=True\n",
        ")"
      ]
    },
    {
      "cell_type": "markdown",
      "metadata": {},
      "source": [
        "**Key Observations:**  \n",
        "\n",
        "- November 2017 saw a sharp spike in long-delivery orders (likely Black Friday effect)  \n",
        "- High volumes of long deliveries persisted until March 2018  \n",
        "- By August 2018, long deliveries became less common than medium and fast ones  "
      ]
    },
    {
      "cell_type": "markdown",
      "metadata": {},
      "source": [
        "**By Presence of Installment Payments**"
      ]
    },
    {
      "cell_type": "code",
      "execution_count": null,
      "metadata": {},
      "outputs": [],
      "source": [
        "pb.line_resample(color='order_has_installment')"
      ]
    },
    {
      "cell_type": "markdown",
      "metadata": {},
      "source": [
        "**Key Observations:**  \n",
        "\n",
        "- Before 2018, non-installment orders lagged behind installment ones, but volumes equalized in 2018  "
      ]
    },
    {
      "cell_type": "markdown",
      "metadata": {},
      "source": [
        "**By Top Customer States**"
      ]
    },
    {
      "cell_type": "code",
      "execution_count": null,
      "metadata": {},
      "outputs": [],
      "source": [
        "pb.line_resample(\n",
        "    color='customer_state'\n",
        "    , to_slide=True\n",
        ")"
      ]
    },
    {
      "cell_type": "markdown",
      "metadata": {},
      "source": [
        "**Key Observations:**  \n",
        "\n",
        "- São Paulo state consistently led in sales volume throughout the period  \n",
        "- Unlike other states, São Paulo maintained stable monthly sales in 2018  \n",
        "- Rio de Janeiro and Minas Gerais ranked second and third respectively  "
      ]
    },
    {
      "cell_type": "markdown",
      "metadata": {},
      "source": [
        "**By Top Customer Cities**"
      ]
    },
    {
      "cell_type": "code",
      "execution_count": null,
      "metadata": {},
      "outputs": [],
      "source": [
        "pb.line_resample(\n",
        "    color='customer_city'\n",
        "    , to_slide=True\n",
        ")"
      ]
    },
    {
      "cell_type": "markdown",
      "metadata": {},
      "source": [
        "**Key Observations:**  \n",
        "\n",
        "- São Paulo city consistently had the highest sales volume  \n",
        "- Rio de Janeiro ranked second  \n",
        "- Unlike other cities, São Paulo showed monthly sales growth in 2018  "
      ]
    },
    {
      "cell_type": "markdown",
      "metadata": {},
      "source": [
        "## Sales Amount"
      ]
    },
    {
      "cell_type": "code",
      "execution_count": null,
      "metadata": {},
      "outputs": [],
      "source": [
        "pb.configure(\n",
        "    df = df_sales\n",
        "    , time_column = 'order_purchase_dt'\n",
        "    , time_column_label = 'Date'\n",
        "    , metric = 'total_payment'\n",
        "    , metric_label = 'Sales Amount, R$'\n",
        "    , metric_label_for_distribution = 'Order Value, R$'\n",
        "    , title_base = 'Sales Amount'\n",
        "    , agg_func = 'sum'\n",
        "    , freq='ME'\n",
        ")"
      ]
    },
    {
      "cell_type": "markdown",
      "metadata": {},
      "source": [
        "**By Day and Month**"
      ]
    },
    {
      "cell_type": "code",
      "execution_count": null,
      "metadata": {},
      "outputs": [],
      "source": [
        "pb.box(mode='time_series', freq='M').show()\n",
        "pb.box(mode='time_series', freq='M', upper_quantile=0.95).show()\n",
        "for freq in ['D', 'ME']:\n",
        "    pb.line_resample(\n",
        "        freq=freq\n",
        "        , to_slide=True if freq == 'ME' else False\n",
        "    ).show()"
      ]
    },
    {
      "cell_type": "markdown",
      "metadata": {},
      "source": [
        "**Key Observations:**  \n",
        "\n",
        "- There was an anomalous peak in sales revenue on November 24, 2017 - Black Friday  \n",
        "- Monthly sales revenue grew until 2018, then stabilized at 1-1.2 million R$ per month  "
      ]
    },
    {
      "cell_type": "markdown",
      "metadata": {},
      "source": [
        "**Monthly Growth**"
      ]
    },
    {
      "cell_type": "code",
      "execution_count": null,
      "metadata": {},
      "outputs": [],
      "source": [
        "pb.period_change(\n",
        "    period='mom'\n",
        "    , to_slide=True\n",
        ")"
      ]
    },
    {
      "cell_type": "markdown",
      "metadata": {},
      "source": [
        "**Key Observations:**  \n",
        "\n",
        "- Sales revenue dropped by more than 5% month-over-month in April, June, and December 2017, and February and June 2018  "
      ]
    },
    {
      "cell_type": "markdown",
      "metadata": {},
      "source": [
        "**By Time of Day**"
      ]
    },
    {
      "cell_type": "code",
      "execution_count": null,
      "metadata": {},
      "outputs": [],
      "source": [
        "pb.line_resample(color='purchase_time_of_day', to_slide=True)"
      ]
    },
    {
      "cell_type": "markdown",
      "metadata": {},
      "source": [
        "**Key Observations:**  \n",
        "\n",
        "- Nighttime sales revenue is on average lower than other times  \n",
        "- Highest revenue occurs in evenings and afternoons  "
      ]
    },
    {
      "cell_type": "markdown",
      "metadata": {},
      "source": [
        "**By Day of Week**"
      ]
    },
    {
      "cell_type": "code",
      "execution_count": null,
      "metadata": {},
      "outputs": [],
      "source": [
        "pb.area_resample(freq='W', color='purchase_weekday', title='Sales Amount by Day of the Week and Week')"
      ]
    },
    {
      "cell_type": "code",
      "execution_count": null,
      "metadata": {},
      "outputs": [],
      "source": [
        "pb.heatmap(x=pd.Grouper(key=pb.time_column, freq='W')\n",
        "        , y='purchase_weekday'\n",
        "        , text_auto=False\n",
        "        , title='Sales Amount by Day of the Week and Week'\n",
        ")"
      ]
    },
    {
      "cell_type": "markdown",
      "metadata": {},
      "source": [
        "**Key Observations:**  \n",
        "\n",
        "- No significant difference in revenue by day of week, though weekends are slightly lower  "
      ]
    },
    {
      "cell_type": "markdown",
      "metadata": {},
      "source": [
        "**By Weekday vs Weekend**"
      ]
    },
    {
      "cell_type": "code",
      "execution_count": null,
      "metadata": {},
      "outputs": [],
      "source": [
        "pb.line_resample(color='purchase_day_type')"
      ]
    },
    {
      "cell_type": "markdown",
      "metadata": {},
      "source": [
        "**Key Observations:**  \n",
        "\n",
        "- Weekday revenue grew faster than weekend revenue  "
      ]
    },
    {
      "cell_type": "markdown",
      "metadata": {},
      "source": [
        "**By Review Score**"
      ]
    },
    {
      "cell_type": "code",
      "execution_count": null,
      "metadata": {},
      "outputs": [],
      "source": [
        "pb.line_resample(color='order_avg_reviews_score', to_slide=True)"
      ]
    },
    {
      "cell_type": "markdown",
      "metadata": {},
      "source": [
        "**Key Observations:**  \n",
        "\n",
        "- Orders with 5-star reviews generate significantly more revenue each month  \n",
        "- Orders with 2-star reviews consistently generate the least revenue  \n",
        "- Black Friday saw the strongest revenue spikes for both 5-star and 1-star orders  \n",
        "- 5-star order revenue continued growing in 2018 despite overall stagnation, partly due to declining 1-star order revenue  "
      ]
    },
    {
      "cell_type": "markdown",
      "metadata": {},
      "source": [
        "**By Whether the Order is Delayed or Not**"
      ]
    },
    {
      "cell_type": "code",
      "execution_count": null,
      "metadata": {},
      "outputs": [],
      "source": [
        "pb.line_resample(color='is_delayed', to_slide=True)"
      ]
    },
    {
      "cell_type": "markdown",
      "metadata": {},
      "source": [
        "**Key Observations:**  \n",
        "\n",
        "- Peak months for delayed order revenue: November 2017 (Black Friday) and March 2018  "
      ]
    },
    {
      "cell_type": "markdown",
      "metadata": {},
      "source": [
        "**By Payment Category**"
      ]
    },
    {
      "cell_type": "code",
      "execution_count": null,
      "metadata": {},
      "outputs": [],
      "source": [
        "pb.line_resample(color='order_total_payment_cat')"
      ]
    },
    {
      "cell_type": "markdown",
      "metadata": {},
      "source": [
        "**Key Observations:**  \n",
        "\n",
        "- The overall revenue trend remains consistent across cheap, medium, and expensive orders  "
      ]
    },
    {
      "cell_type": "markdown",
      "metadata": {},
      "source": [
        "**By Order Weight Category**"
      ]
    },
    {
      "cell_type": "code",
      "execution_count": null,
      "metadata": {},
      "outputs": [],
      "source": [
        "pb.line_resample(color='order_total_weight_cat')"
      ]
    },
    {
      "cell_type": "markdown",
      "metadata": {},
      "source": [
        "**Key Observations:**  \n",
        "\n",
        "- The overall revenue trend remains consistent across light, medium, and heavy orders  "
      ]
    },
    {
      "cell_type": "markdown",
      "metadata": {},
      "source": [
        "**By Delivery Time Category**"
      ]
    },
    {
      "cell_type": "code",
      "execution_count": null,
      "metadata": {},
      "outputs": [],
      "source": [
        "pb.line_resample(color='delivery_time_days_cat', to_slide=True)"
      ]
    },
    {
      "cell_type": "markdown",
      "metadata": {},
      "source": [
        "**Key Observations:**  \n",
        "\n",
        "- November 2017 saw a sharp spike in revenue from long-delivery orders (likely Black Friday effect)  \n",
        "- High volumes of long deliveries persisted until April 2018 (unexplained by Black Friday)  \n",
        "- The subsequent sharp decline in long deliveries wasn't matched by growth in other categories  \n",
        "- This may explain why overall revenue stopped growing in 2018  "
      ]
    },
    {
      "cell_type": "markdown",
      "metadata": {},
      "source": [
        "**By Presence of Installment Payments**"
      ]
    },
    {
      "cell_type": "code",
      "execution_count": null,
      "metadata": {},
      "outputs": [],
      "source": [
        "pb.line_resample(color='order_has_installment', to_slide=True)"
      ]
    },
    {
      "cell_type": "markdown",
      "metadata": {},
      "source": [
        "**Key Observations:**  \n",
        "\n",
        "- Installment orders consistently generated higher revenue than non-installment orders  "
      ]
    },
    {
      "cell_type": "markdown",
      "metadata": {},
      "source": [
        "**By Top Customer States**"
      ]
    },
    {
      "cell_type": "code",
      "execution_count": null,
      "metadata": {},
      "outputs": [],
      "source": [
        "pb.line_resample(color='customer_state', to_slide=True)"
      ]
    },
    {
      "cell_type": "markdown",
      "metadata": {},
      "source": [
        "**Key Observations:**  \n",
        "\n",
        "- São Paulo state consistently led in sales revenue  \n",
        "- Rio de Janeiro and Minas Gerais ranked second and third respectively  "
      ]
    },
    {
      "cell_type": "markdown",
      "metadata": {},
      "source": [
        "**By Top Customer Cities**"
      ]
    },
    {
      "cell_type": "code",
      "execution_count": null,
      "metadata": {},
      "outputs": [],
      "source": [
        "pb.line_resample(color='customer_city', to_slide=True)"
      ]
    },
    {
      "cell_type": "markdown",
      "metadata": {},
      "source": [
        "**Key Observations:**  \n",
        "\n",
        "- São Paulo city consistently generated the highest sales revenue  \n",
        "- Rio de Janeiro ranked second  "
      ]
    },
    {
      "cell_type": "markdown",
      "metadata": {},
      "source": [
        "**By Payment Type**"
      ]
    },
    {
      "cell_type": "code",
      "execution_count": null,
      "metadata": {},
      "outputs": [],
      "source": [
        "pb.line_resample(color='order_payment_types', to_slide=True)"
      ]
    },
    {
      "cell_type": "markdown",
      "metadata": {},
      "source": [
        "**Key Observations:**  \n",
        "\n",
        "- Credit card payments consistently generated the highest revenue, with boleto second  \n",
        "- Debit card payment revenue grew from June 2018  "
      ]
    },
    {
      "cell_type": "markdown",
      "metadata": {},
      "source": [
        "**By Product Category**"
      ]
    },
    {
      "cell_type": "code",
      "execution_count": null,
      "metadata": {},
      "outputs": [],
      "source": [
        "pb.line_resample(color='order_general_product_categories', to_slide=True)"
      ]
    },
    {
      "cell_type": "markdown",
      "metadata": {},
      "source": [
        "**Key Observations:**  \n",
        "\n",
        "- Electronics consistently generated the highest revenue, followed by furniture  \n",
        "- 'Beauty/Health' and 'Home/Garden' categories continued growing in 2018 while others slowed or declined  "
      ]
    },
    {
      "cell_type": "markdown",
      "metadata": {},
      "source": [
        "## Average Order Value"
      ]
    },
    {
      "cell_type": "code",
      "execution_count": null,
      "metadata": {},
      "outputs": [],
      "source": [
        "pb.configure(\n",
        "    df = df_sales\n",
        "    , time_column = 'order_purchase_dt'\n",
        "    , time_column_label = 'Date'\n",
        "    , metric = 'total_payment'\n",
        "    , metric_label = 'Average Order Value, R$'\n",
        "    , metric_label_for_distribution = 'Order Value, R$'\n",
        "    , title_base = 'Average Order Value'\n",
        "    , agg_func = 'mean'\n",
        "    , freq='ME'\n",
        ")"
      ]
    },
    {
      "cell_type": "markdown",
      "metadata": {},
      "source": [
        "**By Day and Month**"
      ]
    },
    {
      "cell_type": "code",
      "execution_count": null,
      "metadata": {},
      "outputs": [],
      "source": [
        "for freq in ['D', 'ME']:\n",
        "    pb.line_resample(\n",
        "        freq=freq\n",
        "        , to_slide=True if freq == 'ME' else False\n",
        "    ).show()"
      ]
    },
    {
      "cell_type": "markdown",
      "metadata": {},
      "source": [
        "**Key Observations:**  \n",
        "\n",
        "- The average order value fluctuates between 100-250 R$ daily  \n",
        "- Black Friday didn't show a spike in average order value  \n",
        "- Monthly average order value remains stable at 150-170 R$ without growth  "
      ]
    },
    {
      "cell_type": "markdown",
      "metadata": {},
      "source": [
        "**Monthly Growth**"
      ]
    },
    {
      "cell_type": "code",
      "execution_count": null,
      "metadata": {},
      "outputs": [],
      "source": [
        "pb.period_change(period='mom', to_slide=True)"
      ]
    },
    {
      "cell_type": "markdown",
      "metadata": {},
      "source": [
        "**Key Observations:**  \n",
        "\n",
        "- Average order value dropped >5% month-over-month in May, July, November 2017 and August 2018  \n"
      ]
    },
    {
      "cell_type": "markdown",
      "metadata": {},
      "source": [
        "**By Time of Day**"
      ]
    },
    {
      "cell_type": "code",
      "execution_count": null,
      "metadata": {},
      "outputs": [],
      "source": [
        "pb.line_resample(color='purchase_time_of_day')"
      ]
    },
    {
      "cell_type": "markdown",
      "metadata": {},
      "source": [
        "**Key Observations:**  \n",
        "\n",
        "- No significant difference in average order value by time of day  \n",
        "- Nighttime averages are slightly lower  "
      ]
    },
    {
      "cell_type": "markdown",
      "metadata": {},
      "source": [
        "**By Whether the Order is Delayed or Not**"
      ]
    },
    {
      "cell_type": "code",
      "execution_count": null,
      "metadata": {},
      "outputs": [],
      "source": [
        "pb.line_resample(color='is_delayed')"
      ]
    },
    {
      "cell_type": "markdown",
      "metadata": {},
      "source": [
        "**Key Observations:**  \n",
        "\n",
        "- June 2017 saw a major peak in average value for delayed orders  \n",
        "- Smaller peaks occurred in April/December 2017 and January/June 2018  "
      ]
    },
    {
      "cell_type": "markdown",
      "metadata": {},
      "source": [
        "**By Order Weight Category**"
      ]
    },
    {
      "cell_type": "code",
      "execution_count": null,
      "metadata": {},
      "outputs": [],
      "source": [
        "pb.line_resample(color='order_total_weight_cat')"
      ]
    },
    {
      "cell_type": "markdown",
      "metadata": {},
      "source": [
        "**Key Observations:**  \n",
        "\n",
        "- Heavy orders show more variability in average value over time  \n",
        "- Consistently: heavy > medium > light order values  \n",
        "- April-July 2017 saw significant decline in heavy order values, followed by fluctuating growth  \n"
      ]
    },
    {
      "cell_type": "markdown",
      "metadata": {},
      "source": [
        "**By Delivery Time Category**"
      ]
    },
    {
      "cell_type": "code",
      "execution_count": null,
      "metadata": {},
      "outputs": [],
      "source": [
        "pb.line_resample(color='delivery_time_days_cat', to_slide=True)"
      ]
    },
    {
      "cell_type": "markdown",
      "metadata": {},
      "source": [
        "**Key Observations:**  \n",
        "\n",
        "- For most months, expensive items had longer delivery times  "
      ]
    },
    {
      "cell_type": "markdown",
      "metadata": {},
      "source": [
        "**By Presence of Installment Payments**"
      ]
    },
    {
      "cell_type": "code",
      "execution_count": null,
      "metadata": {},
      "outputs": [],
      "source": [
        "pb.line_resample(color='order_has_installment', to_slide=True)"
      ]
    },
    {
      "cell_type": "markdown",
      "metadata": {},
      "source": [
        "**Key Observations:**  \n",
        "\n",
        "- Installment orders consistently show higher average values (logical as customers can afford more)  \n",
        "- Installment order values fluctuate more over time  \n",
        "- Pre-July 2017: steady decline in installment order values  \n",
        "- Post-July 2017: fluctuating growth "
      ]
    },
    {
      "cell_type": "markdown",
      "metadata": {},
      "source": [
        "**By Review Score**"
      ]
    },
    {
      "cell_type": "code",
      "execution_count": null,
      "metadata": {},
      "outputs": [],
      "source": [
        "pb.line_resample(color='order_avg_reviews_score', to_slide=True)"
      ]
    },
    {
      "cell_type": "markdown",
      "metadata": {},
      "source": [
        "**Key Observations:**  \n",
        "\n",
        "- Orders with 1-star reviews typically had higher average values  \n",
        "- Orders with 2-star reviews often had higher values than 3/4/5-star orders  \n",
        "- Conclusion: lower ratings were more common for higher-value orders  "
      ]
    },
    {
      "cell_type": "markdown",
      "metadata": {},
      "source": [
        "**By Top Customer Cities**"
      ]
    },
    {
      "cell_type": "code",
      "execution_count": null,
      "metadata": {},
      "outputs": [],
      "source": [
        "pb.line_resample(color='customer_city')"
      ]
    },
    {
      "cell_type": "markdown",
      "metadata": {},
      "source": [
        "**Key Observations:**  \n",
        "\n",
        "- February 2017 saw a major spike in Brasília's average order value  \n",
        "- Otherwise, top 5 cities show similar average values  "
      ]
    },
    {
      "cell_type": "markdown",
      "metadata": {},
      "source": [
        "## Number of Purchases per Customer per Week"
      ]
    },
    {
      "cell_type": "code",
      "execution_count": null,
      "metadata": {},
      "outputs": [],
      "source": [
        "tmp_df_res = (df_sales.groupby([pd.Grouper(key = 'order_purchase_dt', freq='ME'), 'customer_unique_id'])['order_id']\n",
        "          .nunique()\n",
        "          .reset_index(name='order_cnt')\n",
        ")\n",
        "tmp_df_res['weeks_in_month_cnt'] = tmp_df_res.order_purchase_dt.dt.days_in_month / 7\n",
        "tmp_df_res['avg_orders_per_week'] = tmp_df_res['order_cnt'] / tmp_df_res['weeks_in_month_cnt']\n",
        "tmp_df_res.drop(['order_cnt', 'weeks_in_month_cnt'], axis=1, inplace=True)\n",
        "tmp_df_res.sort_values('avg_orders_per_week', ascending=False).head(10)"
      ]
    },
    {
      "cell_type": "markdown",
      "metadata": {},
      "source": [
        "**Key Observations:**  \n",
        "\n",
        "- User '12f5d6e1cbf93dafd9dcc19095df0b3d' had the highest weekly purchase frequency (January 2017)  "
      ]
    },
    {
      "cell_type": "code",
      "execution_count": null,
      "metadata": {},
      "outputs": [],
      "source": [
        "labels = pd.Series(dict(\n",
        "    order_purchase_dt = 'Date'\n",
        "    , avg_orders_per_week = 'Average number of sales per week'\n",
        "))\n",
        "tmp_df_res.viz.line(\n",
        "          x=labels.index[0]\n",
        "          , y=labels.index[1]\n",
        "          , agg_func='mean'\n",
        "          , freq='ME'\n",
        "          , labels=labels\n",
        "          , title='Average number of sales per week by month'\n",
        ")"
      ]
    },
    {
      "cell_type": "markdown",
      "metadata": {},
      "source": [
        "**Key Observations:**  \n",
        "\n",
        "- Average weekly purchases per customer remains stable at 0.23-0.25  "
      ]
    },
    {
      "cell_type": "markdown",
      "metadata": {},
      "source": [
        "## ARPPU"
      ]
    },
    {
      "cell_type": "code",
      "execution_count": null,
      "metadata": {},
      "outputs": [],
      "source": [
        "pb.configure(\n",
        "    time_column = 'order_purchase_dt'\n",
        "    , time_column_label = 'Date'\n",
        "    , metric = 'arppu'\n",
        "    , metric_label = 'ARPPU, R$'\n",
        "    , title_base = 'ARPPU'\n",
        "    , freq = 'ME'\n",
        ")"
      ]
    },
    {
      "cell_type": "markdown",
      "metadata": {},
      "source": [
        "**By Day and Month**"
      ]
    },
    {
      "cell_type": "code",
      "execution_count": null,
      "metadata": {},
      "outputs": [],
      "source": [
        "tmp_df_res = (\n",
        "    df_sales.resample('D', on='order_purchase_dt')\n",
        "    .agg({'customer_unique_id': 'nunique', 'total_products_price': 'sum'})\n",
        "    .reset_index()\n",
        ")\n",
        "tmp_df_res['arppu'] = tmp_df_res['total_products_price'] / tmp_df_res['customer_unique_id']"
      ]
    },
    {
      "cell_type": "code",
      "execution_count": null,
      "metadata": {},
      "outputs": [],
      "source": [
        "fig_days = pb.line(data_frame=tmp_df_res, title='ARPPU by day')"
      ]
    },
    {
      "cell_type": "code",
      "execution_count": null,
      "metadata": {},
      "outputs": [],
      "source": [
        "tmp_df_res = (\n",
        "    df_sales.resample('ME', on='order_purchase_dt')\n",
        "    .agg({'customer_unique_id': 'nunique', 'total_products_price': 'sum'})\n",
        "    .reset_index()\n",
        ")\n",
        "tmp_df_res['arppu'] = tmp_df_res['total_products_price'] / tmp_df_res['customer_unique_id']"
      ]
    },
    {
      "cell_type": "code",
      "execution_count": null,
      "metadata": {},
      "outputs": [],
      "source": [
        "fig_days.show()\n",
        "pb.line(data_frame=tmp_df_res, to_slide=True)"
      ]
    },
    {
      "cell_type": "markdown",
      "metadata": {},
      "source": [
        "**Key Observations:**  \n",
        "\n",
        "- ARPPU fluctuates daily between 100-250 R$  \n",
        "- No Black Friday spike in ARPPU  \n",
        "- Monthly ARPPU remains stable at 130-150 R$  "
      ]
    },
    {
      "cell_type": "markdown",
      "metadata": {},
      "source": [
        "**By Time of Day**"
      ]
    },
    {
      "cell_type": "code",
      "execution_count": null,
      "metadata": {},
      "outputs": [],
      "source": [
        "tmp_df_res = (\n",
        "    df_sales.groupby([pd.Grouper(key='order_purchase_dt', freq='ME'), 'purchase_time_of_day'], observed=False)\n",
        "    .agg({'customer_unique_id': 'nunique', 'total_products_price': 'sum'})\n",
        "    .reset_index()\n",
        ")\n",
        "tmp_df_res['arppu'] = tmp_df_res['total_products_price'] / tmp_df_res['customer_unique_id']"
      ]
    },
    {
      "cell_type": "code",
      "execution_count": null,
      "metadata": {},
      "outputs": [],
      "source": [
        "pb.line(data_frame=tmp_df_res, color='purchase_time_of_day')"
      ]
    },
    {
      "cell_type": "markdown",
      "metadata": {},
      "source": [
        "**Key Observations:**  \n",
        "\n",
        "- No significant ARPPU differences by time of day  \n",
        "- Nighttime ARPPU slightly lower  "
      ]
    },
    {
      "cell_type": "markdown",
      "metadata": {},
      "source": [
        "**By Review Score**"
      ]
    },
    {
      "cell_type": "code",
      "execution_count": null,
      "metadata": {},
      "outputs": [],
      "source": [
        "tmp_df_res = (\n",
        "    df_sales.groupby([pd.Grouper(key='order_purchase_dt', freq='ME'), 'order_avg_reviews_score'], observed=False)\n",
        "    .agg({'customer_unique_id': 'nunique', 'total_products_price': 'sum'})\n",
        "    .reset_index()\n",
        ")\n",
        "tmp_df_res['arppu'] = tmp_df_res['total_products_price'] / tmp_df_res['customer_unique_id']"
      ]
    },
    {
      "cell_type": "markdown",
      "metadata": {},
      "source": [
        "Since the review score does not have a categorical type, we might lose groups with no data after grouping. \n",
        "\n",
        "Let's restore the dates."
      ]
    },
    {
      "cell_type": "code",
      "execution_count": null,
      "metadata": {},
      "outputs": [],
      "source": [
        "tmp_df_res = tmp_df_res.preproc.restore_full_index(\n",
        "    date_cols='order_purchase_dt'\n",
        "    , group_cols='order_avg_reviews_score'\n",
        "    , freq='ME'\n",
        ")"
      ]
    },
    {
      "cell_type": "code",
      "execution_count": null,
      "metadata": {},
      "outputs": [],
      "source": [
        "pb.line(data_frame=tmp_df_res, color='order_avg_reviews_score', to_slide=True)"
      ]
    },
    {
      "cell_type": "markdown",
      "metadata": {},
      "source": [
        "**Key Observations:**  \n",
        "\n",
        "- 1-star review orders typically had higher ARPPU  \n",
        "- 2-star orders often had higher ARPPU than 3/4/5-star orders  "
      ]
    },
    {
      "cell_type": "markdown",
      "metadata": {},
      "source": [
        "**By Whether the Order is Delayed or Not**"
      ]
    },
    {
      "cell_type": "code",
      "execution_count": null,
      "metadata": {},
      "outputs": [],
      "source": [
        "tmp_df_res = (\n",
        "    df_sales.groupby([pd.Grouper(key='order_purchase_dt', freq='ME'), 'is_delayed'], observed=False)\n",
        "    .agg({'customer_unique_id': 'nunique', 'total_products_price': 'sum'})\n",
        "    .reset_index()\n",
        ")\n",
        "tmp_df_res['arppu'] = tmp_df_res['total_products_price'] / tmp_df_res['customer_unique_id']"
      ]
    },
    {
      "cell_type": "code",
      "execution_count": null,
      "metadata": {},
      "outputs": [],
      "source": [
        "pb.line(data_frame=tmp_df_res, color='is_delayed')"
      ]
    },
    {
      "cell_type": "markdown",
      "metadata": {},
      "source": [
        "**Key Observations:**  \n",
        "\n",
        "- June 2017 saw major ARPPU peak for delayed orders  \n",
        "- Smaller peaks in April/December 2017 and January/June 2018  "
      ]
    },
    {
      "cell_type": "markdown",
      "metadata": {},
      "source": [
        "**By Order Weight Category**"
      ]
    },
    {
      "cell_type": "code",
      "execution_count": null,
      "metadata": {},
      "outputs": [],
      "source": [
        "tmp_df_res = (\n",
        "    df_sales.groupby([pd.Grouper(key='order_purchase_dt', freq='ME'), 'order_total_weight_cat'], observed=False)\n",
        "    .agg({'customer_unique_id': 'nunique', 'total_products_price': 'sum'})\n",
        "    .reset_index()\n",
        ")\n",
        "tmp_df_res['arppu'] = tmp_df_res['total_products_price'] / tmp_df_res['customer_unique_id']"
      ]
    },
    {
      "cell_type": "code",
      "execution_count": null,
      "metadata": {},
      "outputs": [],
      "source": [
        "pb.line(data_frame=tmp_df_res, color='order_total_weight_cat')"
      ]
    },
    {
      "cell_type": "markdown",
      "metadata": {},
      "source": [
        "**Key Observations:**  \n",
        "\n",
        "- Heavy orders show more ARPPU variability  \n",
        "- Consistently: heavy > medium > light order ARPPU  \n",
        "- April-July 2017: significant heavy order ARPPU decline, then fluctuating growth  "
      ]
    },
    {
      "cell_type": "markdown",
      "metadata": {},
      "source": [
        "**By Delivery Time Category**"
      ]
    },
    {
      "cell_type": "code",
      "execution_count": null,
      "metadata": {},
      "outputs": [],
      "source": [
        "tmp_df_res = (\n",
        "    df_sales.groupby([pd.Grouper(key='order_purchase_dt', freq='ME'), 'delivery_time_days_cat'], observed=False)\n",
        "    .agg({'customer_unique_id': 'nunique', 'total_products_price': 'sum'})\n",
        "    .reset_index()\n",
        ")\n",
        "tmp_df_res['arppu'] = tmp_df_res['total_products_price'] / tmp_df_res['customer_unique_id']"
      ]
    },
    {
      "cell_type": "code",
      "execution_count": null,
      "metadata": {},
      "outputs": [],
      "source": [
        "pb.line(data_frame=tmp_df_res, color='delivery_time_days_cat', to_slide=True)"
      ]
    },
    {
      "cell_type": "markdown",
      "metadata": {},
      "source": [
        "**Key Observations:**  \n",
        "\n",
        "- Higher ARPPU typically correlates with longer delivery times  "
      ]
    },
    {
      "cell_type": "markdown",
      "metadata": {},
      "source": [
        "**By Presence of Installment Payments**"
      ]
    },
    {
      "cell_type": "code",
      "execution_count": null,
      "metadata": {},
      "outputs": [],
      "source": [
        "tmp_df_res = (\n",
        "    df_sales.groupby([pd.Grouper(key='order_purchase_dt', freq='ME'), 'order_has_installment'], observed=False)\n",
        "    .agg({'customer_unique_id': 'nunique', 'total_products_price': 'sum'})\n",
        "    .reset_index()\n",
        ")\n",
        "tmp_df_res['arppu'] = tmp_df_res['total_products_price'] / tmp_df_res['customer_unique_id']"
      ]
    },
    {
      "cell_type": "code",
      "execution_count": null,
      "metadata": {},
      "outputs": [],
      "source": [
        "pb.line(data_frame=tmp_df_res, color='order_has_installment', to_slide=True)"
      ]
    },
    {
      "cell_type": "markdown",
      "metadata": {},
      "source": [
        "**Key Observations:**  \n",
        "\n",
        "- Installment orders consistently show higher ARPPU  \n",
        "- More ARPPU variability for installment orders  \n",
        "- Pre-July 2017: steady ARPPU decline for installments  \n",
        "- Post-July 2017: fluctuating growth  "
      ]
    },
    {
      "cell_type": "markdown",
      "metadata": {},
      "source": [
        "**By Top Customer Cities**"
      ]
    },
    {
      "cell_type": "markdown",
      "metadata": {},
      "source": [
        "Since there are cities with very few sales, we will select the top 5 cities by sales volume.\n"
      ]
    },
    {
      "cell_type": "code",
      "execution_count": null,
      "metadata": {},
      "outputs": [],
      "source": [
        "top_cities = (\n",
        "    df_sales.groupby('customer_city', observed=False)['order_id']\n",
        "    .nunique()\n",
        "    .nlargest(5)\n",
        "    .index.tolist()\n",
        ")"
      ]
    },
    {
      "cell_type": "code",
      "execution_count": null,
      "metadata": {},
      "outputs": [],
      "source": [
        "tmp_df_res = (\n",
        "    df_sales[lambda x: x.customer_city.isin(top_cities)]\n",
        "    .groupby([pd.Grouper(key='order_purchase_dt', freq='ME'), 'customer_city'], observed=False)\n",
        "    .agg({'customer_unique_id': 'nunique', 'total_products_price': 'sum'})\n",
        "    .reset_index()\n",
        ")\n",
        "tmp_df_res['arppu'] = tmp_df_res['total_products_price'] / tmp_df_res['customer_unique_id']"
      ]
    },
    {
      "cell_type": "code",
      "execution_count": null,
      "metadata": {},
      "outputs": [],
      "source": [
        "pb.line(data_frame=tmp_df_res, color='customer_city')"
      ]
    },
    {
      "cell_type": "markdown",
      "metadata": {},
      "source": [
        "**Key Observations:**  \n",
        "\n",
        "- February 2017: major ARPPU spike in Brasília  \n",
        "- Otherwise minimal differences among top 5 cities  "
      ]
    },
    {
      "cell_type": "markdown",
      "metadata": {},
      "source": [
        "## Number of Customers"
      ]
    },
    {
      "cell_type": "code",
      "execution_count": null,
      "metadata": {},
      "outputs": [],
      "source": [
        "pb.configure(\n",
        "    df = df_sales\n",
        "    , time_column = 'order_purchase_dt'\n",
        "    , time_column_label = 'Date'\n",
        "    , metric = 'customer_unique_id'\n",
        "    , metric_label = 'Number of Customers'\n",
        "    , agg_func = 'nunique'\n",
        "    , freq='ME'\n",
        ")"
      ]
    },
    {
      "cell_type": "markdown",
      "metadata": {},
      "source": [
        "**By Day and Month**"
      ]
    },
    {
      "cell_type": "code",
      "execution_count": null,
      "metadata": {},
      "outputs": [],
      "source": [
        "for freq in ['D', 'ME']:\n",
        "    pb.line_resample(\n",
        "        freq=freq\n",
        "        , to_slide=True if freq == 'ME' else False\n",
        "    ).show()"
      ]
    },
    {
      "cell_type": "markdown",
      "metadata": {},
      "source": [
        "**Key Observations:**  \n",
        "\n",
        "- Black Friday (Nov 24, 2017) saw anomalous customer count peak  \n",
        "- Customer growth continued until 2018, then stabilized at 6-7k monthly  "
      ]
    },
    {
      "cell_type": "markdown",
      "metadata": {},
      "source": [
        "**Monthly Growth**"
      ]
    },
    {
      "cell_type": "code",
      "execution_count": null,
      "metadata": {},
      "outputs": [],
      "source": [
        "pb.period_change(period='mom', to_slide=True)"
      ]
    },
    {
      "cell_type": "markdown",
      "metadata": {},
      "source": [
        "**Key Observations:**  \n",
        "\n",
        "- Customer counts dropped >5% month-over-month in April/June/December 2017 and February/June 2018  "
      ]
    },
    {
      "cell_type": "markdown",
      "metadata": {},
      "source": [
        "**By Time of Day**"
      ]
    },
    {
      "cell_type": "code",
      "execution_count": null,
      "metadata": {},
      "outputs": [],
      "source": [
        "pb.line_resample(color='purchase_time_of_day', to_slide=True)"
      ]
    },
    {
      "cell_type": "markdown",
      "metadata": {},
      "source": [
        "**Key Observations:**  \n",
        "\n",
        "- Fewer customers at night  \n",
        "- Evening sees most customer activity  "
      ]
    },
    {
      "cell_type": "markdown",
      "metadata": {},
      "source": [
        "**By Day of Week**"
      ]
    },
    {
      "cell_type": "code",
      "execution_count": null,
      "metadata": {},
      "outputs": [],
      "source": [
        "pb.area_resample(color='purchase_weekday', freq='W', title='Number of Sales by Day of Week and Week')"
      ]
    },
    {
      "cell_type": "code",
      "execution_count": null,
      "metadata": {},
      "outputs": [],
      "source": [
        "pb.heatmap(x=pd.Grouper(key=pb.time_column, freq='W')\n",
        "        , y='purchase_weekday'\n",
        "        , text_auto=False\n",
        "        , title='Number of Sales by Day of Week and Week'\n",
        ")"
      ]
    },
    {
      "cell_type": "markdown",
      "metadata": {},
      "source": [
        "**Key Observations:**  \n",
        "\n",
        "- Minimal weekday/weekend customer count differences  \n",
        "- Weekends slightly lower  "
      ]
    },
    {
      "cell_type": "markdown",
      "metadata": {},
      "source": [
        "**By Weekday vs Weekend**"
      ]
    },
    {
      "cell_type": "code",
      "execution_count": null,
      "metadata": {},
      "outputs": [],
      "source": [
        "pb.line_resample(color='purchase_day_type')"
      ]
    },
    {
      "cell_type": "markdown",
      "metadata": {},
      "source": [
        "**Key Observations:**  \n",
        "\n",
        "- Weekday customer growth outpaced weekends  "
      ]
    },
    {
      "cell_type": "markdown",
      "metadata": {},
      "source": [
        "**By Top Customer States**"
      ]
    },
    {
      "cell_type": "code",
      "execution_count": null,
      "metadata": {},
      "outputs": [],
      "source": [
        "pb.line_resample(color='customer_state', to_slide=True)"
      ]
    },
    {
      "cell_type": "markdown",
      "metadata": {},
      "source": [
        "**Key Observations:**  \n",
        "\n",
        "- São Paulo consistently led in customer counts  \n",
        "- Unlike other states, maintained 2018 customer levels  \n",
        "- Rio de Janeiro and Minas Gerais ranked 2nd/3rd  "
      ]
    },
    {
      "cell_type": "markdown",
      "metadata": {},
      "source": [
        "**By Top Customer Cities**"
      ]
    },
    {
      "cell_type": "code",
      "execution_count": null,
      "metadata": {},
      "outputs": [],
      "source": [
        "pb.line_resample(color='customer_city', to_slide=True)"
      ]
    },
    {
      "cell_type": "markdown",
      "metadata": {},
      "source": [
        "**Key Observations:**  \n",
        "\n",
        "- São Paulo city consistently had most customers  \n",
        "- Rio de Janeiro ranked second  \n",
        "- Only São Paulo showed 2018 monthly growth  "
      ]
    },
    {
      "cell_type": "markdown",
      "metadata": {},
      "source": [
        "## Share of New Customers"
      ]
    },
    {
      "cell_type": "code",
      "execution_count": null,
      "metadata": {},
      "outputs": [],
      "source": [
        "pb.configure(\n",
        "    time_column = 'order_purchase_dt'\n",
        "    , time_column_label = 'Date'\n",
        "    , metric = 'new_customers_share'\n",
        "    , metric_label = 'Share of New Customers'\n",
        "    , freq='ME'\n",
        "    , update_fig={'yaxis': {'tickformat': '.1%'}}\n",
        ")"
      ]
    },
    {
      "cell_type": "markdown",
      "metadata": {},
      "source": [
        "**By Day and Month**"
      ]
    },
    {
      "cell_type": "markdown",
      "metadata": {},
      "source": [
        "Since one customer could make multiple orders at the same time, we need to remove such duplicates.\n"
      ]
    },
    {
      "cell_type": "code",
      "execution_count": null,
      "metadata": {},
      "outputs": [],
      "source": [
        "tmp_df_res = (df_sales[['order_purchase_dt', 'customer_unique_id', 'sale_is_customer_first_purchase']].drop_duplicates()\n",
        "              .resample('D', on='order_purchase_dt')\n",
        "              .agg(\n",
        "                  new_customers_cnt=('sale_is_customer_first_purchase', 'sum'),\n",
        "                  all_customers_cnt=('customer_unique_id', 'nunique')\n",
        "              )\n",
        "              .reset_index()\n",
        ")\n",
        "tmp_df_res['new_customers_share'] = tmp_df_res['new_customers_cnt'] / tmp_df_res['all_customers_cnt']"
      ]
    },
    {
      "cell_type": "code",
      "execution_count": null,
      "metadata": {},
      "outputs": [],
      "source": [
        "fig_days = pb.line(data_frame=tmp_df_res, title='Share of New Customers by Day')"
      ]
    },
    {
      "cell_type": "code",
      "execution_count": null,
      "metadata": {},
      "outputs": [],
      "source": [
        "tmp_df_res = (df_sales[['order_purchase_dt', 'customer_unique_id', 'sale_is_customer_first_purchase']].drop_duplicates()\n",
        "              .resample('ME', on='order_purchase_dt')\n",
        "              .agg(\n",
        "                  new_customers_cnt=('sale_is_customer_first_purchase', 'sum'),\n",
        "                  all_customers_cnt=('customer_unique_id', 'nunique')\n",
        "              )\n",
        "              .reset_index()\n",
        ")\n",
        "tmp_df_res['new_customers_share'] = tmp_df_res['new_customers_cnt'] / tmp_df_res['all_customers_cnt']"
      ]
    },
    {
      "cell_type": "code",
      "execution_count": null,
      "metadata": {},
      "outputs": [],
      "source": [
        "fig_days.show()\n",
        "pb.line(data_frame=tmp_df_res, to_slide=True)"
      ]
    },
    {
      "cell_type": "markdown",
      "metadata": {},
      "source": [
        "**Key Observations:**  \n",
        "\n",
        "- Daily new customer share never fell below 92%  \n",
        "- Monthly new customer share gradually declined (still >97%)  \n",
        "- Nearly all active customers are new  "
      ]
    },
    {
      "cell_type": "markdown",
      "metadata": {},
      "source": [
        "**By Weekday vs Weekend**"
      ]
    },
    {
      "cell_type": "code",
      "execution_count": null,
      "metadata": {},
      "outputs": [],
      "source": [
        "tmp_df_res = (df_sales[['order_purchase_dt', 'customer_unique_id', 'sale_is_customer_first_purchase', 'purchase_day_type']].drop_duplicates()\n",
        "              .groupby([pd.Grouper(key='order_purchase_dt', freq='ME'), 'purchase_day_type'], observed=True)\n",
        "               .agg(\n",
        "                   new_customers_cnt=('sale_is_customer_first_purchase', 'sum'),\n",
        "                   all_customers_cnt=('customer_unique_id', 'nunique')\n",
        "               )\n",
        "               .reset_index()\n",
        ")\n",
        "tmp_df_res['new_customers_share'] = tmp_df_res['new_customers_cnt'] / tmp_df_res['all_customers_cnt']"
      ]
    },
    {
      "cell_type": "code",
      "execution_count": null,
      "metadata": {},
      "outputs": [],
      "source": [
        "pb.line(data_frame=tmp_df_res, color='purchase_day_type')"
      ]
    },
    {
      "cell_type": "markdown",
      "metadata": {},
      "source": [
        "**Key Observations:**  \n",
        "\n",
        "- Weekend new customer share fluctuates more than weekdays  \n",
        "- Weekends typically have lower new customer share "
      ]
    },
    {
      "cell_type": "markdown",
      "metadata": {},
      "source": [
        "**By Top Customer States**"
      ]
    },
    {
      "cell_type": "code",
      "execution_count": null,
      "metadata": {},
      "outputs": [],
      "source": [
        "top_states = (df_sales\n",
        "              .groupby('customer_state', observed=False)['order_id']\n",
        "              .nunique()\n",
        "              .nlargest(5)\n",
        "              .index.tolist()\n",
        ")"
      ]
    },
    {
      "cell_type": "code",
      "execution_count": null,
      "metadata": {},
      "outputs": [],
      "source": [
        "tmp_df_res = (df_sales[lambda x: x.customer_state.isin(top_states)]\n",
        "              [['order_purchase_dt', 'customer_unique_id', 'sale_is_customer_first_purchase', 'customer_state']].drop_duplicates()\n",
        "              .groupby([pd.Grouper(key='order_purchase_dt', freq='ME'), 'customer_state'], observed=False)\n",
        "               .agg(\n",
        "                   new_customers_cnt=('sale_is_customer_first_purchase', 'sum'),\n",
        "                   all_customers_cnt=('customer_unique_id', 'nunique')\n",
        "               )\n",
        "               .reset_index()\n",
        ")\n",
        "tmp_df_res['new_customers_share'] = tmp_df_res['new_customers_cnt'] / tmp_df_res['all_customers_cnt']"
      ]
    },
    {
      "cell_type": "code",
      "execution_count": null,
      "metadata": {},
      "outputs": [],
      "source": [
        "pb.line(data_frame=tmp_df_res, color='customer_state')"
      ]
    },
    {
      "cell_type": "markdown",
      "metadata": {},
      "source": [
        "**Key Observations:**  \n",
        "\n",
        "- Minimal state-level differences in new customer share  \n",
        "- Rio Grande do Sul showed more variability  "
      ]
    },
    {
      "cell_type": "markdown",
      "metadata": {},
      "source": [
        "**By Top Customer Cities**"
      ]
    },
    {
      "cell_type": "code",
      "execution_count": null,
      "metadata": {},
      "outputs": [],
      "source": [
        "top_cities = (df_sales\n",
        "              .groupby('customer_city', observed=False)['order_id']\n",
        "              .nunique()\n",
        "              .nlargest(5)\n",
        "              .index.tolist()\n",
        ")"
      ]
    },
    {
      "cell_type": "code",
      "execution_count": null,
      "metadata": {},
      "outputs": [],
      "source": [
        "tmp_df_res = (df_sales[lambda x: x.customer_city.isin(top_cities)]\n",
        "              [['order_purchase_dt', 'customer_unique_id', 'sale_is_customer_first_purchase', 'customer_city']].drop_duplicates()\n",
        "              .groupby([pd.Grouper(key='order_purchase_dt', freq='ME'), 'customer_city'], observed=False)\n",
        "               .agg(\n",
        "                   new_customers_cnt=('sale_is_customer_first_purchase', 'sum'),\n",
        "                   all_customers_cnt=('customer_unique_id', 'nunique')\n",
        "               )\n",
        "               .reset_index()\n",
        ")\n",
        "tmp_df_res['new_customers_share'] = tmp_df_res['new_customers_cnt'] / tmp_df_res['all_customers_cnt']"
      ]
    },
    {
      "cell_type": "code",
      "execution_count": null,
      "metadata": {},
      "outputs": [],
      "source": [
        "pb.line(data_frame=tmp_df_res, color='customer_city')"
      ]
    },
    {
      "cell_type": "markdown",
      "metadata": {},
      "source": [
        "**Key Observations:**  \n",
        "\n",
        "- São Paulo and Rio de Janeiro show less monthly fluctuation in new customer share  "
      ]
    },
    {
      "cell_type": "markdown",
      "metadata": {},
      "source": [
        "## Number of Sellers"
      ]
    },
    {
      "cell_type": "code",
      "execution_count": null,
      "metadata": {},
      "outputs": [],
      "source": [
        "tmp_df_sales_sellers = (\n",
        "    df_sales.merge(df_items[['order_id', 'seller_id']], on='order_id', how='left')\n",
        "    .merge(df_sellers[['seller_id', 'seller_state', 'seller_city']], on='seller_id', how='left')\n",
        ")"
      ]
    },
    {
      "cell_type": "code",
      "execution_count": null,
      "metadata": {},
      "outputs": [],
      "source": [
        "pb.configure(\n",
        "    df = tmp_df_sales_sellers\n",
        "    , time_column = 'order_purchase_dt'\n",
        "    , time_column_label = 'Date'\n",
        "    , metric = 'seller_id'\n",
        "    , metric_label = 'Number of Sellers'\n",
        "    , agg_func = 'nunique'\n",
        "    , freq = 'ME'\n",
        ")"
      ]
    },
    {
      "cell_type": "markdown",
      "metadata": {},
      "source": [
        "**By Day and Month**"
      ]
    },
    {
      "cell_type": "code",
      "execution_count": null,
      "metadata": {},
      "outputs": [],
      "source": [
        "for freq in ['D', 'ME']:\n",
        "    pb.line_resample(\n",
        "        freq=freq\n",
        "        , to_slide=True if freq == 'ME' else False\n",
        "    ).show()"
      ]
    },
    {
      "cell_type": "markdown",
      "metadata": {},
      "source": [
        "**Key Observations:**  \n",
        "\n",
        "- Black Friday (Nov 24, 2017) saw anomalous seller count peak  \n",
        "- Monthly seller counts show steady growth  "
      ]
    },
    {
      "cell_type": "markdown",
      "metadata": {},
      "source": [
        "**By Time of Day**"
      ]
    },
    {
      "cell_type": "code",
      "execution_count": null,
      "metadata": {},
      "outputs": [],
      "source": [
        "pb.line_resample(color='purchase_time_of_day', to_slide=True)"
      ]
    },
    {
      "cell_type": "markdown",
      "metadata": {},
      "source": [
        "**Key Observations:**  \n",
        "\n",
        "- Fewer active sellers at night  \n",
        "- Evening/afternoon see most seller activity  "
      ]
    },
    {
      "cell_type": "markdown",
      "metadata": {},
      "source": [
        "**By Weekday vs Weekend**"
      ]
    },
    {
      "cell_type": "code",
      "execution_count": null,
      "metadata": {},
      "outputs": [],
      "source": [
        "pb.line_resample(color='purchase_day_type')"
      ]
    },
    {
      "cell_type": "markdown",
      "metadata": {},
      "source": [
        "**Key Observations:**  \n",
        "\n",
        "- Weekday seller growth outpaced weekends  "
      ]
    },
    {
      "cell_type": "markdown",
      "metadata": {},
      "source": [
        "**By Top Seller States**"
      ]
    },
    {
      "cell_type": "code",
      "execution_count": null,
      "metadata": {},
      "outputs": [],
      "source": [
        "pb.line_resample(color='seller_state', to_slide=True)"
      ]
    },
    {
      "cell_type": "markdown",
      "metadata": {},
      "source": [
        "**Key Observations:**  \n",
        "\n",
        "- São Paulo consistently led in seller counts with strongest growth  \n",
        "- Paraná and Minas Gerais ranked 2nd/3rd  \n",
        "- All top 5 states showed steady seller growth  "
      ]
    },
    {
      "cell_type": "markdown",
      "metadata": {},
      "source": [
        "**By Top Seller Cities**"
      ]
    },
    {
      "cell_type": "code",
      "execution_count": null,
      "metadata": {},
      "outputs": [],
      "source": [
        "pb.line_resample(color='seller_city', to_slide=True)"
      ]
    },
    {
      "cell_type": "markdown",
      "metadata": {},
      "source": [
        "**Key Observations:**  \n",
        "\n",
        "- São Paulo city consistently had most sellers with strongest growth  \n",
        "- Curitiba ranked second  "
      ]
    },
    {
      "cell_type": "markdown",
      "metadata": {},
      "source": [
        "## Share of New Sellers"
      ]
    },
    {
      "cell_type": "code",
      "execution_count": null,
      "metadata": {},
      "outputs": [],
      "source": [
        "pb.configure(\n",
        "    time_column = 'order_purchase_dt'\n",
        "    , time_column_label = 'Date'\n",
        "    , metric = 'new_sellers_share'\n",
        "    , metric_label = 'Share of New Sellers'\n",
        "    , freq='ME'\n",
        "    , update_fig={'yaxis': {'tickformat': '.1%'}}\n",
        ")"
      ]
    },
    {
      "cell_type": "code",
      "execution_count": null,
      "metadata": {},
      "outputs": [],
      "source": [
        "tmp_df_sales_sellers['seller_first_order_dt'] = tmp_df_sales_sellers.groupby('seller_id')['order_purchase_dt'].transform('min')\n",
        "tmp_df_sales_sellers['is_seller_first_order'] = tmp_df_sales_sellers['order_purchase_dt'] == tmp_df_sales_sellers['seller_first_order_dt']"
      ]
    },
    {
      "cell_type": "markdown",
      "metadata": {},
      "source": [
        "**By Day and Month**"
      ]
    },
    {
      "cell_type": "markdown",
      "metadata": {},
      "source": [
        "Since one seller could appear in multiple orders at the same time in the first order, we need to remove such duplicates.\n"
      ]
    },
    {
      "cell_type": "code",
      "execution_count": null,
      "metadata": {},
      "outputs": [],
      "source": [
        "tmp_df_res = (tmp_df_sales_sellers[['order_purchase_dt', 'seller_id', 'is_seller_first_order']].drop_duplicates()\n",
        "              .resample('D', on='order_purchase_dt')\n",
        "              .agg(\n",
        "                  new_sellers_cnt=('is_seller_first_order', 'sum'),\n",
        "                  all_sellers_cnt=('seller_id', 'nunique')\n",
        "              )\n",
        "              .reset_index()\n",
        ")\n",
        "tmp_df_res['new_sellers_share'] = tmp_df_res['new_sellers_cnt'] / tmp_df_res['all_sellers_cnt']"
      ]
    },
    {
      "cell_type": "code",
      "execution_count": null,
      "metadata": {},
      "outputs": [],
      "source": [
        "fig_days = pb.line(data_frame=tmp_df_res\n",
        "               , title='Share of New Sellers by Day'\n",
        ")"
      ]
    },
    {
      "cell_type": "code",
      "execution_count": null,
      "metadata": {},
      "outputs": [],
      "source": [
        "tmp_df_res = (tmp_df_sales_sellers[['order_purchase_dt', 'seller_id', 'is_seller_first_order']].drop_duplicates()\n",
        "              .resample('ME', on='order_purchase_dt')\n",
        "              .agg(\n",
        "                  new_sellers_cnt=('is_seller_first_order', 'sum'),\n",
        "                  all_sellers_cnt=('seller_id', 'nunique')\n",
        "              )\n",
        "              .reset_index()\n",
        ")\n",
        "tmp_df_res['new_sellers_share'] = tmp_df_res['new_sellers_cnt'] / tmp_df_res['all_sellers_cnt']"
      ]
    },
    {
      "cell_type": "code",
      "execution_count": null,
      "metadata": {},
      "outputs": [],
      "source": [
        "fig_days.show()\n",
        "pb.line(data_frame=tmp_df_res, to_slide=True)"
      ]
    },
    {
      "cell_type": "markdown",
      "metadata": {},
      "source": [
        "**Key Observations:**  \n",
        "\n",
        "- New seller share declined until June 2017  \n",
        "- Stabilized at 10-20% thereafter  "
      ]
    },
    {
      "cell_type": "markdown",
      "metadata": {},
      "source": [
        "**By Weekday vs Weekend**"
      ]
    },
    {
      "cell_type": "code",
      "execution_count": null,
      "metadata": {},
      "outputs": [],
      "source": [
        "tmp_df_res = (tmp_df_sales_sellers[['order_purchase_dt', 'seller_id', 'is_seller_first_order', 'purchase_day_type']].drop_duplicates()\n",
        "              .groupby([pd.Grouper(key='order_purchase_dt', freq='ME'), 'purchase_day_type'], observed=True)\n",
        "              .agg(\n",
        "                  new_sellers_cnt=('is_seller_first_order', 'sum'),\n",
        "                  all_sellers_cnt=('seller_id', 'nunique')\n",
        "              )\n",
        "              .reset_index()\n",
        ")\n",
        "tmp_df_res['new_sellers_share'] = tmp_df_res['new_sellers_cnt'] / tmp_df_res['all_sellers_cnt']"
      ]
    },
    {
      "cell_type": "code",
      "execution_count": null,
      "metadata": {},
      "outputs": [],
      "source": [
        "pb.line(data_frame=tmp_df_res, color='purchase_day_type')"
      ]
    },
    {
      "cell_type": "markdown",
      "metadata": {},
      "source": [
        "**Key Observations:**  \n",
        "\n",
        "- Weekends consistently had lower new seller share than weekdays  "
      ]
    },
    {
      "cell_type": "markdown",
      "metadata": {},
      "source": [
        "**By Top Seller States**"
      ]
    },
    {
      "cell_type": "code",
      "execution_count": null,
      "metadata": {},
      "outputs": [],
      "source": [
        "top_states = (tmp_df_sales_sellers\n",
        "              .groupby('seller_state', observed=False)['order_id']\n",
        "              .nunique()\n",
        "              .nlargest(5)\n",
        "              .index.tolist()\n",
        ")"
      ]
    },
    {
      "cell_type": "code",
      "execution_count": null,
      "metadata": {},
      "outputs": [],
      "source": [
        "tmp_df_res = (tmp_df_sales_sellers[lambda x: x.seller_state.isin(top_states)]\n",
        "              [['order_purchase_dt', 'seller_id', 'is_seller_first_order', 'seller_state']].drop_duplicates()\n",
        "              .groupby([pd.Grouper(key='order_purchase_dt', freq='ME'), 'seller_state'], observed=False)\n",
        "               .agg(\n",
        "                  new_sellers_cnt=('is_seller_first_order', 'sum'),\n",
        "                  all_sellers_cnt=('seller_id', 'nunique')\n",
        "               )\n",
        "               .reset_index()\n",
        ")\n",
        "tmp_df_res['new_sellers_share'] = tmp_df_res['new_sellers_cnt'] / tmp_df_res['all_sellers_cnt']"
      ]
    },
    {
      "cell_type": "code",
      "execution_count": null,
      "metadata": {},
      "outputs": [],
      "source": [
        "pb.line(data_frame=tmp_df_res, color='seller_state')"
      ]
    },
    {
      "cell_type": "markdown",
      "metadata": {},
      "source": [
        "**Key Observations:**  \n",
        "\n",
        "- Minimal state-level differences in new seller share  \n",
        "- Minas Gerais often slightly lower  "
      ]
    },
    {
      "cell_type": "code",
      "execution_count": null,
      "metadata": {},
      "outputs": [],
      "source": [
        "del tmp_df_res"
      ]
    },
    {
      "cell_type": "markdown",
      "metadata": {},
      "source": [
        "## Ratio of Number of Sellers and Customers"
      ]
    },
    {
      "cell_type": "markdown",
      "metadata": {},
      "source": [
        "**Active Sellers and Customers**"
      ]
    },
    {
      "cell_type": "code",
      "execution_count": null,
      "metadata": {},
      "outputs": [],
      "source": [
        "customers_cnt_all = (tmp_df_sales_sellers.resample('ME', on='order_purchase_dt')['customer_unique_id']\n",
        "                 .nunique()\n",
        "                 .to_frame()\n",
        ")\n",
        "sellers_cnt_all = (tmp_df_sales_sellers.resample('ME', on='order_purchase_dt')['seller_id']\n",
        "                 .nunique()\n",
        "                 .to_frame()\n",
        ")\n",
        "tmp_df_res = customers_cnt_all.merge(sellers_cnt_all, left_index=True, right_index=True).reset_index()\n",
        "tmp_df_res['seller_customer_ratio'] = (tmp_df_res['seller_id'] / tmp_df_res['customer_unique_id']).round(2)"
      ]
    },
    {
      "cell_type": "code",
      "execution_count": null,
      "metadata": {},
      "outputs": [],
      "source": [
        "labels = pd.Series(dict(\n",
        "    order_purchase_dt = 'Date'\n",
        "    , seller_customer_ratio = 'Ratio of Number of Sellers and Customers'\n",
        "))\n",
        "fig = tmp_df_res.viz.line(\n",
        "    x=labels.index[0]\n",
        "    , y=labels.index[1]\n",
        "    , labels=labels\n",
        "    , title='Ratio of Number of Sellers and Customers by Month'\n",
        ")\n",
        "pb.to_slide(fig)\n",
        "fig.show()"
      ]
    },
    {
      "cell_type": "markdown",
      "metadata": {},
      "source": [
        "**Key Observations:**  \n",
        "\n",
        "- Pre-November 2017: customer growth outpaced sellers  \n",
        "- Post-November 2017: reversed trend  "
      ]
    },
    {
      "cell_type": "markdown",
      "metadata": {},
      "source": [
        "**New Sellers and Customers**"
      ]
    },
    {
      "cell_type": "code",
      "execution_count": null,
      "metadata": {},
      "outputs": [],
      "source": [
        "tmp_df_sales_sellers['first_order_customer_dt'] = tmp_df_sales_sellers.groupby('customer_unique_id')['order_purchase_dt'].transform('min')\n",
        "tmp_df_sales_sellers['is_first_month_for_customer'] = (\n",
        "    (tmp_df_sales_sellers['order_purchase_dt'].dt.month == tmp_df_sales_sellers['first_order_customer_dt'].dt.month) &\n",
        "    (tmp_df_sales_sellers['order_purchase_dt'].dt.year == tmp_df_sales_sellers['first_order_customer_dt'].dt.year)\n",
        ")\n",
        "tmp_df_sales_sellers['first_order_seller_dt'] = tmp_df_sales_sellers.groupby('seller_id')['order_purchase_dt'].transform('min')\n",
        "tmp_df_sales_sellers['is_first_month_for_seller'] = (\n",
        "    (tmp_df_sales_sellers['order_purchase_dt'].dt.month == tmp_df_sales_sellers['first_order_seller_dt'].dt.month) &\n",
        "    (tmp_df_sales_sellers['order_purchase_dt'].dt.year == tmp_df_sales_sellers['first_order_seller_dt'].dt.year)\n",
        ")\n",
        "customers_cnt_new = (tmp_df_sales_sellers[tmp_df_sales_sellers.is_first_month_for_customer].resample('ME', on='order_purchase_dt')['customer_unique_id']\n",
        "                 .nunique()\n",
        "                 .to_frame()\n",
        ")\n",
        "sellers_cnt_new = (tmp_df_sales_sellers[tmp_df_sales_sellers.is_first_month_for_seller].resample('ME', on='order_purchase_dt')['seller_id']\n",
        "                 .nunique()\n",
        "                 .to_frame()\n",
        ")\n",
        "tmp_df_res = customers_cnt_new.merge(sellers_cnt_new, left_index=True, right_index=True).reset_index()\n",
        "tmp_df_res['seller_customer_ratio'] = (tmp_df_res['seller_id'] / tmp_df_res['customer_unique_id']).round(2)"
      ]
    },
    {
      "cell_type": "code",
      "execution_count": null,
      "metadata": {},
      "outputs": [],
      "source": [
        "labels = pd.Series(dict(\n",
        "    order_purchase_dt = 'Date'\n",
        "    , seller_customer_ratio = 'Ratio of New Sellers and New Customers'\n",
        "))\n",
        "fig = tmp_df_res.viz.line(\n",
        "    x=labels.index[0]\n",
        "    , y=labels.index[1]\n",
        "    , labels=labels\n",
        "    , title='Ratio of Number of New Sellers and Number of New Customers by Month'\n",
        ")\n",
        "pb.to_slide(fig)\n",
        "fig.show()"
      ]
    },
    {
      "cell_type": "markdown",
      "metadata": {},
      "source": [
        "**Key Observations:**  \n",
        "\n",
        "- Pre-July 2017: stronger new customer growth  \n",
        "- Post-July 2017: similar growth rates for new customers/sellers  "
      ]
    },
    {
      "cell_type": "markdown",
      "metadata": {},
      "source": [
        "## Number of Orders per Customer"
      ]
    },
    {
      "cell_type": "markdown",
      "metadata": {},
      "source": [
        "**By month**"
      ]
    },
    {
      "cell_type": "code",
      "execution_count": null,
      "metadata": {},
      "outputs": [],
      "source": [
        "tmp_df_res = (\n",
        "    df_sales.groupby([pd.Grouper(key = 'order_purchase_dt', freq='ME'), 'customer_unique_id'])['order_id']\n",
        "    .nunique()\n",
        "    .reset_index()\n",
        ")"
      ]
    },
    {
      "cell_type": "code",
      "execution_count": null,
      "metadata": {},
      "outputs": [],
      "source": [
        "labels = pd.Series(dict(\n",
        "    order_purchase_dt = 'Date'\n",
        "    , order_id = 'Average Number of Orders per Customer'\n",
        "))\n",
        "fig = tmp_df_res.viz.line(\n",
        "    x=labels.index[0]\n",
        "    , y=labels.index[1]\n",
        "    , agg_func='mean'\n",
        "    , freq='ME'          \n",
        "    , labels=labels\n",
        "    , title='Average Number of Orders per Customer by Month'\n",
        ")\n",
        "pb.to_slide(fig)\n",
        "fig.show()"
      ]
    },
    {
      "cell_type": "markdown",
      "metadata": {},
      "source": [
        "**Key Observations:**  \n",
        "\n",
        "- The average number of orders per user fluctuates around 1 throughout the entire period."
      ]
    },
    {
      "cell_type": "markdown",
      "metadata": {},
      "source": [
        "## Number of Reviews"
      ]
    },
    {
      "cell_type": "code",
      "execution_count": null,
      "metadata": {},
      "outputs": [],
      "source": [
        "pb.configure(\n",
        "    df = df_reviews\n",
        "    , time_column = 'review_creation_dt'\n",
        "    , time_column_label = 'Date'\n",
        "    , metric = 'review_id'\n",
        "    , metric_label = 'Number of Reviews'\n",
        "    , agg_func = 'nunique'\n",
        "    , freq = 'ME'\n",
        ")"
      ]
    },
    {
      "cell_type": "markdown",
      "metadata": {},
      "source": [
        "**By Day and Month**"
      ]
    },
    {
      "cell_type": "code",
      "execution_count": null,
      "metadata": {},
      "outputs": [],
      "source": [
        "for freq in ['D', 'ME']:\n",
        "    pb.line_resample(\n",
        "        freq=freq\n",
        "        , to_slide=True if freq == 'ME' else False\n",
        "    ).show()"
      ]
    },
    {
      "cell_type": "markdown",
      "metadata": {},
      "source": [
        "**Key Observations:**  \n",
        "\n",
        "- Daily review counts fluctuate significantly with extreme drops  \n",
        "- Reviews may not be recorded daily but in batches  \n",
        "- Review counts grew steadily until 2018, then stabilized at 6-8k monthly  "
      ]
    },
    {
      "cell_type": "markdown",
      "metadata": {},
      "source": [
        "**By Day of Week**"
      ]
    },
    {
      "cell_type": "code",
      "execution_count": null,
      "metadata": {},
      "outputs": [],
      "source": [
        "pb.area_resample(color='review_creation_weekday', freq='W', title='Number of Reviews by Day of Week and Week')"
      ]
    },
    {
      "cell_type": "code",
      "execution_count": null,
      "metadata": {},
      "outputs": [],
      "source": [
        "pb.heatmap(x=pd.Grouper(key=pb.time_column, freq='W')\n",
        "        , y='review_creation_weekday'\n",
        "        , text_auto=False\n",
        "        , title='Number of Reviews by Day of Week and Week'\n",
        "        , to_slide=True\n",
        ")"
      ]
    },
    {
      "cell_type": "markdown",
      "metadata": {},
      "source": [
        "**Key Observations:**  \n",
        "\n",
        "- Significantly fewer reviews created on Mondays/Sundays  \n",
        "- Minimal differences between other weekdays  "
      ]
    },
    {
      "cell_type": "markdown",
      "metadata": {},
      "source": [
        "**By Weekday vs Weekend**"
      ]
    },
    {
      "cell_type": "code",
      "execution_count": null,
      "metadata": {},
      "outputs": [],
      "source": [
        "pb.line_resample(color='review_day_type')"
      ]
    },
    {
      "cell_type": "markdown",
      "metadata": {},
      "source": [
        "**Key Observations:**  \n",
        "\n",
        "- Workdays consistently generate more reviews than weekends  "
      ]
    },
    {
      "cell_type": "markdown",
      "metadata": {},
      "source": [
        "**By Review Score**"
      ]
    },
    {
      "cell_type": "code",
      "execution_count": null,
      "metadata": {},
      "outputs": [],
      "source": [
        "pb.line_resample(color='review_score')"
      ]
    },
    {
      "cell_type": "markdown",
      "metadata": {},
      "source": [
        "**Key Observations:**  \n",
        "\n",
        "- 5-star reviews significantly outnumber others monthly  \n",
        "- 2-star reviews are consistently the least common  \n",
        "- More 1-star reviews than 2/3-star reviews  "
      ]
    },
    {
      "cell_type": "markdown",
      "metadata": {},
      "source": [
        "## Review Score"
      ]
    },
    {
      "cell_type": "code",
      "execution_count": null,
      "metadata": {},
      "outputs": [],
      "source": [
        "pb.configure(\n",
        "    df = df_reviews\n",
        "    , time_column = 'review_creation_dt'\n",
        "    , time_column_label = 'Date'\n",
        "    , metric = 'review_score'\n",
        "    , metric_label = 'Average Review Score'      \n",
        "    , agg_func = 'mean'\n",
        "    , freq = 'ME'\n",
        ")"
      ]
    },
    {
      "cell_type": "markdown",
      "metadata": {},
      "source": [
        "**By Day and Month**"
      ]
    },
    {
      "cell_type": "code",
      "execution_count": null,
      "metadata": {},
      "outputs": [],
      "source": [
        "for freq in ['D', 'ME']:\n",
        "    pb.line_resample(\n",
        "        freq=freq\n",
        "        , to_slide=True if freq == 'ME' else False\n",
        "    ).show()"
      ]
    },
    {
      "cell_type": "markdown",
      "metadata": {},
      "source": [
        "**Key Observations:**  \n",
        "\n",
        "- Daily average review scores fluctuate wildly (3-5)  \n",
        "- Monthly averages declined from August 2017 to March 2018, then spiked  "
      ]
    },
    {
      "cell_type": "markdown",
      "metadata": {},
      "source": [
        "**By Weekday vs Weekend**"
      ]
    },
    {
      "cell_type": "code",
      "execution_count": null,
      "metadata": {},
      "outputs": [],
      "source": [
        "pb.line_resample(color='review_day_type', to_slide=True)"
      ]
    },
    {
      "cell_type": "markdown",
      "metadata": {},
      "source": [
        "**Key Observations:**  \n",
        "\n",
        "- Workdays consistently have higher average review scores than weekends  "
      ]
    },
    {
      "cell_type": "markdown",
      "metadata": {},
      "source": [
        "## NPS"
      ]
    },
    {
      "cell_type": "markdown",
      "metadata": {},
      "source": [
        "For calculating NPS, we will divide customers into the following groups:\n",
        "- Promoters: customers who gave a rating of 5\n",
        "- Passive: customers who gave a rating of 4\n",
        "- Detractors: customers who gave a rating of 1-3"
      ]
    },
    {
      "cell_type": "markdown",
      "metadata": {},
      "source": [
        "Let's look at how NPS changed by month."
      ]
    },
    {
      "cell_type": "code",
      "execution_count": null,
      "metadata": {},
      "outputs": [],
      "source": [
        "tmp_df_res = (\n",
        "    df_reviews.pivot_table(index=pd.Grouper(key='review_creation_dt', freq='ME'), columns='review_score', values='review_id', aggfunc='nunique')\n",
        ")\n",
        "tmp_df_res['total_responses'] = tmp_df_res.sum(axis=1)\n",
        "tmp_df_res['promoters'] = tmp_df_res[5]\n",
        "tmp_df_res['detractors'] = tmp_df_res[1] + tmp_df_res[2] + tmp_df_res[3]\n",
        "tmp_df_res['nps'] = (tmp_df_res['promoters'] - tmp_df_res['detractors']) * 100 / tmp_df_res['total_responses']\n",
        "tmp_df_res.reset_index(inplace=True)"
      ]
    },
    {
      "cell_type": "code",
      "execution_count": null,
      "metadata": {},
      "outputs": [],
      "source": [
        "labels = pd.Series(dict(\n",
        "    review_creation_dt = 'Date'\n",
        "    , nps = 'NPS'\n",
        "))\n",
        "fig = tmp_df_res.viz.line(\n",
        "    x=labels.index[0]\n",
        "    , y=labels.index[1]\n",
        "    , labels=labels\n",
        "    , title='NPS by month'\n",
        ")\n",
        "pb.to_slide(fig)\n",
        "fig.show()"
      ]
    },
    {
      "cell_type": "markdown",
      "metadata": {},
      "source": [
        "**Key Observations:**  \n",
        "\n",
        "- NPS remains satisfactory (0-49) throughout  \n",
        "- Many neutral customers, few critical issues  \n",
        "- Significant NPS drop in March 2018  "
      ]
    },
    {
      "cell_type": "markdown",
      "metadata": {},
      "source": [
        "## Freight Cost Ratio"
      ]
    },
    {
      "cell_type": "code",
      "execution_count": null,
      "metadata": {},
      "outputs": [],
      "source": [
        "pb.configure(\n",
        "    df = df_sales\n",
        "    , time_column = 'order_purchase_dt'\n",
        "    , time_column_label = 'Date'\n",
        "    , metric = 'freight_ratio'\n",
        "    , metric_label = 'Average Freight Cost Ratio'\n",
        "    , agg_func = 'mean'\n",
        "    , freq = 'ME'\n",
        "    , update_fig={'yaxis': {'tickformat': '.1%'}}\n",
        ")"
      ]
    },
    {
      "cell_type": "markdown",
      "metadata": {},
      "source": [
        "**By Day and Month**"
      ]
    },
    {
      "cell_type": "code",
      "execution_count": null,
      "metadata": {},
      "outputs": [],
      "source": [
        "for freq in ['D', 'ME']:\n",
        "    pb.line_resample(\n",
        "        freq=freq\n",
        "        , to_slide=True if freq == 'ME' else False\n",
        "    ).show()"
      ]
    },
    {
      "cell_type": "markdown",
      "metadata": {},
      "source": [
        "**Key Observations:**  \n",
        "\n",
        "- Shipping cost share of order value remains stable (0.2-0.22)  "
      ]
    },
    {
      "cell_type": "markdown",
      "metadata": {},
      "source": [
        "**By Order Weight Category**"
      ]
    },
    {
      "cell_type": "code",
      "execution_count": null,
      "metadata": {},
      "outputs": [],
      "source": [
        "pb.line_resample(color='order_total_weight_cat')"
      ]
    },
    {
      "cell_type": "markdown",
      "metadata": {},
      "source": [
        "**Key Observations:**  \n",
        "\n",
        "- Light items have higher shipping cost share than medium/heavy  \n",
        "- Minimal difference between medium/heavy items  "
      ]
    },
    {
      "cell_type": "markdown",
      "metadata": {},
      "source": [
        "**By Presence of Installment Payments**"
      ]
    },
    {
      "cell_type": "code",
      "execution_count": null,
      "metadata": {},
      "outputs": [],
      "source": [
        "pb.line_resample(color='order_has_installment')"
      ]
    },
    {
      "cell_type": "markdown",
      "metadata": {},
      "source": [
        "**Key Observations:**  \n",
        "\n",
        "- Installment orders consistently have lower shipping cost share  "
      ]
    },
    {
      "cell_type": "markdown",
      "metadata": {},
      "source": [
        "**By Top Customer States**"
      ]
    },
    {
      "cell_type": "code",
      "execution_count": null,
      "metadata": {},
      "outputs": [],
      "source": [
        "pb.line_resample(color='customer_state')"
      ]
    },
    {
      "cell_type": "markdown",
      "metadata": {},
      "source": [
        "**Key Observations:**  \n",
        "\n",
        "- São Paulo consistently has lowest shipping cost share among top states  "
      ]
    },
    {
      "cell_type": "markdown",
      "metadata": {},
      "source": [
        "**By Top Customer Cities**"
      ]
    },
    {
      "cell_type": "code",
      "execution_count": null,
      "metadata": {},
      "outputs": [],
      "source": [
        "pb.line_resample(color='customer_city')"
      ]
    },
    {
      "cell_type": "markdown",
      "metadata": {},
      "source": [
        "**Key Observations:**  \n",
        "\n",
        "- São Paulo city usually has lowest shipping cost share among top cities  "
      ]
    },
    {
      "cell_type": "markdown",
      "metadata": {},
      "source": [
        "## Delivery Time"
      ]
    },
    {
      "cell_type": "code",
      "execution_count": null,
      "metadata": {},
      "outputs": [],
      "source": [
        "pb.configure(\n",
        "    df = df_sales.dropna(subset='delivery_time_days')\n",
        "    , time_column = 'order_purchase_dt'\n",
        "    , time_column_label = 'Date'\n",
        "    , metric = 'delivery_time_days'\n",
        "    , metric_label = 'Average Delivery Time, days'\n",
        "    , metric_label_for_distribution = 'Delivery Time, days'     \n",
        "    , agg_func = 'mean'\n",
        "    , freq = 'ME'\n",
        ")"
      ]
    },
    {
      "cell_type": "markdown",
      "metadata": {},
      "source": [
        "**By Day and Month**"
      ]
    },
    {
      "cell_type": "code",
      "execution_count": null,
      "metadata": {},
      "outputs": [],
      "source": [
        "pb.box(mode='time_series', freq='M').show()\n",
        "pb.box(mode='time_series', freq='M', upper_quantile=0.95).show()\n",
        "for freq in ['D', 'ME']:\n",
        "    pb.line_resample(\n",
        "        freq=freq\n",
        "        , to_slide=True if freq == 'ME' else False\n",
        "    ).show()"
      ]
    },
    {
      "cell_type": "markdown",
      "metadata": {},
      "source": [
        "**Key Observations:**  \n",
        "\n",
        "- Average delivery time fluctuates daily (5-20 days)  \n",
        "- Grew from August 2017-February 2018, then dropped sharply to ~8 days  "
      ]
    },
    {
      "cell_type": "markdown",
      "metadata": {},
      "source": [
        "**By Review Score**"
      ]
    },
    {
      "cell_type": "code",
      "execution_count": null,
      "metadata": {},
      "outputs": [],
      "source": [
        "pb.line_resample(color='order_avg_reviews_score', to_slide=True)"
      ]
    },
    {
      "cell_type": "markdown",
      "metadata": {},
      "source": [
        "**Key Observations:**  \n",
        "\n",
        "- Lower ratings typically correlate with longer delivery times  "
      ]
    },
    {
      "cell_type": "markdown",
      "metadata": {},
      "source": [
        "**By Top Customer States**"
      ]
    },
    {
      "cell_type": "code",
      "execution_count": null,
      "metadata": {},
      "outputs": [],
      "source": [
        "pb.line_resample(color='customer_state', to_slide=True)"
      ]
    },
    {
      "cell_type": "markdown",
      "metadata": {},
      "source": [
        "**Key Observations:**  \n",
        "\n",
        "- São Paulo consistently has fastest delivery among top states  \n",
        "- Rio de Janeiro and Rio Grande do Sul show slowest deliveries  "
      ]
    },
    {
      "cell_type": "markdown",
      "metadata": {},
      "source": [
        "**By Top Customer Cities**"
      ]
    },
    {
      "cell_type": "code",
      "execution_count": null,
      "metadata": {},
      "outputs": [],
      "source": [
        "pb.line_resample(color='customer_city', to_slide=True)"
      ]
    },
    {
      "cell_type": "markdown",
      "metadata": {},
      "source": [
        "**Key Observations:**  \n",
        "\n",
        "- Rio de Janeiro had steeper delivery time increases (Oct 2017-Feb 2018)  "
      ]
    },
    {
      "cell_type": "markdown",
      "metadata": {},
      "source": [
        "## Delivery Delay Time"
      ]
    },
    {
      "cell_type": "markdown",
      "metadata": {},
      "source": [
        "**By Day and Month**"
      ]
    },
    {
      "cell_type": "code",
      "execution_count": null,
      "metadata": {},
      "outputs": [],
      "source": [
        "labels = pd.Series(dict(\n",
        "    order_purchase_dt = 'Date'\n",
        "    , delivery_delay_days = 'Average Delivery Delay Time, days'\n",
        "))\n",
        "for freq, period in [('D', 'Day'), ('ME', 'Month')]:\n",
        "    fig = df_sales.viz.line(\n",
        "            x=labels.index[0]\n",
        "            , y=labels.index[1]\n",
        "            , agg_func='mean'\n",
        "            , freq=freq\n",
        "            , labels=labels\n",
        "            , title=f'Average Delivery Delay Time by {period}'\n",
        "    )\n",
        "    if freq == 'ME':\n",
        "        pb.to_slide(fig)\n",
        "    fig.show()"
      ]
    },
    {
      "cell_type": "markdown",
      "metadata": {},
      "source": [
        "**Key Observations:**  \n",
        "\n",
        "- All months show faster-than-expected deliveries  \n",
        "- Early 2017 to March 2017: improving lead times (~12 days ahead)  \n",
        "- June 2018: deliveries ~20 days ahead of estimates  "
      ]
    },
    {
      "cell_type": "markdown",
      "metadata": {},
      "source": [
        "## Carrier Handoff Delay"
      ]
    },
    {
      "cell_type": "markdown",
      "metadata": {},
      "source": [
        "**By Day and Month**"
      ]
    },
    {
      "cell_type": "code",
      "execution_count": null,
      "metadata": {},
      "outputs": [],
      "source": [
        "labels = pd.Series(dict(\n",
        "    order_purchase_dt = 'Date'\n",
        "    , avg_carrier_delivery_delay_days = 'Average Carrier Handoff Delay, days'\n",
        "))\n",
        "for freq, period in [('D', 'Day'), ('ME', 'Month')]:\n",
        "    fig = df_sales.viz.line(\n",
        "            x=labels.index[0]\n",
        "            , y=labels.index[1]\n",
        "            , agg_func='mean'\n",
        "            , freq=freq\n",
        "            , labels=labels\n",
        "            , title=f'Average Carrier Handoff Delay by {period}'\n",
        "    )\n",
        "    if freq == 'ME':\n",
        "        pb.to_slide(fig)\n",
        "    fig.show()"
      ]
    },
    {
      "cell_type": "markdown",
      "metadata": {},
      "source": [
        "**Key Observations:**  \n",
        "\n",
        "- Carrier handoff consistently faster than limits  \n",
        "- Pre-May 2017: improving lead times (peaked at 4.5 days ahead)  \n",
        "- Post-May 2017: declining to ~2.5 days ahead by August  "
      ]
    },
    {
      "cell_type": "markdown",
      "metadata": {},
      "source": [
        "## Proportion of Each Stage in Delivery Time"
      ]
    },
    {
      "cell_type": "markdown",
      "metadata": {},
      "source": [
        "Let's look at what percentage of the total delivery time each stage occupies. \n",
        "\n",
        "We will not consider any anomalous dates, as there are only a few and they will not significantly affect the result.\n"
      ]
    },
    {
      "cell_type": "code",
      "execution_count": null,
      "metadata": {},
      "outputs": [],
      "source": [
        "tmp_df_sales = (\n",
        "    df_sales[[\n",
        "        'order_purchase_dt',\n",
        "        'order_approved_dt',\n",
        "        'order_delivered_carrier_dt',\n",
        "        'order_delivered_customer_dt',\n",
        "    ]]\n",
        "    [lambda x: (x.order_delivered_customer_dt >= x.order_purchase_dt) & (x.order_approved_dt >= x.order_purchase_dt)\n",
        "        & (x.order_delivered_carrier_dt >= x.order_approved_dt) & (x.order_delivered_customer_dt >= x.order_delivered_carrier_dt)\n",
        "     ]\n",
        "    .dropna()\n",
        ")"
      ]
    },
    {
      "cell_type": "code",
      "execution_count": null,
      "metadata": {},
      "outputs": [],
      "source": [
        "tmp_df_sales['from_purchase_to_customer'] = (tmp_df_sales['order_delivered_customer_dt'] - tmp_df_sales['order_purchase_dt']).dt.total_seconds()\n",
        "tmp_df_sales['From Purchase to Approved'] = (\n",
        "    (tmp_df_sales['order_approved_dt'] - tmp_df_sales['order_purchase_dt']).dt.total_seconds() * 100 / tmp_df_sales['from_purchase_to_customer']\n",
        ").round(2)\n",
        "tmp_df_sales['From Approved to Carrier'] = (\n",
        "    (tmp_df_sales['order_delivered_carrier_dt'] - tmp_df_sales['order_approved_dt']).dt.total_seconds() * 100 / tmp_df_sales['from_purchase_to_customer']\n",
        ").round(2)\n",
        "tmp_df_sales['From Carrier to Customer'] = (\n",
        "    (tmp_df_sales['order_delivered_customer_dt'] - tmp_df_sales['order_delivered_carrier_dt']).dt.total_seconds() * 100 / tmp_df_sales['from_purchase_to_customer']\n",
        ").round(2) "
      ]
    },
    {
      "cell_type": "code",
      "execution_count": null,
      "metadata": {},
      "outputs": [],
      "source": [
        "tmp_df_sales = (\n",
        "    tmp_df_sales[['order_purchase_dt', 'From Purchase to Approved', 'From Approved to Carrier', 'From Carrier to Customer']]\n",
        "    .melt(id_vars = 'order_purchase_dt', var_name='Stage', value_name='Percent of All Delivery Time')\n",
        "    .rename(columns={'order_purchase_dt': 'Date'})\n",
        ")"
      ]
    },
    {
      "cell_type": "code",
      "execution_count": null,
      "metadata": {},
      "outputs": [],
      "source": [
        "category_orders = {\n",
        "    'Stage': ['From Purchase to Approved', 'From Approved to Carrier', 'From Carrier to Customer']\n",
        "}\n",
        "fig = tmp_df_sales.viz.area(\n",
        "    x='Date'\n",
        "    , y='Percent of All Delivery Time'\n",
        "    , color='Stage'\n",
        "    , agg_func='mean'\n",
        "    , freq='ME'\n",
        "    , title='Average Percent of All Delivery Time by Stage and Month'\n",
        "    , category_orders=category_orders\n",
        ")\n",
        "pb.to_slide(fig)\n",
        "fig.show()"
      ]
    },
    {
      "cell_type": "markdown",
      "metadata": {},
      "source": [
        "**Key Observations:**  \n",
        "\n",
        "- Carrier delivery consumes most of total delivery time  "
      ]
    },
    {
      "cell_type": "markdown",
      "metadata": {},
      "source": [
        "## Order Weight"
      ]
    },
    {
      "cell_type": "code",
      "execution_count": null,
      "metadata": {},
      "outputs": [],
      "source": [
        "pb.configure(\n",
        "    df = df_sales\n",
        "    , time_column = 'order_purchase_dt'\n",
        "    , time_column_label = 'Date'\n",
        "    , metric = 'total_weight_kg'\n",
        "    , metric_label = 'Average Weight of Orders, kg'\n",
        "    , metric_label_for_distribution = 'Weight of Orders, kg'   \n",
        "    , agg_func = 'mean'\n",
        "    , freq = 'ME'\n",
        ")"
      ]
    },
    {
      "cell_type": "markdown",
      "metadata": {},
      "source": [
        "**By Day and Month**"
      ]
    },
    {
      "cell_type": "code",
      "execution_count": null,
      "metadata": {},
      "outputs": [],
      "source": [
        "pb.box(mode='time_series', freq='M').show()\n",
        "pb.box(mode='time_series', freq='M', upper_quantile=0.95).show()\n",
        "for freq in ['D', 'ME']:\n",
        "    pb.line_resample(freq=freq).show()"
      ]
    },
    {
      "cell_type": "markdown",
      "metadata": {},
      "source": [
        "**Key Observations:**  \n",
        "\n",
        "- Average order weight declining monthly (2.8kg → 1.9kg)   "
      ]
    },
    {
      "cell_type": "markdown",
      "metadata": {},
      "source": [
        "**By Review Score**"
      ]
    },
    {
      "cell_type": "code",
      "execution_count": null,
      "metadata": {},
      "outputs": [],
      "source": [
        "pb.line_resample(color='order_avg_reviews_score')"
      ]
    },
    {
      "cell_type": "markdown",
      "metadata": {},
      "source": [
        "**Key Observations:**  \n",
        "\n",
        "- 1-star orders typically heaviest  \n",
        "- 2-star orders show most monthly weight variability  "
      ]
    },
    {
      "cell_type": "markdown",
      "metadata": {},
      "source": [
        "**By Whether the Order is Delayed or Not**"
      ]
    },
    {
      "cell_type": "code",
      "execution_count": null,
      "metadata": {},
      "outputs": [],
      "source": [
        "pb.line_resample(color='is_delayed')"
      ]
    },
    {
      "cell_type": "markdown",
      "metadata": {},
      "source": [
        "**Key Observations:**  \n",
        "\n",
        "- Delayed orders usually heavier  \n",
        "- Non-delayed weights more stable monthly  "
      ]
    },
    {
      "cell_type": "markdown",
      "metadata": {},
      "source": [
        "**By Presence of Installment Payments**"
      ]
    },
    {
      "cell_type": "code",
      "execution_count": null,
      "metadata": {},
      "outputs": [],
      "source": [
        "pb.line_resample(color='order_has_installment')"
      ]
    },
    {
      "cell_type": "markdown",
      "metadata": {},
      "source": [
        "**Key Observations:**  \n",
        "\n",
        "- Installment orders consistently heavier  "
      ]
    },
    {
      "cell_type": "markdown",
      "metadata": {},
      "source": [
        "**By Delivery Time Category**"
      ]
    },
    {
      "cell_type": "code",
      "execution_count": null,
      "metadata": {},
      "outputs": [],
      "source": [
        "pb.line_resample(color='delivery_time_days_cat')"
      ]
    },
    {
      "cell_type": "markdown",
      "metadata": {},
      "source": [
        "**Key Observations:**  \n",
        "\n",
        "- Lighter orders typically deliver faster  "
      ]
    },
    {
      "cell_type": "markdown",
      "metadata": {},
      "source": [
        "**By Top Customer Cities**"
      ]
    },
    {
      "cell_type": "code",
      "execution_count": null,
      "metadata": {},
      "outputs": [],
      "source": [
        "pb.line_resample(color='customer_city')"
      ]
    },
    {
      "cell_type": "markdown",
      "metadata": {},
      "source": [
        "**Key Observations:**  \n",
        "\n",
        "- Curitiba shows most monthly weight variability among top cities  "
      ]
    },
    {
      "cell_type": "markdown",
      "metadata": {},
      "source": [
        "## Number of Products in Order"
      ]
    },
    {
      "cell_type": "markdown",
      "metadata": {},
      "source": [
        "Prepare dataframe for analysis."
      ]
    },
    {
      "cell_type": "code",
      "execution_count": null,
      "metadata": {},
      "outputs": [],
      "source": [
        "pb.configure(\n",
        "    df = df_sales\n",
        "    , time_column = 'order_purchase_dt'\n",
        "    , time_column_label = 'Date'\n",
        "    , metric = 'products_cnt'\n",
        "    , metric_label = 'Average Number of Products in Order'\n",
        "    , metric_label_for_distribution = 'Number of Products in Order'   \n",
        "    , agg_func = 'mean'\n",
        "    , freq = 'ME'\n",
        ")"
      ]
    },
    {
      "cell_type": "markdown",
      "metadata": {},
      "source": [
        "**By Day and Month**"
      ]
    },
    {
      "cell_type": "code",
      "execution_count": null,
      "metadata": {},
      "outputs": [],
      "source": [
        "pb.box(mode='time_series', freq='M').show()\n",
        "for freq in ['D', 'ME']:\n",
        "    pb.line_resample(freq=freq).show()"
      ]
    },
    {
      "cell_type": "markdown",
      "metadata": {},
      "source": [
        "**Key Observations:**  \n",
        "\n",
        "- Average products per order remains stable (1.12-1.16)  "
      ]
    },
    {
      "cell_type": "markdown",
      "metadata": {},
      "source": [
        "**By Review Score**"
      ]
    },
    {
      "cell_type": "code",
      "execution_count": null,
      "metadata": {},
      "outputs": [],
      "source": [
        "pb.line_resample(color='order_avg_reviews_score')"
      ]
    },
    {
      "cell_type": "markdown",
      "metadata": {},
      "source": [
        "**Key Observations:**  \n",
        "\n",
        "- 1/2-star orders typically have more products  \n",
        "- 4/5-star orders usually have fewest products  "
      ]
    },
    {
      "cell_type": "markdown",
      "metadata": {},
      "source": [
        "**By Whether the Order is Delayed or Not**"
      ]
    },
    {
      "cell_type": "code",
      "execution_count": null,
      "metadata": {},
      "outputs": [],
      "source": [
        "pb.box(mode='time_series', color='is_delayed', freq='M').show()\n",
        "pb.line_resample(color='is_delayed')"
      ]
    },
    {
      "cell_type": "markdown",
      "metadata": {},
      "source": [
        "**Key Observations:**  \n",
        "\n",
        "- Delayed orders show more product count variability  "
      ]
    },
    {
      "cell_type": "markdown",
      "metadata": {},
      "source": [
        "**By Presence of Installment Payments**"
      ]
    },
    {
      "cell_type": "code",
      "execution_count": null,
      "metadata": {},
      "outputs": [],
      "source": [
        "pb.box(mode='time_series', color='order_has_installment', freq='M').show()\n",
        "pb.line_resample(color='order_has_installment')"
      ]
    },
    {
      "cell_type": "markdown",
      "metadata": {},
      "source": [
        "**Key Observations:**  \n",
        "\n",
        "- Installment orders usually contain more products  "
      ]
    },
    {
      "cell_type": "markdown",
      "metadata": {},
      "source": [
        "**By Top Customer Cities**"
      ]
    },
    {
      "cell_type": "code",
      "execution_count": null,
      "metadata": {},
      "outputs": [],
      "source": [
        "pb.line_resample(color='customer_city')"
      ]
    },
    {
      "cell_type": "markdown",
      "metadata": {},
      "source": [
        "**Key Observations:**  \n",
        "\n",
        "- Curitiba shows most monthly product count variability  "
      ]
    },
    {
      "cell_type": "markdown",
      "metadata": {},
      "source": [
        "## Number of Unique Products in Order"
      ]
    },
    {
      "cell_type": "code",
      "execution_count": null,
      "metadata": {},
      "outputs": [],
      "source": [
        "pb.configure(\n",
        "    df = df_sales\n",
        "    , time_column = 'order_purchase_dt'\n",
        "    , time_column_label = 'Date'\n",
        "    , metric = 'unique_products_cnt'\n",
        "    , metric_label = 'Average Number of Unique Products in Order'\n",
        "    , metric_label_for_distribution = 'Number of Unique Products in Order'    \n",
        "    , agg_func = 'mean'\n",
        "    , freq = 'ME'\n",
        ")"
      ]
    },
    {
      "cell_type": "markdown",
      "metadata": {},
      "source": [
        "**By Day and Month**"
      ]
    },
    {
      "cell_type": "code",
      "execution_count": null,
      "metadata": {},
      "outputs": [],
      "source": [
        "pb.box(mode='time_series', freq='M').show()\n",
        "for freq in ['D', 'ME']:\n",
        "    pb.line_resample(freq=freq).show()"
      ]
    },
    {
      "cell_type": "markdown",
      "metadata": {},
      "source": [
        "**Key Observations:**  \n",
        "\n",
        "- Average unique products per order remains stable (1.03-1.045)  "
      ]
    },
    {
      "cell_type": "markdown",
      "metadata": {},
      "source": [
        "**By Review Score**"
      ]
    },
    {
      "cell_type": "code",
      "execution_count": null,
      "metadata": {},
      "outputs": [],
      "source": [
        "pb.line_resample(color='order_avg_reviews_score')"
      ]
    },
    {
      "cell_type": "markdown",
      "metadata": {},
      "source": [
        "**Key Observations:**  \n",
        "\n",
        "- 1/2-star orders have more unique products  \n",
        "- 4/5-star orders have fewest unique products  "
      ]
    },
    {
      "cell_type": "markdown",
      "metadata": {},
      "source": [
        "**By Whether the Order is Delayed or Not**"
      ]
    },
    {
      "cell_type": "code",
      "execution_count": null,
      "metadata": {},
      "outputs": [],
      "source": [
        "pb.box(mode='time_series', color='is_delayed', freq='M').show()\n",
        "pb.line_resample(color='is_delayed')"
      ]
    },
    {
      "cell_type": "markdown",
      "metadata": {},
      "source": [
        "**Key Observations:**  \n",
        "\n",
        "- Non-delayed orders slightly higher in unique products  \n",
        "- Delayed orders show more variability  "
      ]
    },
    {
      "cell_type": "markdown",
      "metadata": {},
      "source": [
        "**By Presence of Installment Payments**"
      ]
    },
    {
      "cell_type": "code",
      "execution_count": null,
      "metadata": {},
      "outputs": [],
      "source": [
        "pb.box(mode='time_series', color='order_has_installment', freq='M').show()\n",
        "pb.line_resample(color='order_has_installment')"
      ]
    },
    {
      "cell_type": "markdown",
      "metadata": {},
      "source": [
        "**Key Observations:**  \n",
        "\n",
        "- Installment orders consistently have more unique products  "
      ]
    },
    {
      "cell_type": "markdown",
      "metadata": {},
      "source": [
        "## Product Price in Order"
      ]
    },
    {
      "cell_type": "code",
      "execution_count": null,
      "metadata": {},
      "outputs": [],
      "source": [
        "pb.configure(\n",
        "    df = df_sales\n",
        "    , time_column = 'order_purchase_dt'\n",
        "    , time_column_label = 'Date'\n",
        "    , metric = 'avg_products_price'\n",
        "    , metric_label = 'Average Product Price in Order, R$'\n",
        "    , metric_label_for_distribution = 'Product Price in Order, R$'  \n",
        "    , agg_func = 'mean'\n",
        "    , freq = 'ME'\n",
        ")"
      ]
    },
    {
      "cell_type": "markdown",
      "metadata": {},
      "source": [
        "**By Day and Month**"
      ]
    },
    {
      "cell_type": "code",
      "execution_count": null,
      "metadata": {},
      "outputs": [],
      "source": [
        "pb.box(mode='time_series', freq='M').show()\n",
        "pb.box(mode='time_series', freq='M', upper_quantile=0.95).show()\n",
        "for freq in ['D', 'ME']:\n",
        "    pb.line_resample(freq=freq).show()"
      ]
    },
    {
      "cell_type": "markdown",
      "metadata": {},
      "source": [
        "**Key Observations:**  \n",
        "\n",
        "- No Black Friday spike in average product price  \n",
        "- Monthly average product price fluctuates (115-135 R$)  \n",
        "- Clear seasonality:  \n",
        "  - Pre-July 2017: decline  \n",
        "  - July-Oct 2017: growth  \n",
        "  - Oct 2017-Mar 2018: decline  \n",
        "  - Mar-Apr 2018: growth  \n",
        "  - Post-Apr 2018: decline  "
      ]
    },
    {
      "cell_type": "markdown",
      "metadata": {},
      "source": [
        "**By Review Score**"
      ]
    },
    {
      "cell_type": "code",
      "execution_count": null,
      "metadata": {},
      "outputs": [],
      "source": [
        "pb.line_resample(color='order_avg_reviews_score')"
      ]
    },
    {
      "cell_type": "markdown",
      "metadata": {},
      "source": [
        "**Key Observations:**  \n",
        "\n",
        "- 1-star orders typically have highest product prices  \n",
        "- 3-star orders usually lowest  "
      ]
    },
    {
      "cell_type": "markdown",
      "metadata": {},
      "source": [
        "**By Whether the Order is Delayed or Not**"
      ]
    },
    {
      "cell_type": "code",
      "execution_count": null,
      "metadata": {},
      "outputs": [],
      "source": [
        "pb.line_resample(color='is_delayed')"
      ]
    },
    {
      "cell_type": "markdown",
      "metadata": {},
      "source": [
        "**Key Observations:**  \n",
        "\n",
        "- Delayed orders usually have higher product prices  \n",
        "- June 2017 saw sharp price spike in delayed orders  "
      ]
    },
    {
      "cell_type": "markdown",
      "metadata": {},
      "source": [
        "**By Presence of Installment Payments**"
      ]
    },
    {
      "cell_type": "code",
      "execution_count": null,
      "metadata": {},
      "outputs": [],
      "source": [
        "pb.line_resample(color='order_has_installment')"
      ]
    },
    {
      "cell_type": "markdown",
      "metadata": {},
      "source": [
        "**Key Observations:**  \n",
        "\n",
        "- Installment orders have significantly higher product prices  "
      ]
    },
    {
      "cell_type": "markdown",
      "metadata": {},
      "source": [
        "## Number of Sellers in Order"
      ]
    },
    {
      "cell_type": "code",
      "execution_count": null,
      "metadata": {},
      "outputs": [],
      "source": [
        "pb.configure(\n",
        "    df = df_sales\n",
        "    , time_column = 'order_purchase_dt'\n",
        "    , time_column_label = 'Date'\n",
        "    , metric = 'sellers_cnt'\n",
        "    , metric_label = 'Average Number of Sellers in Order'\n",
        "    , metric_label_for_distribution = 'Number of Sellers in Order'    \n",
        "    , agg_func = 'mean'\n",
        "    , freq = 'ME'\n",
        ")"
      ]
    },
    {
      "cell_type": "markdown",
      "metadata": {},
      "source": [
        "**By Day and Month**"
      ]
    },
    {
      "cell_type": "code",
      "execution_count": null,
      "metadata": {},
      "outputs": [],
      "source": [
        "pb.box(mode='time_series', freq='M').show()\n",
        "for freq in ['D', 'ME']:\n",
        "    pb.line_resample(freq=freq).show()"
      ]
    },
    {
      "cell_type": "markdown",
      "metadata": {},
      "source": [
        "**Key Observations:**  \n",
        "\n",
        "- Average sellers per order grows minimally (1→1.02)  "
      ]
    },
    {
      "cell_type": "markdown",
      "metadata": {},
      "source": [
        "**By Review Score**"
      ]
    },
    {
      "cell_type": "code",
      "execution_count": null,
      "metadata": {},
      "outputs": [],
      "source": [
        "pb.line_resample(color='order_avg_reviews_score')"
      ]
    },
    {
      "cell_type": "markdown",
      "metadata": {},
      "source": [
        "**Key Observations:**  \n",
        "\n",
        "- 1/2-star orders typically involve more sellers  \n",
        "- 4/5-star orders involve fewest sellers  "
      ]
    },
    {
      "cell_type": "markdown",
      "metadata": {},
      "source": [
        "**By Whether the Order is Delayed or Not**"
      ]
    },
    {
      "cell_type": "code",
      "execution_count": null,
      "metadata": {},
      "outputs": [],
      "source": [
        "pb.box(mode='time_series', color='is_delayed', freq='M').show()\n",
        "pb.line_resample(color='is_delayed')"
      ]
    },
    {
      "cell_type": "markdown",
      "metadata": {},
      "source": [
        "**Key Observations:**  \n",
        "\n",
        "- Non-delayed orders slightly higher in seller count  \n",
        "- April 2018 saw sharp seller count spike in undelivered orders  "
      ]
    },
    {
      "cell_type": "markdown",
      "metadata": {},
      "source": [
        "**By Presence of Installment Payments**"
      ]
    },
    {
      "cell_type": "code",
      "execution_count": null,
      "metadata": {},
      "outputs": [],
      "source": [
        "pb.box(mode='time_series', color='order_has_installment', freq='M').show()\n",
        "pb.line_resample(color='order_has_installment')"
      ]
    },
    {
      "cell_type": "markdown",
      "metadata": {},
      "source": [
        "**Key Observations:**  \n",
        "\n",
        "- Installment orders consistently involve more sellers  "
      ]
    },
    {
      "cell_type": "markdown",
      "metadata": {},
      "source": [
        "## Number of Categories in Order"
      ]
    },
    {
      "cell_type": "code",
      "execution_count": null,
      "metadata": {},
      "outputs": [],
      "source": [
        "pb.configure(\n",
        "    df = df_sales\n",
        "    , time_column = 'order_purchase_dt'\n",
        "    , time_column_label = 'Date'\n",
        "    , metric = 'product_categories_cnt'\n",
        "    , metric_label = 'Average Number of Categories in Order'\n",
        "    , metric_label_for_distribution = 'Number of Categories in Order'\n",
        "    , agg_func = 'mean'\n",
        "    , freq = 'ME'\n",
        ")"
      ]
    },
    {
      "cell_type": "markdown",
      "metadata": {},
      "source": [
        "**By Day and Month**"
      ]
    },
    {
      "cell_type": "code",
      "execution_count": null,
      "metadata": {},
      "outputs": [],
      "source": [
        "pb.box(mode='time_series', freq='M').show()\n",
        "for freq in ['D', 'ME']:\n",
        "    pb.line_resample(freq=freq).show()"
      ]
    },
    {
      "cell_type": "markdown",
      "metadata": {},
      "source": [
        "**Key Observations:**  \n",
        "\n",
        "- Average categories per order remains stable  "
      ]
    },
    {
      "cell_type": "markdown",
      "metadata": {},
      "source": [
        "**By Review Score**"
      ]
    },
    {
      "cell_type": "code",
      "execution_count": null,
      "metadata": {},
      "outputs": [],
      "source": [
        "pb.line_resample(color='order_avg_reviews_score')"
      ]
    },
    {
      "cell_type": "markdown",
      "metadata": {},
      "source": [
        "**Key Observations:**  \n",
        "\n",
        "- 1/2-star orders involve more categories  "
      ]
    },
    {
      "cell_type": "markdown",
      "metadata": {},
      "source": [
        "**By Presence of Installment Payments**"
      ]
    },
    {
      "cell_type": "code",
      "execution_count": null,
      "metadata": {},
      "outputs": [],
      "source": [
        "pb.box(mode='time_series', color='order_has_installment', freq='M').show()\n",
        "pb.line_resample(color='order_has_installment')"
      ]
    },
    {
      "cell_type": "markdown",
      "metadata": {},
      "source": [
        "**Key Observations:**  \n",
        "\n",
        "- Installment orders have slightly more categories  "
      ]
    },
    {
      "cell_type": "code",
      "execution_count": null,
      "metadata": {
        "tags": [
          "remove-cell"
        ]
      },
      "outputs": [],
      "source": [
        "%run ../../_post_run.ipynb"
      ]
    }
  ],
  "metadata": {
    "kernelspec": {
      "display_name": "olist-deep-dive-kC-yxADm-py3.13",
      "language": "python",
      "name": "python3"
    },
    "language_info": {
      "codemirror_mode": {
        "name": "ipython",
        "version": 3
      },
      "file_extension": ".py",
      "mimetype": "text/x-python",
      "name": "python",
      "nbconvert_exporter": "python",
      "pygments_lexer": "ipython3",
      "version": "3.13.3"
    }
  },
  "nbformat": 4,
  "nbformat_minor": 4
}
