{
  "metadata": {},
  "nbformat": 4,
  "nbformat_minor": 4,
  "cells": [
    {
      "cell_type": "code",
      "execution_count": null,
      "metadata": {
        "tags": [
          "remove-cell"
        ]
      },
      "source": [
        "%run ../../_pre_run.ipynb"
      ],
      "outputs": []
    },
    {
      "cell_type": "markdown",
      "metadata": {},
      "source": [
        "# Customers"
      ]
    },
    {
      "cell_type": "markdown",
      "metadata": {},
      "source": [
        "## Typical Customer Profile"
      ]
    },
    {
      "cell_type": "markdown",
      "metadata": {},
      "source": [
        "**Daily Activity**:\n",
        "- Typical daily customers: 100-215\n",
        "- 5% of days had ≤45 customers; 5% had ≥291 customers\n",
        "\n",
        "**Purchase Behavior**:\n",
        "- 97% made only 1 successful purchase\n",
        "- Only 3% made >1 purchase\n",
        "- 0.24% made ≥3 purchases\n",
        "- 0.05% made ≥4 purchases\n",
        "- 0.02% made ≥5 purchases\n",
        "- 0.01% made ≥6 purchases\n",
        "- 30% made repeat purchases within 24h (likely multiple orders in one session)\n",
        "\n",
        "**Financial Metrics**:\n",
        "- 75% have lifetime spend <185 R$\n",
        "- 5% have lifetime spend ≥470 R$\n",
        "- 75% have average shipping cost ≤24 R$\n",
        "- 5% have average shipping cost ≥54 R$\n",
        "\n",
        "**Order Characteristics**:\n",
        "- 87% average 1 product per order\n",
        "- 1% average ≥3 products per order\n",
        "- 75% have average order weight ≤2kg\n",
        "- 5% have average order weight ≥10kg\n",
        "\n",
        "**Delivery Experience**:\n",
        "- 75% experience average delivery time ≤16 days\n",
        "- 5% experience ≥29 days delivery\n",
        "- Median delivery acceleration: 6-16 days\n",
        "- 5% experience ≥4 days delivery delay\n",
        "\n",
        "**Customer Retention**:\n",
        "- Median time between purchases: ≤125 days (75% of customers)\n",
        "- Maximum consecutive months purchasing: 6 months (1 customer)\n",
        "- Customers with consecutive month purchases:\n",
        "- 3 months: 8 customers\n",
        "- 2 months: 438 customers"
      ]
    },
    {
      "cell_type": "markdown",
      "metadata": {},
      "source": [
        "## RFM"
      ]
    },
    {
      "cell_type": "markdown",
      "metadata": {},
      "source": [
        "**Top Segments**:\n",
        "- High frequency + recent (fr33): Highest spenders\n",
        "- High frequency + monetary (fm33): Most customers with r3 (frequent, recent, high-value)\n",
        "\n",
        "**Loyalty Distribution**:\n",
        "- Hibernating: 22%\n",
        "- About to Sleep: 18% \n",
        "- Promising: 14%\n",
        "- Champions: 4%\n",
        "- Loyal: 7%\n",
        "- Lost: 4%"
      ]
    },
    {
      "cell_type": "markdown",
      "metadata": {},
      "source": [
        "## Customer Segmentation"
      ]
    },
    {
      "cell_type": "markdown",
      "metadata": {},
      "source": [
        "**By Activity Segment**\n",
        "\n",
        "- 3% (of all customers) did not make a single successful purchase.\n",
        "- 94% of successful customers made only one purchase.\n",
        "- 1% each in the Potential Core Audience and Short-Lived Repeat segments.\n",
        "- The Core Audience accounts for less than 1%.\n",
        "- The highest metric values are in the Core segment. Potential Core ranks second.\n",
        "- The median average rating is higher among those who made only one purchase.\n",
        "- Delivery time outperformance is highest in the Core segment and lowest in the One-Time segment."
      ]
    },
    {
      "cell_type": "markdown",
      "metadata": {},
      "source": [
        "---"
      ]
    },
    {
      "cell_type": "markdown",
      "metadata": {},
      "source": [
        "**By Purchase Amount Segment**\n",
        "\n",
        "- 49% of customers fall into the medium purchase amount segment. 24% each in the high and low segments.\n",
        "- The high purchase amount segment spends the most. This is logical.\n",
        "- The high purchase amount segment has a higher median value for average order weight."
      ]
    },
    {
      "cell_type": "markdown",
      "metadata": {},
      "source": [
        "---"
      ]
    },
    {
      "cell_type": "markdown",
      "metadata": {},
      "source": [
        "**By Purchase Frequency Segment**\n",
        "\n",
        "- Among those who made repeat purchases, the most common frequency is once a week (1%).\n",
        "- Segments with quarterly or semi-annual purchases have higher metric values than other segments."
      ]
    },
    {
      "cell_type": "markdown",
      "metadata": {},
      "source": [
        "---"
      ]
    },
    {
      "cell_type": "markdown",
      "metadata": {},
      "source": [
        "**By Time to Repeat Purchase Segment**\n",
        "\n",
        "- In terms of time to repeat purchase, among those who made repeat purchases, the medium segment is the smallest (<1%).\n",
        "- The segment with quick repeat purchases has worse metric performance than segments with medium or long times to the second purchase."
      ]
    },
    {
      "cell_type": "markdown",
      "metadata": {},
      "source": [
        "---"
      ]
    },
    {
      "cell_type": "markdown",
      "metadata": {},
      "source": [
        "**By Loyalty Segment**\n",
        "\n",
        "- Promoters dominate the loyalty segment (58%). Critics are the smallest group (13%).\n",
        "- Critics (review score below 3) have higher total payment amounts and average order values than promoters and neutrals.\n",
        "- Critics have a very low time between first and last purchase, meaning they rarely return.\n",
        "- Critics, on average, purchase heavier orders.\n",
        "- Critics also have the worst median delivery time outperformance, meaning their deliveries take longer."
      ]
    },
    {
      "cell_type": "markdown",
      "metadata": {},
      "source": [
        "---"
      ]
    },
    {
      "cell_type": "markdown",
      "metadata": {},
      "source": [
        "**By Risk Segment**\n",
        "\n",
        "- 99.5% of customers are in the reliable category, meaning they did not cancel orders.\n",
        "- The segment that canceled at least one order has a much lower time between first and second purchases compared to the segment without cancellations.\n",
        "- However, the segment with order cancellations has higher median values for total purchase amounts and average order values."
      ]
    },
    {
      "cell_type": "markdown",
      "metadata": {},
      "source": [
        "---"
      ]
    },
    {
      "cell_type": "markdown",
      "metadata": {},
      "source": [
        "**By Day of Week Segment**\n",
        "\n",
        "- 75% of customers made purchases only on weekdays.\n",
        "- The segment that made purchases not only on weekends has a significantly higher time between first and last purchases."
      ]
    },
    {
      "cell_type": "markdown",
      "metadata": {},
      "source": [
        "---"
      ]
    },
    {
      "cell_type": "markdown",
      "metadata": {},
      "source": [
        "**By Installment Segment**\n",
        "\n",
        "- 50% of customers used installments at least once. 47% always paid in full upfront.\n",
        "- The installment segment has significantly higher median values for total purchase amounts, average order values, order weight, and time between first and lastpurchases."
      ]
    },
    {
      "cell_type": "markdown",
      "metadata": {},
      "source": [
        "---"
      ]
    },
    {
      "cell_type": "markdown",
      "metadata": {},
      "source": [
        "**By Average Number of Products per Order Segment**\n",
        "\n",
        "- 88% of customers had no more than one product per order.\n",
        "- 8% had an average of 1 to 2 products.\n",
        "- Only 2% of customers had an average of more than 2 products per order.\n",
        "- The segment with 2 or more products per order has significantly higher values for average order weight, total purchase amounts, and average order values. They alsohave a longer time between first and last purchases."
      ]
    },
    {
      "cell_type": "markdown",
      "metadata": {},
      "source": [
        "---"
      ]
    },
    {
      "cell_type": "markdown",
      "metadata": {},
      "source": [
        "**By Average Order Weight Segment**\n",
        "\n",
        "- 39% of customers purchased lightweight products on average. 37% - medium. 21% - heavy.\n",
        "- The segment with heavy orders has significantly higher total purchase amounts and average order values.\n",
        "- The lightweight segment has a shorter time between first and last purchases compared to the medium and heavy segments."
      ]
    },
    {
      "cell_type": "markdown",
      "metadata": {},
      "source": [
        "---"
      ]
    },
    {
      "cell_type": "markdown",
      "metadata": {},
      "source": [
        "**By Top Days of Week**\n",
        "\n",
        "- Most customers made purchases on only one day of the week. This is logical, given the low number of repeat purchases.\n",
        "- The top 3 days by customer count: Monday, Tuesday, and Wednesday.\n",
        "- Interestingly, customers who made purchases only on Monday have a longer time between first and last purchases than others in the top 5 segments. But this is likelycoincidental."
      ]
    },
    {
      "cell_type": "markdown",
      "metadata": {},
      "source": [
        "---"
      ]
    },
    {
      "cell_type": "markdown",
      "metadata": {},
      "source": [
        "**By Top Payment Types**\n",
        "\n",
        "- The most common payment method was credit card only (73%). Boleto ranks second (19%).\n",
        "- The segment that used only vouchers has lower total purchase amounts and average order values than other segments in the top 5 payment types."
      ]
    },
    {
      "cell_type": "markdown",
      "metadata": {},
      "source": [
        "---"
      ]
    },
    {
      "cell_type": "markdown",
      "metadata": {},
      "source": [
        "**By Top Product Categories**\n",
        "\n",
        "- The largest number of customers purchased only from the Bed Bath Table and Health Beauty categories.\n",
        "- Customers who purchased only sports goods have a longer time between first and last purchases than other segments by product category."
      ]
    },
    {
      "cell_type": "markdown",
      "metadata": {},
      "source": [
        "---"
      ]
    },
    {
      "cell_type": "markdown",
      "metadata": {},
      "source": [
        "**By Top Generalized Product Categories**\n",
        "\n",
        "- Among the top 5 segments by generalized product category, the largest share of customers purchased only from \n",
        "  - Electronics (26%)\n",
        "  - Furniture (17%)\n",
        "  - Home & Garden (14%)."
      ]
    },
    {
      "cell_type": "markdown",
      "metadata": {},
      "source": [
        "---"
      ]
    },
    {
      "cell_type": "markdown",
      "metadata": {},
      "source": [
        "**By Customer State**\n",
        "\n",
        "- 42% of customers are from São Paulo. \n",
        "- 13% - Rio de Janeiro. \n",
        "- 12% - Minas Gerais."
      ]
    },
    {
      "cell_type": "markdown",
      "metadata": {},
      "source": [
        "---"
      ]
    },
    {
      "cell_type": "markdown",
      "metadata": {},
      "source": [
        "**By Customer City**\n",
        "\n",
        "- 16% of customers are from São Paulo. \n",
        "- 7% - Rio de Janeiro."
      ]
    },
    {
      "cell_type": "markdown",
      "metadata": {},
      "source": [
        "---"
      ]
    },
    {
      "cell_type": "markdown",
      "metadata": {},
      "source": [
        "## Customer Profiling"
      ]
    },
    {
      "cell_type": "markdown",
      "metadata": {},
      "source": [
        "**By Purchase Frequency and Loyalty**\n",
        "\n",
        "- One-Time Buyers (94%):\n",
        "    - Make only one purchase.\n",
        "    - Low engagement (short time between purchases).\n",
        "- Potential Core (1%):\n",
        "    - Potentially loyal but not yet part of the core.\n",
        "    - High metrics (second only to Core).\n",
        "- Core (<1%):\n",
        "    - Core audience: most loyal, high spending, best metrics.\n",
        "- Short-Lived Repeat (1%):\n",
        "    - Short-term loyalty.\n",
        "\n",
        "Recommendations:\n",
        "- Focus on converting One-Time buyers into Potential Core (loyalty programs, personalized offers).\n",
        "- Retain Core through premium service."
      ]
    },
    {
      "cell_type": "markdown",
      "metadata": {},
      "source": [
        "---"
      ]
    },
    {
      "cell_type": "markdown",
      "metadata": {},
      "source": [
        "**By Purchase Amount**\n",
        "\n",
        "- High-Spend (24%):\n",
        "    - Large order values, heavy orders.\n",
        "    - Despite high spending, ratings are not above median (risk of losing critics).\n",
        "- Medium-Spend (49%):\n",
        "    - The majority, \"stable\" customers.\n",
        "- Low-Spend (24%):\n",
        "    - Small order values, possibly trial purchases.\n",
        "\n",
        "Recommendations:\n",
        "\n",
        "- For High-Spend: Improve delivery (they have low time outperformance) and service to reduce critic share.\n",
        "- For Low-Spend: Encourage higher order values (discounts on additional items)."
      ]
    },
    {
      "cell_type": "markdown",
      "metadata": {},
      "source": [
        "---"
      ]
    },
    {
      "cell_type": "markdown",
      "metadata": {},
      "source": [
        "**By Time Between Purchases**\n",
        "\n",
        "- Quick Repeat Purchases (<1%):\n",
        "    - Low metrics (possibly impulse purchases or dissatisfaction).\n",
        "- Quarterly/Semi-Annual (1%):\n",
        "    - High metrics—\"planned\" purchases (e.g., seasonal items).\n",
        "\n",
        "Recommendations:\n",
        "\n",
        "- For the quick repeat segment: Improve post-purchase experience (to prevent loss after the first purchase).\n",
        "- For \"quarterly\" buyers: Target reminders before seasons."
      ]
    },
    {
      "cell_type": "markdown",
      "metadata": {},
      "source": [
        "---"
      ]
    },
    {
      "cell_type": "markdown",
      "metadata": {},
      "source": [
        "**By Loyalty**\n",
        "\n",
        "- Promoters (58%):\n",
        "    - Satisfied but few repeat purchases (94% are one-time).\n",
        "    - Paradox: high ratings but low retention.\n",
        "- Critics (13%):\n",
        "    - High order values but quick churn (short time between purchases).\n",
        "    - Delivery issues (low delivery time outperformance).\n",
        "\n",
        "Recommendations:\n",
        "\n",
        "- Analyze reasons for low promoter retention (e.g., lack of motivation for repeat purchases).\n",
        "- Address critics: Improve logistics and service (they are potentially valuable due to high order values)."
      ]
    },
    {
      "cell_type": "markdown",
      "metadata": {},
      "source": [
        "---"
      ]
    },
    {
      "cell_type": "markdown",
      "metadata": {},
      "source": [
        "**By Behavioral Patterns**\n",
        "\n",
        "- Customers who made purchases not only on weekends (25%):\n",
        "    - More loyal (longer time between purchases).\n",
        "- Customers using installments (50%):\n",
        "    - High order values, long lifecycle—\"serious\" customers.\n",
        "- Customers with 2+ items per order (2%):\n",
        "    - Key for profitability (high metrics).\n",
        "- Customers who use only vouchers:\n",
        "    - Have lower total purchase amounts and average order values.\n",
        "\n",
        "Recommendations:\n",
        "\n",
        "- Promote installments to increase average order value.\n",
        "- Encourage multi-item orders (free shipping for N items).\n",
        "- For voucher-paying customers, develop strategies to increase average order value."
      ]
    },
    {
      "cell_type": "markdown",
      "metadata": {},
      "source": [
        "---"
      ]
    },
    {
      "cell_type": "markdown",
      "metadata": {},
      "source": [
        "**By Geography**\n",
        "\n",
        "- São Paulo (42%) and Rio de Janeiro (13%):\n",
        "    - Key markets.\n",
        "\n",
        "Recommendations:\n",
        "\n",
        "- Localized marketing campaigns (e.g., Furniture promotions in São Paulo)."
      ]
    },
    {
      "cell_type": "markdown",
      "metadata": {},
      "source": [
        "## Customer Clustering"
      ]
    },
    {
      "cell_type": "markdown",
      "metadata": {},
      "source": [
        "### All Customers"
      ]
    },
    {
      "cell_type": "markdown",
      "metadata": {},
      "source": [
        "**Cluster Distribution:**\n",
        "\n",
        "- Cluster 1 (53%): Neutral characteristics (baseline group)\n",
        "- Cluster 2 (39%): High Recency (recent purchases)\n",
        "- Cluster 3 (2.5%): High Monetary Value\n",
        "- Cluster 4 (3%): High number of unique products per order\n",
        "- Cluster 5 (3%): High purchase frequency (Frequency)"
      ]
    },
    {
      "cell_type": "markdown",
      "metadata": {},
      "source": [
        "---"
      ]
    },
    {
      "cell_type": "markdown",
      "metadata": {},
      "source": [
        "**Key Features:**\n",
        "\n",
        "- Cluster 1        \n",
        "    - One-time purchases.\n",
        "    - Medium purchase amount segment.\n",
        "    - Dominates the value segment.\n",
        "    - Dominates the loyalty segment.\n",
        "    - Dominates lightweight orders.\n",
        "    - Dominates the debit card segment.\n",
        "- Cluster 2\n",
        "    - One-time purchases.\n",
        "    - Medium purchase amount segment.\n",
        "    - Dominates the value segment.\n",
        "    - Dominates the loyalty segment.\n",
        "    - Dominates the state of Rio De Janeiro.\n",
        "- Cluster 3\n",
        "    - One-time purchases.\n",
        "    - Entirely consists of the high-value segment.\n",
        "    - Highest share of installment payments among all clusters.\n",
        "    - Noticeably more heavy-weight orders than other clusters.\n",
        "    - Dominates the generalized Electronics category.\n",
        "- Cluster 4\n",
        "    - One-time purchases.\n",
        "    - Predominantly critics.\n",
        "    - Lower share of promoters compared to other clusters.\n",
        "    - Dominates the high-risk segment (customers who canceled at least one order).\n",
        "    - Dominates installment payments.\n",
        "    - Entirely consists of customers with an average of more than one product per order.\n",
        "    - Dominates the Bed Bath Table product category.\n",
        "    - Dominates the generalized Furniture category.\n",
        "- Cluster 5\n",
        "    - Predominantly repeat buyers.\n",
        "    - Higher share of neutral loyalty segment than other clusters.\n",
        "    - Dominates the high-risk segment (customers who canceled at least one order).\n",
        "    - Dominates installment payments."
      ]
    },
    {
      "cell_type": "markdown",
      "metadata": {},
      "source": [
        "### Customers with Multiple Purchases"
      ]
    },
    {
      "cell_type": "markdown",
      "metadata": {},
      "source": [
        "**Cluster Distribution:**\n",
        "\n",
        "- Cluster 4 (43%): Stable buyers\n",
        "- Cluster 3 (34%): Average across all metrics\n",
        "- Cluster 5 (9%): High share of critics\n",
        "- Cluster 1 (8%): High Recency (recent purchases)\n",
        "- Cluster 2 (4%): High Monetary Value\n",
        "- Cluster 7 (3%): Diverse product buyers\n",
        "- Cluster 6 (0.1%): Core Audience (Frequency + Monetary)"
      ]
    },
    {
      "cell_type": "markdown",
      "metadata": {},
      "source": [
        "---"
      ]
    },
    {
      "cell_type": "markdown",
      "metadata": {},
      "source": [
        "**Key Features:**\n",
        "\n",
        "- Cluster 1\n",
        "    - Dominates the core audience.\n",
        "    - Dominates the \"watches gifts\" category.\n",
        "- Cluster 2\n",
        "    - Entirely consists of the high-value segment (purchase amount).\n",
        "    - Dominates the \"bulk\" segment (average of more than 2 products per order).\n",
        "    - Dominates heavy-weight orders.\n",
        "    - Dominates the \"watches gifts\" category.\n",
        "    - Dominates the generalized Electronics category.\n",
        "- Cluster 3\n",
        "    - Dominates orders with a single product.\n",
        "- Cluster 4\n",
        "    - Dominates the Potential Core segment.\n",
        "    - Dominates the medium-value segment.\n",
        "    - Dominates critics.\n",
        "    - Dominates orders with a single product.\n",
        "- Cluster 5\n",
        "    - Dominates critics.\n",
        "    - Higher share of \"multi\" segment (1-2 products per order).\n",
        "- Cluster 6\n",
        "    - Entirely consists of the core audience.\n",
        "    - Entirely consists of the high-value segment (purchase amount).\n",
        "    - Entirely consists of promoters.\n",
        "    - Entirely consists of installment users.\n",
        "    - Entirely consists of orders with a single product.\n",
        "    - Entirely consists of lightweight orders.\n",
        "    - Entirely consists of credit card payments.\n",
        "    - Entirely consists of customers from São Paulo (top 5 cities by sales volume).\n",
        "- Cluster 7\n",
        "    - Higher average number of unique products.\n",
        "    - Higher share of full upfront payments compared to other clusters.\n",
        "    - No single-product orders.\n",
        "    - Dominates the \"bulk\" segment (average of more than 2 products per order).\n",
        "    - Dominates \"boleto\" payment method.\n",
        "    - Dominates the Bed Bath Table category.\n",
        "    - Dominates the generalized Furniture and Home & Garden categories."
      ]
    },
    {
      "cell_type": "code",
      "execution_count": null,
      "metadata": {
        "tags": [
          "remove-cell"
        ]
      },
      "source": [
        "%run ../../_post_run.ipynb"
      ],
      "outputs": []
    }
  ]
}