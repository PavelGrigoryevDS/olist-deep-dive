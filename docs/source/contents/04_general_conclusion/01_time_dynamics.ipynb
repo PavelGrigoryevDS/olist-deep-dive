{
  "metadata": {},
  "nbformat": 4,
  "nbformat_minor": 4,
  "cells": [
    {
      "cell_type": "code",
      "execution_count": null,
      "metadata": {
        "tags": [
          "remove-cell"
        ]
      },
      "source": [
        "%run ../../_pre_run.ipynb"
      ],
      "outputs": []
    },
    {
      "cell_type": "markdown",
      "metadata": {},
      "source": [
        "# Time Dynamics"
      ]
    },
    {
      "cell_type": "markdown",
      "metadata": {},
      "source": [
        "**Order and Sales Comparison**\n",
        "\n",
        "- Conversion to successful sales shows consistent month-over-month growth."
      ]
    },
    {
      "cell_type": "markdown",
      "metadata": {},
      "source": [
        "---"
      ]
    },
    {
      "cell_type": "markdown",
      "metadata": {},
      "source": [
        "**Canceled Order Rate**\n",
        "\n",
        "- Monthly canceled order rate fluctuates between 0.2% and 1.2%.\n",
        "- Orders with rating 1 have significantly higher cancellation rates. Ratings 4 and 5 show 0% cancellation for most months."
      ]
    },
    {
      "cell_type": "markdown",
      "metadata": {},
      "source": [
        "---"
      ]
    },
    {
      "cell_type": "markdown",
      "metadata": {},
      "source": [
        "**Sales Volume**\n",
        "\n",
        "- November 24, 2017 (Black Friday) was an anomalous peak sales day.\n",
        "- Monthly sales grew until 2018, then stabilized at 6-7 thousand orders per month.\n",
        "- Significant sales drops (>5% MoM) occurred in April, June, and December 2017, and February and June 2018.\n",
        "- Rating 5 orders consistently dominate monthly volumes.\n",
        "- Rating 2 orders are consistently the least common.\n",
        "- Rating 5 orders continue growing in 2018 despite overall stagnation, correlated with declining rating 1 orders.\n",
        "- Delayed orders don't grow proportionally with total orders.\n",
        "- Peak delayed order months: November 2017 (Black Friday) and March 2018.\n",
        "- November 2017 saw a sharp increase in long-delivery orders (Black Friday effect), persisting until March 2018 before declining.\n",
        "- By August 2018, fast/medium delivery orders outnumbered long-delivery ones.\n",
        "- Installment orders initially led but equalized with non-installment by 2018.\n",
        "- São Paulo state maintains dominant sales volume without 2018 declines seen elsewhere.\n",
        "- Rio de Janeiro and Minas Gerais typically rank second and third by sales volume.\n",
        "- São Paulo city leads sales volume, with Rio de Janeiro second.\n",
        "- São Paulo city shows 2018 monthly sales growth unlike other cities."
      ]
    },
    {
      "cell_type": "markdown",
      "metadata": {},
      "source": [
        "---"
      ]
    },
    {
      "cell_type": "markdown",
      "metadata": {},
      "source": [
        "**Sales Value**\n",
        "\n",
        "- Black Friday 2017 was the peak sales value day.\n",
        "- Monthly sales value grew until 2018, stabilizing at 1-1.2 million R$.\n",
        "- Significant value drops (>5% MoM) occurred in April, June, and December 2017, and February and June 2018.\n",
        "- Rating 5 orders dominate total sales value.\n",
        "- Rating 2 orders show lowest sales value.\n",
        "- Black Friday's value spike was most pronounced for ratings 5 and 1.\n",
        "- Rating 5 order values grow in 2018 despite overall stagnation, partly due to rating 1 value decline.\n",
        "- Peak delayed order value months: November 2017 and March 2018.\n",
        "- Long-delivery order values spiked November 2017-April 2018, beyond Black Friday explanation.\n",
        "- Installment orders consistently show higher total value.\n",
        "- São Paulo state leads sales value, followed by Rio de Janeiro and Minas Gerais.\n",
        "- São Paulo city leads sales value, with Rio de Janeiro second.\n",
        "- Credit card payments dominate sales value, with boleto second.\n",
        "- Debit card payment values grew from June 2018.\n",
        "- Electronics lead category values, followed by furniture.\n",
        "- 'Beauty/Health' and 'Home/Garden' categories show 2018 growth while others stagnate/decline."
      ]
    },
    {
      "cell_type": "markdown",
      "metadata": {},
      "source": [
        "---"
      ]
    },
    {
      "cell_type": "markdown",
      "metadata": {},
      "source": [
        "**Average Order Value (AOV)**\n",
        "\n",
        "- Daily AOV fluctuates between 100-250 R$.\n",
        "- No Black Friday AOV spike.\n",
        "- Monthly AOV fluctuates between 150-170 R$ without growth.\n",
        "- Significant AOV drops (>5% MoM) in May, July, and November 2017, and August 2018.\n",
        "- June 2017 saw a major delayed order AOV spike, with smaller peaks in April/December 2017 and January/June 2018.\n",
        "- Premium products typically have longer delivery times.\n",
        "- Installment orders consistently show higher AOV (expected due to affordability).\n",
        "- Installment AOV declined until July 2017, then grew with fluctuations.\n",
        "- Rating 1 orders typically have higher AOV.\n",
        "- Rating 2 orders often show higher AOV than ratings 3-5, suggesting expensive orders receive lower ratings."
      ]
    },
    {
      "cell_type": "markdown",
      "metadata": {},
      "source": [
        "---"
      ]
    },
    {
      "cell_type": "markdown",
      "metadata": {},
      "source": [
        "**ARPPU**\n",
        "\n",
        "- ARPPU fluctuates daily between 100 and 250 R$.\n",
        "- There is no noticeable spike in ARPPU on Black Friday.\n",
        "- ARPPU does not grow over the months but fluctuates between 130 and 150 R$.\n",
        "- For most months, orders with a review rating of 1 have a higher ARPPU.\n",
        "- Additionally, orders with a review rating of 2 have a higher ARPPU than those with ratings 3, 4, and 5 in the majority of months.\n",
        "- In June 2017, there was a strong peak in ARPPU for delayed orders. Smaller peaks were observed in April and December 2017, January, and June 2018."
      ]
    },
    {
      "cell_type": "markdown",
      "metadata": {},
      "source": [
        "---"
      ]
    },
    {
      "cell_type": "markdown",
      "metadata": {},
      "source": [
        "**Number of Customers**\n",
        "\n",
        "- Black Friday 2017 was the peak customer count day.\n",
        "- Customer growth continued until 2018, then stabilized at 6-7 thousand monthly.\n",
        "- Significant customer drops (>5% MoM) occurred in April, June, and December 2017, and February and June 2018.\n",
        "- Nighttime typically has fewer customers than other periods.\n",
        "- Evening shows highest customer activity.\n",
        "- São Paulo state leads customer count without 2018 declines seen elsewhere.\n",
        "- Rio de Janeiro and Minas Gerais typically rank second and third in customer count.\n",
        "- São Paulo city leads customer count, with Rio de Janeiro second.\n",
        "- São Paulo city shows 2018 monthly customer growth unlike other cities."
      ]
    },
    {
      "cell_type": "markdown",
      "metadata": {},
      "source": [
        "---"
      ]
    },
    {
      "cell_type": "markdown",
      "metadata": {},
      "source": [
        "**New Customer Rate**\n",
        "\n",
        "- Daily new customer rate fluctuates significantly but never drops below 0.92.\n",
        "- Monthly rate consistently declines but remains above 97% (nearly all active customers are new).\n",
        "- Weekend rates fluctuate more than weekdays, typically lower.\n",
        "- No significant state-level differences in new customer rates.\n",
        "- Rio Grande do Sul shows wider fluctuations.\n",
        "- São Paulo and Rio de Janeiro cities show more stable new customer rates than other top cities."
      ]
    },
    {
      "cell_type": "markdown",
      "metadata": {},
      "source": [
        "---"
      ]
    },
    {
      "cell_type": "markdown",
      "metadata": {},
      "source": [
        "**Number of Sellers**\n",
        "\n",
        "- Black Friday 2017 was the peak seller count day.\n",
        "- Monthly seller count shows consistent growth.\n",
        "- Weekday seller growth outpaces weekends.\n",
        "- São Paulo state leads seller count with strongest growth.\n",
        "- Paraná and Minas Gerais typically rank second and third.\n",
        "- São Paulo city leads seller count, with Curitiba second."
      ]
    },
    {
      "cell_type": "markdown",
      "metadata": {},
      "source": [
        "---"
      ]
    },
    {
      "cell_type": "markdown",
      "metadata": {},
      "source": [
        "**New Seller Rate**\n",
        "\n",
        "- New seller rate declined until June 2017, then stabilized at 0.1-0.2.\n",
        "- Weekend new seller rates are consistently lower than weekdays."
      ]
    },
    {
      "cell_type": "markdown",
      "metadata": {},
      "source": [
        "---"
      ]
    },
    {
      "cell_type": "markdown",
      "metadata": {},
      "source": [
        "**Seller-to-Customer Ratio**\n",
        "\n",
        "- Customer growth outpaced seller growth until November 2017, then reversed.\n",
        "- New customer growth led until July 2017, then paralleled seller growth."
      ]
    },
    {
      "cell_type": "markdown",
      "metadata": {},
      "source": [
        "---"
      ]
    },
    {
      "cell_type": "markdown",
      "metadata": {},
      "source": [
        "**Orders per Customer**\n",
        "\n",
        "- Average orders per customer remains stable near 1 throughout."
      ]
    },
    {
      "cell_type": "markdown",
      "metadata": {},
      "source": [
        "---"
      ]
    },
    {
      "cell_type": "markdown",
      "metadata": {},
      "source": [
        "**Number of Reviews**\n",
        "\n",
        "- Daily review counts fluctuate dramatically, suggesting batch processing.\n",
        "- Reviews grew until 2018, then stabilized at 6-8 thousand monthly.\n",
        "- Fewer reviews created on Mondays and Sundays.\n",
        "- Rating 5 reviews dominate monthly volumes.\n",
        "- Rating 2 reviews are least common.\n",
        "- Rating 1 reviews outnumber ratings 2 and 3."
      ]
    },
    {
      "cell_type": "markdown",
      "metadata": {},
      "source": [
        "---"
      ]
    },
    {
      "cell_type": "markdown",
      "metadata": {},
      "source": [
        "**Review Ratings**\n",
        "\n",
        "- Daily average ratings fluctuate between 3-5.\n",
        "- Monthly averages declined August 2017-March 2018, then spiked.\n",
        "- Weekday ratings are consistently higher than weekends."
      ]
    },
    {
      "cell_type": "markdown",
      "metadata": {},
      "source": [
        "---"
      ]
    },
    {
      "cell_type": "markdown",
      "metadata": {},
      "source": [
        "**NPS**\n",
        "\n",
        "- NPS remains satisfactory (0-49) throughout - many neutrals, few critics.\n",
        "- Significant NPS drop occurred March 2018."
      ]
    },
    {
      "cell_type": "markdown",
      "metadata": {},
      "source": [
        "---"
      ]
    },
    {
      "cell_type": "markdown",
      "metadata": {},
      "source": [
        "**Shipping Cost Ratio**\n",
        "\n",
        "- Shipping cost as order value percentage remains stable at 0.2-0.22.\n",
        "- Light products show higher ratios than medium/heavy.\n",
        "- Installment orders show lower ratios throughout.\n",
        "- São Paulo state shows lowest ratios among top states.\n",
        "- São Paulo city shows lowest ratios among top cities."
      ]
    },
    {
      "cell_type": "markdown",
      "metadata": {},
      "source": [
        "---"
      ]
    },
    {
      "cell_type": "markdown",
      "metadata": {},
      "source": [
        "**Delivery Time**\n",
        "\n",
        "- Daily average delivery fluctuates between 5-20 days.\n",
        "- Delivery times grew August 2017-February 2018, then dropped sharply to ~8 days.\n",
        "- Lower ratings typically correlate with longer deliveries.\n",
        "- São Paulo state shows fastest deliveries among top states.\n",
        "- Rio de Janeiro and Rio Grande do Sul show longest delays.\n",
        "- Rio de Janeiro city showed strongest delivery time growth October 2017-February 2018."
      ]
    },
    {
      "cell_type": "markdown",
      "metadata": {},
      "source": [
        "---"
      ]
    },
    {
      "cell_type": "markdown",
      "metadata": {},
      "source": [
        "**Delivery Delay**\n",
        "\n",
        "- Orders consistently deliver faster than estimates.\n",
        "- Early deliveries improved until March 2017 (~12 days early), then fluctuated.\n",
        "- June 2018 saw ~20 day early deliveries."
      ]
    },
    {
      "cell_type": "markdown",
      "metadata": {},
      "source": [
        "---"
      ]
    },
    {
      "cell_type": "markdown",
      "metadata": {},
      "source": [
        "**Carrier Handover Delay**\n",
        "\n",
        "- Orders consistently reach carriers faster than limits.\n",
        "- Early handovers peaked at ~4.5 days in May 2017, declining to ~2.5 days by August."
      ]
    },
    {
      "cell_type": "markdown",
      "metadata": {},
      "source": [
        "---"
      ]
    },
    {
      "cell_type": "markdown",
      "metadata": {},
      "source": [
        "**Delivery Stage Breakdown**\n",
        "\n",
        "- Carrier delivery stage consumes most time throughout."
      ]
    },
    {
      "cell_type": "markdown",
      "metadata": {},
      "source": [
        "---"
      ]
    },
    {
      "cell_type": "markdown",
      "metadata": {},
      "source": [
        "**Order Weight**\n",
        "\n",
        "- Average weight declined from 2.8kg to 1.9kg.\n",
        "- Rating 1 orders are typically heavier.\n",
        "- Rating 2 orders show most monthly weight variation.\n",
        "- Delayed orders are typically heavier.\n",
        "- Installment orders are consistently heavier.\n",
        "- Lighter orders typically deliver faster."
      ]
    },
    {
      "cell_type": "markdown",
      "metadata": {},
      "source": [
        "---"
      ]
    },
    {
      "cell_type": "markdown",
      "metadata": {},
      "source": [
        "**Products per Order**\n",
        "\n",
        "- Monthly average remains stable at 1.12-1.16.\n",
        "- Ratings 1-2 typically have more products.\n",
        "- Ratings 4-5 typically have fewest products.\n",
        "- Delayed orders show stronger fluctuation.\n",
        "- Installment orders typically have more products."
      ]
    },
    {
      "cell_type": "markdown",
      "metadata": {},
      "source": [
        "---"
      ]
    },
    {
      "cell_type": "markdown",
      "metadata": {},
      "source": [
        "**Product Price**\n",
        "\n",
        "- No Black Friday price spikes.\n",
        "- Monthly averages fluctuate between 115-135 R$.\n",
        "- Shows clear seasonality with alternating growth/decline periods.\n",
        "- Rating 1 products are typically most expensive.\n",
        "- Rating 3 products are typically least expensive.\n",
        "- Delayed orders typically have higher prices.\n",
        "- June 2017 saw delayed order price spike.\n",
        "- Installment products are significantly more expensive."
      ]
    },
    {
      "cell_type": "markdown",
      "metadata": {},
      "source": [
        "---"
      ]
    },
    {
      "cell_type": "markdown",
      "metadata": {},
      "source": [
        "**Sellers per Order**\n",
        "\n",
        "- Average grows insignificantly from 1 to 1.02.\n",
        "- Ratings 1-2 typically involve more sellers.\n",
        "- Ratings 4-5 involve fewest sellers.\n",
        "- April 2018 saw spike in seller count for undelivered orders.\n",
        "- Installment orders involve more sellers."
      ]
    },
    {
      "cell_type": "markdown",
      "metadata": {},
      "source": [
        "---"
      ]
    },
    {
      "cell_type": "markdown",
      "metadata": {},
      "source": [
        "**Categories per Order**\n",
        "\n",
        "- Monthly average remains stable.\n",
        "- Ratings 1-2 typically involve more categories."
      ]
    },
    {
      "cell_type": "code",
      "execution_count": null,
      "metadata": {
        "tags": [
          "remove-cell"
        ]
      },
      "source": [
        "%run ../../_post_run.ipynb"
      ],
      "outputs": []
    }
  ]
}