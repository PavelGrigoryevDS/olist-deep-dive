{
  "metadata": {},
  "nbformat": 4,
  "nbformat_minor": 4,
  "cells": [
    {
      "cell_type": "code",
      "execution_count": null,
      "metadata": {
        "tags": [
          "remove-cell"
        ]
      },
      "source": [
        "%run ../../_pre_run.ipynb"
      ],
      "outputs": []
    },
    {
      "cell_type": "markdown",
      "metadata": {},
      "source": [
        "# Correlation Analysis"
      ]
    },
    {
      "cell_type": "markdown",
      "metadata": {},
      "source": [
        "**Sales**\n",
        "\n",
        "- Moderate positive correlations:\n",
        "    - Total delivery time vs carrier handover (0.4)\n",
        "    - Total delivery time vs carrier delivery (0.6—stronger influence)\n",
        "    - Total vs unique products per order (0.5)\n",
        "    - Sellers per order vs unique products (0.6)\n",
        "    - Sellers per order vs categories (0.6)\n",
        "    - Shipping cost vs order value (0.5)\n",
        "    - Shipping cost vs weight/volume (0.6)\n",
        "    - Volume vs weight (0.8—strong)\n",
        "- Key insights:\n",
        "    - Carrier delivery impacts total time most\n",
        "    - More unique products → more sellers\n",
        "    - Heavier/larger orders cost more to ship\n",
        "    - Distance increases delivery time/cost"
      ]
    },
    {
      "cell_type": "markdown",
      "metadata": {},
      "source": [
        "---"
      ]
    },
    {
      "cell_type": "markdown",
      "metadata": {},
      "source": [
        "**Customers**\n",
        "\n",
        "- There is a high positive correlation (0.9) between the number of orders and the number of reviews. This means that customers who make more orders tend to leave more reviews.\n",
        "- The more months a customer makes purchases, the more orders they place. This is logical.\n",
        "- The higher the average number of unique products per order, the higher the average number of sellers. This indicates that customers with a greater variety of products in their orders tend to purchase from different sellers."
      ]
    },
    {
      "cell_type": "code",
      "execution_count": null,
      "metadata": {
        "tags": [
          "remove-cell"
        ]
      },
      "source": [
        "%run ../../_post_run.ipynb"
      ],
      "outputs": []
    }
  ]
}