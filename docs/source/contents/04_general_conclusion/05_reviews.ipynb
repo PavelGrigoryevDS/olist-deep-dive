{
  "metadata": {},
  "nbformat": 4,
  "nbformat_minor": 4,
  "cells": [
    {
      "cell_type": "code",
      "execution_count": null,
      "metadata": {
        "tags": [
          "remove-cell"
        ]
      },
      "source": [
        "%run ../../_pre_run.ipynb"
      ],
      "outputs": []
    },
    {
      "cell_type": "markdown",
      "metadata": {},
      "source": [
        "# Reviews"
      ]
    },
    {
      "cell_type": "markdown",
      "metadata": {},
      "source": [
        "**Number of Reviews**\n",
        "\n",
        "- Most common: 1 review per day.\n",
        "- 75% of days had ≤270 reviews; 5% had ≥375.\n",
        "- Fewest reviews on Mondays. Sundays had more than Mondays but still below other days (possibly a review registration peculiarity).\n",
        "- Rating distribution:\n",
        "    - 5 stars: 58%\n",
        "    - 4 stars: 19%\n",
        "    - 1 star: 12%\n",
        "    - 3 stars: 8%\n",
        "    - 2 stars: 3% (least common)"
      ]
    },
    {
      "cell_type": "markdown",
      "metadata": {},
      "source": [
        "---"
      ]
    },
    {
      "cell_type": "markdown",
      "metadata": {},
      "source": [
        "**Review Ratings**\n",
        "\n",
        "- 5% of days had average rating <3.26; 5% >4.6. 50% ranged 3.9-4.3.\n",
        "- Weekdays had slightly higher ratings than weekends.\n",
        "- 5-star reviews were more frequent on weekdays; 1-star reviews more frequent on weekends.\n",
        "- Sundays had the lowest average ratings.\n",
        "- Sundays had disproportionately more 1-star and fewer 5-star ratings."
      ]
    },
    {
      "cell_type": "markdown",
      "metadata": {},
      "source": [
        "---"
      ]
    },
    {
      "cell_type": "markdown",
      "metadata": {},
      "source": [
        "**Response Time**\n",
        "\n",
        "- Bimodal distribution: peaks at ~1 day and ~3.5 days.\n",
        "- 75% of reviews received responses within ≤3.1 days; 5% took ≥7 days.\n",
        "- 5% of days had average response time ≥5.85 days.\n",
        "- Slowest responses on Fridays; fastest on Mondays."
      ]
    },
    {
      "cell_type": "markdown",
      "metadata": {},
      "source": [
        "---"
      ]
    },
    {
      "cell_type": "markdown",
      "metadata": {},
      "source": [
        "**Review Length**\n",
        "\n",
        "- 75% of reviews had ≤100 characters.\n",
        "- Lower ratings correlated with longer messages (negative reviews tend to be more detailed)."
      ]
    },
    {
      "cell_type": "markdown",
      "metadata": {},
      "source": [
        "---"
      ]
    },
    {
      "cell_type": "markdown",
      "metadata": {},
      "source": [
        "**NPS**\n",
        "\n",
        "- Just over 5% of days had good NPS (>50). 5% had negative NPS (customer dissatisfaction)."
      ]
    },
    {
      "cell_type": "markdown",
      "metadata": {},
      "source": [
        "---"
      ]
    },
    {
      "cell_type": "markdown",
      "metadata": {},
      "source": [
        "**Review Titles**\n",
        "\n",
        "- Most frequent words: \"recommend\", \"excellent\"\n",
        "- ~10% of titles had negative sentiment."
      ]
    },
    {
      "cell_type": "markdown",
      "metadata": {},
      "source": [
        "---"
      ]
    },
    {
      "cell_type": "markdown",
      "metadata": {},
      "source": [
        "**Review Text**\n",
        "\n",
        "- Frequent mentions of delivery issues.\n",
        "- Most common word: \"product\".\n",
        "- ~15% of messages had negative sentiment."
      ]
    },
    {
      "cell_type": "code",
      "execution_count": null,
      "metadata": {
        "tags": [
          "remove-cell"
        ]
      },
      "source": [
        "%run ../../_post_run.ipynb"
      ],
      "outputs": []
    }
  ]
}