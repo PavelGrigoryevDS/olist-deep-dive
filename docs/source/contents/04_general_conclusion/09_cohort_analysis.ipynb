{
  "metadata": {},
  "nbformat": 4,
  "nbformat_minor": 4,
  "cells": [
    {
      "cell_type": "code",
      "execution_count": null,
      "metadata": {
        "tags": [
          "remove-cell"
        ]
      },
      "source": [
        "%run ../../_pre_run.ipynb"
      ],
      "outputs": []
    },
    {
      "cell_type": "markdown",
      "metadata": {},
      "source": [
        "# Cohort Analysis"
      ]
    },
    {
      "cell_type": "markdown",
      "metadata": {},
      "source": [
        "**Number of Sales**\n",
        "\n",
        "- Most purchases occur in a cohort's first month.\n",
        "- Stabilizes afterward without sharp declines."
      ]
    },
    {
      "cell_type": "markdown",
      "metadata": {},
      "source": [
        "---"
      ]
    },
    {
      "cell_type": "markdown",
      "metadata": {},
      "source": [
        "**Revenue**\n",
        "\n",
        "- Similar to purchase volume—most revenue generated in first month.\n",
        "- No sharp lifetime declines."
      ]
    },
    {
      "cell_type": "markdown",
      "metadata": {},
      "source": [
        "---"
      ]
    },
    {
      "cell_type": "markdown",
      "metadata": {},
      "source": [
        "**Average Order Value**\n",
        "\n",
        "- No post-first-month decline (relative metric).\n",
        "- No clear growth/decline trends across cohorts.\n",
        "- Median AOV shows slight decline after 11 months.\n",
        "- Anomalies:\n",
        "    - March 2017 cohort (month 5)\n",
        "    - April 2017 cohort (month 15)"
      ]
    },
    {
      "cell_type": "markdown",
      "metadata": {},
      "source": [
        "---"
      ]
    },
    {
      "cell_type": "markdown",
      "metadata": {},
      "source": [
        "**Number of Customers**  \n",
        "\n",
        "- Mirrors revenue/purchase trends—few customers return after first month."
      ]
    },
    {
      "cell_type": "markdown",
      "metadata": {},
      "source": [
        "---"
      ]
    },
    {
      "cell_type": "markdown",
      "metadata": {},
      "source": [
        "**Retention**\n",
        "\n",
        "- Extremely low 1st+ month retention.\n",
        "- Median retention confirms minimal repeat purchases."
      ]
    },
    {
      "cell_type": "markdown",
      "metadata": {},
      "source": [
        "---"
      ]
    },
    {
      "cell_type": "markdown",
      "metadata": {},
      "source": [
        "**Avg Purchases per Customer**\n",
        "\n",
        "- Mostly 1-1.3 purchases per period."
      ]
    },
    {
      "cell_type": "markdown",
      "metadata": {},
      "source": [
        "---"
      ]
    },
    {
      "cell_type": "markdown",
      "metadata": {},
      "source": [
        "**ARPPU**\n",
        "\n",
        "- Similar to AOV (most customers make only one purchase)."
      ]
    },
    {
      "cell_type": "markdown",
      "metadata": {},
      "source": [
        "---"
      ]
    },
    {
      "cell_type": "markdown",
      "metadata": {},
      "source": [
        "**LTV (Revenue-Based)**\n",
        "\n",
        "- Minimal lifetime changes (most purchases occur in first month)."
      ]
    },
    {
      "cell_type": "code",
      "execution_count": null,
      "metadata": {
        "tags": [
          "remove-cell"
        ]
      },
      "source": [
        "%run ../../_post_run.ipynb"
      ],
      "outputs": []
    }
  ]
}