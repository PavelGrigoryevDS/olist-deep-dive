{
  "metadata": {},
  "nbformat": 4,
  "nbformat_minor": 4,
  "cells": [
    {
      "cell_type": "code",
      "execution_count": null,
      "metadata": {
        "tags": [
          "remove-cell"
        ]
      },
      "source": [
        "%run ../../_pre_run.ipynb"
      ],
      "outputs": []
    },
    {
      "cell_type": "markdown",
      "metadata": {},
      "source": [
        "# Delivery"
      ]
    },
    {
      "cell_type": "markdown",
      "metadata": {},
      "source": [
        "**Shipping Costs**  \n",
        "\n",
        "- 75% of orders had shipping ≤24 R$; 5% ≥54.7 R$.\n",
        "- Several extreme outliers with very high shipping costs.\n",
        "- Delayed orders had higher shipping costs.\n",
        "- Heavier orders cost more to ship (expected).\n",
        "- Installment orders had higher shipping costs.\n",
        "- Among top states:\n",
        "    - Lowest average shipping: São Paulo\n",
        "    - Highest: Maranhão\n",
        "- Among top cities (highest average shipping): Salvador, Porto Alegre, Brasília"
      ]
    },
    {
      "cell_type": "markdown",
      "metadata": {},
      "source": [
        "---"
      ]
    },
    {
      "cell_type": "markdown",
      "metadata": {},
      "source": [
        "**Seller-Buyer Distance**\n",
        "\n",
        "- 75% of orders: ≤800 km. 5% ≤16.5 km; 5% ≥2,000 km.\n",
        "- Extreme outliers (>4,000 km).\n",
        "- Delayed orders had greater average distances.\n",
        "- Installment orders had greater average distances."
      ]
    },
    {
      "cell_type": "markdown",
      "metadata": {},
      "source": [
        "---"
      ]
    },
    {
      "cell_type": "markdown",
      "metadata": {},
      "source": [
        "**Delivery Stage Breakdown**\n",
        "\n",
        "- Payment processing: 4% of total time\n",
        "- Handover to carrier: 25.5%\n",
        "- Carrier delivery: 70.5% (longest stage)\n",
        "- Significant differences between stages (non-overlapping IQRs)."
      ]
    },
    {
      "cell_type": "markdown",
      "metadata": {},
      "source": [
        "---"
      ]
    },
    {
      "cell_type": "markdown",
      "metadata": {},
      "source": [
        "**Total Delivery Time**\n",
        "\n",
        "- Median: 10+ days. 75%: 16+ days. 5%: 30+ days.\n",
        "- More expensive orders took longer.\n",
        "- Heavy orders took longer than light/medium.\n",
        "- 1-star rating orders had noticeably longer delivery.\n",
        "- Among top states slowest states: Pará, Maranhão, Ceará.\n",
        "- Among top cities slowest cities: Salvador, Porto Alegre, Rio de Janeiro."
      ]
    },
    {
      "cell_type": "markdown",
      "metadata": {},
      "source": [
        "---"
      ]
    },
    {
      "cell_type": "markdown",
      "metadata": {},
      "source": [
        "**Delivery Delay**\n",
        "\n",
        "- 75% of orders are delivered 6 or more days ahead of the estimated delivery time. Approximately 5% of orders are delayed by 4 or more days.\n",
        "- The higher the order rating, the earlier it is delivered relative to the estimated delivery time.\n",
        "- Among the top states with the highest number of sales, the top 3 states by delivery time ahead of the estimated time are Mato Grosso, Pará, and Rio Grande do Sul."
      ]
    },
    {
      "cell_type": "markdown",
      "metadata": {},
      "source": [
        "---"
      ]
    },
    {
      "cell_type": "markdown",
      "metadata": {},
      "source": [
        "**Order Processing Time**\n",
        "\n",
        "- 75% processed in ≥14 hours; 5% ≥48 hours.\n",
        "- Slowest processing: Fridays/Saturdays. Fastest: Wednesdays.\n",
        "- Nighttime processing was slower.\n",
        "- Weekday processing was faster than weekends.\n",
        "- Installment orders processed much faster.\n",
        "- 1- and 2-star orders took longer to process."
      ]
    },
    {
      "cell_type": "markdown",
      "metadata": {},
      "source": [
        "---"
      ]
    },
    {
      "cell_type": "markdown",
      "metadata": {},
      "source": [
        "**Carrier Handover Time**\n",
        "\n",
        "- 75%: ≤3.5 days. 5%: ≥8 days.\n",
        "- Slowest handovers: Friday/Saturday orders.\n",
        "- Expensive/heavy orders took longer.\n",
        "- Faster handover → higher ratings."
      ]
    },
    {
      "cell_type": "markdown",
      "metadata": {},
      "source": [
        "---"
      ]
    },
    {
      "cell_type": "markdown",
      "metadata": {},
      "source": [
        "**Carrier Delivery Time**\n",
        "\n",
        "- Median: 7+ days. 25%: 12+ days. 5%: 24+ days.\n",
        "- Cheap/light items delivered faster.\n",
        "- Longer carrier delivery → lower ratings.\n",
        "- Among top states slowest states: Pará, Maranhão, Ceará.\n",
        "- Among top cities slowest cities: Salvador, Porto Alegre, Rio de Janeiro."
      ]
    },
    {
      "cell_type": "markdown",
      "metadata": {},
      "source": [
        "---"
      ]
    },
    {
      "cell_type": "markdown",
      "metadata": {},
      "source": [
        "**Carrier Handover Delays**\n",
        "\n",
        "- 75% of orders were handed over ≥1.6 days early.\n",
        "- Extreme early handover outliers (data anomalies).\n",
        "- 5% delayed by ≥0.79 days; 1% by ≥7 days.\n",
        "- Earlier handover → higher ratings."
      ]
    },
    {
      "cell_type": "code",
      "execution_count": null,
      "metadata": {
        "tags": [
          "remove-cell"
        ]
      },
      "source": [
        "%run ../../_post_run.ipynb"
      ],
      "outputs": []
    }
  ]
}