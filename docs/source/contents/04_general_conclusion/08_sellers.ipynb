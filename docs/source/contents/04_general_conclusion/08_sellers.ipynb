{
  "metadata": {},
  "nbformat": 4,
  "nbformat_minor": 4,
  "cells": [
    {
      "cell_type": "code",
      "execution_count": null,
      "metadata": {
        "tags": [
          "remove-cell"
        ]
      },
      "source": [
        "%run ../../_pre_run.ipynb"
      ],
      "outputs": []
    },
    {
      "cell_type": "markdown",
      "metadata": {},
      "source": [
        "# Sellers"
      ]
    },
    {
      "cell_type": "markdown",
      "metadata": {},
      "source": [
        "- 75% of sellers sold ≤26 items total.\n",
        "- 5% sold >150 items.\n",
        "- 75% sold ≤10 unique items.\n",
        "- 5% sold >45 unique items.\n",
        "- 75% participated in ≤22 orders.\n",
        "- 5% participated in ≥130 orders.\n",
        "- 75% generated ≤3.5K R$ revenue. 5% ≥17K R$.\n",
        "- 75% averaged 1.14 items per order; 1% averaged ≥3.\n",
        "- 75% averaged ≤189 R$/order; 5% ≥641 R$.\n",
        "- 75% averaged ≤174 R$/product; 5% ≥595 R$.\n",
        "- 75% averaged ≤2.7 kg/product; 5% ≥11 kg.\n",
        "- 5% delivered orders ≥6.5 days early.\n",
        "- 75% delivered ≥2 days early; 5% delayed by ≥1 day."
      ]
    },
    {
      "cell_type": "code",
      "execution_count": null,
      "metadata": {
        "tags": [
          "remove-cell"
        ]
      },
      "source": [
        "%run ../../_post_run.ipynb"
      ],
      "outputs": []
    }
  ]
}