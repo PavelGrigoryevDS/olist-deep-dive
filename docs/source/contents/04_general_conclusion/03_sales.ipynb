{
  "metadata": {},
  "nbformat": 4,
  "nbformat_minor": 4,
  "cells": [
    {
      "cell_type": "code",
      "execution_count": null,
      "metadata": {
        "tags": [
          "remove-cell"
        ]
      },
      "source": [
        "%run ../../_pre_run.ipynb"
      ],
      "outputs": []
    },
    {
      "cell_type": "markdown",
      "metadata": {},
      "source": [
        "# Sales"
      ]
    },
    {
      "cell_type": "markdown",
      "metadata": {},
      "source": [
        "**Sales Volume and Revenue**\n",
        "\n",
        "- On 75% of days, there were up to 215 orders. On 5% of days, there were 45 or fewer orders. On 5% of days, there were 293 or more orders. There were also several days with over 400 orders.\n",
        "- On 75% of days, sales amounted to up to 33K R$. On 5% of days, sales were 6.7K R$ or less. On 5% of days, sales were 49K R$ or more. There were also several days with sales exceeding 70K R$.\n",
        "- Most sales occurred in the evening (36% of all sales), while the fewest occurred at night (9%). Morning accounted for 23%, and afternoon for 32%.\n",
        "- The fewest sales occurred on Saturday (11%), while the most occurred on Monday (16%).\n",
        "- 77% of all orders were placed on weekdays.\n",
        "- 59% of orders received a review rating of 5.\n",
        "- The fewest orders received a rating of 2 (3%).\n",
        "- Orders with a rating of 1 were more common than those with ratings of 2 and 3.\n",
        "- 92% of orders were not delayed.\n",
        "- 63% of orders fell into the medium price category.\n",
        "- 46% of orders were in the medium weight category, while 40% were lightweight.\n",
        "- 59% of orders had a medium delivery time category.\n",
        "- 51% of orders used installment payments.\n",
        "- 75% of orders were paid with a credit card, while 20% used \"boleto.\"\n",
        "- Top 3 product categories by order volume: Bed Bath Table (9%), Health Beauty (9%), and Sports Leisure (8%).\n",
        "- Top 3 generalized categories by order volume: Electronics (27%), Furniture (18%), and Home & Garden (14%).\n",
        "- 42% of sales were in São Paulo. 13% and 12% were in Rio de Janeiro and Minas Gerais, respectively. Other states accounted for 6% or less.\n",
        "- The city of São Paulo accounted for 16% of all sales, while Rio de Janeiro accounted for 7%. Other cities accounted for 3% or less.\n",
        "- The total value of installment orders was significantly higher than non-installment orders, despite similar order volumes. This means installment orders are more expensive, which is logical—installments allow customers to afford higher-value purchases."
      ]
    },
    {
      "cell_type": "markdown",
      "metadata": {},
      "source": [
        "---"
      ]
    },
    {
      "cell_type": "markdown",
      "metadata": {},
      "source": [
        "**Order Value**\n",
        "\n",
        "- 75% of orders had a value of up to 177 R$. 5% had a value of up to 33 R$. 5% had a value of 445 R$ or more. There were also many outliers exceeding 1000 R$.\n",
        "- Non-delayed orders had lower average values than delayed orders.\n",
        "- Installment orders had much higher average values—customers using installments can afford more expensive purchases.\n",
        "- Although São Paulo had the most orders, it had the lowest average order value among top states.\n",
        "- The highest average order value was in the state of Pará.\n",
        "- The city of São Paulo had the most orders but not the highest order value. Rio de Janeiro ranked second in order volume but had high order values.\n",
        "- Among top cities by sales volume, Salvador had the highest average order value.\n",
        "- Orders with a rating of 1 had higher average values than others. Rating 2 ranked second. Conclusion: expensive orders received more 1 and 2 ratings."
      ]
    },
    {
      "cell_type": "markdown",
      "metadata": {},
      "source": [
        "---"
      ]
    },
    {
      "cell_type": "markdown",
      "metadata": {},
      "source": [
        "**Order Ratings**\n",
        "\n",
        "- 59% of orders received a rating of 5.\n",
        "- Peaks in high and low ratings were observed at night, especially on Thursdays.\n",
        "- Non-delayed orders had significantly higher average ratings than delayed orders.\n",
        "- Non-delayed orders had a higher share of 5 ratings, while delayed orders had more 1 ratings.\n",
        "- Faster deliveries correlated with higher ratings.\n",
        "- The lowest average rating was in the state of Maranhão.\n",
        "- Among top states by sales volume, Rio de Janeiro and Bahia had the highest share of 1 ratings.\n",
        "- Among top cities by sales volume, Rio de Janeiro and Porto Alegre had noticeably higher shares of 1 ratings."
      ]
    },
    {
      "cell_type": "markdown",
      "metadata": {},
      "source": [
        "---"
      ]
    },
    {
      "cell_type": "markdown",
      "metadata": {},
      "source": [
        "**Order Weight**\n",
        "\n",
        "- 75% of orders weighed up to 2 kg. 5% weighed up to 150 grams. 5% weighed 10 kg or more.\n",
        "- Delayed orders were heavier than non-delayed orders.\n",
        "- Installment orders were heavier than non-installment orders.\n",
        "- Among top states by sales volume, Mato Grosso had the heaviest average orders.\n",
        "- Among top cities by sales volume, Santos and Rio de Janeiro had the heaviest orders. Rio de Janeiro ranked second in order volume.\n",
        "- Orders with a rating of 1 were significantly heavier than others. Rating 2 ranked second. Conclusion: heavier orders received lower ratings."
      ]
    },
    {
      "cell_type": "markdown",
      "metadata": {},
      "source": [
        "---"
      ]
    },
    {
      "cell_type": "markdown",
      "metadata": {},
      "source": [
        "**Number of Products per Order**\n",
        "\n",
        "- 90% of orders consisted of a single product.\n",
        "- There were 2 anomalous orders with 20 and 21 products.\n",
        "- Non-delayed orders had slightly more products per order than delayed orders.\n",
        "- Orders with ratings of 1 and 2 had higher average product counts than others."
      ]
    },
    {
      "cell_type": "markdown",
      "metadata": {},
      "source": [
        "---"
      ]
    },
    {
      "cell_type": "markdown",
      "metadata": {},
      "source": [
        "**Product Price per Order**\n",
        "\n",
        "- For 75% of orders, the average product price was up to 140 R$. 5% had an average product price of 363 R$ or higher.\n",
        "- Delayed orders had higher average product prices.\n",
        "- Installment orders had significantly higher average product prices.\n",
        "- Among top states by sales volume, Pará had the highest average product price, while São Paulo had the lowest (despite having the most orders).\n",
        "- Among top cities by sales volume, the top 3 by product price were Brasília, Rio de Janeiro, and Salvador."
      ]
    },
    {
      "cell_type": "markdown",
      "metadata": {},
      "source": [
        "---"
      ]
    },
    {
      "cell_type": "markdown",
      "metadata": {},
      "source": [
        "**Number of Sellers per Order**\n",
        "\n",
        "- 99% of orders had only one seller."
      ]
    },
    {
      "cell_type": "markdown",
      "metadata": {},
      "source": [
        "---"
      ]
    },
    {
      "cell_type": "markdown",
      "metadata": {},
      "source": [
        "**Number of Categories per Order**\n",
        "\n",
        "- 99% of orders had only one category."
      ]
    },
    {
      "cell_type": "code",
      "execution_count": null,
      "metadata": {
        "tags": [
          "remove-cell"
        ]
      },
      "source": [
        "%run ../../_post_run.ipynb"
      ],
      "outputs": []
    }
  ]
}