{
  "metadata": {},
  "nbformat": 4,
  "nbformat_minor": 4,
  "cells": [
    {
      "cell_type": "code",
      "execution_count": null,
      "metadata": {
        "tags": [
          "remove-cell"
        ]
      },
      "source": [
        "%run ../../_pre_run.ipynb"
      ],
      "outputs": []
    },
    {
      "cell_type": "markdown",
      "metadata": {},
      "source": [
        "# Cancelled Orders"
      ]
    },
    {
      "cell_type": "markdown",
      "metadata": {},
      "source": [
        "**Number of Orders**\n",
        "\n",
        "- The number of cancelled orders per month generally fluctuates between 20 and 40 orders.\n",
        "- An unusually high number of cancelled orders was observed in February and August 2018.\n",
        "- 55% of cancelled orders have an average price. 28% have a high price.\n",
        "- 36% of cancelled orders have an average weight. 31% are light.\n",
        "- 51% of cancelled orders do not have installment payments.\n",
        "- 70% of cancelled orders were paid with a credit card. 16% were paid with boleto. 10% were paid with a voucher.\n",
        "- The share of vouchers in cancelled orders is significantly higher than in all orders.\n",
        "- The top 3 product categories in cancelled orders: Bed Bath Table, Health Beauty, Sports Leisure.\n",
        "- The top 3 generalized product categories in cancelled orders: Electronics, Furniture, and Home & Garden.\n",
        "- 42% of cancelled orders were in the state of São Paulo. 13% and 12% were in the states of Rio de Janeiro and Minas Gerais, respectively. Sales in other states were 6% or less."
      ]
    },
    {
      "cell_type": "markdown",
      "metadata": {},
      "source": [
        "---"
      ]
    },
    {
      "cell_type": "markdown",
      "metadata": {},
      "source": [
        "**Sum of Sales**\n",
        "\n",
        "- The sum of cancelled orders per month generally fluctuates between 4k and 8k R$.\n",
        "- An unusual spike in the sum of cancelled orders was observed in July and August 2018."
      ]
    },
    {
      "cell_type": "markdown",
      "metadata": {},
      "source": [
        "---"
      ]
    },
    {
      "cell_type": "markdown",
      "metadata": {},
      "source": [
        "**Average Order Value**\n",
        "\n",
        "- There were sharp spikes in the average order value of cancelled orders in April 2017 and July 2018."
      ]
    },
    {
      "cell_type": "code",
      "execution_count": null,
      "metadata": {
        "tags": [
          "remove-cell"
        ]
      },
      "source": [
        "%run ../../_post_run.ipynb"
      ],
      "outputs": []
    }
  ]
}