{
  "cells": [
    {
      "cell_type": "code",
      "execution_count": null,
      "metadata": {
        "tags": [
          "remove-cell"
        ]
      },
      "outputs": [],
      "source": [
        "%run ../../_pre_run.ipynb"
      ]
    },
    {
      "cell_type": "markdown",
      "metadata": {},
      "source": [
        "# Data Loading"
      ]
    },
    {
      "cell_type": "markdown",
      "metadata": {},
      "source": [
        "- Load the data.\n",
        "- Assign data types to columns where possible. Columns with missing values cannot be immediately converted to integer type. Leave such columns as is for now.\n",
        "- Display the first few rows of each dataframe.\n",
        "- Examine column types.\n",
        "- For categorical variables, perform normalization and convert to Title Case format for consistency and better visual presentation.\n",
        "- For text variables, normalize and convert to lowercase to eliminate implicit duplicates."
      ]
    },
    {
      "cell_type": "code",
      "execution_count": null,
      "metadata": {},
      "outputs": [],
      "source": [
        "base_url = \"https://raw.githubusercontent.com/PavelGrigoryevDS/olist-deep-dive/main/data/\""
      ]
    },
    {
      "cell_type": "markdown",
      "metadata": {},
      "source": [
        "\n",
        "**Table df_orders**"
      ]
    },
    {
      "cell_type": "code",
      "execution_count": null,
      "metadata": {},
      "outputs": [],
      "source": [
        "dtype = {'order_status': 'category'}\n",
        "df_orders = pd.read_csv(f'{base_url}olist_orders_dataset.csv.gz', dtype=dtype\n",
        "                , parse_dates=['order_purchase_timestamp', 'order_approved_at', 'order_delivered_carrier_date', 'order_delivered_customer_date', 'order_estimated_delivery_date'], date_format='%Y-%m-%d %H:%M:%S')\n",
        "df_orders.rename(columns={'order_purchase_timestamp': 'order_purchase_dt'\n",
        "                          , 'order_approved_at': 'order_approved_dt'\n",
        "                          , 'order_delivered_carrier_date': 'order_delivered_carrier_dt'\n",
        "                          , 'order_delivered_customer_date': 'order_delivered_customer_dt'\n",
        "                          , 'order_estimated_delivery_date': 'order_estimated_delivery_dt'}, inplace=True)\n",
        "df_orders = fo(df_orders)\n",
        "df_orders.sample(5, random_state=7)"
      ]
    },
    {
      "cell_type": "code",
      "execution_count": null,
      "metadata": {},
      "outputs": [],
      "source": [
        "df_orders.dtypes"
      ]
    },
    {
      "cell_type": "code",
      "execution_count": null,
      "metadata": {},
      "outputs": [],
      "source": [
        "df_orders.order_status.preproc.normalize_string_series(inplace=True)"
      ]
    },
    {
      "cell_type": "markdown",
      "metadata": {},
      "source": [
        "**Table df_payments**"
      ]
    },
    {
      "cell_type": "code",
      "execution_count": null,
      "metadata": {},
      "outputs": [],
      "source": [
        "dtype = {'payment_type': 'category'}\n",
        "df_payments = pd.read_csv(f'{base_url}olist_order_payments_dataset.csv.gz', dtype=dtype)\n",
        "df_payments = fo(df_payments)\n",
        "df_payments.sample(5, random_state=7)"
      ]
    },
    {
      "cell_type": "code",
      "execution_count": null,
      "metadata": {},
      "outputs": [],
      "source": [
        "df_payments.dtypes"
      ]
    },
    {
      "cell_type": "code",
      "execution_count": null,
      "metadata": {},
      "outputs": [],
      "source": [
        "df_payments.payment_type.preproc.normalize_string_series(inplace=True)"
      ]
    },
    {
      "cell_type": "markdown",
      "metadata": {},
      "source": [
        "**Table df_items**"
      ]
    },
    {
      "cell_type": "code",
      "execution_count": null,
      "metadata": {},
      "outputs": [],
      "source": [
        "df_items = pd.read_csv(f'{base_url}olist_order_items_dataset.csv.gz'\n",
        "                , parse_dates=['shipping_limit_date'], date_format='%Y-%m-%d %H:%M:%S')\n",
        "df_items.rename(columns={'shipping_limit_date': 'shipping_limit_dt'}, inplace=True)\n",
        "df_items = fo(df_items)\n",
        "df_items.sample(5, random_state=7)"
      ]
    },
    {
      "cell_type": "code",
      "execution_count": null,
      "metadata": {},
      "outputs": [],
      "source": [
        "df_items.dtypes"
      ]
    },
    {
      "cell_type": "markdown",
      "metadata": {},
      "source": [
        "**Table df_customers**"
      ]
    },
    {
      "cell_type": "code",
      "execution_count": null,
      "metadata": {},
      "outputs": [],
      "source": [
        "dtype = {'customer_city': 'category', 'customer_state': 'category'}\n",
        "df_customers = pd.read_csv(f'{base_url}olist_customers_dataset.csv.gz', dtype=dtype)\n",
        "df_customers = fo(df_customers)\n",
        "df_customers.sample(5, random_state=7)"
      ]
    },
    {
      "cell_type": "code",
      "execution_count": null,
      "metadata": {},
      "outputs": [],
      "source": [
        "df_customers.dtypes"
      ]
    },
    {
      "cell_type": "code",
      "execution_count": null,
      "metadata": {},
      "outputs": [],
      "source": [
        "df_customers.customer_city.preproc.normalize_string_series(inplace=True)\n",
        "df_customers.customer_state.preproc.normalize_string_series(case_format='upper', inplace=True)"
      ]
    },
    {
      "cell_type": "markdown",
      "metadata": {},
      "source": [
        "**Table df_reviews**"
      ]
    },
    {
      "cell_type": "code",
      "execution_count": null,
      "metadata": {},
      "outputs": [],
      "source": [
        "df_reviews = pd.read_csv(f'{base_url}olist_order_reviews_dataset_translated.csv.gz'\n",
        "                , parse_dates=['review_creation_date', 'review_answer_timestamp']\n",
        "                , date_format={'review_creation_date': '%Y-%m-%d', 'review_answer_timestamp': '%Y-%m-%d %H:%M:%S'})\n",
        "df_reviews.rename(columns={'review_creation_date': 'review_creation_dt'\n",
        "                           , 'review_answer_timestamp': 'review_answer_dt'}, inplace=True)\n",
        "df_reviews = fo(df_reviews)\n",
        "df_reviews.sample(5, random_state=7)"
      ]
    },
    {
      "cell_type": "code",
      "execution_count": null,
      "metadata": {},
      "outputs": [],
      "source": [
        "df_reviews.dtypes"
      ]
    },
    {
      "cell_type": "code",
      "execution_count": null,
      "metadata": {},
      "outputs": [],
      "source": [
        "df_reviews.review_comment_title.preproc.normalize_string_series(case_format='lower', inplace=True)\n",
        "df_reviews.review_comment_message.preproc.normalize_string_series(case_format='lower', inplace=True)"
      ]
    },
    {
      "cell_type": "markdown",
      "metadata": {},
      "source": [
        "**Table df_products**"
      ]
    },
    {
      "cell_type": "code",
      "execution_count": null,
      "metadata": {},
      "outputs": [],
      "source": [
        "dtype = {'product_category_name': 'category'}\n",
        "df_products = pd.read_csv(f'{base_url}olist_products_dataset.csv.gz', dtype=dtype)\n",
        "df_products = fo(df_products)\n",
        "df_products.sample(5, random_state=7)"
      ]
    },
    {
      "cell_type": "code",
      "execution_count": null,
      "metadata": {},
      "outputs": [],
      "source": [
        "df_products.dtypes"
      ]
    },
    {
      "cell_type": "markdown",
      "metadata": {},
      "source": [
        "We will not normalize the product_category_name column because we will replace it with an English version."
      ]
    },
    {
      "cell_type": "markdown",
      "metadata": {},
      "source": [
        "**Table df_categories**"
      ]
    },
    {
      "cell_type": "code",
      "execution_count": null,
      "metadata": {},
      "outputs": [],
      "source": [
        "dtype = {'product_category_name': 'category', 'product_category_name_english': 'category'}\n",
        "df_categories = pd.read_csv(f'{base_url}product_category_name_translation.csv.gz', dtype=dtype)\n",
        "df_categories = fo(df_categories)\n",
        "df_categories.sample(5, random_state=7)"
      ]
    },
    {
      "cell_type": "code",
      "execution_count": null,
      "metadata": {},
      "outputs": [],
      "source": [
        "df_categories.dtypes"
      ]
    },
    {
      "cell_type": "markdown",
      "metadata": {},
      "source": [
        "We will perform normalization only for the English version of the column because we will be working with it exclusively."
      ]
    },
    {
      "cell_type": "code",
      "execution_count": null,
      "metadata": {},
      "outputs": [],
      "source": [
        "df_categories.product_category_name_english.preproc.normalize_string_series(inplace=True)"
      ]
    },
    {
      "cell_type": "markdown",
      "metadata": {},
      "source": [
        "**Table df_sellers**"
      ]
    },
    {
      "cell_type": "code",
      "execution_count": null,
      "metadata": {},
      "outputs": [],
      "source": [
        "dtype = {'seller_city': 'category', 'seller_state': 'category'}\n",
        "df_sellers = pd.read_csv(f'{base_url}olist_sellers_dataset.csv.gz', dtype=dtype)\n",
        "df_sellers = fo(df_sellers)\n",
        "df_sellers.sample(5, random_state=7)"
      ]
    },
    {
      "cell_type": "code",
      "execution_count": null,
      "metadata": {},
      "outputs": [],
      "source": [
        "df_sellers.dtypes"
      ]
    },
    {
      "cell_type": "code",
      "execution_count": null,
      "metadata": {},
      "outputs": [],
      "source": [
        "df_sellers.seller_city.preproc.normalize_string_series(inplace=True)\n",
        "df_sellers.seller_state.preproc.normalize_string_series(case_format='upper', inplace=True)"
      ]
    },
    {
      "cell_type": "markdown",
      "metadata": {},
      "source": [
        "**Table df_geolocations**"
      ]
    },
    {
      "cell_type": "code",
      "execution_count": null,
      "metadata": {},
      "outputs": [],
      "source": [
        "dtype = {'geolocation_city': 'category', 'geolocation_state': 'category'}\n",
        "df_geolocations = pd.read_csv(f'{base_url}olist_geolocation_dataset.csv.gz', dtype=dtype)\n",
        "df_geolocations = fo(df_geolocations)\n",
        "df_geolocations.sample(5, random_state=7)"
      ]
    },
    {
      "cell_type": "code",
      "execution_count": null,
      "metadata": {},
      "outputs": [],
      "source": [
        "df_geolocations.dtypes"
      ]
    },
    {
      "cell_type": "code",
      "execution_count": null,
      "metadata": {},
      "outputs": [],
      "source": [
        "df_geolocations.geolocation_city.preproc.normalize_string_series(inplace=True)\n",
        "df_geolocations.geolocation_state.preproc.normalize_string_series(case_format='upper', inplace=True)"
      ]
    },
    {
      "cell_type": "markdown",
      "metadata": {},
      "source": [
        "We will combine all dataframes into a class for easier further work."
      ]
    },
    {
      "cell_type": "code",
      "execution_count": null,
      "metadata": {},
      "outputs": [],
      "source": [
        "class Dfs:\n",
        "    def __init__(self):\n",
        "        self.orders = df_orders\n",
        "        self.items = df_items\n",
        "        self.reviews = df_reviews\n",
        "        self.products = df_products\n",
        "        self.geolocations = df_geolocations\n",
        "        self.sellers = df_sellers\n",
        "        self.payments = df_payments\n",
        "        self.customers = df_customers\n",
        "        self.categories = df_categories\n",
        "\n",
        "    def __iter__(self):\n",
        "        return iter([\n",
        "            ('orders', self.orders),\n",
        "            ('items', self.items),\n",
        "            ('reviews', self.reviews),\n",
        "            ('products', self.products),\n",
        "            ('geolocations', self.geolocations),\n",
        "            ('sellers', self.sellers),\n",
        "            ('payments', self.payments),\n",
        "            ('customers', self.customers),\n",
        "            ('categories', self.categories),\n",
        "        ])\n",
        "dfs = Dfs()"
      ]
    },
    {
      "cell_type": "code",
      "execution_count": null,
      "metadata": {
        "tags": [
          "remove-cell"
        ]
      },
      "outputs": [],
      "source": [
        "%run ../../_post_run.ipynb"
      ]
    }
  ],
  "metadata": {
    "language_info": {
      "name": "python"
    }
  },
  "nbformat": 4,
  "nbformat_minor": 4
}
