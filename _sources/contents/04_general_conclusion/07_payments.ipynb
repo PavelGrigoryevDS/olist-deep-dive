{
  "metadata": {},
  "nbformat": 4,
  "nbformat_minor": 4,
  "cells": [
    {
      "cell_type": "code",
      "execution_count": null,
      "metadata": {
        "tags": [
          "remove-cell"
        ]
      },
      "source": [
        "%run ../../_pre_run.ipynb"
      ],
      "outputs": []
    },
    {
      "cell_type": "markdown",
      "metadata": {},
      "source": [
        "# Payments"
      ]
    },
    {
      "cell_type": "markdown",
      "metadata": {},
      "source": [
        "**Number of payments**\n",
        "\n",
        "- 75% of days had ≤230 payments; 5% ≥312. Several days exceeded 500.\n",
        "- Payment method distribution:\n",
        "    - Credit card: 74%\n",
        "    - Boleto: 19%\n",
        "    - Voucher: 5.5%\n",
        "    - Debit card: 1.5%"
      ]
    },
    {
      "cell_type": "markdown",
      "metadata": {},
      "source": [
        "---"
      ]
    },
    {
      "cell_type": "markdown",
      "metadata": {},
      "source": [
        "**Payment Amounts**\n",
        "\n",
        "- 75% ≤172 R$; 5% ≥440 R$. Outliers >6K R$.\n",
        "- Highest average: credit card. Lowest: vouchers."
      ]
    },
    {
      "cell_type": "markdown",
      "metadata": {},
      "source": [
        "---"
      ]
    },
    {
      "cell_type": "markdown",
      "metadata": {},
      "source": [
        "**Installment Breakdown**\n",
        "\n",
        "- 51% of payments were single-installment.\n",
        "- Some payments had 9+ installments.\n",
        "- Credit card averaged 3.5 installments; other methods had none."
      ]
    },
    {
      "cell_type": "code",
      "execution_count": null,
      "metadata": {
        "tags": [
          "remove-cell"
        ]
      },
      "source": [
        "%run ../../_post_run.ipynb"
      ],
      "outputs": []
    }
  ]
}