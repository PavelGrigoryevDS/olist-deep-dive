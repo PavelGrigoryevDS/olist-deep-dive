{
  "metadata": {},
  "nbformat": 4,
  "nbformat_minor": 4,
  "cells": [
    {
      "cell_type": "code",
      "execution_count": null,
      "metadata": {
        "tags": [
          "remove-cell"
        ]
      },
      "source": [
        "%run ../../_pre_run.ipynb"
      ],
      "outputs": []
    },
    {
      "cell_type": "markdown",
      "metadata": {},
      "source": [
        "# Hypothesis Testing Results"
      ]
    },
    {
      "cell_type": "markdown",
      "metadata": {},
      "source": [
        "## Time Patterns"
      ]
    },
    {
      "cell_type": "markdown",
      "metadata": {},
      "source": [
        "**Are orders processed longer at night?**\n",
        "\n",
        "**Result:**\n",
        "\n",
        "- At the 0.05 significance level, the mean order processing time at night is statistically significantly different from the mean order processing time at any other time of day.\n",
        "- Moreover, the processing time at night is statistically significantly longer than during other periods."
      ]
    },
    {
      "cell_type": "markdown",
      "metadata": {},
      "source": [
        "---"
      ]
    },
    {
      "cell_type": "markdown",
      "metadata": {},
      "source": [
        "**Are orders processed longer on weekdays?**\n",
        "\n",
        "**Result:**\n",
        "\n",
        "- At the 0.05 significance level, the mean order processing time on weekdays is statistically significantly different from the mean order processing time on weekends.\n",
        "- Moreover, the processing time on weekdays is statistically significantly shorter than on weekends."
      ]
    },
    {
      "cell_type": "markdown",
      "metadata": {},
      "source": [
        "## Review Scores"
      ]
    },
    {
      "cell_type": "markdown",
      "metadata": {},
      "source": [
        "**Does reviews score of 1 have a higher average order value?**\n",
        "\n",
        "**Result:**\n",
        "\n",
        "- At the 0.05 significance level, the mean order value for rating 1 is statistically significantly different from the mean order value for any other rating.\n",
        "- Moreover, the mean order value for rating 1 is statistically significantly higher than for other ratings."
      ]
    },
    {
      "cell_type": "markdown",
      "metadata": {},
      "source": [
        "---"
      ]
    },
    {
      "cell_type": "markdown",
      "metadata": {},
      "source": [
        "**Are orders with review score of 1 delivered longer?**\n",
        "\n",
        "**Result:**\n",
        "\n",
        "- At the 0.05 significance level, the mean delivery time for rating 1 is statistically significantly different from the mean delivery time for any other rating.\n",
        "- Moreover, the mean delivery time for rating 1 is statistically significantly longer than for other ratings."
      ]
    },
    {
      "cell_type": "markdown",
      "metadata": {},
      "source": [
        "## Installment"
      ]
    },
    {
      "cell_type": "markdown",
      "metadata": {},
      "source": [
        "**Are installment orders processed faster?**\n",
        "\n",
        "**Result:**\n",
        "\n",
        "- At the 0.05 significance level, the mean order processing time for installment payments is statistically significantly different from the mean order processing time for non-installment payments.\n",
        "- Moreover, the mean order processing time for installment payments is statistically significantly shorter than for non-installment payments."
      ]
    },
    {
      "cell_type": "markdown",
      "metadata": {},
      "source": [
        "---"
      ]
    },
    {
      "cell_type": "markdown",
      "metadata": {},
      "source": [
        "**Do installment orders have a higher average order value?**\n",
        "\n",
        "**Result:**\n",
        "\n",
        "- At the 0.05 significance level, the mean order value for installment payments is statistically significantly different from the mean order value for non-installment payments.\n",
        "- Moreover, the mean order value for installment payments is statistically significantly higher than for non-installment payments."
      ]
    },
    {
      "cell_type": "markdown",
      "metadata": {},
      "source": [
        "---"
      ]
    },
    {
      "cell_type": "markdown",
      "metadata": {},
      "source": [
        "**Do installment orders have a higher average order weight?**\n",
        "\n",
        "**Result:**\n",
        "\n",
        "- At the 0.05 significance level, the mean order weight for installment payments is statistically significantly different from the mean order weight for non-installment payments.\n",
        "- Moreover, the mean order weight for installment payments is statistically significantly higher than for non-installment payments."
      ]
    },
    {
      "cell_type": "markdown",
      "metadata": {},
      "source": [
        "---"
      ]
    },
    {
      "cell_type": "markdown",
      "metadata": {},
      "source": [
        "**Do installment orders have a higher average product price in the order?**\n",
        "\n",
        "**Result:**\n",
        "\n",
        "- At the 0.05 significance level, the mean product price in orders with installment payments is statistically significantly different from the mean product price in orders without installment payments.\n",
        "- Moreover, the mean product price in orders with installment payments is statistically significantly higher than in orders without installment payments."
      ]
    },
    {
      "cell_type": "markdown",
      "metadata": {},
      "source": [
        "---"
      ]
    },
    {
      "cell_type": "markdown",
      "metadata": {},
      "source": [
        "**Do installment orders have a higher average delivery cost?**\n",
        "\n",
        "**Result:**\n",
        "\n",
        "- At the 0.05 significance level, the mean delivery cost for orders with installment payments is statistically significantly different from the mean delivery cost for orders without installment payments.\n",
        "- Moreover, the mean delivery cost for orders with installment payments is statistically significantly higher than for orders without installment payments."
      ]
    },
    {
      "cell_type": "markdown",
      "metadata": {},
      "source": [
        "## Order Processing and Delivery"
      ]
    },
    {
      "cell_type": "markdown",
      "metadata": {},
      "source": [
        "**Do delayed orders have a higher average order value?**\n",
        "\n",
        "**Result:**\n",
        "\n",
        "- At the 0.05 significance level, the mean value of delayed orders is statistically significantly different from the mean value of non-delayed orders.\n",
        "- Moreover, the mean value of delayed orders is statistically significantly higher than of non-delayed orders."
      ]
    },
    {
      "cell_type": "markdown",
      "metadata": {},
      "source": [
        "---"
      ]
    },
    {
      "cell_type": "markdown",
      "metadata": {},
      "source": [
        "**Do delayed orders have a higher average order weight?**\n",
        "\n",
        "**Result:**\n",
        "\n",
        "- At the 0.05 significance level, the mean weight of delayed orders is statistically significantly different from the mean weight of non-delayed orders.\n",
        "- Moreover, the mean weight of delayed orders is statistically significantly higher than that of non-delayed orders."
      ]
    },
    {
      "cell_type": "markdown",
      "metadata": {},
      "source": [
        "---"
      ]
    },
    {
      "cell_type": "markdown",
      "metadata": {},
      "source": [
        "**Do delayed orders have a higher average product price in the order?**\n",
        "\n",
        "**Result:**\n",
        "\n",
        "- At the 0.05 significance level, the mean product price in delayed orders is statistically significantly different from the mean product price in non-delayed orders.\n",
        "- Moreover, the mean product price in delayed orders is statistically significantly higher than in non-delayed orders."
      ]
    },
    {
      "cell_type": "markdown",
      "metadata": {},
      "source": [
        "---"
      ]
    },
    {
      "cell_type": "markdown",
      "metadata": {},
      "source": [
        "**Do delayed orders have a higher average delivery cost?**\n",
        "\n",
        "**Result:**\n",
        "\n",
        "- At the 0.05 significance level, the mean delivery cost in delayed orders is statistically significantly different from the mean delivery cost in non-delayed orders.\n",
        "- Moreover, the mean delivery cost in delayed orders is statistically significantly higher than in non-delayed orders."
      ]
    },
    {
      "cell_type": "markdown",
      "metadata": {},
      "source": [
        "---"
      ]
    },
    {
      "cell_type": "markdown",
      "metadata": {},
      "source": [
        "**Does delivery delay affect the distribution of order ratings?**\n",
        "\n",
        "**Result:**\n",
        "\n",
        "- At the 0.05 significance level, the distribution of order ratings differs between delayed and non-delayed orders.\n",
        "- Moreover, non-delayed orders have statistically significantly higher chances of receiving a higher rating."
      ]
    },
    {
      "cell_type": "markdown",
      "metadata": {},
      "source": [
        "---"
      ]
    },
    {
      "cell_type": "markdown",
      "metadata": {},
      "source": [
        "**Are expensive orders delivered longer?**\n",
        "\n",
        "**Result:**\n",
        "\n",
        "- At the 0.05 significance level, the mean delivery cost for the high-price order category is statistically significantly different from the mean delivery cost for any other category.\n",
        "- Moreover, the mean delivery cost for the high-price category is statistically significantly higher than for other categories."
      ]
    },
    {
      "cell_type": "code",
      "execution_count": null,
      "metadata": {
        "tags": [
          "remove-cell"
        ]
      },
      "source": [
        "%run ../../_post_run.ipynb"
      ],
      "outputs": []
    }
  ]
}