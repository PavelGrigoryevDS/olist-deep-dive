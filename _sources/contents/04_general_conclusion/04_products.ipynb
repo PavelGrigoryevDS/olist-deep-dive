{
  "metadata": {},
  "nbformat": 4,
  "nbformat_minor": 4,
  "cells": [
    {
      "cell_type": "code",
      "execution_count": null,
      "metadata": {
        "tags": [
          "remove-cell"
        ]
      },
      "source": [
        "%run ../../_pre_run.ipynb"
      ],
      "outputs": []
    },
    {
      "cell_type": "markdown",
      "metadata": {},
      "source": [
        "# Products"
      ]
    },
    {
      "cell_type": "markdown",
      "metadata": {},
      "source": [
        "**Product Quantity**\n",
        "\n",
        "- 75% of products sold 1-2 units over the entire period. 5% sold 10+ units.\n",
        "- On 75% of days, up to 207 products were sold. There were several days with over 400 products sold.\n",
        "- Most products sold were in categories: Bed Bath Table and Health Beauty.\n",
        "- Fewest products sold were in categories: Security and Services.\n",
        "- Top 3 generalized categories by products sold: Electronics (27%), Furniture (19%), Home & Garden (15%). Fewest (1%) in Food & Drinks."
      ]
    },
    {
      "cell_type": "markdown",
      "metadata": {},
      "source": [
        "---"
      ]
    },
    {
      "cell_type": "markdown",
      "metadata": {},
      "source": [
        "**Product Price**\n",
        "\n",
        "- 75% of sold products had an average price ≤153 R$. 5% were ≤17 R$, while another 5% were ≥470 R$.\n",
        "- On 5% of days, average product price was ≤94 R$. 50% of days ranged 108-130 R$. 5% were ≥162 R$.\n",
        "- Highest average price in Watches Gifts category. Lowest in Flowers.\n",
        "- Top 3 generalized categories by average price: Industry & Construction, Electronics, Fashion. Lowest in Food & Drinks."
      ]
    },
    {
      "cell_type": "markdown",
      "metadata": {},
      "source": [
        "---"
      ]
    },
    {
      "cell_type": "markdown",
      "metadata": {},
      "source": [
        "**Product Sales Revenue**\n",
        "\n",
        "- 75% of days had product sales ≤29K R$. 5% had ≥42K R$.\n",
        "- Highest revenue categories: Health Beauty and Watches Gifts.\n",
        "- Lowest revenue in Security and Services.\n",
        "- Top 3 generalized categories by revenue: Electronics, Furniture, Home & Garden. Lowest in Food & Drinks."
      ]
    },
    {
      "cell_type": "markdown",
      "metadata": {},
      "source": [
        "---"
      ]
    },
    {
      "cell_type": "markdown",
      "metadata": {},
      "source": [
        "**Revenue per Product**\n",
        "\n",
        "- 75% of products generated ≤325 R$ total revenue.\n",
        "- Highest average revenue per product in Watches Gifts. Lowest in Flowers.\n",
        "- Top 3 generalized categories by revenue per product: Electronics, Beauty & Health, Industry & Construction. Lowest in Books & Stationery."
      ]
    },
    {
      "cell_type": "markdown",
      "metadata": {},
      "source": [
        "---"
      ]
    },
    {
      "cell_type": "markdown",
      "metadata": {},
      "source": [
        "**Price Changes**  \n",
        "\n",
        "- 80% of products had no price changes. 5% changed by ≥20 R$.\n",
        "- Most volatile prices in Watches Gifts.\n",
        "- Top 3 generalized categories by price volatility: Electronics, Industry & Construction, Beauty & Health. Least volatile: Food & Drinks."
      ]
    },
    {
      "cell_type": "markdown",
      "metadata": {},
      "source": [
        "---"
      ]
    },
    {
      "cell_type": "markdown",
      "metadata": {},
      "source": [
        "**Average Quantity per Order**\n",
        "\n",
        "- 85% of products appeared as single units in orders.\n",
        "- Highest average quantities in Food & Drinks."
      ]
    },
    {
      "cell_type": "markdown",
      "metadata": {},
      "source": [
        "---"
      ]
    },
    {
      "cell_type": "markdown",
      "metadata": {},
      "source": [
        "**Product Characteristics**  \n",
        "\n",
        "- 75% of products have a title length of up to 57 characters.\n",
        "- 75% of products have a description length of up to 1000 characters.\n",
        "- 52% of all products have only one photograph. 5% of products have 6 or more photographs.\n",
        "- 75% of products weigh up to 1.9 kg. 5% have a weight of 11 kg or more.\n",
        "- 75% of products have a length of up to 38 cm. 5% have a length of 65 cm or more.\n",
        "- 75% of products have a width of up to 30 cm. 5% have a width of 47 cm or more.\n",
        "- 75% of products have a height of up to 21 cm. 5% have a height of 44 cm or more.\n",
        "- 75% of products have a volume of up to 19,000 cm³. 5% have a volume of more than 64,000 cm³.\n",
        "- 75% of products have a weight-to-volume ratio of up to 0.2. 5% of products have a ratio of 0.5 or more.\n"
      ]
    },
    {
      "cell_type": "markdown",
      "metadata": {},
      "source": [
        "---"
      ]
    },
    {
      "cell_type": "markdown",
      "metadata": {},
      "source": [
        "**Unsold Products**\n",
        "\n",
        "- 2.5% of all products were never sold."
      ]
    },
    {
      "cell_type": "code",
      "execution_count": null,
      "metadata": {
        "tags": [
          "remove-cell"
        ]
      },
      "source": [
        "%run ../../_post_run.ipynb"
      ],
      "outputs": []
    }
  ]
}