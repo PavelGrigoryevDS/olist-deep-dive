{
  "metadata": {},
  "nbformat": 4,
  "nbformat_minor": 4,
  "cells": [
    {
      "cell_type": "code",
      "execution_count": null,
      "metadata": {
        "tags": [
          "remove-cell"
        ]
      },
      "source": [
        "%run ../../_pre_run.ipynb"
      ],
      "outputs": []
    },
    {
      "cell_type": "markdown",
      "metadata": {},
      "source": [
        "# Black Friday"
      ]
    },
    {
      "cell_type": "markdown",
      "metadata": {},
      "source": [
        "**Number of Sales**\n",
        "\n",
        "- Sales growth began at 5 AM and continued until 10 AM. The first peak was reached at 10 AM. The second peak was at 1 PM. Sales then decreased until 6 PM.\n",
        "- After 6 PM, sales growth resumed and reached the highest peak at 10 PM.\n",
        "- A strange spike was observed at 0 AM on November 24. This might be due to the start of Black Friday, and some customers began making purchases early.\n",
        "- 64% of orders have an average price.\n",
        "- 52% of orders have an average weight. 36% are light.\n",
        "- 49% of orders have a long delivery time category.\n",
        "- 46% of orders have a medium delivery time category.\n",
        "- Only 6% of orders have a fast delivery time category.\n",
        "- This indicates that delivery times were significantly longer during Black Friday.\n",
        "- 58% of orders have installment payments.\n",
        "- 79% of orders were paid with a credit card. 18% were paid with boleto.\n",
        "- The majority of orders (13%) consist of products from the category Bed Bath Table.\n",
        "- The majority of orders (25%) consist of products from the generalized category Bed Bath Table, and 23% consist of products from the Furniture category.\n",
        "- 49% of orders have a review rating of 5.\n",
        "- The fewest orders have a review rating of 2 (4.3%).\n",
        "- Orders with a review rating of 1 (17.5%) are more numerous than those with a review rating of 2 (4.3%) and 3 (10.7%).\n",
        "- 37% of sales were in the state of São Paulo. 14% were in the states of Rio de Janeiro and Minas Gerais, respectively. Sales in other states were 6% or less.\n",
        "- São Paulo city accounted for 14% of all sales. Rio de Janeiro city accounted for 8% of all sales. Sales in other cities were 3% or less."
      ]
    },
    {
      "cell_type": "markdown",
      "metadata": {},
      "source": [
        "---"
      ]
    },
    {
      "cell_type": "markdown",
      "metadata": {},
      "source": [
        "**Sum of Sales**\n",
        "\n",
        "- The pattern of sales by sum is slightly different from the number of sales. The main peak was reached from 10 to 11 AM. Subsequently, the sum of sales decreased until 6 PM. Then there was an increase, but the previous maximum peak was not exceeded."
      ]
    },
    {
      "cell_type": "markdown",
      "metadata": {},
      "source": [
        "---"
      ]
    },
    {
      "cell_type": "markdown",
      "metadata": {},
      "source": [
        "**Order Value**  \n",
        "\n",
        "- 75% of orders on Black Friday had a value of up to 170 R$. However, there were many outliers with values exceeding 1000 R$.\n",
        "- The average order value had an anomalous peak at 4 AM on November 25, 2017.\n",
        "- It cannot be said that the average order value was higher on Black Friday compared to neighboring days.\n",
        "- The highest order value was observed in the states of Espírito Santo, Mato Grosso, and Minas Gerais."
      ]
    },
    {
      "cell_type": "markdown",
      "metadata": {},
      "source": [
        "---"
      ]
    },
    {
      "cell_type": "markdown",
      "metadata": {},
      "source": [
        "**Number of Customers**\n",
        "\n",
        "- The dynamics of the number of customers mirrors the dynamics of the number of sales. This means customers were making one order each, which is logical."
      ]
    },
    {
      "cell_type": "markdown",
      "metadata": {},
      "source": [
        "---"
      ]
    },
    {
      "cell_type": "markdown",
      "metadata": {},
      "source": [
        "**Share of Orders with Status 'unavailable'**\n",
        "\n",
        "- The share of orders with the status 'unavailable' has spikes at 00 and 10 AM on November 23, 2017, and at 3 AM on November 24, 2017. There is also a very strong spike on November 26, 2017.\n",
        "- It cannot be said that there was a shortage of goods specifically on Black Friday."
      ]
    },
    {
      "cell_type": "markdown",
      "metadata": {},
      "source": [
        "---"
      ]
    },
    {
      "cell_type": "markdown",
      "metadata": {},
      "source": [
        "**Average Order Rating**\n",
        "\n",
        "- 49% of orders created on November 23, 24, and 25, 2017, have a review rating of 5."
      ]
    },
    {
      "cell_type": "code",
      "execution_count": null,
      "metadata": {
        "tags": [
          "remove-cell"
        ]
      },
      "source": [
        "%run ../../_post_run.ipynb"
      ],
      "outputs": []
    }
  ]
}