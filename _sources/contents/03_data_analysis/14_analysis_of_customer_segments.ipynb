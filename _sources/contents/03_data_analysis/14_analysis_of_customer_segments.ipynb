{
  "metadata": {},
  "nbformat": 4,
  "nbformat_minor": 4,
  "cells": [
    {
      "cell_type": "code",
      "execution_count": null,
      "metadata": {
        "tags": [
          "remove-cell"
        ]
      },
      "source": [
        "%run ../../_pre_run.ipynb"
      ],
      "outputs": []
    },
    {
      "cell_type": "markdown",
      "metadata": {},
      "source": [
        "# Analysis of Customer Segments"
      ]
    },
    {
      "cell_type": "code",
      "execution_count": null,
      "metadata": {},
      "outputs": [],
      "source": [
        "pb.configure(\n",
        "    df = df_customers\n",
        "    , metric = 'customer_unique_id'\n",
        "    , metric_label = 'Share of Customers'\n",
        "    , agg_func = 'nunique'\n",
        "    , norm_by='all'\n",
        "    , axis_sort_order='descending'    \n",
        "    , text_auto='.1%'\n",
        ")"
      ]
    },
    {
      "cell_type": "markdown",
      "metadata": {},
      "source": [
        "Save customer metrics in a separate list."
      ]
    },
    {
      "cell_type": "code",
      "execution_count": null,
      "metadata": {},
      "outputs": [],
      "source": [
        "customers_dim = [\n",
        "    \"activity_segment\"\n",
        "    , \"value_segment\"\n",
        "    , \"purchase_freq_segment\"\n",
        "    , \"repeat_segment\"\n",
        "    , \"loyalty_segment\"\n",
        "    , \"risk_segment\"\n",
        "    , \"weekday_segment\"\n",
        "    , \"installment_segment\"\n",
        "    , \"products_cnt_segment\"\n",
        "    , \"weight_segment\"\n",
        "    , \"customer_top_purchase_weekdays\"\n",
        "    , \"customer_payment_types\"\n",
        "    , \"customer_top_product_categories\"\n",
        "    , \"customer_top_general_product_categories\"\n",
        "    , \"customer_city\"\n",
        "    , \"customer_state\"\n",
        "]"
      ]
    },
    {
      "cell_type": "markdown",
      "metadata": {},
      "source": [
        "## Distribution of Customers by Segments"
      ]
    },
    {
      "cell_type": "markdown",
      "metadata": {},
      "source": [
        "Examine how customers are distributed across each segment and compare key metrics between segments."
      ]
    },
    {
      "cell_type": "markdown",
      "metadata": {},
      "source": [
        "Select the following key customer metrics.\n",
        "\n",
        "- total_customer_payment\n",
        "- avg_total_order_payment \n",
        "- buys_cnt\n",
        "- from_first_to_last_days\n",
        "- customer_avg_reviews_score\n",
        "- avg_products_cnt\n",
        "- avg_delivery_delay_days\n",
        "- avg_order_total_weight_kg"
      ]
    },
    {
      "cell_type": "code",
      "execution_count": null,
      "metadata": {},
      "outputs": [],
      "source": [
        "selected_metrics = [\n",
        "    'total_customer_payment',\n",
        "    'avg_total_order_payment', \n",
        "    'buys_cnt',\n",
        "    'from_first_to_last_days',\n",
        "    'customer_avg_reviews_score',\n",
        "    'canceled_share',\n",
        "    'purchase_weekend_share',\n",
        "    'avg_products_cnt',\n",
        "    'avg_delivery_delay_days',\n",
        "    'avg_order_total_weight_kg'\n",
        "]"
      ]
    },
    {
      "cell_type": "markdown",
      "metadata": {},
      "source": [
        "Give more readable names for the metrics on the graphs."
      ]
    },
    {
      "cell_type": "code",
      "execution_count": null,
      "metadata": {},
      "outputs": [],
      "source": [
        "metric_labels = {\n",
        "    'total_customer_payment': 'Total Spending',\n",
        "    'avg_total_order_payment': 'Average Order Value',\n",
        "    'buys_cnt': 'Number of Purchases',\n",
        "    'from_first_to_last_days': 'Customer Lifetime',\n",
        "    'customer_avg_reviews_score': 'Average Rating',\n",
        "    'canceled_share': 'Order Cancelation Rate',\n",
        "    'purchase_weekend_share': 'Weekend Purchase Ratio',\n",
        "    'avg_products_cnt': 'Average Items per Order',\n",
        "    'avg_delivery_delay_days': 'Avg Delivery Delay',\n",
        "    'avg_order_total_weight_kg': 'Avg Order Weight'\n",
        "}"
      ]
    },
    {
      "cell_type": "code",
      "execution_count": null,
      "metadata": {},
      "outputs": [],
      "source": [
        "labels_for_polar={**base_labels, **metric_labels}"
      ]
    },
    {
      "cell_type": "markdown",
      "metadata": {},
      "source": [
        "**By Activity Segment**"
      ]
    },
    {
      "cell_type": "code",
      "execution_count": null,
      "metadata": {},
      "outputs": [],
      "source": [
        "fig = df_customers.analysis.segment_polar(\n",
        "    metrics=selected_metrics\n",
        "    , dimension='activity_segment'\n",
        "    , count_column='customer_unique_id'\n",
        "    , labels=labels_for_polar\n",
        ")\n",
        "pb.to_slide(fig)"
      ]
    },
    {
      "cell_type": "code",
      "execution_count": null,
      "metadata": {},
      "outputs": [],
      "source": [
        "df_customers.analysis.segment_table(\n",
        "    metrics=selected_metrics\n",
        "    , dimension='activity_segment'\n",
        "    , count_column='customer_unique_id' \n",
        ")\n",
        "fig.show()"
      ]
    },
    {
      "cell_type": "markdown",
      "metadata": {},
      "source": [
        "**Key Observations:**  \n",
        "\n",
        "- 3% of all customers made no successful purchases  \n",
        "- 94% of successful customers made only one purchase  \n",
        "- 1% in Potential Core segment  \n",
        "- 1% in Short-Lived Repeat segment  \n",
        "- Core audience segment is less than 1%  \n",
        "- Highest metric values in Core segment, followed by Potential Core  \n",
        "- Median review score is higher for one-time purchasers  \n",
        "- Core segment has best delivery time performance, One Time has worst  "
      ]
    },
    {
      "cell_type": "markdown",
      "metadata": {},
      "source": [
        "We will not consider the segment of customers who did not make any successful purchases, as their values will be repetitive."
      ]
    },
    {
      "cell_type": "markdown",
      "metadata": {},
      "source": [
        "**By Purchase Amount Segment**"
      ]
    },
    {
      "cell_type": "code",
      "execution_count": null,
      "metadata": {},
      "outputs": [],
      "source": [
        "fig = df_customers.analysis.segment_polar(\n",
        "    metrics=selected_metrics\n",
        "    , dimension='value_segment'\n",
        "    , exclude_segments=['Never Converted']\n",
        "    , count_column='customer_unique_id'\n",
        "    , labels=labels_for_polar\n",
        ")\n",
        "pb.to_slide(fig)"
      ]
    },
    {
      "cell_type": "code",
      "execution_count": null,
      "metadata": {},
      "outputs": [],
      "source": [
        "df_customers.analysis.segment_table(\n",
        "    metrics=selected_metrics\n",
        "    , dimension='value_segment'\n",
        "    , exclude_segments=['Never Converted']\n",
        "    , count_column='customer_unique_id' \n",
        ")\n",
        "fig.show()"
      ]
    },
    {
      "cell_type": "markdown",
      "metadata": {},
      "source": [
        "**Key Observations:**  \n",
        "\n",
        "- 49% of customers are in medium payment tier  \n",
        "- 24% in high payment tier, 24% in low  \n",
        "- High payment tier spends most (expected)  \n",
        "- No difference in median review scores across tiers  \n",
        "- High payment tier has higher median order weight  "
      ]
    },
    {
      "cell_type": "markdown",
      "metadata": {},
      "source": [
        "**By Purchase Frequency Segment**"
      ]
    },
    {
      "cell_type": "code",
      "execution_count": null,
      "metadata": {},
      "outputs": [],
      "source": [
        "fig = df_customers.analysis.segment_polar(\n",
        "    metrics=selected_metrics\n",
        "    , dimension='purchase_freq_segment'\n",
        "    , exclude_segments=['Never Converted', 'Non-Repeating']\n",
        "    , count_column='customer_unique_id'\n",
        "    , labels=labels_for_polar\n",
        ")\n",
        "pb.to_slide(fig)"
      ]
    },
    {
      "cell_type": "code",
      "execution_count": null,
      "metadata": {},
      "outputs": [],
      "source": [
        "df_customers.analysis.segment_table(\n",
        "    metrics=selected_metrics\n",
        "    , dimension='purchase_freq_segment'\n",
        "    , exclude_segments=['Never Converted']\n",
        "    , count_column='customer_unique_id' \n",
        ")\n",
        "fig.show()"
      ]
    },
    {
      "cell_type": "markdown",
      "metadata": {},
      "source": [
        "**Key Observations:**  \n",
        "\n",
        "- Among repeat buyers:  \n",
        "  - Weekly purchasers: 1% (most common frequency)  \n",
        "  - Quarterly/Semi-annual buyers show better metrics than other frequencies  "
      ]
    },
    {
      "cell_type": "markdown",
      "metadata": {},
      "source": [
        "**By Time to Next Purchase Segment**"
      ]
    },
    {
      "cell_type": "code",
      "execution_count": null,
      "metadata": {},
      "outputs": [],
      "source": [
        "fig = df_customers.analysis.segment_polar(\n",
        "    metrics=selected_metrics\n",
        "    , dimension='repeat_segment'\n",
        "    , exclude_segments=['Never Converted', 'Non-Repeating']\n",
        "    , count_column='customer_unique_id'\n",
        "    , labels=labels_for_polar\n",
        ")\n",
        "pb.to_slide(fig)"
      ]
    },
    {
      "cell_type": "code",
      "execution_count": null,
      "metadata": {},
      "outputs": [],
      "source": [
        "df_customers.analysis.segment_table(\n",
        "    metrics=selected_metrics\n",
        "    , dimension='repeat_segment'\n",
        "    , exclude_segments=['Never Converted']\n",
        "    , count_column='customer_unique_id' \n",
        ")\n",
        "fig.show()"
      ]
    },
    {
      "cell_type": "markdown",
      "metadata": {},
      "source": [
        "**Key Observations:**  \n",
        "\n",
        "- Among repeat buyers, medium repurchase time segment is smallest (<1%)  \n",
        "- Fast repurchase segment shows worse metrics than medium/slow segments  "
      ]
    },
    {
      "cell_type": "markdown",
      "metadata": {},
      "source": [
        "**By Loyalty Segment**"
      ]
    },
    {
      "cell_type": "code",
      "execution_count": null,
      "metadata": {},
      "outputs": [],
      "source": [
        "fig = df_customers.analysis.segment_polar(\n",
        "    metrics=selected_metrics\n",
        "    , dimension='loyalty_segment'\n",
        "    , exclude_segments=['Never Converted']\n",
        "    , count_column='customer_unique_id'\n",
        "    , labels=labels_for_polar\n",
        ")\n",
        "pb.to_slide(fig)"
      ]
    },
    {
      "cell_type": "code",
      "execution_count": null,
      "metadata": {},
      "outputs": [],
      "source": [
        "df_customers.analysis.segment_table(\n",
        "    metrics=selected_metrics\n",
        "    , dimension='loyalty_segment'\n",
        "    , exclude_segments=['Never Converted']\n",
        "    , count_column='customer_unique_id' \n",
        ")\n",
        "fig.show()"
      ]
    },
    {
      "cell_type": "markdown",
      "metadata": {},
      "source": [
        "**Key Observations:**  \n",
        "\n",
        "- Loyalty segments:  \n",
        "  - Promoters: 58%  \n",
        "  - Critics: 13% (lowest)  \n",
        "- Critics have:  \n",
        "  - Higher total payment and AOV than promoters/neutrals  \n",
        "  - Shortest time between first/last purchase (rarely return)  \n",
        "  - Heavier average orders  \n",
        "  - Worst median delivery time performance  "
      ]
    },
    {
      "cell_type": "markdown",
      "metadata": {},
      "source": [
        "**By Risk Segment**"
      ]
    },
    {
      "cell_type": "code",
      "execution_count": null,
      "metadata": {},
      "outputs": [],
      "source": [
        "fig = df_customers.analysis.segment_polar(\n",
        "    metrics=selected_metrics\n",
        "    , dimension='risk_segment'\n",
        "    , count_column='customer_unique_id'\n",
        "    , labels=labels_for_polar\n",
        ")\n",
        "pb.to_slide(fig)"
      ]
    },
    {
      "cell_type": "code",
      "execution_count": null,
      "metadata": {},
      "outputs": [],
      "source": [
        "df_customers.analysis.segment_table(\n",
        "    metrics=selected_metrics\n",
        "    , dimension='risk_segment'\n",
        "    , exclude_segments=['Never Converted']\n",
        "    , count_column='customer_unique_id' \n",
        ")\n",
        "fig.show()"
      ]
    },
    {
      "cell_type": "markdown",
      "metadata": {},
      "source": [
        "**Key Observations:**  \n",
        "\n",
        "- 99.5% of customers are \"Reliable\" (no order cancellations)  \n",
        "- Cancellation segment has:  \n",
        "  - Much shorter time between first/second purchase  \n",
        "  - Higher median total spend and AOV  "
      ]
    },
    {
      "cell_type": "markdown",
      "metadata": {},
      "source": [
        "**By Day of the Week Segment**"
      ]
    },
    {
      "cell_type": "code",
      "execution_count": null,
      "metadata": {},
      "outputs": [],
      "source": [
        "fig = df_customers.analysis.segment_polar(\n",
        "    metrics=selected_metrics\n",
        "    , dimension='weekday_segment'\n",
        "    , exclude_segments=['Never Converted']\n",
        "    , count_column='customer_unique_id'\n",
        "    , labels=labels_for_polar\n",
        ")\n",
        "pb.to_slide(fig)"
      ]
    },
    {
      "cell_type": "code",
      "execution_count": null,
      "metadata": {},
      "outputs": [],
      "source": [
        "df_customers.analysis.segment_table(\n",
        "    metrics=selected_metrics\n",
        "    , dimension='weekday_segment'\n",
        "    , exclude_segments=['Never Converted']\n",
        "    , count_column='customer_unique_id' \n",
        ")\n",
        "fig.show()"
      ]
    },
    {
      "cell_type": "markdown",
      "metadata": {},
      "source": [
        "**Key Observations:**  \n",
        "\n",
        "- 75% of customers only purchased on weekdays  \n",
        "- Weekend purchasers have significantly longer time between first/last purchase  "
      ]
    },
    {
      "cell_type": "markdown",
      "metadata": {},
      "source": [
        "**By Installment Payment Segment**"
      ]
    },
    {
      "cell_type": "code",
      "execution_count": null,
      "metadata": {},
      "outputs": [],
      "source": [
        "fig = df_customers.analysis.segment_polar(\n",
        "    metrics=selected_metrics\n",
        "    , dimension='installment_segment'\n",
        "    , exclude_segments=['Never Converted']\n",
        "    , count_column='customer_unique_id'\n",
        "    , labels=labels_for_polar\n",
        ")\n",
        "pb.to_slide(fig)"
      ]
    },
    {
      "cell_type": "code",
      "execution_count": null,
      "metadata": {},
      "outputs": [],
      "source": [
        "df_customers.analysis.segment_table(\n",
        "    metrics=selected_metrics\n",
        "    , dimension='installment_segment'\n",
        "    , exclude_segments=['Never Converted']\n",
        "    , count_column='customer_unique_id' \n",
        ")\n",
        "fig.show()"
      ]
    },
    {
      "cell_type": "markdown",
      "metadata": {},
      "source": [
        "**Key Observations:**  \n",
        "\n",
        "- 50% used installments at least once  \n",
        "- 47% always paid in full  \n",
        "- Installment users have significantly higher:  \n",
        "  - Median total spend  \n",
        "  - AOV  \n",
        "  - Order weight  \n",
        "  - Time between first/last purchase  "
      ]
    },
    {
      "cell_type": "markdown",
      "metadata": {},
      "source": [
        "**By Average Number of Products per Order Segment**"
      ]
    },
    {
      "cell_type": "code",
      "execution_count": null,
      "metadata": {},
      "outputs": [],
      "source": [
        "fig = df_customers.analysis.segment_polar(\n",
        "    metrics=selected_metrics\n",
        "    , dimension='products_cnt_segment'\n",
        "    , exclude_segments=['Never Converted']\n",
        "    , count_column='customer_unique_id'\n",
        "    , labels=labels_for_polar\n",
        ")\n",
        "pb.to_slide(fig)"
      ]
    },
    {
      "cell_type": "code",
      "execution_count": null,
      "metadata": {},
      "outputs": [],
      "source": [
        "df_customers.analysis.segment_table(\n",
        "    metrics=selected_metrics\n",
        "    , dimension='products_cnt_segment'\n",
        "    , exclude_segments=['Never Converted']\n",
        "    , count_column='customer_unique_id' \n",
        ")\n",
        "fig.show()"
      ]
    },
    {
      "cell_type": "markdown",
      "metadata": {},
      "source": [
        "**Key Observations:**  \n",
        "\n",
        "- 88% of customers had ≤1 product per order  \n",
        "- 8% averaged 1-2 products  \n",
        "- Only 2% averaged >2 products  \n",
        "- Customers with 2+ products per order have significantly higher:  \n",
        "  - Median order weight  \n",
        "  - Total spend  \n",
        "  - AOV  \n",
        "  - Time between first/last purchase  "
      ]
    },
    {
      "cell_type": "markdown",
      "metadata": {},
      "source": [
        "**By Average Weight of Order Segment**"
      ]
    },
    {
      "cell_type": "code",
      "execution_count": null,
      "metadata": {},
      "outputs": [],
      "source": [
        "fig = df_customers.analysis.segment_polar(\n",
        "    metrics=selected_metrics\n",
        "    , dimension='weight_segment'\n",
        "    , exclude_segments=['Never Converted']\n",
        "    , count_column='customer_unique_id'\n",
        "    , labels=labels_for_polar\n",
        ")\n",
        "pb.to_slide(fig)"
      ]
    },
    {
      "cell_type": "code",
      "execution_count": null,
      "metadata": {},
      "outputs": [],
      "source": [
        "df_customers.analysis.segment_table(\n",
        "    metrics=selected_metrics\n",
        "    , dimension='weight_segment'\n",
        "    , exclude_segments=['Never Converted']\n",
        "    , count_column='customer_unique_id' \n",
        ")\n",
        "fig.show()"
      ]
    },
    {
      "cell_type": "markdown",
      "metadata": {},
      "source": [
        "**Key Observations:**  \n",
        "\n",
        "- Order weight segments:  \n",
        "  - Light: 39%  \n",
        "  - Medium: 37%  \n",
        "  - Heavy: 21%  \n",
        "- Heavy segment has significantly higher total spend and AOV  \n",
        "- Light segment has shorter time between first/last purchase  "
      ]
    },
    {
      "cell_type": "markdown",
      "metadata": {},
      "source": [
        "**By Top Days of the Week**"
      ]
    },
    {
      "cell_type": "code",
      "execution_count": null,
      "metadata": {},
      "outputs": [],
      "source": [
        "fig = df_customers.analysis.segment_polar(\n",
        "    metrics=selected_metrics\n",
        "    , dimension='customer_top_purchase_weekdays'\n",
        "    , exclude_segments=['Never Converted']\n",
        "    , max_segments=5\n",
        "    , count_column='customer_unique_id'\n",
        "    , labels=labels_for_polar\n",
        ")\n",
        "pb.to_slide(fig)"
      ]
    },
    {
      "cell_type": "code",
      "execution_count": null,
      "metadata": {},
      "outputs": [],
      "source": [
        "df_customers.analysis.segment_table(\n",
        "    metrics=selected_metrics\n",
        "    , dimension='customer_top_purchase_weekdays'\n",
        "    , exclude_segments=['Never Converted']\n",
        "    , max_segments=5\n",
        "    , count_column='customer_unique_id' \n",
        ")\n",
        "fig.show()"
      ]
    },
    {
      "cell_type": "markdown",
      "metadata": {},
      "source": [
        "**Key Observations:**  \n",
        "\n",
        "- Most customers only purchased on one weekday (expected due to low repeat purchases)  \n",
        "- Top 3 purchase days: Monday, Tuesday, Wednesday  \n",
        "- Monday-only buyers have longer time between first/last purchase than other top segments (possibly coincidental)  "
      ]
    },
    {
      "cell_type": "markdown",
      "metadata": {},
      "source": [
        "**By Top Payment Types**"
      ]
    },
    {
      "cell_type": "code",
      "execution_count": null,
      "metadata": {},
      "outputs": [],
      "source": [
        "fig = df_customers.analysis.segment_polar(\n",
        "    metrics=selected_metrics\n",
        "    , dimension='customer_payment_types'\n",
        "    , exclude_segments=['Never Converted']\n",
        "    , max_segments=5\n",
        "    , count_column='customer_unique_id'\n",
        "    , labels=labels_for_polar\n",
        "    , text_auto=True\n",
        ")\n",
        "pb.to_slide(fig)"
      ]
    },
    {
      "cell_type": "code",
      "execution_count": null,
      "metadata": {},
      "outputs": [],
      "source": [
        "df_customers.analysis.segment_table(\n",
        "    metrics=selected_metrics\n",
        "    , dimension='customer_payment_types'\n",
        "    , exclude_segments=['Never Converted']\n",
        "    , max_segments=5\n",
        "    , count_column='customer_unique_id' \n",
        ")\n",
        "fig.show()"
      ]
    },
    {
      "cell_type": "markdown",
      "metadata": {},
      "source": [
        "**Key Observations:**  \n",
        "\n",
        "- Payment methods:  \n",
        "  - Credit card only: 73%  \n",
        "  - Boleto only: 19%  \n",
        "- Voucher-only segment has lower total spend and AOV than other top payment segments  \n"
      ]
    },
    {
      "cell_type": "markdown",
      "metadata": {},
      "source": [
        "**By Top Product Categories**"
      ]
    },
    {
      "cell_type": "code",
      "execution_count": null,
      "metadata": {},
      "outputs": [],
      "source": [
        "fig = df_customers.analysis.segment_polar(\n",
        "    metrics=selected_metrics\n",
        "    , dimension='customer_top_product_categories'\n",
        "    , exclude_segments=['Never Converted']\n",
        "    , max_segments=5\n",
        "    , count_column='customer_unique_id'\n",
        "    , labels=labels_for_polar\n",
        ")\n",
        "pb.to_slide(fig)"
      ]
    },
    {
      "cell_type": "code",
      "execution_count": null,
      "metadata": {},
      "outputs": [],
      "source": [
        "df_customers.analysis.segment_table(\n",
        "    metrics=selected_metrics\n",
        "    , dimension='customer_top_product_categories'\n",
        "    , max_segments=5\n",
        "    , exclude_segments=['Never Converted']\n",
        "    , count_column='customer_unique_id' \n",
        ")\n",
        "fig.show()"
      ]
    },
    {
      "cell_type": "markdown",
      "metadata": {},
      "source": [
        "**Key Observations:**  \n",
        "\n",
        "- Most customers only bought from:  \n",
        "  - Bed Bath Table  \n",
        "  - Health Beauty categories  \n",
        "- Sports goods buyers have longer time between first/last purchase than other category segments  \n"
      ]
    },
    {
      "cell_type": "markdown",
      "metadata": {},
      "source": [
        "**By Top General Product Categories**"
      ]
    },
    {
      "cell_type": "code",
      "execution_count": null,
      "metadata": {},
      "outputs": [],
      "source": [
        "fig = df_customers.analysis.segment_polar(\n",
        "    metrics=selected_metrics\n",
        "    , dimension='customer_top_general_product_categories'\n",
        "    , exclude_segments=['Never Converted']\n",
        "    , max_segments=5\n",
        "    , count_column='customer_unique_id'\n",
        "    , labels=labels_for_polar\n",
        ")\n",
        "pb.to_slide(fig)"
      ]
    },
    {
      "cell_type": "code",
      "execution_count": null,
      "metadata": {},
      "outputs": [],
      "source": [
        "df_customers.analysis.segment_table(\n",
        "    metrics=selected_metrics\n",
        "    , dimension='customer_top_general_product_categories'\n",
        "    , exclude_segments=['Never Converted']\n",
        "    , max_segments=5\n",
        "    , count_column='customer_unique_id' \n",
        ")\n",
        "fig.show()"
      ]
    },
    {
      "cell_type": "markdown",
      "metadata": {},
      "source": [
        "**Key Observations:**  \n",
        "\n",
        "- Top generalized category segments:  \n",
        "  - Electronics only: 26%  \n",
        "  - Furniture only: 17%  \n",
        "  - Home & Garden only: 14%  "
      ]
    },
    {
      "cell_type": "markdown",
      "metadata": {},
      "source": [
        "**By Customer State**"
      ]
    },
    {
      "cell_type": "code",
      "execution_count": null,
      "metadata": {},
      "outputs": [],
      "source": [
        "fig = df_customers.analysis.segment_polar(\n",
        "    metrics=selected_metrics\n",
        "    , dimension='customer_state'\n",
        "    , exclude_segments=['Never Converted']\n",
        "    , max_segments=5\n",
        "    , count_column='customer_unique_id'\n",
        "    , labels=labels_for_polar\n",
        ")\n",
        "pb.to_slide(fig)"
      ]
    },
    {
      "cell_type": "code",
      "execution_count": null,
      "metadata": {},
      "outputs": [],
      "source": [
        "df_customers.analysis.segment_table(\n",
        "    metrics=selected_metrics\n",
        "    , dimension='customer_state'\n",
        "    , max_segments=5\n",
        "    , exclude_segments=['Never Converted']\n",
        "    , count_column='customer_unique_id' \n",
        ")\n",
        "fig.show()"
      ]
    },
    {
      "cell_type": "markdown",
      "metadata": {},
      "source": [
        "**Key Observations:**  \n",
        "\n",
        "- Customer distribution by state:  \n",
        "  - São Paulo: 42%  \n",
        "  - Rio de Janeiro: 13%  \n",
        "  - Minas Gerais: 12%  "
      ]
    },
    {
      "cell_type": "markdown",
      "metadata": {},
      "source": [
        "**By Customer City**"
      ]
    },
    {
      "cell_type": "code",
      "execution_count": null,
      "metadata": {},
      "outputs": [],
      "source": [
        "fig = df_customers.analysis.segment_polar(\n",
        "    metrics=selected_metrics\n",
        "    , dimension='customer_city'\n",
        "    , exclude_segments=['Never Converted']\n",
        "    , max_segments=5\n",
        "    , count_column='customer_unique_id'\n",
        "    , labels=labels_for_polar\n",
        ")\n",
        "pb.to_slide(fig)"
      ]
    },
    {
      "cell_type": "code",
      "execution_count": null,
      "metadata": {},
      "outputs": [],
      "source": [
        "df_customers.analysis.segment_table(\n",
        "    metrics=selected_metrics\n",
        "    , dimension='customer_city'\n",
        "    , max_segments=5\n",
        "    , exclude_segments=['Never Converted']\n",
        "    , count_column='customer_unique_id' \n",
        ")\n",
        "fig.show()"
      ]
    },
    {
      "cell_type": "markdown",
      "metadata": {},
      "source": [
        "**Key Observations:**  \n",
        "\n",
        "- Customer distribution by city:  \n",
        "  - São Paulo: 16%  \n",
        "  - Rio de Janeiro: 7%  "
      ]
    },
    {
      "cell_type": "markdown",
      "metadata": {},
      "source": [
        "## Customer Profiling"
      ]
    },
    {
      "cell_type": "markdown",
      "metadata": {},
      "source": [
        "**By Purchase Frequency & Loyalty**"
      ]
    },
    {
      "cell_type": "markdown",
      "metadata": {},
      "source": [
        "- **One-Time Buyers (94%):**\n",
        "  - Single purchase only\n",
        "  - Low engagement (short time between purchases)\n",
        "  \n",
        "- **Potential Core (1%):**\n",
        "  - Potentially loyal but not yet core\n",
        "  - Strong metrics (second only to Core)\n",
        "\n",
        "- **Core (<1%):**\n",
        "  - Loyalty core: highest spending, best metrics\n",
        "\n",
        "- **Short-Lived Repeat (1%):**\n",
        "  - Short-term loyalty "
      ]
    },
    {
      "cell_type": "markdown",
      "metadata": {},
      "source": [
        "**Recommendations:**\n",
        "\n",
        "1. Convert One-Time to Potential Core:\n",
        "   - Launch loyalty programs\n",
        "   - Personalized offers based on first purchase\n",
        "2. Retain Core customers:\n",
        "   - Premium service tier\n",
        "   - Exclusive early access to sales"
      ]
    },
    {
      "cell_type": "markdown",
      "metadata": {},
      "source": [
        "---"
      ]
    },
    {
      "cell_type": "markdown",
      "metadata": {},
      "source": [
        "**By Payment Amount**"
      ]
    },
    {
      "cell_type": "markdown",
      "metadata": {},
      "source": [
        "- **High-Spend (24%):**\n",
        "  - Large orders\n",
        "  - Heavy items \n",
        "  - Critical risk\n",
        "\n",
        "- **Medium-Spend (49%):**\n",
        "  - Stable base \n",
        "  - Balanced metrics\n",
        "\n",
        "- **Low-Spend (24%):**\n",
        "  - Small orders\n",
        "  - Likely trial purchases"
      ]
    },
    {
      "cell_type": "markdown",
      "metadata": {},
      "source": [
        "**Recommendations:**\n",
        "1. For High-Spend:\n",
        "   - Improve delivery (current avg. 18 days)\n",
        "   - Dedicated account managers\n",
        "2. For Low-Spend:\n",
        "   - Cross-sell bundles (+15% discount)\n",
        "   - \"Complete your set\" prompts"
      ]
    },
    {
      "cell_type": "markdown",
      "metadata": {},
      "source": [
        "---"
      ]
    },
    {
      "cell_type": "markdown",
      "metadata": {},
      "source": [
        "**By Repurchase Timing**"
      ]
    },
    {
      "cell_type": "markdown",
      "metadata": {},
      "source": [
        "- **Fast Repeat (<1%):**\n",
        "  - Quick repurchase \n",
        "  - Low satisfaction \n",
        "\n",
        "- **Seasonal (1%):**\n",
        "  - Quarterly/semi-annual purchases\n",
        "  - High value "
      ]
    },
    {
      "cell_type": "markdown",
      "metadata": {},
      "source": [
        "**Recommendations:**\n",
        "1. For Fast Repeat:\n",
        "   - Post-purchase follow-ups\n",
        "   - Satisfaction surveys\n",
        "2. For Seasonal:\n",
        "   - Pre-season reminders\n",
        "   - \"Back in stock\" alerts"
      ]
    },
    {
      "cell_type": "markdown",
      "metadata": {},
      "source": [
        "---"
      ]
    },
    {
      "cell_type": "markdown",
      "metadata": {},
      "source": [
        "**By Loyalty**"
      ]
    },
    {
      "cell_type": "markdown",
      "metadata": {},
      "source": [
        "- **Promoters (58%):**\n",
        "  - High ratings (4-5 stars)\n",
        "  - Low retention (94% one-time)\n",
        "\n",
        "- **Critics (13%):**\n",
        "  - High spenders \n",
        "  - Fast churn "
      ]
    },
    {
      "cell_type": "markdown",
      "metadata": {},
      "source": [
        "**Recommendations:**\n",
        "1. For Promoters:\n",
        "   - \"Refer a friend\" bonuses\n",
        "   - Repeat purchase incentives\n",
        "2. For Critics:\n",
        "   - Logistics improvements\n",
        "   - VIP complaint resolution"
      ]
    },
    {
      "cell_type": "markdown",
      "metadata": {},
      "source": [
        "---"
      ]
    },
    {
      "cell_type": "markdown",
      "metadata": {},
      "source": [
        "**Behavioral Patterns**"
      ]
    },
    {
      "cell_type": "markdown",
      "metadata": {},
      "source": [
        "- Customers who made purchases not only on weekends (25%):\n",
        "  - More loyal (longer time between purchases).\n",
        "- Customers who use installment payments (50%):\n",
        "  - Higher order amounts, longer customer lifetime — \"serious\" customers.\n",
        "- Customers with 2+ products in an order (2%):\n",
        "  - Key for revenue (high metrics).\n",
        "- Customers who use only a voucher:\n",
        "  - Have lower total purchase amounts and average order amounts.\n"
      ]
    },
    {
      "cell_type": "markdown",
      "metadata": {},
      "source": [
        "**Recommendations:**\n",
        "\n",
        "- Installment campaigns:\n",
        "  - \"0% interest for 3 months\"\n",
        "- Multi-item incentives:\n",
        "  - \"Free shipping on 3+ items\"\n",
        "- Voucher users:\n",
        "  - Upsell to credit card payments"
      ]
    },
    {
      "cell_type": "markdown",
      "metadata": {},
      "source": [
        "---"
      ]
    },
    {
      "cell_type": "markdown",
      "metadata": {},
      "source": [
        "**By Geographic**"
      ]
    },
    {
      "cell_type": "markdown",
      "metadata": {},
      "source": [
        "- **São Paulo (42%):**\n",
        "  - Electronics/Furniture focus\n",
        "  - 18% faster delivery than average\n",
        "\n",
        "- **Rio de Janeiro (13%):**\n",
        "  - High Fashion/Beauty demand\n",
        "  - 22% installment adoption"
      ]
    },
    {
      "cell_type": "markdown",
      "metadata": {},
      "source": [
        "**Recommendations:**\n",
        "\n",
        "1. Localized campaigns:\n",
        "   - \"SP Furniture Week\" discounts\n",
        "   - \"Rio Beauty Box\" bundles\n",
        "2. Warehouse optimization:\n",
        "   - Strategic stock placement\n",
        "   - Regional delivery hubs"
      ]
    },
    {
      "cell_type": "markdown",
      "metadata": {},
      "source": [
        "## Pairwise Segment Combinations"
      ]
    },
    {
      "cell_type": "markdown",
      "metadata": {},
      "source": [
        "Examine the distribution of customers across combinations of 2 segments. \n",
        "\n",
        "We will exclude the non-converted segment from the analysis."
      ]
    },
    {
      "cell_type": "code",
      "execution_count": null,
      "metadata": {},
      "outputs": [],
      "source": [
        "pb.configure(\n",
        "    df = df_customers[df_customers.buys_cnt.notna()]\n",
        "    , metric = 'customer_unique_id'\n",
        "    , metric_label = 'Share of Customers'\n",
        "    , agg_func = 'nunique'\n",
        "    , norm_by='all'\n",
        "    , axis_sort_order='descending'    \n",
        "    , text_auto='.1%'\n",
        ")"
      ]
    },
    {
      "cell_type": "markdown",
      "metadata": {},
      "source": [
        "**loyalty_segment and value_segment**"
      ]
    },
    {
      "cell_type": "code",
      "execution_count": null,
      "metadata": {},
      "outputs": [],
      "source": [
        "pb.cat_compare(\n",
        "    cat1='loyalty_segment'\n",
        "    , cat2 = 'value_segment'\n",
        "    , visible_graphs = [2, 3]\n",
        ")"
      ]
    },
    {
      "cell_type": "markdown",
      "metadata": {},
      "source": [
        "**Key Observations:**\n",
        "\n",
        "- The medium payment tier dominates across all loyalty segments.\n",
        "- Promoters are the majority in all payment tiers.\n",
        "- Critics stand out noticeably in the high payment tier segment."
      ]
    },
    {
      "cell_type": "markdown",
      "metadata": {},
      "source": [
        "**purchase_freq_segment and value_segment**"
      ]
    },
    {
      "cell_type": "code",
      "execution_count": null,
      "metadata": {},
      "outputs": [],
      "source": [
        "pb.cat_compare(\n",
        "    cat1='purchase_freq_segment'\n",
        "    , cat2 = 'value_segment'\n",
        "    , visible_graphs = [2, 3]\n",
        ")"
      ]
    },
    {
      "cell_type": "markdown",
      "metadata": {},
      "source": [
        "**Key Observations:**\n",
        "\n",
        "- The low Value segment has a significantly higher proportion of non-repeat purchasers (logical since they don't make repeat purchases).\n",
        "- In the high Value segment, the weekly purchase frequency segment underperforms - meaning fewer purchases occurred weekly."
      ]
    },
    {
      "cell_type": "markdown",
      "metadata": {},
      "source": [
        "**activity_segment and repeat_segment**"
      ]
    },
    {
      "cell_type": "code",
      "execution_count": null,
      "metadata": {},
      "outputs": [],
      "source": [
        "pb.cat_compare(\n",
        "    cat1='activity_segment'\n",
        "    , cat2 = 'repeat_segment'\n",
        "    , visible_graphs = [2, 3]\n",
        ")"
      ]
    },
    {
      "cell_type": "markdown",
      "metadata": {},
      "source": [
        "**Key Observations:**  \n",
        "\n",
        "- The slow repeat segment is clearly highlighted in potential core, meaning they have a long time between repeat purchases. The same pattern is present in the core segment, but it is less pronounced.\n"
      ]
    },
    {
      "cell_type": "markdown",
      "metadata": {},
      "source": [
        "**loyalty_segment and risk_segment**"
      ]
    },
    {
      "cell_type": "code",
      "execution_count": null,
      "metadata": {},
      "outputs": [],
      "source": [
        "pb.cat_compare(\n",
        "    cat1='loyalty_segment'\n",
        "    , cat2 = 'risk_segment'\n",
        "    , visible_graphs = [2, 3]\n",
        ")"
      ]
    },
    {
      "cell_type": "markdown",
      "metadata": {},
      "source": [
        "**Key Observations:**\n",
        "\n",
        "- The potential core cohort clearly highlights the slow repeat segment, indicating a longer time period before repeat purchases. In the core cohort, the same pattern is observed, but it is less pronounced."
      ]
    },
    {
      "cell_type": "markdown",
      "metadata": {},
      "source": [
        "**customer_top_general_product_categories and value_segment**"
      ]
    },
    {
      "cell_type": "code",
      "execution_count": null,
      "metadata": {},
      "outputs": [],
      "source": [
        "\n",
        "pb.cat_compare(\n",
        "    cat1='customer_top_general_product_categories'\n",
        "    , cat2 = 'value_segment'\n",
        "    , trim_top_n_cat1=5\n",
        "    , visible_graphs = [2, 3]\n",
        ")"
      ]
    },
    {
      "cell_type": "markdown",
      "metadata": {},
      "source": [
        "**Key Observations:**\n",
        "\n",
        "- Electronics dominate purchases in the low Value segment, while medium Value segments show noticeably fewer electronics purchases."
      ]
    },
    {
      "cell_type": "markdown",
      "metadata": {},
      "source": [
        "**weight_segment and customer_state**"
      ]
    },
    {
      "cell_type": "code",
      "execution_count": null,
      "metadata": {},
      "outputs": [],
      "source": [
        "pb.cat_compare(\n",
        "    cat1='weight_segment'\n",
        "    , cat2 = 'customer_state' \n",
        "    , trim_top_n_cat2=5\n",
        "    , visible_graphs = [2, 3]\n",
        ")"
      ]
    },
    {
      "cell_type": "markdown",
      "metadata": {},
      "source": [
        "**Key Observations:**\n",
        "\n",
        "- São Paulo has more light-weight orders while Rio de Janeiro has more heavy-weight orders.\n"
      ]
    },
    {
      "cell_type": "markdown",
      "metadata": {},
      "source": [
        "**weekday_segment and activity_segment**"
      ]
    },
    {
      "cell_type": "code",
      "execution_count": null,
      "metadata": {},
      "outputs": [],
      "source": [
        "pb.cat_compare(\n",
        "    cat1='weekday_segment'\n",
        "    , cat2 = 'activity_segment' \n",
        "    , visible_graphs = [2, 3]\n",
        ")"
      ]
    },
    {
      "cell_type": "markdown",
      "metadata": {},
      "source": [
        "**Key Observations:**\n",
        "\n",
        "- Core and potential core segments contain more customers who shop beyond just weekdays, while one-time purchasers predominantly shop on weekdays.\n"
      ]
    },
    {
      "cell_type": "markdown",
      "metadata": {},
      "source": [
        "**products_cnt_segment and loyalty_segment**"
      ]
    },
    {
      "cell_type": "code",
      "execution_count": null,
      "metadata": {},
      "outputs": [],
      "source": [
        "pb.cat_compare(\n",
        "    cat1='products_cnt_segment'\n",
        "    , cat2 = 'loyalty_segment' \n",
        "    , visible_graphs = [2, 3]\n",
        ")"
      ]
    },
    {
      "cell_type": "markdown",
      "metadata": {},
      "source": [
        "**Key Observations:**\n",
        "\n",
        "- Single-product orders dominate among promoters, while critics tend to have more 2+ product orders."
      ]
    },
    {
      "cell_type": "markdown",
      "metadata": {},
      "source": [
        "**installment_segment and repeat_segment**"
      ]
    },
    {
      "cell_type": "code",
      "execution_count": null,
      "metadata": {},
      "outputs": [],
      "source": [
        "pb.cat_compare(\n",
        "    cat1='installment_segment'\n",
        "    , cat2 = 'repeat_segment' \n",
        "    , visible_graphs = [2, 3]\n",
        ")"
      ]
    },
    {
      "cell_type": "markdown",
      "metadata": {},
      "source": [
        "**Key Observations:**\n",
        "\n",
        "- The installment segment contains more customers with longer periods between repeat purchases.\n",
        "- The non-installment segment shows:\n",
        "  - Lower proportion of long repeat purchase cycles\n",
        "  - Dominance of one-time purchasers"
      ]
    },
    {
      "cell_type": "code",
      "execution_count": null,
      "metadata": {
        "tags": [
          "remove-cell"
        ]
      },
      "source": [
        "%run ../../_post_run.ipynb"
      ],
      "outputs": []
    }
  ]
}