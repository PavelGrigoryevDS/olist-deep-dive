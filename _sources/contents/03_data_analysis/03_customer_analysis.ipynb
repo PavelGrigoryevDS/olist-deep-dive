{
  "metadata": {},
  "nbformat": 4,
  "nbformat_minor": 4,
  "cells": [
    {
      "cell_type": "code",
      "execution_count": null,
      "metadata": {
        "tags": [
          "remove-cell"
        ]
      },
      "source": [
        "%run ../../_pre_run.ipynb"
      ],
      "outputs": []
    },
    {
      "cell_type": "markdown",
      "metadata": {},
      "source": [
        "# Customer Analysis"
      ]
    },
    {
      "cell_type": "markdown",
      "metadata": {},
      "source": [
        "Let’s create a helper function."
      ]
    },
    {
      "cell_type": "code",
      "execution_count": null,
      "metadata": {},
      "outputs": [],
      "source": [
        "def customer_top(metric: str, show_cnt: bool=True, ascending=False):\n",
        "    \"\"\"Show Top Customers by Metric\"\"\"\n",
        "    cols = ['customer_unique_id', metric]\n",
        "    if show_cnt:\n",
        "        cols += ['orders_cnt']\n",
        "    display(\n",
        "        df_customers[cols]\n",
        "        .sort_values(metric, ascending=ascending)\n",
        "        .set_index('customer_unique_id')\n",
        "        .head(10)\n",
        "    )"
      ]
    },
    {
      "cell_type": "markdown",
      "metadata": {},
      "source": [
        "## Number of Customers"
      ]
    },
    {
      "cell_type": "markdown",
      "metadata": {},
      "source": [
        "Let’s see the total number of customers."
      ]
    },
    {
      "cell_type": "code",
      "execution_count": null,
      "metadata": {},
      "outputs": [],
      "source": [
        "print(f'Total customers: {df_customers.customer_unique_id.nunique():,}')"
      ]
    },
    {
      "cell_type": "markdown",
      "metadata": {},
      "source": [
        "Let’s examine the daily distribution of customers."
      ]
    },
    {
      "cell_type": "code",
      "execution_count": null,
      "metadata": {},
      "outputs": [],
      "source": [
        "pb.configure(\n",
        "    df = df_sales\n",
        "    , time_column = 'order_purchase_dt'\n",
        "    , time_column_label = 'Date' \n",
        "    , metric = 'customer_unique_id'\n",
        "    , metric_label = 'Share of Customers'\n",
        "    , metric_label_for_distribution = 'Number of Customers'\n",
        "    , agg_func = 'nunique'\n",
        "    , norm_by='all'\n",
        "    , axis_sort_order='descending'    \n",
        ")"
      ]
    },
    {
      "cell_type": "markdown",
      "metadata": {},
      "source": [
        "Let’s see at statistics and distribution of the metric."
      ]
    },
    {
      "cell_type": "code",
      "execution_count": null,
      "metadata": {},
      "outputs": [],
      "source": [
        "pb.metric_info(freq='D')"
      ]
    },
    {
      "cell_type": "markdown",
      "metadata": {},
      "source": [
        "**Key Observations:**  \n",
        "\n",
        "- Typically 100-215 customers made purchases daily  \n",
        "- 5% of days had ≤45 customers, another 5% had ≥291 customers  "
      ]
    },
    {
      "cell_type": "markdown",
      "metadata": {},
      "source": [
        "Let’s look at the top days by the number of customers."
      ]
    },
    {
      "cell_type": "code",
      "execution_count": null,
      "metadata": {},
      "outputs": [],
      "source": [
        "pb.metric_top(freq='D')"
      ]
    },
    {
      "cell_type": "markdown",
      "metadata": {},
      "source": [
        "**Key Observations:**  \n",
        "\n",
        "- As expected, Black Friday had the highest daily customer count  "
      ]
    },
    {
      "cell_type": "markdown",
      "metadata": {},
      "source": [
        "## Number of Purchases"
      ]
    },
    {
      "cell_type": "markdown",
      "metadata": {},
      "source": [
        "Let’s identify the top customers."
      ]
    },
    {
      "cell_type": "code",
      "execution_count": null,
      "metadata": {},
      "outputs": [],
      "source": [
        "customer_top('orders_cnt', show_cnt=False)"
      ]
    },
    {
      "cell_type": "markdown",
      "metadata": {},
      "source": [
        "**Key Observations:**  \n",
        "\n",
        "- User '8d50f5eadf50201ccdcedfb9e2ac8455' made the most purchases  "
      ]
    },
    {
      "cell_type": "markdown",
      "metadata": {},
      "source": [
        "Let’s see at statistics and distribution of the metric."
      ]
    },
    {
      "cell_type": "code",
      "execution_count": null,
      "metadata": {},
      "outputs": [],
      "source": [
        "df_customers['orders_cnt'].explore.info(\n",
        "    labels=dict(orders_cnt='Number of Orders per Customer')\n",
        "    , title='Distribution of Number of Orders per Customer'\n",
        "    , xaxis_type='category'\n",
        ")"
      ]
    },
    {
      "cell_type": "markdown",
      "metadata": {},
      "source": [
        "**Key Observations:**  \n",
        "\n",
        "- Most customers (97%) made only 1 purchase ever  \n",
        "- Only 3% made >1 successful purchase  \n"
      ]
    },
    {
      "cell_type": "markdown",
      "metadata": {},
      "source": [
        "## Total Purchase Amount"
      ]
    },
    {
      "cell_type": "markdown",
      "metadata": {},
      "source": [
        "Let’s identify the top customers."
      ]
    },
    {
      "cell_type": "code",
      "execution_count": null,
      "metadata": {},
      "outputs": [],
      "source": [
        "customer_top('total_customer_payment')"
      ]
    },
    {
      "cell_type": "markdown",
      "metadata": {},
      "source": [
        "**Key Observations:**  \n",
        "\n",
        "- User '0a0a92112bd4c708ca5fde585afaa872' spent significantly more than others (single purchase)  \n"
      ]
    },
    {
      "cell_type": "markdown",
      "metadata": {},
      "source": [
        "Let’s see at statistics and distribution of the metric."
      ]
    },
    {
      "cell_type": "code",
      "execution_count": null,
      "metadata": {},
      "outputs": [],
      "source": [
        "df_customers['total_customer_payment'].explore.info(\n",
        "    labels=dict(total_customer_payment='Purchase Amount per Customer')\n",
        "    , title='Distribution of Purchase Amount per Customer'\n",
        "    , upper_quantile=0.99\n",
        "    , hist_mode='dual_hist_trim'\n",
        ")"
      ]
    },
    {
      "cell_type": "markdown",
      "metadata": {},
      "source": [
        "**Key Observations:**  \n",
        "\n",
        "- 75% of customers spent <185 R$ lifetime  \n",
        "- Top 5% spent ≥470 R$  "
      ]
    },
    {
      "cell_type": "markdown",
      "metadata": {},
      "source": [
        "## Average Order Value"
      ]
    },
    {
      "cell_type": "markdown",
      "metadata": {},
      "source": [
        "Let’s identify the top customers."
      ]
    },
    {
      "cell_type": "code",
      "execution_count": null,
      "metadata": {},
      "outputs": [],
      "source": [
        "customer_top('avg_total_order_payment')"
      ]
    },
    {
      "cell_type": "markdown",
      "metadata": {},
      "source": [
        "**Key Observations:**  \n",
        "\n",
        "- User '0a0a92112bd4c708ca5fde585afaa872' has highest average order value (single purchase)  \n"
      ]
    },
    {
      "cell_type": "markdown",
      "metadata": {},
      "source": [
        "Let’s see at statistics and distribution of the metric."
      ]
    },
    {
      "cell_type": "code",
      "execution_count": null,
      "metadata": {},
      "outputs": [],
      "source": [
        "df_customers['avg_total_order_payment'].explore.info(\n",
        "    labels=dict(avg_total_order_payment='Average Order Value per Customer')\n",
        "    , title='Distribution of Average Order Value per Customer'\n",
        "    , upper_quantile=0.99\n",
        "    , hist_mode='dual_hist_trim'\n",
        ")"
      ]
    },
    {
      "cell_type": "markdown",
      "metadata": {},
      "source": [
        "**Key Observations:**  \n",
        "\n",
        "- 75% of customers have average order value <180 R$  \n",
        "- Top 5% have ≥445 R$  "
      ]
    },
    {
      "cell_type": "markdown",
      "metadata": {},
      "source": [
        "## Number of Canceled Orders"
      ]
    },
    {
      "cell_type": "markdown",
      "metadata": {},
      "source": [
        "Let’s identify the top customers."
      ]
    },
    {
      "cell_type": "code",
      "execution_count": null,
      "metadata": {},
      "outputs": [],
      "source": [
        "customer_top('canceled_orders_cnt')"
      ]
    },
    {
      "cell_type": "markdown",
      "metadata": {},
      "source": [
        "**Key Observations:**  \n",
        "\n",
        "- No user canceled >2 orders  "
      ]
    },
    {
      "cell_type": "markdown",
      "metadata": {},
      "source": [
        "Let’s see at statistics and distribution of the metric."
      ]
    },
    {
      "cell_type": "code",
      "execution_count": null,
      "metadata": {},
      "outputs": [],
      "source": [
        "df_customers['canceled_orders_cnt'].explore.info(\n",
        "    labels=dict(canceled_orders_cnt='Number of Canceled Orders')\n",
        "    , title='Distribution of Number of Canceled Orders per Customer'\n",
        "    , xaxis_type='category'\n",
        ")"
      ]
    },
    {
      "cell_type": "markdown",
      "metadata": {},
      "source": [
        "**Key Observations:**  \n",
        "\n",
        "- 99% of canceling users only canceled once  "
      ]
    },
    {
      "cell_type": "markdown",
      "metadata": {},
      "source": [
        "## Canceled Order Rate"
      ]
    },
    {
      "cell_type": "markdown",
      "metadata": {},
      "source": [
        "Let’s see at statistics and distribution of the metric."
      ]
    },
    {
      "cell_type": "code",
      "execution_count": null,
      "metadata": {},
      "outputs": [],
      "source": [
        "df_customers['canceled_share'].explore.info(\n",
        "    labels=dict(canceled_share='Share of Canceled Orders')\n",
        "    , title='Distribution of Share of Canceled Orders per Customer'\n",
        "    , xaxis_type='category'\n",
        ")"
      ]
    },
    {
      "cell_type": "markdown",
      "metadata": {},
      "source": [
        "**Key Observations:**  \n",
        "\n",
        "- 99% of users never canceled an order  "
      ]
    },
    {
      "cell_type": "markdown",
      "metadata": {},
      "source": [
        "## Repeat Purchase Rate"
      ]
    },
    {
      "cell_type": "markdown",
      "metadata": {},
      "source": [
        "Let’s identify the top customers."
      ]
    },
    {
      "cell_type": "code",
      "execution_count": null,
      "metadata": {},
      "outputs": [],
      "source": [
        "customer_top('repeat_purchase_share')"
      ]
    },
    {
      "cell_type": "markdown",
      "metadata": {},
      "source": [
        "**Key Observations:**  \n",
        "\n",
        "- User '8d50f5eadf50201ccdcedfb9e2ac8455' has highest repeat purchase rate  "
      ]
    },
    {
      "cell_type": "markdown",
      "metadata": {},
      "source": [
        "Let’s see at statistics and distribution of the metric."
      ]
    },
    {
      "cell_type": "code",
      "execution_count": null,
      "metadata": {},
      "outputs": [],
      "source": [
        "df_customers['repeat_purchase_share'].explore.info(\n",
        "    labels=dict(repeat_purchase_share='Share of Repeat Purchases')\n",
        "    , title='Distribution of Share of Repeat Purchases per Customer'\n",
        "    , nbins=20\n",
        "    , xaxis_type='category'\n",
        ")"
      ]
    },
    {
      "cell_type": "markdown",
      "metadata": {},
      "source": [
        "**Key Observations:**  \n",
        "\n",
        "- 97% of customers have no repeat purchases  "
      ]
    },
    {
      "cell_type": "markdown",
      "metadata": {},
      "source": [
        "## Time Between Purchases"
      ]
    },
    {
      "cell_type": "markdown",
      "metadata": {},
      "source": [
        "Let’s identify the top customers."
      ]
    },
    {
      "cell_type": "code",
      "execution_count": null,
      "metadata": {},
      "outputs": [],
      "source": [
        "customer_top('avg_buys_diff_days')"
      ]
    },
    {
      "cell_type": "markdown",
      "metadata": {},
      "source": [
        "**Key Observations:**  \n",
        "\n",
        "- Many users show >500 days between purchases, but with very few purchases  \n",
        "- Makes average values unreliable  "
      ]
    },
    {
      "cell_type": "markdown",
      "metadata": {},
      "source": [
        "Let’s see at statistics and distribution of the metric."
      ]
    },
    {
      "cell_type": "code",
      "execution_count": null,
      "metadata": {},
      "outputs": [],
      "source": [
        "df_customers['avg_buys_diff_days'].explore.info(\n",
        "    labels=dict(avg_buys_diff_days='Average Time Between Purchases, days')\n",
        "    , title='Distribution of Average Time Between Purchases'\n",
        ")"
      ]
    },
    {
      "cell_type": "markdown",
      "metadata": {},
      "source": [
        "**Key Observations:**  \n",
        "\n",
        "- 75% have ≤125 days between purchases  \n",
        "- 5% have ≥311 days  \n",
        "- ~30% have <1 day between purchases (likely consecutive orders)  "
      ]
    },
    {
      "cell_type": "markdown",
      "metadata": {},
      "source": [
        "## Number of Products per Order"
      ]
    },
    {
      "cell_type": "markdown",
      "metadata": {},
      "source": [
        "Let’s identify the top customers."
      ]
    },
    {
      "cell_type": "code",
      "execution_count": null,
      "metadata": {},
      "outputs": [],
      "source": [
        "customer_top('avg_products_cnt')"
      ]
    },
    {
      "cell_type": "markdown",
      "metadata": {},
      "source": [
        "**Key Observations:**  \n",
        "\n",
        "- Some users average 20-21 items/order (all single orders)  "
      ]
    },
    {
      "cell_type": "markdown",
      "metadata": {},
      "source": [
        "Let’s see at statistics and distribution of the metric."
      ]
    },
    {
      "cell_type": "code",
      "execution_count": null,
      "metadata": {},
      "outputs": [],
      "source": [
        "df_customers['avg_products_cnt'].explore.info(\n",
        "    labels=dict(avg_products_cnt='Average Number of Products in Order')\n",
        "    , title='Distribution of Average Number of Products in Order per Customer'\n",
        "    , width=600\n",
        ")"
      ]
    },
    {
      "cell_type": "markdown",
      "metadata": {},
      "source": [
        "**Key Observations:**  \n",
        "\n",
        "- 87% average 1 item/order  \n",
        "- ~1% average ≥3 items  "
      ]
    },
    {
      "cell_type": "markdown",
      "metadata": {},
      "source": [
        "## Product Price per Order"
      ]
    },
    {
      "cell_type": "markdown",
      "metadata": {},
      "source": [
        "Let’s identify the top customers."
      ]
    },
    {
      "cell_type": "code",
      "execution_count": null,
      "metadata": {},
      "outputs": [],
      "source": [
        "customer_top('avg_products_price')"
      ]
    },
    {
      "cell_type": "markdown",
      "metadata": {},
      "source": [
        "Let’s see at statistics and distribution of the metric."
      ]
    },
    {
      "cell_type": "code",
      "execution_count": null,
      "metadata": {},
      "outputs": [],
      "source": [
        "df_customers['avg_products_price'].explore.info(\n",
        "    labels=dict(avg_products_price='Average Product Price in Order')\n",
        "    , title='Distribution of Average Product Price in Order per Customer'\n",
        "    , nbins=20\n",
        ")"
      ]
    },
    {
      "cell_type": "markdown",
      "metadata": {},
      "source": [
        "**Key Observations:**  \n",
        "\n",
        "- 75% have average product price ≤140 R$  \n",
        "- Top 5% have ≥367 R$  "
      ]
    },
    {
      "cell_type": "markdown",
      "metadata": {},
      "source": [
        "## Number of Reviews"
      ]
    },
    {
      "cell_type": "markdown",
      "metadata": {},
      "source": [
        "Let’s identify the top customers."
      ]
    },
    {
      "cell_type": "code",
      "execution_count": null,
      "metadata": {},
      "outputs": [],
      "source": [
        "customer_top('reviews_cnt')"
      ]
    },
    {
      "cell_type": "markdown",
      "metadata": {},
      "source": [
        "**Key Observations:**  \n",
        "\n",
        "- User with id '8d50f5eadf50201ccdcedfb9e2ac8455' left significantly more reviews than other users. But they also made many orders.\n"
      ]
    },
    {
      "cell_type": "markdown",
      "metadata": {},
      "source": [
        "Let’s see at statistics and distribution of the metric."
      ]
    },
    {
      "cell_type": "code",
      "execution_count": null,
      "metadata": {},
      "outputs": [],
      "source": [
        "df_customers['reviews_cnt'].explore.info(\n",
        "    labels=dict(reviews_cnt='Number of Reviews per Customer')\n",
        "    , title='Distribution of Number of Reviews per Customer'\n",
        "    , nbins=20\n",
        ")"
      ]
    },
    {
      "cell_type": "markdown",
      "metadata": {},
      "source": [
        "**Key Observations:**  \n",
        "\n",
        "- 94% left only 1 review  \n",
        "- 2% left 2 reviews  "
      ]
    },
    {
      "cell_type": "markdown",
      "metadata": {},
      "source": [
        "## Review Score"
      ]
    },
    {
      "cell_type": "markdown",
      "metadata": {},
      "source": [
        "Let’s identify the top customers."
      ]
    },
    {
      "cell_type": "code",
      "execution_count": null,
      "metadata": {},
      "outputs": [],
      "source": [
        "customer_top('customer_avg_reviews_score')"
      ]
    },
    {
      "cell_type": "markdown",
      "metadata": {},
      "source": [
        "Let’s see at statistics and distribution of the metric."
      ]
    },
    {
      "cell_type": "code",
      "execution_count": null,
      "metadata": {},
      "outputs": [],
      "source": [
        "df_customers['customer_avg_reviews_score'].explore.info(\n",
        "    labels=dict(customer_avg_reviews_score='Average Review Score per Customer')\n",
        "    , title='Distribution of Average Review Score per Customer'\n",
        "    , nbins=5\n",
        ")"
      ]
    },
    {
      "cell_type": "markdown",
      "metadata": {},
      "source": [
        "**Key Observations:**  \n",
        "\n",
        "- 57% average 5-star reviews  \n",
        "- 19% average 4-star  "
      ]
    },
    {
      "cell_type": "markdown",
      "metadata": {},
      "source": [
        "## Delivery Cost"
      ]
    },
    {
      "cell_type": "markdown",
      "metadata": {},
      "source": [
        "Let’s identify the top customers."
      ]
    },
    {
      "cell_type": "code",
      "execution_count": null,
      "metadata": {},
      "outputs": [],
      "source": [
        "customer_top('avg_order_total_freight_value')"
      ]
    },
    {
      "cell_type": "markdown",
      "metadata": {},
      "source": [
        "**Key Observations:**  \n",
        "\n",
        "- User 'fff5eb4918b2bf4b2da476788d42051c' has unusually high shipping costs (single purchase)  "
      ]
    },
    {
      "cell_type": "markdown",
      "metadata": {},
      "source": [
        "Let’s see at statistics and distribution of the metric."
      ]
    },
    {
      "cell_type": "code",
      "execution_count": null,
      "metadata": {},
      "outputs": [],
      "source": [
        "df_customers['avg_order_total_freight_value'].explore.info(\n",
        "    labels=dict(avg_order_total_freight_value='Average Freight Value ')\n",
        "    , title='Distribution of Average Freight Value per Customer'\n",
        "    , upper_quantile=0.99\n",
        "    , hist_mode='dual_hist_trim'\n",
        ")"
      ]
    },
    {
      "cell_type": "markdown",
      "metadata": {},
      "source": [
        "**Key Observations:**  \n",
        "\n",
        "- 75% have average shipping ≤24 R$  \n",
        "- Top 5% have ≥54 R$  \n"
      ]
    },
    {
      "cell_type": "markdown",
      "metadata": {},
      "source": [
        "## Delivery Time"
      ]
    },
    {
      "cell_type": "markdown",
      "metadata": {},
      "source": [
        "Let’s identify the top customers."
      ]
    },
    {
      "cell_type": "code",
      "execution_count": null,
      "metadata": {},
      "outputs": [],
      "source": [
        "customer_top('avg_delivery_time_days')"
      ]
    },
    {
      "cell_type": "markdown",
      "metadata": {},
      "source": [
        "Let’s see at statistics and distribution of the metric."
      ]
    },
    {
      "cell_type": "code",
      "execution_count": null,
      "metadata": {},
      "outputs": [],
      "source": [
        "df_customers['avg_delivery_time_days'].explore.info(\n",
        "    labels=dict(avg_delivery_time_days='Distribution of Average Delivery Time, days')\n",
        "    , title='Distribution of Average Delivery Time'\n",
        "    , upper_quantile=0.99\n",
        "    , hist_mode='dual_hist_trim'\n",
        ")"
      ]
    },
    {
      "cell_type": "markdown",
      "metadata": {},
      "source": [
        "**Key Observations:**  \n",
        "\n",
        "- 75% have average delivery ≤16 days  \n",
        "- Top 5% have ≥29 days  "
      ]
    },
    {
      "cell_type": "markdown",
      "metadata": {},
      "source": [
        "## Delivery Delay Time"
      ]
    },
    {
      "cell_type": "markdown",
      "metadata": {},
      "source": [
        "Let’s identify the top customers."
      ]
    },
    {
      "cell_type": "code",
      "execution_count": null,
      "metadata": {},
      "outputs": [],
      "source": [
        "customer_top('avg_delivery_delay_days')"
      ]
    },
    {
      "cell_type": "markdown",
      "metadata": {},
      "source": [
        "Let’s see at statistics and distribution of the metric."
      ]
    },
    {
      "cell_type": "code",
      "execution_count": null,
      "metadata": {},
      "outputs": [],
      "source": [
        "df_customers['avg_delivery_delay_days'].explore.info(\n",
        "    labels=dict(avg_delivery_delay_days='Average Delivery Delay Time, days')\n",
        "    , title='Distribution of Average Delivery Delay Time'\n",
        "    , lower_quantile=0.01\n",
        "    , upper_quantile=0.99\n",
        "    , hist_mode='dual_hist_trim'\n",
        ")"
      ]
    },
    {
      "cell_type": "markdown",
      "metadata": {},
      "source": [
        "**Key Observations:**  \n",
        "\n",
        "- Top 5% have ≥25 days early delivery  \n",
        "- Median: 6-16 days early  \n",
        "- Bottom 5% have ≥4 days late  "
      ]
    },
    {
      "cell_type": "markdown",
      "metadata": {},
      "source": [
        "## Order Weight"
      ]
    },
    {
      "cell_type": "markdown",
      "metadata": {},
      "source": [
        "Let’s identify the top customers."
      ]
    },
    {
      "cell_type": "code",
      "execution_count": null,
      "metadata": {},
      "outputs": [],
      "source": [
        "customer_top('avg_order_total_weight_kg')"
      ]
    },
    {
      "cell_type": "markdown",
      "metadata": {},
      "source": [
        "Let’s see at statistics and distribution of the metric."
      ]
    },
    {
      "cell_type": "code",
      "execution_count": null,
      "metadata": {},
      "outputs": [],
      "source": [
        "df_customers['avg_order_total_weight_kg'].explore.info(\n",
        "    labels=dict(avg_order_total_weight_kg='Average Order Weight per Customer')\n",
        "    , title='Distribution of Average Order Weight per Customer'\n",
        "    , upper_quantile=0.99\n",
        "    , hist_mode='dual_hist_trim'    \n",
        ")"
      ]
    },
    {
      "cell_type": "markdown",
      "metadata": {},
      "source": [
        "**Key Observations:**  \n",
        "\n",
        "- 75% have average order weight ≤2kg  \n",
        "- Top 5% have ≥10kg  "
      ]
    },
    {
      "cell_type": "markdown",
      "metadata": {},
      "source": [
        "## Time from First to Second Purchase"
      ]
    },
    {
      "cell_type": "markdown",
      "metadata": {},
      "source": [
        "Let’s identify the top customers."
      ]
    },
    {
      "cell_type": "code",
      "execution_count": null,
      "metadata": {},
      "outputs": [],
      "source": [
        "customer_top('from_first_to_second_days')"
      ]
    },
    {
      "cell_type": "markdown",
      "metadata": {},
      "source": [
        "**Key Observations:**  \n",
        "\n",
        "- User 'd8f3c4f441a9b59a29f977df16724f38' has longest 1st→2nd purchase gap  "
      ]
    },
    {
      "cell_type": "code",
      "execution_count": null,
      "metadata": {},
      "outputs": [],
      "source": [
        "customer_top('from_first_to_second_days', ascending=True)"
      ]
    },
    {
      "cell_type": "markdown",
      "metadata": {},
      "source": [
        "**Key Observations:**  \n",
        "\n",
        "- Some customers made 1st/2nd purchases within seconds"
      ]
    },
    {
      "cell_type": "markdown",
      "metadata": {},
      "source": [
        "Let’s see at statistics and distribution of the metric."
      ]
    },
    {
      "cell_type": "code",
      "execution_count": null,
      "metadata": {},
      "outputs": [],
      "source": [
        "df_customers['from_first_to_second_days'].explore.info(\n",
        "    labels=dict(from_first_to_second_days='Time From First to Second Purchase, days')\n",
        "    , title='Distribution of Time From First to Second Purchase'\n",
        ")"
      ]
    },
    {
      "cell_type": "markdown",
      "metadata": {},
      "source": [
        "**Key Observations:**  \n",
        "\n",
        "- ~50% have >29 days between 1st/2nd purchase  \n",
        "- Top 25% have ≥125 days  \n",
        "- Top 5% have ≥319 days  "
      ]
    },
    {
      "cell_type": "markdown",
      "metadata": {},
      "source": [
        "## Time from First to Last Purchase"
      ]
    },
    {
      "cell_type": "markdown",
      "metadata": {},
      "source": [
        "Let’s identify the top customers."
      ]
    },
    {
      "cell_type": "code",
      "execution_count": null,
      "metadata": {},
      "outputs": [],
      "source": [
        "customer_top('from_first_to_last_days')"
      ]
    },
    {
      "cell_type": "markdown",
      "metadata": {},
      "source": [
        "**Key Observations:**  \n",
        "\n",
        "- User 'd8f3c4f441a9b59a29f977df16724f38' has longest 1st→last purchase span (2 purchases)  \n"
      ]
    },
    {
      "cell_type": "markdown",
      "metadata": {},
      "source": [
        "Let’s see at statistics and distribution of the metric."
      ]
    },
    {
      "cell_type": "code",
      "execution_count": null,
      "metadata": {},
      "outputs": [],
      "source": [
        "df_customers['from_first_to_last_days'].explore.info(\n",
        "    labels=dict(from_first_to_last_days='Time From First to Last Purchase, days')\n",
        "    , title='Distribution of Time From First to Last Purchase'\n",
        ")"
      ]
    },
    {
      "cell_type": "markdown",
      "metadata": {},
      "source": [
        "**Key Observations:**  \n",
        "\n",
        "- ~50% have >35 days between 1st/2nd purchase  \n",
        "- Top 25% have ≥140 days  \n",
        "- Top 5% have ≥335 days  "
      ]
    },
    {
      "cell_type": "markdown",
      "metadata": {},
      "source": [
        "## Number of Months with Purchases"
      ]
    },
    {
      "cell_type": "markdown",
      "metadata": {},
      "source": [
        "Let’s identify the top customers."
      ]
    },
    {
      "cell_type": "code",
      "execution_count": null,
      "metadata": {},
      "outputs": [],
      "source": [
        "customer_top('months_with_buys')"
      ]
    },
    {
      "cell_type": "markdown",
      "metadata": {},
      "source": [
        "**Key Observations:**  \n",
        "\n",
        "- User '8d50f5eadf50201ccdcedfb9e2ac8455' had most months with purchases  \n"
      ]
    },
    {
      "cell_type": "markdown",
      "metadata": {},
      "source": [
        "Let’s see at statistics and distribution of the metric."
      ]
    },
    {
      "cell_type": "code",
      "execution_count": null,
      "metadata": {},
      "outputs": [],
      "source": [
        "df_customers['months_with_buys'].explore.info(\n",
        "    labels=dict(months_with_buys='Number of Months with Purchases')\n",
        "    , title='Distribution of Number of Months with Purchases per Customer'\n",
        "    , nbins=10 \n",
        ")"
      ]
    },
    {
      "cell_type": "markdown",
      "metadata": {},
      "source": [
        "**Key Observations:**  \n",
        "\n",
        "- 96% of customers only purchased in 1 month  \n"
      ]
    },
    {
      "cell_type": "markdown",
      "metadata": {},
      "source": [
        "## Maximum Consecutive Months with Purchases"
      ]
    },
    {
      "cell_type": "markdown",
      "metadata": {},
      "source": [
        "Let’s identify the top customers."
      ]
    },
    {
      "cell_type": "code",
      "execution_count": null,
      "metadata": {},
      "outputs": [],
      "source": [
        "customer_top('max_consecutive_months_with_buys')"
      ]
    },
    {
      "cell_type": "markdown",
      "metadata": {},
      "source": [
        "Let’s see at statistics and distribution of the metric."
      ]
    },
    {
      "cell_type": "code",
      "execution_count": null,
      "metadata": {},
      "outputs": [],
      "source": [
        "df_customers['max_consecutive_months_with_buys'].explore.info(\n",
        "    labels=dict(max_consecutive_months_with_buys='Maximum Consecutive Months with Purchases')\n",
        "    , title='Distribution of Maximum Consecutive Months with Purchases'\n",
        "    , nbins=10 \n",
        ")"
      ]
    },
    {
      "cell_type": "markdown",
      "metadata": {},
      "source": [
        "**Key Observations:**  \n",
        "\n",
        "- Maximum consecutive months: 6 (1 customer)  \n",
        "- 3 consecutive months: 8 customers  \n",
        "- 2 consecutive months: 438 customers  "
      ]
    },
    {
      "cell_type": "markdown",
      "metadata": {},
      "source": [
        "## Additional Metrics"
      ]
    },
    {
      "cell_type": "markdown",
      "metadata": {},
      "source": [
        "- **What percentage of customers make only one purchase?**"
      ]
    },
    {
      "cell_type": "code",
      "execution_count": null,
      "metadata": {},
      "outputs": [],
      "source": [
        "tmp_df_res = df_sales.groupby(['customer_unique_id'])['order_id'].nunique()"
      ]
    },
    {
      "cell_type": "code",
      "execution_count": null,
      "metadata": {},
      "outputs": [],
      "source": [
        "display(f'{(tmp_df_res[tmp_df_res == 1].count() * 100 / tmp_df_res.count()).round(2)}% of customers make a purchase only once')"
      ]
    },
    {
      "cell_type": "markdown",
      "metadata": {},
      "source": [
        "- **What percentage of customers make more than one purchase?**"
      ]
    },
    {
      "cell_type": "code",
      "execution_count": null,
      "metadata": {},
      "outputs": [],
      "source": [
        "display(f'{(tmp_df_res[tmp_df_res > 1].count() * 100 / tmp_df_res.count()).round(2)}% of customers make more than one purchase')"
      ]
    },
    {
      "cell_type": "markdown",
      "metadata": {},
      "source": [
        "- **What percentage of customers make more than two purchases?**"
      ]
    },
    {
      "cell_type": "code",
      "execution_count": null,
      "metadata": {},
      "outputs": [],
      "source": [
        "display(f'{(tmp_df_res[tmp_df_res > 2].count() * 100 / tmp_df_res.count()).round(2)}% of customers make more than two purchases')"
      ]
    },
    {
      "cell_type": "markdown",
      "metadata": {},
      "source": [
        "- **What percentage of customers make more than three purchases?**"
      ]
    },
    {
      "cell_type": "code",
      "execution_count": null,
      "metadata": {},
      "outputs": [],
      "source": [
        "display(f'{(tmp_df_res[tmp_df_res > 3].count() * 100 / tmp_df_res.count()).round(2)}% of customers make more than two purchases')"
      ]
    },
    {
      "cell_type": "markdown",
      "metadata": {},
      "source": [
        "- **What percentage of customers make 4 or more purchases?**"
      ]
    },
    {
      "cell_type": "code",
      "execution_count": null,
      "metadata": {},
      "outputs": [],
      "source": [
        "for n in range(4, 10):\n",
        "    display(f'{(tmp_df_res[tmp_df_res > n].count() * 100 / tmp_df_res.count()).round(2)}% of customers make more than {n} two purchases')"
      ]
    },
    {
      "cell_type": "markdown",
      "metadata": {},
      "source": [
        "- **Are there customers who make purchases regularly (monthly)?**"
      ]
    },
    {
      "cell_type": "code",
      "execution_count": null,
      "metadata": {},
      "outputs": [],
      "source": [
        "tmp_df_res = df_sales[['order_purchase_dt', 'customer_unique_id', 'order_id']].dropna(subset='order_purchase_dt')\n",
        "tmp_df_res['year_month'] = tmp_df_res.order_purchase_dt.dt.to_period('M')\n",
        "tmp_df_res['first_month'] = tmp_df_res.groupby('customer_unique_id')['year_month'].transform('min')\n",
        "last_month = tmp_df_res['year_month'].max()"
      ]
    },
    {
      "cell_type": "code",
      "execution_count": null,
      "metadata": {},
      "outputs": [],
      "source": [
        "tmp_df_res = (tmp_df_res.groupby('customer_unique_id', as_index=False)\n",
        "          .agg(\n",
        "              year_months = ('year_month', 'nunique')\n",
        "              , first_month = ('first_month', 'first')              \n",
        "          )\n",
        ")\n",
        "tmp_df_res['all_months'] = (last_month - tmp_df_res.first_month).apply(lambda x: x.n + 1)\n",
        "tmp_df_res['is_in_all_months'] = tmp_df_res['all_months'] == tmp_df_res['year_months']\n",
        "tmp_df_res = tmp_df_res[tmp_df_res.is_in_all_months]"
      ]
    },
    {
      "cell_type": "code",
      "execution_count": null,
      "metadata": {},
      "outputs": [],
      "source": [
        "tmp_df_res.sort_values('all_months', ascending=False).head(10)"
      ]
    },
    {
      "cell_type": "markdown",
      "metadata": {},
      "source": [
        "**Key Observations:**  \n",
        "\n",
        "- No customers purchased in all months  \n",
        "- Maximum regular purchases: 2 consecutive months  "
      ]
    },
    {
      "cell_type": "code",
      "execution_count": null,
      "metadata": {
        "tags": [
          "remove-cell"
        ]
      },
      "source": [
        "%run ../../_post_run.ipynb"
      ],
      "outputs": []
    }
  ]
}