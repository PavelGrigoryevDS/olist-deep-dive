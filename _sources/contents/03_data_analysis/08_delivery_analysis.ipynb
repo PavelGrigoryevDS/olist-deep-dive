{
  "metadata": {},
  "nbformat": 4,
  "nbformat_minor": 4,
  "cells": [
    {
      "cell_type": "code",
      "execution_count": null,
      "metadata": {
        "tags": [
          "remove-cell"
        ]
      },
      "source": [
        "%run ../../_pre_run.ipynb"
      ],
      "outputs": []
    },
    {
      "cell_type": "markdown",
      "metadata": {},
      "source": [
        "# Delivery Analysis"
      ]
    },
    {
      "cell_type": "markdown",
      "metadata": {},
      "source": [
        "## Delivery Cost"
      ]
    },
    {
      "cell_type": "code",
      "execution_count": null,
      "metadata": {},
      "outputs": [],
      "source": [
        "pb.configure(\n",
        "    df = df_sales\n",
        "    , time_column = 'order_purchase_dt'\n",
        "    , metric = 'total_freight_value'\n",
        "    , metric_label = 'Average Freight Value per Order, R$'\n",
        "    , metric_label_for_distribution = 'Freight Value per Order, R$'\n",
        "    , agg_func = 'mean'\n",
        "    , axis_sort_order='descending'\n",
        "    , text_auto='.3s'\n",
        ")"
      ]
    },
    {
      "cell_type": "code",
      "execution_count": null,
      "metadata": {},
      "outputs": [],
      "source": [
        "print(f'Average Freight Value per Order: {df_sales.total_freight_value.mean():.2f} R$')"
      ]
    },
    {
      "cell_type": "markdown",
      "metadata": {},
      "source": [
        "Top Orders."
      ]
    },
    {
      "cell_type": "code",
      "execution_count": null,
      "metadata": {},
      "outputs": [],
      "source": [
        "pb.metric_top()"
      ]
    },
    {
      "cell_type": "markdown",
      "metadata": {},
      "source": [
        "Let’s see at statistics and distribution of the metric."
      ]
    },
    {
      "cell_type": "code",
      "execution_count": null,
      "metadata": {},
      "outputs": [],
      "source": [
        "pb.metric_info(\n",
        "    upper_quantile=0.95\n",
        "    , hist_mode='dual_hist_trim'    \n",
        ")"
      ]
    },
    {
      "cell_type": "markdown",
      "metadata": {},
      "source": [
        "**Key Observations:**  \n",
        "\n",
        "- 75% of orders have shipping costs ≤24 R$  \n",
        "- Top 5% have shipping costs ≥54.7 R$  \n",
        "- Several extreme outliers exist with very high shipping costs "
      ]
    },
    {
      "cell_type": "code",
      "execution_count": null,
      "metadata": {},
      "outputs": [],
      "source": [
        "pb.metric_top(freq='D')"
      ]
    },
    {
      "cell_type": "markdown",
      "metadata": {},
      "source": [
        "Let’s look by different dimensions."
      ]
    },
    {
      "cell_type": "markdown",
      "metadata": {},
      "source": [
        "**By Whether the Order is Delayed or Not**"
      ]
    },
    {
      "cell_type": "code",
      "execution_count": null,
      "metadata": {},
      "outputs": [],
      "source": [
        "pb.histogram(\n",
        "    color='is_delayed'\n",
        "    , upper_quantile=0.95\n",
        "    , mode='dual_box_trim'\n",
        "    , show_box=True\n",
        "    , show_hist=False\n",
        "    , show_kde=True\n",
        "    , nbins=30\n",
        ").show()\n",
        "pb.bar_groupby(\n",
        "    y='is_delayed'\n",
        "    , show_count=True\n",
        ").show()"
      ]
    },
    {
      "cell_type": "markdown",
      "metadata": {},
      "source": [
        "**Key Observations:**  \n",
        "\n",
        "- Delayed orders have higher shipping costs than non-delayed  "
      ]
    },
    {
      "cell_type": "markdown",
      "metadata": {},
      "source": [
        "**By Order Weight Category**"
      ]
    },
    {
      "cell_type": "code",
      "execution_count": null,
      "metadata": {},
      "outputs": [],
      "source": [
        "pb.histogram(\n",
        "    color='order_total_weight_cat'\n",
        "    , upper_quantile=0.95\n",
        "    , mode='dual_box_trim'\n",
        "    , show_box=True\n",
        "    , show_hist=True\n",
        "    , show_kde=False\n",
        "    , nbins=30\n",
        ").show()\n",
        "pb.bar_groupby(\n",
        "    y='order_total_weight_cat'\n",
        ").show()"
      ]
    },
    {
      "cell_type": "markdown",
      "metadata": {},
      "source": [
        "**Key Observations:**  \n",
        "\n",
        "- Heavier orders have higher shipping costs (expected pattern)  "
      ]
    },
    {
      "cell_type": "markdown",
      "metadata": {},
      "source": [
        "**By Presence of Installment Payments**"
      ]
    },
    {
      "cell_type": "code",
      "execution_count": null,
      "metadata": {},
      "outputs": [],
      "source": [
        "pb.histogram(\n",
        "    color='order_has_installment'\n",
        "    , upper_quantile=0.95\n",
        "    , mode='dual_box_trim'\n",
        "    , show_box=True\n",
        "    , show_hist=True\n",
        "    , show_kde=False\n",
        "    , nbins=30\n",
        ").show()\n",
        "pb.bar_groupby(\n",
        "    y='order_has_installment'\n",
        "    , show_count=True\n",
        "    , to_slide=True\n",
        ").show()"
      ]
    },
    {
      "cell_type": "markdown",
      "metadata": {},
      "source": [
        "**Key Observations:**  \n",
        "\n",
        "- Installment orders have higher shipping costs  "
      ]
    },
    {
      "cell_type": "markdown",
      "metadata": {},
      "source": [
        "**By Top Customer States**"
      ]
    },
    {
      "cell_type": "code",
      "execution_count": null,
      "metadata": {},
      "outputs": [],
      "source": [
        "pb.box(\n",
        "    y='customer_state'\n",
        "    , upper_quantile=0.95\n",
        "    , show_dual=True\n",
        ").show()\n",
        "fig = pb.bar_groupby(\n",
        "    y='customer_state'\n",
        "    , show_count=True\n",
        ").update_layout(xaxis2_title_text='Number of Sales')\n",
        "pb.to_slide(fig)\n",
        "fig.show()"
      ]
    },
    {
      "cell_type": "markdown",
      "metadata": {},
      "source": [
        "**Key Observations:**  \n",
        "\n",
        "- Among top states by sales volume:  \n",
        "  - São Paulo has lowest average shipping costs  \n",
        "  - Maranhão has highest  "
      ]
    },
    {
      "cell_type": "markdown",
      "metadata": {},
      "source": [
        "**By Top Customer Cities**"
      ]
    },
    {
      "cell_type": "code",
      "execution_count": null,
      "metadata": {},
      "outputs": [],
      "source": [
        "pb.box(\n",
        "    y='customer_city'\n",
        "    , upper_quantile=0.95\n",
        "    , show_dual=True\n",
        ").show()\n",
        "pb.bar_groupby(\n",
        "    y='customer_city'\n",
        "    , show_count=True\n",
        ").update_layout(xaxis2_title_text='Number of Sales')"
      ]
    },
    {
      "cell_type": "markdown",
      "metadata": {},
      "source": [
        "**Key Observations:**  \n",
        "\n",
        "- Among top cities by sales volume, highest average shipping costs in:  \n",
        "  1. Salvador  \n",
        "  2. Porto Alegre  \n",
        "  3. Brasília  "
      ]
    },
    {
      "cell_type": "markdown",
      "metadata": {},
      "source": [
        "**By Review Score**"
      ]
    },
    {
      "cell_type": "code",
      "execution_count": null,
      "metadata": {},
      "outputs": [],
      "source": [
        "pb.histogram(\n",
        "    color='order_avg_reviews_score'\n",
        "    , upper_quantile=0.95\n",
        "    , mode='dual_box_trim'\n",
        "    , show_box=True\n",
        "    , show_hist=False\n",
        "    , show_kde=True\n",
        "    , nbins=30\n",
        ").show()\n",
        "fig = pb.bar_groupby(\n",
        "    y='order_avg_reviews_score'\n",
        "    , show_count=True\n",
        ").update_layout(xaxis2_title_text='Number of Sales')\n",
        "pb.to_slide(fig)\n",
        "fig.show()"
      ]
    },
    {
      "cell_type": "markdown",
      "metadata": {},
      "source": [
        "**Key Observations:**  \n",
        "\n",
        "- Higher shipping costs correlate with lower order ratings  \n"
      ]
    },
    {
      "cell_type": "markdown",
      "metadata": {},
      "source": [
        "## Distance Between Customer and Seller"
      ]
    },
    {
      "cell_type": "code",
      "execution_count": null,
      "metadata": {},
      "outputs": [],
      "source": [
        "pb.configure(\n",
        "    df = df_sales\n",
        "    , time_column = 'order_purchase_dt'\n",
        "    , metric = 'avg_distance_km'\n",
        "    , metric_label = 'Average Distance, km'\n",
        "    , metric_label_for_distribution = 'Average Distance, km'\n",
        "    , agg_func = 'mean'\n",
        "    , axis_sort_order='descending'\n",
        "    , text_auto='.1f'\n",
        ")"
      ]
    },
    {
      "cell_type": "code",
      "execution_count": null,
      "metadata": {},
      "outputs": [],
      "source": [
        "print(f'Average Distance: {df_sales.avg_distance_km.mean():.2f} km')"
      ]
    },
    {
      "cell_type": "markdown",
      "metadata": {},
      "source": [
        "Let’s see at statistics and distribution of the metric."
      ]
    },
    {
      "cell_type": "code",
      "execution_count": null,
      "metadata": {},
      "outputs": [],
      "source": [
        "pb.metric_info(\n",
        "    upper_quantile=0.95\n",
        "    , hist_mode='dual_hist_trim'    \n",
        ")"
      ]
    },
    {
      "cell_type": "markdown",
      "metadata": {},
      "source": [
        "**Key Observations:**  \n",
        "\n",
        "- 75% of orders have seller-buyer distance ≤800km  \n",
        "- 5% ≤16.5km  \n",
        "- 5% ≥2,000km  \n",
        "- Several extreme outliers (>4,000km)  "
      ]
    },
    {
      "cell_type": "markdown",
      "metadata": {},
      "source": [
        "Let’s look by different dimensions."
      ]
    },
    {
      "cell_type": "markdown",
      "metadata": {},
      "source": [
        "**By Whether the Order is Delayed or Not**"
      ]
    },
    {
      "cell_type": "code",
      "execution_count": null,
      "metadata": {},
      "outputs": [],
      "source": [
        "pb.histogram(\n",
        "    color='is_delayed'\n",
        "    , upper_quantile=0.95\n",
        "    , mode='dual_box_trim'\n",
        "    , show_box=True\n",
        "    , show_hist=False\n",
        "    , show_kde=True\n",
        "    , nbins=30\n",
        ").show()\n",
        "pb.bar_groupby(\n",
        "    y='is_delayed'\n",
        "    , to_slide=True\n",
        ").show()"
      ]
    },
    {
      "cell_type": "markdown",
      "metadata": {},
      "source": [
        "**Key Observations:**  \n",
        "\n",
        "- Delayed orders have greater average seller-buyer distance  \n"
      ]
    },
    {
      "cell_type": "markdown",
      "metadata": {},
      "source": [
        "**By Presence of Installment Payments**"
      ]
    },
    {
      "cell_type": "code",
      "execution_count": null,
      "metadata": {},
      "outputs": [],
      "source": [
        "pb.histogram(\n",
        "    color='order_has_installment'\n",
        "    , upper_quantile=0.95\n",
        "    , mode='dual_box_trim'\n",
        "    , show_box=True\n",
        "    , show_hist=True\n",
        "    , show_kde=False\n",
        "    , nbins=30\n",
        ").show()\n",
        "pb.bar_groupby(\n",
        "    y='order_has_installment'\n",
        "    , show_count=True\n",
        "    , to_slide=True\n",
        ")"
      ]
    },
    {
      "cell_type": "markdown",
      "metadata": {},
      "source": [
        "**Key Observations:**  \n",
        "\n",
        "- Installment orders have greater average seller-buyer distance  \n"
      ]
    },
    {
      "cell_type": "markdown",
      "metadata": {},
      "source": [
        "## Delivery Time"
      ]
    },
    {
      "cell_type": "markdown",
      "metadata": {},
      "source": [
        "### Proportion of Each Stage in Delivery Time"
      ]
    },
    {
      "cell_type": "markdown",
      "metadata": {},
      "source": [
        "Let's look at what percentage of the total delivery time each stage occupies. \n",
        "\n",
        "We will not consider any anomalous dates, as there are only a few and they will not significantly affect the result."
      ]
    },
    {
      "cell_type": "code",
      "execution_count": null,
      "metadata": {},
      "outputs": [],
      "source": [
        "tmp_df_sales = (\n",
        "    df_sales[[\n",
        "        'order_purchase_dt',\n",
        "        'order_approved_dt',\n",
        "        'order_delivered_carrier_dt',\n",
        "        'order_delivered_customer_dt',\n",
        "    ]]\n",
        "    [lambda x: (x.order_delivered_customer_dt >= x.order_purchase_dt) & (x.order_approved_dt >= x.order_purchase_dt)\n",
        "        & (x.order_delivered_carrier_dt >= x.order_approved_dt) & (x.order_delivered_customer_dt >= x.order_delivered_carrier_dt)\n",
        "     ]\n",
        "    .dropna()\n",
        ")"
      ]
    },
    {
      "cell_type": "code",
      "execution_count": null,
      "metadata": {},
      "outputs": [],
      "source": [
        "tmp_df_sales['from_purchase_to_customer'] = (tmp_df_sales['order_delivered_customer_dt'] - tmp_df_sales['order_purchase_dt']).dt.total_seconds()\n",
        "tmp_df_sales['From Purchase to Approved'] = (\n",
        "    (tmp_df_sales['order_approved_dt'] - tmp_df_sales['order_purchase_dt']).dt.total_seconds() * 100 / tmp_df_sales['from_purchase_to_customer']\n",
        ").round(2)\n",
        "tmp_df_sales['From Approved to Carrier'] = (\n",
        "    (tmp_df_sales['order_delivered_carrier_dt'] - tmp_df_sales['order_approved_dt']).dt.total_seconds() * 100 / tmp_df_sales['from_purchase_to_customer']\n",
        ").round(2)\n",
        "tmp_df_sales['From Carrier to Customer'] = (\n",
        "    (tmp_df_sales['order_delivered_customer_dt'] - tmp_df_sales['order_delivered_carrier_dt']).dt.total_seconds() * 100 / tmp_df_sales['from_purchase_to_customer']\n",
        ").round(2) "
      ]
    },
    {
      "cell_type": "code",
      "execution_count": null,
      "metadata": {},
      "outputs": [],
      "source": [
        "tmp_df_sales = (\n",
        "    tmp_df_sales[['order_purchase_dt', 'From Purchase to Approved', 'From Approved to Carrier', 'From Carrier to Customer']]\n",
        "    .melt(id_vars = 'order_purchase_dt', var_name='Stage', value_name='Percent of All Delivery Time')\n",
        "    .rename(columns={'order_purchase_dt': 'Date'})\n",
        ")"
      ]
    },
    {
      "cell_type": "markdown",
      "metadata": {},
      "source": [
        "Let's look at what percentage of the total delivery time each stage occupies on average."
      ]
    },
    {
      "cell_type": "code",
      "execution_count": null,
      "metadata": {},
      "outputs": [],
      "source": [
        "sorted_means = tmp_df_sales.groupby('Stage')['Percent of All Delivery Time'].mean().sort_values(ascending=False)"
      ]
    },
    {
      "cell_type": "code",
      "execution_count": null,
      "metadata": {},
      "outputs": [],
      "source": [
        "annotations_data = [\n",
        "    (0.6, -0.1, 'Carrier > Customer'),\n",
        "    (-0.05, 0.8, 'Approved > Carrier'),\n",
        "    (0.45, 1.08, 'Purchase > Approved')\n",
        "]\n",
        "fig = px.pie(\n",
        "    values=sorted_means.values,\n",
        "    names=sorted_means.index,\n",
        "    title='Average Delivery Time Distribution by Stage',\n",
        "    labels={'names': 'Delivery Stage', 'values': 'Percentage of Total Time'},\n",
        "    category_orders={'names': ['From Carrier to Customer', 'From Approved to Carrier']},\n",
        "    hole=0.4 \n",
        ")\n",
        "fig.update_traces(\n",
        "    textinfo='percent',  \n",
        "    textposition='inside', \n",
        "    texttemplate='%{percent:.1%}', \n",
        "    hovertemplate='%{label}: %{percent:.1%}', \n",
        ")\n",
        "fig.update_layout(\n",
        "    showlegend=False, \n",
        "    width=500,\n",
        "    height=400,\n",
        "    margin=dict(t=60),\n",
        "    title_y=0.97\n",
        ")\n",
        "for x, y, text in annotations_data:\n",
        "    fig.add_annotation(\n",
        "        x=x,\n",
        "        y=y,\n",
        "        text=text,\n",
        "        showarrow=False,\n",
        "        font=dict(size=12)\n",
        "    )\n",
        "pb.to_slide(fig)\n",
        "fig.show()"
      ]
    },
    {
      "cell_type": "markdown",
      "metadata": {},
      "source": [
        "**Key Observations:**  \n",
        "\n",
        "- Delivery time distribution:  \n",
        "  - Payment approval: 4%  \n",
        "  - Carrier handoff: 25.5%  \n",
        "  - Carrier delivery: 70.5%  "
      ]
    },
    {
      "cell_type": "markdown",
      "metadata": {},
      "source": [
        "Look at distribution."
      ]
    },
    {
      "cell_type": "code",
      "execution_count": null,
      "metadata": {},
      "outputs": [],
      "source": [
        "tmp_df_sales.viz.box(\n",
        "    x='Percent of All Delivery Time'\n",
        "    , y='Stage'\n",
        "    , title='Percent of All Delivery Time by Stage'\n",
        ")"
      ]
    },
    {
      "cell_type": "markdown",
      "metadata": {},
      "source": [
        "**Key Observations:**  \n",
        "\n",
        "- Carrier delivery consumes most of total delivery time  \n",
        "- Significant differences between stages (non-overlapping IQRs)  \n"
      ]
    },
    {
      "cell_type": "markdown",
      "metadata": {},
      "source": [
        "### Total Delivery Time"
      ]
    },
    {
      "cell_type": "code",
      "execution_count": null,
      "metadata": {},
      "outputs": [],
      "source": [
        "pb.configure(\n",
        "    df = df_sales\n",
        "    , metric = 'delivery_time_days'\n",
        "    , metric_label = 'Average Order Delivery Time, days'\n",
        "    , metric_label_for_distribution = 'Order Delivery Time, days'\n",
        "    , agg_func = 'mean'\n",
        "    , title_base = 'Average Order Delivery Time and Number of Sales'\n",
        "    , axis_sort_order='descending'\n",
        "    , text_auto='.3s'\n",
        "    , update_fig={'xaxis2': {'title_text': 'Number of Sales'}}\n",
        ")"
      ]
    },
    {
      "cell_type": "markdown",
      "metadata": {},
      "source": [
        "Top Orders"
      ]
    },
    {
      "cell_type": "code",
      "execution_count": null,
      "metadata": {},
      "outputs": [],
      "source": [
        "pb.metric_top()"
      ]
    },
    {
      "cell_type": "markdown",
      "metadata": {},
      "source": [
        "Let’s see at statistics and distribution of the metric."
      ]
    },
    {
      "cell_type": "code",
      "execution_count": null,
      "metadata": {},
      "outputs": [],
      "source": [
        "pb.metric_info(\n",
        "    labels=dict(delivery_time_days='Order Delivery Time, days')\n",
        "    , title='Distribution of Order Delivery Time'\n",
        "    , upper_quantile=0.99\n",
        "    , hist_mode='dual_hist_trim'\n",
        ")"
      ]
    },
    {
      "cell_type": "markdown",
      "metadata": {},
      "source": [
        "**Key Observations:**  \n",
        "\n",
        "- Median delivery time: ≥10 days  \n",
        "- 75% deliver in ≥16 days  \n",
        "- Top 5% take ≥30 days  "
      ]
    },
    {
      "cell_type": "markdown",
      "metadata": {},
      "source": [
        "Let’s look by different dimensions."
      ]
    },
    {
      "cell_type": "markdown",
      "metadata": {},
      "source": [
        "**By Day of Week**"
      ]
    },
    {
      "cell_type": "code",
      "execution_count": null,
      "metadata": {},
      "outputs": [],
      "source": [
        "pb.histogram(\n",
        "    color='purchase_weekday'\n",
        "    , upper_quantile=0.95\n",
        "    , mode='dual_box_trim'\n",
        "    , show_box=True\n",
        "    , show_hist=False\n",
        "    , show_kde=True\n",
        ").show()\n",
        "pb.bar_groupby(\n",
        "    y='purchase_weekday'\n",
        "    , show_count=True\n",
        ").show()"
      ]
    },
    {
      "cell_type": "markdown",
      "metadata": {},
      "source": [
        "**Key Observations:**  \n",
        "\n",
        "- Friday/Saturday orders have slightly longer delivery times  "
      ]
    },
    {
      "cell_type": "markdown",
      "metadata": {},
      "source": [
        "**By Payment Category**"
      ]
    },
    {
      "cell_type": "code",
      "execution_count": null,
      "metadata": {},
      "outputs": [],
      "source": [
        "pb.histogram(\n",
        "    color='order_total_payment_cat'\n",
        "    , upper_quantile=0.95\n",
        "    , mode='dual_box_trim'\n",
        "    , show_box=True\n",
        "    , show_hist=False\n",
        "    , show_kde=True\n",
        ").show()\n",
        "pb.bar_groupby(\n",
        "    y='order_total_payment_cat'\n",
        "    , show_count=True\n",
        "    , to_slide=True\n",
        ").show()"
      ]
    },
    {
      "cell_type": "markdown",
      "metadata": {},
      "source": [
        "**Key Observations:**  \n",
        "\n",
        "- More expensive orders take longer to deliver  "
      ]
    },
    {
      "cell_type": "markdown",
      "metadata": {},
      "source": [
        "**By Order Weight Category**"
      ]
    },
    {
      "cell_type": "code",
      "execution_count": null,
      "metadata": {},
      "outputs": [],
      "source": [
        "pb.histogram(\n",
        "    color='order_total_weight_cat'\n",
        "    , upper_quantile=0.95\n",
        "    , mode='dual_box_trim'\n",
        "    , show_box=True\n",
        "    , show_hist=False\n",
        "    , show_kde=True\n",
        ").show()\n",
        "pb.bar_groupby(\n",
        "    y='order_total_weight_cat'\n",
        "    , show_count=True\n",
        "    , to_slide=True\n",
        ").show()"
      ]
    },
    {
      "cell_type": "markdown",
      "metadata": {},
      "source": [
        "**Key Observations:**  \n",
        "\n",
        "- Heavy orders take longer to deliver than light/medium  "
      ]
    },
    {
      "cell_type": "markdown",
      "metadata": {},
      "source": [
        "**By Review Score**"
      ]
    },
    {
      "cell_type": "code",
      "execution_count": null,
      "metadata": {},
      "outputs": [],
      "source": [
        "pb.histogram(\n",
        "    color='order_avg_reviews_score'\n",
        "    , upper_quantile=0.95\n",
        "    , mode='dual_box_trim'\n",
        "    , show_box=True\n",
        "    , show_hist=False\n",
        "    , show_kde=True\n",
        ").show()\n",
        "pb.bar_groupby(\n",
        "    y='order_avg_reviews_score'\n",
        "    , show_count=True\n",
        "    , to_slide=True\n",
        ").show()"
      ]
    },
    {
      "cell_type": "markdown",
      "metadata": {},
      "source": [
        "**Key Observations:**  \n",
        "\n",
        "- 1-star rated orders have noticeably longer delivery times  \n"
      ]
    },
    {
      "cell_type": "markdown",
      "metadata": {},
      "source": [
        "**By Top Customer States**"
      ]
    },
    {
      "cell_type": "code",
      "execution_count": null,
      "metadata": {},
      "outputs": [],
      "source": [
        "pb.box(\n",
        "    y='customer_state'\n",
        "    , upper_quantile=0.95\n",
        "    , show_dual=True\n",
        ").show()\n",
        "pb.bar_groupby(\n",
        "    y='customer_state'\n",
        "    , show_count=True\n",
        "    , to_slide=True\n",
        ").show()"
      ]
    },
    {
      "cell_type": "markdown",
      "metadata": {},
      "source": [
        "**Key Observations:**  \n",
        "\n",
        "- Among top states by sales volume, top 3 states with longest delivery times:  \n",
        "  1. Pará  \n",
        "  2. Maranhão  \n",
        "  3. Ceará "
      ]
    },
    {
      "cell_type": "markdown",
      "metadata": {},
      "source": [
        "**By Top Customer Cities**"
      ]
    },
    {
      "cell_type": "code",
      "execution_count": null,
      "metadata": {},
      "outputs": [],
      "source": [
        "pb.box(\n",
        "    y='customer_city'\n",
        "    , upper_quantile=0.95\n",
        "    , show_dual=True\n",
        ").show()\n",
        "pb.bar_groupby(\n",
        "    y='customer_city'\n",
        "    , show_count=True\n",
        "    , to_slide=True\n",
        ").show()"
      ]
    },
    {
      "cell_type": "markdown",
      "metadata": {},
      "source": [
        "**Key Observations:**  \n",
        "\n",
        "- Among top cities by sales volume, top 3 cities with longest delivery times:  \n",
        "  1. Salvador  \n",
        "  2. Porto Alegre  \n",
        "  3. Rio de Janeiro   "
      ]
    },
    {
      "cell_type": "markdown",
      "metadata": {},
      "source": [
        "### Delivery Delay"
      ]
    },
    {
      "cell_type": "code",
      "execution_count": null,
      "metadata": {},
      "outputs": [],
      "source": [
        "pb.configure(\n",
        "    df = df_sales\n",
        "    , metric = 'delivery_delay_days'\n",
        "    , metric_label = 'Average Delivery Delay, days'\n",
        "    , metric_label_for_distribution = 'Delivery Delay, days'\n",
        "    , agg_func = 'mean'\n",
        "    , title_base = 'Average Delivery Delay and Number of Sales'\n",
        "    , axis_sort_order='descending'\n",
        "    , text_auto='.3s'\n",
        "    , update_fig={'xaxis2': {'title_text': 'Number of Sales'}}\n",
        ")"
      ]
    },
    {
      "cell_type": "markdown",
      "metadata": {},
      "source": [
        "Top Orders"
      ]
    },
    {
      "cell_type": "code",
      "execution_count": null,
      "metadata": {},
      "outputs": [],
      "source": [
        "pb.metric_top()"
      ]
    },
    {
      "cell_type": "markdown",
      "metadata": {},
      "source": [
        "Let’s see at statistics and distribution of the metric."
      ]
    },
    {
      "cell_type": "code",
      "execution_count": null,
      "metadata": {},
      "outputs": [],
      "source": [
        "pb.metric_info(\n",
        "    labels=dict(delivery_time_days='Delivery Delay, days')\n",
        "    , title='Distribution of Delivery Delay'\n",
        "    , lower_quantile=0.01\n",
        "    , upper_quantile=0.99\n",
        "    , hist_mode='dual_hist_trim'\n",
        ")"
      ]
    },
    {
      "cell_type": "markdown",
      "metadata": {},
      "source": [
        "**Key Observations:**  \n",
        "\n",
        "- 75% of orders deliver ≥6 days early  \n",
        "- ~5% are ≥4 days late "
      ]
    },
    {
      "cell_type": "markdown",
      "metadata": {},
      "source": [
        "**By Review Score**"
      ]
    },
    {
      "cell_type": "code",
      "execution_count": null,
      "metadata": {},
      "outputs": [],
      "source": [
        "pb.histogram(\n",
        "    color='order_avg_reviews_score'\n",
        "    , upper_quantile=0.95\n",
        "    , mode='dual_box_trim'\n",
        "    , show_box=True\n",
        "    , show_hist=False\n",
        "    , show_kde=True\n",
        ").show()\n",
        "pb.bar_groupby(\n",
        "    y='order_avg_reviews_score'\n",
        "    , show_count=True\n",
        "    , to_slide=True\n",
        ").show()"
      ]
    },
    {
      "cell_type": "markdown",
      "metadata": {},
      "source": [
        "**Key Observations:**  \n",
        "\n",
        "- Higher rated orders deliver earlier than estimated  "
      ]
    },
    {
      "cell_type": "code",
      "execution_count": null,
      "metadata": {},
      "outputs": [],
      "source": [
        "pb.box(\n",
        "    y='customer_state'\n",
        "    , upper_quantile=0.95\n",
        "    , show_dual=True\n",
        ").show()\n",
        "pb.bar_groupby(\n",
        "    y='customer_state'\n",
        "    , show_count=True\n",
        "    , to_slide=True\n",
        ").show()"
      ]
    },
    {
      "cell_type": "markdown",
      "metadata": {},
      "source": [
        "**Key Observations:**  \n",
        "\n",
        "- Among top states by sales volume, top 3 states for early delivery:  \n",
        "  1. Mato Grosso  \n",
        "  2. Pará  \n",
        "  3. Rio Grande do Sul  "
      ]
    },
    {
      "cell_type": "markdown",
      "metadata": {},
      "source": [
        "### From Purchase to Approved Time"
      ]
    },
    {
      "cell_type": "code",
      "execution_count": null,
      "metadata": {},
      "outputs": [],
      "source": [
        "pb.configure(\n",
        "    df = df_sales\n",
        "    , metric = 'from_purchase_to_approved_hours'\n",
        "    , metric_label = 'Average Order Processing Time, hour'\n",
        "    , metric_label_for_distribution = 'Order Processing Time, hour'\n",
        "    , agg_func = 'mean'\n",
        "    , title_base = 'Average Order Processing Time and Number of Sales'\n",
        "    , axis_sort_order='descending'\n",
        "    , text_auto='.3s'\n",
        "    , update_fig={'xaxis2': {'title_text': 'Number of Sales'}}\n",
        ")"
      ]
    },
    {
      "cell_type": "markdown",
      "metadata": {},
      "source": [
        "Top Orders"
      ]
    },
    {
      "cell_type": "code",
      "execution_count": null,
      "metadata": {},
      "outputs": [],
      "source": [
        "pb.metric_top()"
      ]
    },
    {
      "cell_type": "markdown",
      "metadata": {},
      "source": [
        "Let’s see at statistics and distribution of the metric."
      ]
    },
    {
      "cell_type": "code",
      "execution_count": null,
      "metadata": {},
      "outputs": [],
      "source": [
        "pb.metric_info(\n",
        "    labels=dict(from_purchase_to_approved_hours='Order Processing Time, hour')\n",
        "    , title='Distribution of Order Processing Time'\n",
        "    , upper_quantile=0.99\n",
        "    , hist_mode='dual_hist_trim'\n",
        ")"
      ]
    },
    {
      "cell_type": "markdown",
      "metadata": {},
      "source": [
        "**Key Observations:**  \n",
        "\n",
        "- 75% of orders take ≥14 hours to process  \n",
        "- Top 5% take ≥48 hours  "
      ]
    },
    {
      "cell_type": "markdown",
      "metadata": {},
      "source": [
        "Let’s look by different dimensions."
      ]
    },
    {
      "cell_type": "markdown",
      "metadata": {},
      "source": [
        "**By Day of Week**"
      ]
    },
    {
      "cell_type": "code",
      "execution_count": null,
      "metadata": {},
      "outputs": [],
      "source": [
        "pb.histogram(\n",
        "    color='purchase_weekday'\n",
        "    , upper_quantile=0.95\n",
        "    , mode='dual_box_trim'\n",
        "    , show_box=True\n",
        "    , show_hist=False\n",
        "    , show_kde=True\n",
        ").show()\n",
        "pb.bar_groupby(\n",
        "    y='purchase_weekday'\n",
        "    , show_count=True\n",
        "    , to_slide=True\n",
        ").show()"
      ]
    },
    {
      "cell_type": "markdown",
      "metadata": {},
      "source": [
        "**Key Observations:**  \n",
        "\n",
        "- Friday/Saturday orders process slowest  \n",
        "- Wednesday orders process fastest  "
      ]
    },
    {
      "cell_type": "markdown",
      "metadata": {},
      "source": [
        "**By Time of Day**"
      ]
    },
    {
      "cell_type": "code",
      "execution_count": null,
      "metadata": {},
      "outputs": [],
      "source": [
        "pb.histogram(\n",
        "    color='purchase_time_of_day'\n",
        "    , upper_quantile=0.95\n",
        "    , mode='dual_box_trim'\n",
        "    , show_box=True\n",
        "    , show_hist=False\n",
        "    , show_kde=True\n",
        ").show()\n",
        "pb.bar_groupby(\n",
        "    y='purchase_time_of_day'\n",
        "    , show_count=True\n",
        "    , to_slide=True\n",
        ").show()"
      ]
    },
    {
      "cell_type": "markdown",
      "metadata": {},
      "source": [
        "**Key Observations:**  \n",
        "\n",
        "- Nighttime orders take longer to process  "
      ]
    },
    {
      "cell_type": "markdown",
      "metadata": {},
      "source": [
        "**By Whether the Order is Delayed**"
      ]
    },
    {
      "cell_type": "code",
      "execution_count": null,
      "metadata": {},
      "outputs": [],
      "source": [
        "pb.histogram(\n",
        "    color='is_delayed'\n",
        "    , upper_quantile=0.95\n",
        "    , mode='dual_box_trim'\n",
        "    , show_box=True\n",
        "    , show_hist=False\n",
        "    , show_kde=True\n",
        ").show()\n",
        "pb.bar_groupby(\n",
        "    y='is_delayed'\n",
        "    , show_count=True\n",
        ").show()"
      ]
    },
    {
      "cell_type": "markdown",
      "metadata": {},
      "source": [
        "**Key Observations:**  \n",
        "\n",
        "- Non-delayed orders process faster (expected pattern)"
      ]
    },
    {
      "cell_type": "markdown",
      "metadata": {},
      "source": [
        "**By Weekday vs Weekend**"
      ]
    },
    {
      "cell_type": "code",
      "execution_count": null,
      "metadata": {},
      "outputs": [],
      "source": [
        "pb.histogram(\n",
        "    color='purchase_day_type'\n",
        "    , upper_quantile=0.95\n",
        "    , mode='dual_box_trim'\n",
        "    , show_box=True\n",
        "    , show_hist=False\n",
        "    , show_kde=True\n",
        ").show()\n",
        "pb.bar_groupby(\n",
        "    y='purchase_day_type'\n",
        "    , show_count=True\n",
        "    , to_slide=True\n",
        ").show()"
      ]
    },
    {
      "cell_type": "markdown",
      "metadata": {},
      "source": [
        "**Key Observations:**  \n",
        "\n",
        "- Weekday orders process significantly faster than weekends  "
      ]
    },
    {
      "cell_type": "markdown",
      "metadata": {},
      "source": [
        "**By Payment Category**"
      ]
    },
    {
      "cell_type": "code",
      "execution_count": null,
      "metadata": {},
      "outputs": [],
      "source": [
        "pb.histogram(\n",
        "    color='order_total_payment_cat'\n",
        "    , upper_quantile=0.95\n",
        "    , mode='dual_box_trim'\n",
        "    , show_box=True\n",
        "    , show_hist=False\n",
        "    , show_kde=True\n",
        ").show()\n",
        "pb.bar_groupby(\n",
        "    y='order_total_payment_cat'\n",
        "    , show_count=True\n",
        ").show()"
      ]
    },
    {
      "cell_type": "markdown",
      "metadata": {},
      "source": [
        "**Key Observations:**  \n",
        "\n",
        "- Cheap/expensive orders process faster than mid-priced  "
      ]
    },
    {
      "cell_type": "markdown",
      "metadata": {},
      "source": [
        "**By Order Weight Category**"
      ]
    },
    {
      "cell_type": "code",
      "execution_count": null,
      "metadata": {},
      "outputs": [],
      "source": [
        "pb.histogram(\n",
        "    color='order_total_weight_cat'\n",
        "    , upper_quantile=0.95\n",
        "    , mode='dual_box_trim'\n",
        "    , show_box=True\n",
        "    , show_hist=False\n",
        "    , show_kde=True\n",
        ").show()\n",
        "pb.bar_groupby(\n",
        "    y='order_total_weight_cat'\n",
        "    , show_count=True\n",
        ").show()"
      ]
    },
    {
      "cell_type": "markdown",
      "metadata": {},
      "source": [
        "**Key Observations:**  \n",
        "\n",
        "- Heavy orders take longer to process  "
      ]
    },
    {
      "cell_type": "markdown",
      "metadata": {},
      "source": [
        "**By Presence of Installment Payments**"
      ]
    },
    {
      "cell_type": "code",
      "execution_count": null,
      "metadata": {},
      "outputs": [],
      "source": [
        "pb.histogram(\n",
        "    color='order_has_installment'\n",
        "    , upper_quantile=0.95\n",
        "    , mode='dual_box_trim'\n",
        "    , show_box=True\n",
        "    , show_hist=False\n",
        "    , show_kde=True\n",
        ").show()\n",
        "pb.bar_groupby(\n",
        "    y='order_has_installment'\n",
        "    , show_count=True\n",
        "    , to_slide=True\n",
        ").show()"
      ]
    },
    {
      "cell_type": "markdown",
      "metadata": {},
      "source": [
        "**Key Observations:**  \n",
        "\n",
        "- Installment orders process much faster  "
      ]
    },
    {
      "cell_type": "markdown",
      "metadata": {},
      "source": [
        "**By Review Score**"
      ]
    },
    {
      "cell_type": "code",
      "execution_count": null,
      "metadata": {},
      "outputs": [],
      "source": [
        "pb.histogram(\n",
        "    color='order_avg_reviews_score'\n",
        "    , upper_quantile=0.95\n",
        "    , mode='dual_box_trim'\n",
        "    , show_box=True\n",
        "    , show_hist=False\n",
        "    , show_kde=True\n",
        ").show()\n",
        "pb.bar_groupby(\n",
        "    y='order_avg_reviews_score'\n",
        "    , show_count=True\n",
        ").show()"
      ]
    },
    {
      "cell_type": "markdown",
      "metadata": {},
      "source": [
        "**Key Observations:**  \n",
        "\n",
        "- 1/2-star rated orders took longer to process  "
      ]
    },
    {
      "cell_type": "markdown",
      "metadata": {},
      "source": [
        "### From Approval to Carrier Time"
      ]
    },
    {
      "cell_type": "code",
      "execution_count": null,
      "metadata": {},
      "outputs": [],
      "source": [
        "pb.configure(\n",
        "    df = df_sales\n",
        "    , metric = 'from_approved_to_carrier_days'\n",
        "    , metric_label = 'Average Order Approval to Carrier Time, days'\n",
        "    , metric_label_for_distribution = 'Order Approval to Carrier Time, days'\n",
        "    , agg_func = 'mean'\n",
        "    , title_base = 'Average Order Approval to Carrier Time and Number of Sales'\n",
        "    , axis_sort_order='descending'\n",
        "    , text_auto='.3s'\n",
        "    , update_fig={'xaxis2': {'title_text': 'Number of Sales'}}\n",
        ")"
      ]
    },
    {
      "cell_type": "markdown",
      "metadata": {},
      "source": [
        "Top Orders"
      ]
    },
    {
      "cell_type": "code",
      "execution_count": null,
      "metadata": {},
      "outputs": [],
      "source": [
        "pb.metric_top()"
      ]
    },
    {
      "cell_type": "markdown",
      "metadata": {},
      "source": [
        "Let’s see at statistics and distribution of the metric."
      ]
    },
    {
      "cell_type": "code",
      "execution_count": null,
      "metadata": {},
      "outputs": [],
      "source": [
        "pb.metric_info(\n",
        "    labels=dict(from_approved_to_carrier_days='Order Approval to Carrier Time, days')\n",
        "    , title='Distribution of Order Approval to Carrier Time'\n",
        "    , upper_quantile=0.99\n",
        "    , hist_mode='dual_hist_trim'\n",
        ")"
      ]
    },
    {
      "cell_type": "markdown",
      "metadata": {},
      "source": [
        "**Key Observations:**  \n",
        "\n",
        "- 75% of orders transfer to carrier within ≤3.5 days  \n",
        "- Top 5% take ≥8 days  "
      ]
    },
    {
      "cell_type": "markdown",
      "metadata": {},
      "source": [
        "Let’s look by different dimensions."
      ]
    },
    {
      "cell_type": "markdown",
      "metadata": {},
      "source": [
        "**By Day of Week**"
      ]
    },
    {
      "cell_type": "code",
      "execution_count": null,
      "metadata": {},
      "outputs": [],
      "source": [
        "pb.histogram(\n",
        "    color='purchase_weekday'\n",
        "    , upper_quantile=0.95\n",
        "    , mode='dual_box_trim'\n",
        "    , show_box=True\n",
        "    , show_hist=False\n",
        "    , show_kde=True\n",
        ").show()\n",
        "pb.bar_groupby(\n",
        "    y='purchase_weekday'\n",
        "    , show_count=True\n",
        "    , to_slide=True\n",
        ").show()"
      ]
    },
    {
      "cell_type": "markdown",
      "metadata": {},
      "source": [
        "**Key Observations:**  \n",
        "\n",
        "- Friday/Saturday orders take longest to transfer to carrier "
      ]
    },
    {
      "cell_type": "markdown",
      "metadata": {},
      "source": [
        "**By Time of Day**"
      ]
    },
    {
      "cell_type": "code",
      "execution_count": null,
      "metadata": {},
      "outputs": [],
      "source": [
        "pb.histogram(\n",
        "    color='purchase_time_of_day'\n",
        "    , upper_quantile=0.95\n",
        "    , mode='dual_box_trim'\n",
        "    , show_box=True\n",
        "    , show_hist=False\n",
        "    , show_kde=True\n",
        ").show()\n",
        "pb.bar_groupby(\n",
        "    y='purchase_time_of_day'\n",
        "    , show_count=True\n",
        ").show()"
      ]
    },
    {
      "cell_type": "markdown",
      "metadata": {},
      "source": [
        "**Key Observations:**  \n",
        "\n",
        "- Morning orders transfer fastest to carrier   "
      ]
    },
    {
      "cell_type": "markdown",
      "metadata": {},
      "source": [
        "**By Payment Category**"
      ]
    },
    {
      "cell_type": "code",
      "execution_count": null,
      "metadata": {},
      "outputs": [],
      "source": [
        "pb.histogram(\n",
        "    color='order_total_payment_cat'\n",
        "    , upper_quantile=0.95\n",
        "    , mode='dual_box_trim'\n",
        "    , show_box=True\n",
        "    , show_hist=False\n",
        "    , show_kde=True\n",
        ").show()\n",
        "pb.bar_groupby(\n",
        "    y='order_total_payment_cat'\n",
        "    , show_count=True\n",
        "    , to_slide=True\n",
        ").show()"
      ]
    },
    {
      "cell_type": "markdown",
      "metadata": {},
      "source": [
        "**Key Observations:**  \n",
        "\n",
        "- Expensive orders take longer to transfer to carrier  "
      ]
    },
    {
      "cell_type": "markdown",
      "metadata": {},
      "source": [
        "**By Order Weight Category**"
      ]
    },
    {
      "cell_type": "code",
      "execution_count": null,
      "metadata": {},
      "outputs": [],
      "source": [
        "pb.histogram(\n",
        "    color='order_total_weight_cat'\n",
        "    , upper_quantile=0.95\n",
        "    , mode='dual_box_trim'\n",
        "    , show_box=True\n",
        "    , show_hist=False\n",
        "    , show_kde=True\n",
        ").show()\n",
        "pb.bar_groupby(\n",
        "    y='order_total_weight_cat'\n",
        "    , show_count=True\n",
        "    , to_slide=True\n",
        ").show()"
      ]
    },
    {
      "cell_type": "markdown",
      "metadata": {},
      "source": [
        "**Key Observations:**  \n",
        "\n",
        "- Heavy orders take longer to transfer to carrier     "
      ]
    },
    {
      "cell_type": "markdown",
      "metadata": {},
      "source": [
        "**By Presence of Installment Payments**"
      ]
    },
    {
      "cell_type": "code",
      "execution_count": null,
      "metadata": {},
      "outputs": [],
      "source": [
        "pb.histogram(\n",
        "    color='order_has_installment'\n",
        "    , upper_quantile=0.95\n",
        "    , mode='dual_box_trim'\n",
        "    , show_box=True\n",
        "    , show_hist=False\n",
        "    , show_kde=True\n",
        ").show()\n",
        "pb.bar_groupby(\n",
        "    y='order_has_installment'\n",
        "    , show_count=True\n",
        ").show()"
      ]
    },
    {
      "cell_type": "markdown",
      "metadata": {},
      "source": [
        "**Key Observations:**  \n",
        "\n",
        "- Installment orders take slightly longer to transfer to carrier "
      ]
    },
    {
      "cell_type": "markdown",
      "metadata": {},
      "source": [
        "**By Review Score**"
      ]
    },
    {
      "cell_type": "code",
      "execution_count": null,
      "metadata": {},
      "outputs": [],
      "source": [
        "pb.histogram(\n",
        "    color='order_avg_reviews_score'\n",
        "    , upper_quantile=0.95\n",
        "    , mode='dual_box_trim'\n",
        "    , show_box=True\n",
        "    , show_hist=False\n",
        "    , show_kde=True\n",
        ").show()\n",
        "pb.bar_groupby(\n",
        "    y='order_avg_reviews_score'\n",
        "    , show_count=True\n",
        ").show()"
      ]
    },
    {
      "cell_type": "markdown",
      "metadata": {},
      "source": [
        "**Key Observations:**  \n",
        "\n",
        "- Faster carrier transfer correlates with higher ratings  "
      ]
    },
    {
      "cell_type": "markdown",
      "metadata": {},
      "source": [
        "### Carrier Delivery Time"
      ]
    },
    {
      "cell_type": "code",
      "execution_count": null,
      "metadata": {},
      "outputs": [],
      "source": [
        "pb.configure(\n",
        "    df = df_sales\n",
        "    , metric = 'from_carrier_to_customer_days'\n",
        "    , metric_label = 'Average Delivery Time from Carrier, days'\n",
        "    , metric_label_for_distribution = 'Delivery Time from Carrier, days'\n",
        "    , agg_func = 'mean'\n",
        "    , title_base = 'Average Delivery Time from Carrier and Number of Sales'\n",
        "    , axis_sort_order='descending'\n",
        "    , text_auto='.3s'\n",
        "    , update_fig={'xaxis2': {'title_text': 'Number of Sales'}}\n",
        ")"
      ]
    },
    {
      "cell_type": "markdown",
      "metadata": {},
      "source": [
        "Top Orders"
      ]
    },
    {
      "cell_type": "code",
      "execution_count": null,
      "metadata": {},
      "outputs": [],
      "source": [
        "pb.metric_top()"
      ]
    },
    {
      "cell_type": "markdown",
      "metadata": {},
      "source": [
        "Let’s see at statistics and distribution of the metric."
      ]
    },
    {
      "cell_type": "code",
      "execution_count": null,
      "metadata": {},
      "outputs": [],
      "source": [
        "pb.metric_info(\n",
        "    labels=dict(from_carrier_to_customer_days='Delivery Time from Carrier, days')\n",
        "    , title='Distribution of Delivery Time from Carrier'\n",
        "    , upper_quantile=0.99\n",
        "    , hist_mode='dual_hist_trim'\n",
        ")"
      ]
    },
    {
      "cell_type": "markdown",
      "metadata": {},
      "source": [
        "**Key Observations:**  \n",
        "\n",
        "- Median carrier delivery time: ≥7 days  \n",
        "- 25% take ≥12 days  \n",
        "- 5% take ≥24 days  "
      ]
    },
    {
      "cell_type": "markdown",
      "metadata": {},
      "source": [
        "Let’s look by different dimensions."
      ]
    },
    {
      "cell_type": "markdown",
      "metadata": {},
      "source": [
        "**By Payment Category**"
      ]
    },
    {
      "cell_type": "code",
      "execution_count": null,
      "metadata": {},
      "outputs": [],
      "source": [
        "pb.histogram(\n",
        "    color='order_total_payment_cat'\n",
        "    , upper_quantile=0.95\n",
        "    , mode='dual_box_trim'\n",
        "    , show_box=True\n",
        "    , show_hist=False\n",
        "    , show_kde=True\n",
        ").show()\n",
        "pb.bar_groupby(\n",
        "    y='order_total_payment_cat'\n",
        "    , show_count=True\n",
        "    , to_slide=True\n",
        ").show()"
      ]
    },
    {
      "cell_type": "markdown",
      "metadata": {},
      "source": [
        "**Key Observations:**  \n",
        "\n",
        "- Cheap items deliver fastest via carrier  "
      ]
    },
    {
      "cell_type": "markdown",
      "metadata": {},
      "source": [
        "**By Order Weight Category**"
      ]
    },
    {
      "cell_type": "code",
      "execution_count": null,
      "metadata": {},
      "outputs": [],
      "source": [
        "pb.histogram(\n",
        "    color='order_total_weight_cat'\n",
        "    , upper_quantile=0.95\n",
        "    , mode='dual_box_trim'\n",
        "    , show_box=True\n",
        "    , show_hist=False\n",
        "    , show_kde=True\n",
        ").show()\n",
        "pb.bar_groupby(\n",
        "    y='order_total_weight_cat'\n",
        "    , show_count=True\n",
        ").show()"
      ]
    },
    {
      "cell_type": "markdown",
      "metadata": {},
      "source": [
        "**Key Observations:**  \n",
        "\n",
        "- Light items deliver slightly faster via carrier   "
      ]
    },
    {
      "cell_type": "markdown",
      "metadata": {},
      "source": [
        "**By Presence of Installment Payments**"
      ]
    },
    {
      "cell_type": "code",
      "execution_count": null,
      "metadata": {},
      "outputs": [],
      "source": [
        "pb.histogram(\n",
        "    color='order_has_installment'\n",
        "    , upper_quantile=0.95\n",
        "    , mode='dual_box_trim'\n",
        "    , show_box=True\n",
        "    , show_hist=False\n",
        "    , show_kde=True\n",
        ").show()\n",
        "pb.bar_groupby(\n",
        "    y='order_has_installment'\n",
        "    , show_count=True\n",
        ").show()"
      ]
    },
    {
      "cell_type": "markdown",
      "metadata": {},
      "source": [
        "**Key Observations:**  \n",
        "\n",
        "- Installment orders take slightly longer via carrier  "
      ]
    },
    {
      "cell_type": "markdown",
      "metadata": {},
      "source": [
        "**By Review Score**"
      ]
    },
    {
      "cell_type": "code",
      "execution_count": null,
      "metadata": {},
      "outputs": [],
      "source": [
        "pb.histogram(\n",
        "    color='order_avg_reviews_score'\n",
        "    , upper_quantile=0.95\n",
        "    , mode='dual_box_trim'\n",
        "    , show_box=True\n",
        "    , show_hist=False\n",
        "    , show_kde=True\n",
        ").show()\n",
        "pb.bar_groupby(\n",
        "    y='order_avg_reviews_score'\n",
        "    , show_count=True\n",
        ").show()"
      ]
    },
    {
      "cell_type": "markdown",
      "metadata": {},
      "source": [
        "**Key Observations:**  \n",
        "\n",
        "- Longer carrier delivery times correlate with lower ratings  "
      ]
    },
    {
      "cell_type": "markdown",
      "metadata": {},
      "source": [
        "**By Top Customer States**"
      ]
    },
    {
      "cell_type": "code",
      "execution_count": null,
      "metadata": {},
      "outputs": [],
      "source": [
        "pb.box(\n",
        "    y='customer_state'\n",
        "    , upper_quantile=0.95\n",
        "    , show_dual=True\n",
        ").show()\n",
        "pb.bar_groupby(\n",
        "    y='customer_state'\n",
        "    , show_count=True\n",
        "    , to_slide=True\n",
        ").show()"
      ]
    },
    {
      "cell_type": "markdown",
      "metadata": {},
      "source": [
        "- Among top states by sales volume, top 3 states with longest carrier delivery:  \n",
        "  1. Pará  \n",
        "  2. Maranhão  \n",
        "  3. Ceará  "
      ]
    },
    {
      "cell_type": "markdown",
      "metadata": {},
      "source": [
        "**By Top Customer Cities**"
      ]
    },
    {
      "cell_type": "code",
      "execution_count": null,
      "metadata": {},
      "outputs": [],
      "source": [
        "pb.box(\n",
        "    y='customer_city'\n",
        "    , upper_quantile=0.95\n",
        "    , show_dual=True\n",
        ").show()\n",
        "pb.bar_groupby(\n",
        "    y='customer_city'\n",
        "    , show_count=True\n",
        "    , to_slide=True\n",
        ").show()"
      ]
    },
    {
      "cell_type": "markdown",
      "metadata": {},
      "source": [
        "**Key Observations:**  \n",
        "\n",
        "- Among top cities by sales volume, top 3 cities with longest carrier delivery:  \n",
        "  1. Salvador  \n",
        "  2. Porto Alegre  \n",
        "  3. Rio de Janeiro  "
      ]
    },
    {
      "cell_type": "markdown",
      "metadata": {},
      "source": [
        "### Carrier Handoff Delay"
      ]
    },
    {
      "cell_type": "code",
      "execution_count": null,
      "metadata": {},
      "outputs": [],
      "source": [
        "pb.configure(\n",
        "    df = df_sales\n",
        "    , metric = 'avg_carrier_delivery_delay_days'\n",
        "    , metric_label = 'Average Carrier Delivery Delay, days'\n",
        "    , metric_label_for_distribution = 'Carrier Delivery Delay, days'\n",
        "    , agg_func = 'mean'\n",
        "    , title_base = 'Average Carrier Delivery Delay and Number of Sales'\n",
        "    , axis_sort_order='descending'\n",
        "    , text_auto='.3s'\n",
        "    , update_fig={'xaxis2': {'title_text': 'Number of Sales'}}\n",
        ")"
      ]
    },
    {
      "cell_type": "markdown",
      "metadata": {},
      "source": [
        "Top Orders"
      ]
    },
    {
      "cell_type": "code",
      "execution_count": null,
      "metadata": {},
      "outputs": [],
      "source": [
        "pb.metric_top()"
      ]
    },
    {
      "cell_type": "markdown",
      "metadata": {},
      "source": [
        "Let’s see at statistics and distribution of the metric."
      ]
    },
    {
      "cell_type": "code",
      "execution_count": null,
      "metadata": {},
      "outputs": [],
      "source": [
        "pb.metric_info(\n",
        "    lower_quantile=0.01\n",
        "    , upper_quantile=0.99\n",
        "    , hist_mode='dual_hist_trim'    \n",
        ")"
      ]
    },
    {
      "cell_type": "markdown",
      "metadata": {},
      "source": [
        "**Key Observations:**  \n",
        "\n",
        "- 75% of orders transfer to carrier ≥1.6 days early  \n",
        "- Extreme early transfers due to data anomalies  \n",
        "- 5% are ≥0.79 days late  \n",
        "- 1% are ≥7 days late  "
      ]
    },
    {
      "cell_type": "markdown",
      "metadata": {},
      "source": [
        "Let’s look by different dimensions."
      ]
    },
    {
      "cell_type": "markdown",
      "metadata": {},
      "source": [
        "**By Review Score**"
      ]
    },
    {
      "cell_type": "code",
      "execution_count": null,
      "metadata": {},
      "outputs": [],
      "source": [
        "pb.bar_groupby(\n",
        "    y='order_avg_reviews_score'\n",
        "    , show_count=True\n",
        ").show()"
      ]
    },
    {
      "cell_type": "markdown",
      "metadata": {},
      "source": [
        "**Key Observations:**  \n",
        "\n",
        "- Earlier carrier transfer correlates with higher ratings  "
      ]
    },
    {
      "cell_type": "code",
      "execution_count": null,
      "metadata": {
        "tags": [
          "remove-cell"
        ]
      },
      "source": [
        "%run ../../_post_run.ipynb"
      ],
      "outputs": []
    }
  ]
}