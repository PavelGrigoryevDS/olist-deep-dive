{
  "metadata": {},
  "nbformat": 4,
  "nbformat_minor": 4,
  "cells": [
    {
      "cell_type": "code",
      "execution_count": null,
      "metadata": {
        "tags": [
          "remove-cell"
        ]
      },
      "source": [
        "%run ../../_pre_run.ipynb"
      ],
      "outputs": []
    },
    {
      "cell_type": "markdown",
      "metadata": {},
      "source": [
        "# Seller Analysis"
      ]
    },
    {
      "cell_type": "markdown",
      "metadata": {},
      "source": [
        "Let’s create a helper function."
      ]
    },
    {
      "cell_type": "code",
      "execution_count": null,
      "metadata": {},
      "outputs": [],
      "source": [
        "def seller_top(metric: str, show_cnt: bool=True, ascending=False):\n",
        "    \"\"\"Show Top Customers by Metric\"\"\"\n",
        "    cols = ['seller_id', metric]\n",
        "    if show_cnt:\n",
        "        if metric == 'products_cnt':\n",
        "            cols += ['orders_cnt']\n",
        "        else:\n",
        "            cols += ['products_cnt', 'orders_cnt']\n",
        "    display(\n",
        "        df_sellers[cols]\n",
        "        .sort_values(metric, ascending=ascending)\n",
        "        .set_index('seller_id')\n",
        "        .head(10)\n",
        "    )"
      ]
    },
    {
      "cell_type": "markdown",
      "metadata": {},
      "source": [
        "## Number of Products"
      ]
    },
    {
      "cell_type": "markdown",
      "metadata": {},
      "source": [
        "Let’s identify the top sellers."
      ]
    },
    {
      "cell_type": "code",
      "execution_count": null,
      "metadata": {},
      "outputs": [],
      "source": [
        "seller_top('products_cnt')"
      ]
    },
    {
      "cell_type": "markdown",
      "metadata": {},
      "source": [
        "**Key Observations:**  \n",
        "\n",
        "- Seller \"6560211a19b47992c3666cc44a7e94c0\" sold the most products  "
      ]
    },
    {
      "cell_type": "markdown",
      "metadata": {},
      "source": [
        "Let’s see at statistics and distribution of the metric."
      ]
    },
    {
      "cell_type": "code",
      "execution_count": null,
      "metadata": {},
      "outputs": [],
      "source": [
        "df_sellers['products_cnt'].explore.info(\n",
        "    labels=dict(unique_products_cnt='Number of Products')\n",
        "    , title='Distribution of Number of Products Per Seller'\n",
        "    , upper_quantile=0.95\n",
        "    , hist_mode='dual_hist_trim'\n",
        ")"
      ]
    },
    {
      "cell_type": "markdown",
      "metadata": {},
      "source": [
        "**Key Observations:**  \n",
        "\n",
        "- 75% of sellers sold ≤26 products total  \n",
        "- Top 5% sold >150 products  "
      ]
    },
    {
      "cell_type": "markdown",
      "metadata": {},
      "source": [
        "## Number of Unique Products"
      ]
    },
    {
      "cell_type": "markdown",
      "metadata": {},
      "source": [
        "Let’s identify the top sellers."
      ]
    },
    {
      "cell_type": "code",
      "execution_count": null,
      "metadata": {},
      "outputs": [],
      "source": [
        "seller_top('unique_products_cnt')"
      ]
    },
    {
      "cell_type": "markdown",
      "metadata": {},
      "source": [
        "**Key Observations:**  \n",
        "\n",
        "- Seller \"4a3ca9315b744ce9f8e9374361493884\" sold the most unique products  "
      ]
    },
    {
      "cell_type": "markdown",
      "metadata": {},
      "source": [
        "Let’s see at statistics and distribution of the metric."
      ]
    },
    {
      "cell_type": "code",
      "execution_count": null,
      "metadata": {},
      "outputs": [],
      "source": [
        "df_sellers['unique_products_cnt'].explore.info(\n",
        "    labels=dict(unique_products_cnt='Number of Unique Products')\n",
        "    , title='Distribution of Number of Unique Products Per Seller'\n",
        "    , upper_quantile=0.95\n",
        "    , hist_mode='dual_hist_trim'\n",
        ")"
      ]
    },
    {
      "cell_type": "markdown",
      "metadata": {},
      "source": [
        "**Key Observations:**  \n",
        "\n",
        "- 75% of sellers sold ≤10 unique products  \n",
        "- Top 5% sold >45 unique products  "
      ]
    },
    {
      "cell_type": "markdown",
      "metadata": {},
      "source": [
        "## Number of Orders"
      ]
    },
    {
      "cell_type": "markdown",
      "metadata": {},
      "source": [
        "Let’s identify the top sellers."
      ]
    },
    {
      "cell_type": "code",
      "execution_count": null,
      "metadata": {},
      "outputs": [],
      "source": [
        "seller_top('orders_cnt', show_cnt=False)"
      ]
    },
    {
      "cell_type": "markdown",
      "metadata": {},
      "source": [
        "**Key Observations:**  \n",
        "\n",
        "- Seller \"6560211a19b47992c3666cc44a7e94c0\" participated in the most orders  "
      ]
    },
    {
      "cell_type": "markdown",
      "metadata": {},
      "source": [
        "Let’s see at statistics and distribution of the metric."
      ]
    },
    {
      "cell_type": "code",
      "execution_count": null,
      "metadata": {},
      "outputs": [],
      "source": [
        "df_sellers['orders_cnt'].explore.info(\n",
        "    labels=dict(orders_cnt='Number of Orders')\n",
        "    , title='Distribution of Number of Orders Per Seller'\n",
        "    , upper_quantile=0.95\n",
        "    , hist_mode='dual_hist_trim'\n",
        ")"
      ]
    },
    {
      "cell_type": "markdown",
      "metadata": {},
      "source": [
        "**Key Observations:**  \n",
        "\n",
        "- 75% of sellers participated in ≤22 orders  \n",
        "- Top 5% participated in ≥130 orders  "
      ]
    },
    {
      "cell_type": "markdown",
      "metadata": {},
      "source": [
        "## Total Sales Revenue"
      ]
    },
    {
      "cell_type": "markdown",
      "metadata": {},
      "source": [
        "Let’s identify the top sellers."
      ]
    },
    {
      "cell_type": "code",
      "execution_count": null,
      "metadata": {},
      "outputs": [],
      "source": [
        "seller_top('revenue')"
      ]
    },
    {
      "cell_type": "markdown",
      "metadata": {},
      "source": [
        "**Key Observations:**  \n",
        "\n",
        "- Seller \"4869f7a5dfa277a7dca6462dcf3b52b2\" generated the most revenue  \n"
      ]
    },
    {
      "cell_type": "markdown",
      "metadata": {},
      "source": [
        "Let’s see at statistics and distribution of the metric."
      ]
    },
    {
      "cell_type": "code",
      "execution_count": null,
      "metadata": {},
      "outputs": [],
      "source": [
        "df_sellers['revenue'].explore.info(\n",
        "    labels=dict(revenue='Seller Revenue')\n",
        "    , title='Distribution of Seller Revenue'\n",
        "    , upper_quantile=0.95\n",
        "    , hist_mode='dual_hist_trim'\n",
        ")"
      ]
    },
    {
      "cell_type": "markdown",
      "metadata": {},
      "source": [
        "**Key Observations:**  \n",
        "\n",
        "- 75% of sellers made ≤3,500 R$  \n",
        "- Top 5% made ≥17,000 R$  "
      ]
    },
    {
      "cell_type": "markdown",
      "metadata": {},
      "source": [
        "## Number of Products per Order"
      ]
    },
    {
      "cell_type": "markdown",
      "metadata": {},
      "source": [
        "Let’s identify the top sellers."
      ]
    },
    {
      "cell_type": "code",
      "execution_count": null,
      "metadata": {},
      "outputs": [],
      "source": [
        "seller_top('avg_prouducts_cnt')"
      ]
    },
    {
      "cell_type": "markdown",
      "metadata": {},
      "source": [
        "**Key Observations:**  \n",
        "\n",
        "- Seller '0b36063d5818f81ccb94b54adfaebbf5' has highest average products per order (single order)  "
      ]
    },
    {
      "cell_type": "markdown",
      "metadata": {},
      "source": [
        "Let’s see at statistics and distribution of the metric."
      ]
    },
    {
      "cell_type": "code",
      "execution_count": null,
      "metadata": {},
      "outputs": [],
      "source": [
        "df_sellers['avg_prouducts_cnt'].explore.info(\n",
        "    labels=dict(avg_prouducts_cnt='Average Number of Products in Order')\n",
        "    , title='Distribution of Average Number of Products in Order per Sellers'\n",
        "    , upper_quantile=0.95\n",
        "    , hist_mode='dual_hist_trim'\n",
        ")"
      ]
    },
    {
      "cell_type": "markdown",
      "metadata": {},
      "source": [
        "**Key Observations:**  \n",
        "\n",
        "- 75% of sellers average 1.14 products per order  \n",
        "- Top 1% average ≥3 products  "
      ]
    },
    {
      "cell_type": "markdown",
      "metadata": {},
      "source": [
        "## Total Product Value per Order"
      ]
    },
    {
      "cell_type": "markdown",
      "metadata": {},
      "source": [
        "Let’s identify the top sellers."
      ]
    },
    {
      "cell_type": "code",
      "execution_count": null,
      "metadata": {},
      "outputs": [],
      "source": [
        "seller_top('avg_order_total_price')"
      ]
    },
    {
      "cell_type": "markdown",
      "metadata": {},
      "source": [
        "**Key Observations:**  \n",
        "\n",
        "- Sellers \"e3b4998c7a498169dc7bce44e6bb6277\" and \"80ceebb4ee9b31afb6c6a916a574a1e2\" had highest order values (single order each)  "
      ]
    },
    {
      "cell_type": "markdown",
      "metadata": {},
      "source": [
        "Let’s see at statistics and distribution of the metric."
      ]
    },
    {
      "cell_type": "code",
      "execution_count": null,
      "metadata": {},
      "outputs": [],
      "source": [
        "df_sellers['avg_order_total_price'].explore.info(\n",
        "    labels=dict(avg_order_total_price='Average Amount of Products in Order, R$')\n",
        "    , title='Distribution of Average Amount of Products in Order Per Seller'\n",
        "    , upper_quantile=0.95\n",
        "    , hist_mode='dual_hist_trim'\n",
        ")"
      ]
    },
    {
      "cell_type": "markdown",
      "metadata": {},
      "source": [
        "**Key Observations:**  \n",
        "\n",
        "- 75% of sellers average ≤189 R$ per order  \n",
        "- Top 5% average ≥641 R$  "
      ]
    },
    {
      "cell_type": "markdown",
      "metadata": {},
      "source": [
        "## Product Price per Order"
      ]
    },
    {
      "cell_type": "markdown",
      "metadata": {},
      "source": [
        "Let’s identify the top sellers."
      ]
    },
    {
      "cell_type": "code",
      "execution_count": null,
      "metadata": {},
      "outputs": [],
      "source": [
        "seller_top('avg_product_price')"
      ]
    },
    {
      "cell_type": "markdown",
      "metadata": {},
      "source": [
        "**Key Observations:**  \n",
        "\n",
        "- Seller \"e3b4998c7a498169dc7bce44e6bb6277\" has highest average product price (single order)  \n"
      ]
    },
    {
      "cell_type": "markdown",
      "metadata": {},
      "source": [
        "Let’s see at statistics and distribution of the metric."
      ]
    },
    {
      "cell_type": "code",
      "execution_count": null,
      "metadata": {},
      "outputs": [],
      "source": [
        "df_sellers['avg_product_price'].explore.info(\n",
        "    labels=dict(avg_product_price='Average Product Price in Order, R$')\n",
        "    , title='Distribution of Average Product Price in Order Per Seller'\n",
        "    , upper_quantile=0.95\n",
        "    , hist_mode='dual_hist_trim'\n",
        ")"
      ]
    },
    {
      "cell_type": "markdown",
      "metadata": {},
      "source": [
        "**Key Observations:**  \n",
        "\n",
        "- 75% of sellers average ≤174 R$ per product  \n",
        "- Top 5% average ≥595 R$  "
      ]
    },
    {
      "cell_type": "markdown",
      "metadata": {},
      "source": [
        "## Product Weight"
      ]
    },
    {
      "cell_type": "markdown",
      "metadata": {},
      "source": [
        "Let’s identify the top sellers."
      ]
    },
    {
      "cell_type": "code",
      "execution_count": null,
      "metadata": {},
      "outputs": [],
      "source": [
        "seller_top('avg_product_weight_kg')"
      ]
    },
    {
      "cell_type": "markdown",
      "metadata": {},
      "source": [
        "**Key Observations:**  \n",
        "\n",
        "- Maximum average product weight: 30kg  "
      ]
    },
    {
      "cell_type": "markdown",
      "metadata": {},
      "source": [
        "Let’s see at statistics and distribution of the metric."
      ]
    },
    {
      "cell_type": "code",
      "execution_count": null,
      "metadata": {},
      "outputs": [],
      "source": [
        "df_sellers['avg_product_weight_kg'].explore.info(\n",
        "    labels=dict(avg_product_weight_kg='Average Weight of Products, kg')\n",
        "    , title='Distribution of Average Weight of Products Per Seller'\n",
        "    , upper_quantile=0.95\n",
        "    , hist_mode='dual_hist_trim'\n",
        ")"
      ]
    },
    {
      "cell_type": "markdown",
      "metadata": {},
      "source": [
        "**Key Observations:**  \n",
        "\n",
        "- 75% of sellers average ≤2.7kg  \n",
        "- Top 5% average ≥11kg  "
      ]
    },
    {
      "cell_type": "markdown",
      "metadata": {},
      "source": [
        "## Carrier Handoff Delay"
      ]
    },
    {
      "cell_type": "markdown",
      "metadata": {},
      "source": [
        "Let’s identify the top sellers."
      ]
    },
    {
      "cell_type": "code",
      "execution_count": null,
      "metadata": {},
      "outputs": [],
      "source": [
        "seller_top('avg_carrier_delivery_delay_days')"
      ]
    },
    {
      "cell_type": "markdown",
      "metadata": {},
      "source": [
        "**Key Observations:**  \n",
        "\n",
        "- Seller \"586a871d4f1221763fddb6ceefdeb95e\" had maximum carrier handoff delay: 45 days  \n"
      ]
    },
    {
      "cell_type": "markdown",
      "metadata": {},
      "source": [
        "Let’s see at statistics and distribution of the metric."
      ]
    },
    {
      "cell_type": "code",
      "execution_count": null,
      "metadata": {},
      "outputs": [],
      "source": [
        "df_sellers['avg_carrier_delivery_delay_days'].explore.info(\n",
        "    labels=dict(avg_carrier_delivery_delay_days='Average Carrier Delivery Delay Time, days')\n",
        "    , title='Distribution of Average Carrier Delivery Delay Time Per Seller'\n",
        "    , lower_quantile=0.05\n",
        "    , upper_quantile=0.95\n",
        "    , hist_mode='dual_hist_trim'\n",
        ")"
      ]
    },
    {
      "cell_type": "markdown",
      "metadata": {},
      "source": [
        "**Key Observations:**  \n",
        "\n",
        "- Top 5% of sellers delivered to carrier ≥6.5 days early  \n",
        "- 75% delivered ≥2 days early  \n",
        "- Bottom 5% delayed ≥1 day  "
      ]
    },
    {
      "cell_type": "code",
      "execution_count": null,
      "metadata": {
        "tags": [
          "remove-cell"
        ]
      },
      "source": [
        "%run ../../_post_run.ipynb"
      ],
      "outputs": []
    }
  ]
}