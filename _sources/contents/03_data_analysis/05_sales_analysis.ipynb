{
  "metadata": {},
  "nbformat": 4,
  "nbformat_minor": 4,
  "cells": [
    {
      "cell_type": "code",
      "execution_count": null,
      "metadata": {
        "tags": [
          "remove-cell"
        ]
      },
      "source": [
        "%run ../../_pre_run.ipynb"
      ],
      "outputs": []
    },
    {
      "cell_type": "markdown",
      "metadata": {},
      "source": [
        "# Sales Analysis"
      ]
    },
    {
      "cell_type": "markdown",
      "metadata": {},
      "source": [
        "## Number of Sales"
      ]
    },
    {
      "cell_type": "code",
      "execution_count": null,
      "metadata": {},
      "outputs": [],
      "source": [
        "pb.configure(\n",
        "    df = df_sales\n",
        "    , time_column = 'order_purchase_dt'\n",
        "    , time_column_label = 'Date' \n",
        "    , metric = 'order_id'\n",
        "    , metric_label = 'Share of Sales'\n",
        "    , metric_label_for_distribution = 'Number of Sales'\n",
        "    , agg_func = 'nunique'\n",
        "    , norm_by='all'\n",
        "    , axis_sort_order='descending'\n",
        "    , text_auto='.1%'\n",
        "    , update_fig={'xaxis': {'tickformat': '.0%'}}\n",
        ")"
      ]
    },
    {
      "cell_type": "code",
      "execution_count": null,
      "metadata": {},
      "outputs": [],
      "source": [
        "print(f'Total number of sales: {df_sales.order_id.nunique()}')"
      ]
    },
    {
      "cell_type": "markdown",
      "metadata": {},
      "source": [
        "Let’s see at statistics and distribution of the metric."
      ]
    },
    {
      "cell_type": "code",
      "execution_count": null,
      "metadata": {},
      "outputs": [],
      "source": [
        "pb.metric_info(freq='D')"
      ]
    },
    {
      "cell_type": "markdown",
      "metadata": {},
      "source": [
        "**Key Observations:**  \n",
        "\n",
        "- 75% of days had ≤215 orders  \n",
        "- 5% had ≤45 orders  \n",
        "- 5% had ≥293 orders  \n",
        "- Several days exceeded 400 orders  "
      ]
    },
    {
      "cell_type": "markdown",
      "metadata": {},
      "source": [
        "Let’s look by different dimensions."
      ]
    },
    {
      "cell_type": "markdown",
      "metadata": {},
      "source": [
        "**By Season**"
      ]
    },
    {
      "cell_type": "markdown",
      "metadata": {},
      "source": [
        "Since 2018 has incomplete monthly data, it’s better to also analyze by year.."
      ]
    },
    {
      "cell_type": "code",
      "execution_count": null,
      "metadata": {},
      "outputs": [],
      "source": [
        "pb.bar_groupby(\n",
        "    x='purchase_season'\n",
        "    , color='purchase_year'\n",
        ")"
      ]
    },
    {
      "cell_type": "markdown",
      "metadata": {},
      "source": [
        "**Key Observations:**  \n",
        "\n",
        "- Lowest sales in summer (both years)  \n",
        "- Highest sales in autumn (2018)  "
      ]
    },
    {
      "cell_type": "markdown",
      "metadata": {},
      "source": [
        "**By Time of Day**"
      ]
    },
    {
      "cell_type": "code",
      "execution_count": null,
      "metadata": {},
      "outputs": [],
      "source": [
        "pb.bar_groupby(y='purchase_time_of_day')"
      ]
    },
    {
      "cell_type": "markdown",
      "metadata": {},
      "source": [
        "**Key Observations:**  \n",
        "\n",
        "- Sales by time of day:  \n",
        "  - Evening: 36% (peak)  \n",
        "  - Night: 9% (lowest)  \n",
        "  - Morning: 23%  \n",
        "  - Afternoon: 32%  "
      ]
    },
    {
      "cell_type": "markdown",
      "metadata": {},
      "source": [
        "**By Day of Week**"
      ]
    },
    {
      "cell_type": "code",
      "execution_count": null,
      "metadata": {},
      "outputs": [],
      "source": [
        "pb.bar_groupby(y='purchase_weekday')"
      ]
    },
    {
      "cell_type": "markdown",
      "metadata": {},
      "source": [
        "**Key Observations:**  \n",
        "\n",
        "- Saturday: 11% (lowest)  \n",
        "- Monday: 16% (highest)  "
      ]
    },
    {
      "cell_type": "markdown",
      "metadata": {},
      "source": [
        "**By Weekday vs Weekend**"
      ]
    },
    {
      "cell_type": "code",
      "execution_count": null,
      "metadata": {},
      "outputs": [],
      "source": [
        "pb.bar_groupby(y='purchase_day_type')"
      ]
    },
    {
      "cell_type": "markdown",
      "metadata": {},
      "source": [
        "**Key Observations:**  \n",
        "\n",
        "- 77% of orders were placed on weekdays  "
      ]
    },
    {
      "cell_type": "markdown",
      "metadata": {},
      "source": [
        "**By Day of the Week and Hour of the Day**"
      ]
    },
    {
      "cell_type": "code",
      "execution_count": null,
      "metadata": {},
      "outputs": [],
      "source": [
        "fig = pb.heatmap(\n",
        "    x='purchase_hour'\n",
        "    , y='purchase_weekday'\n",
        "    , labels={'color': 'Number of Sales'}\n",
        "    , title='Number of Sales by Day of the Week and Hour of the Day'\n",
        ").update_layout(xaxis_dtick=1, xaxis_tickformat=None)\n",
        "pb.to_slide(fig)\n",
        "fig.show()"
      ]
    },
    {
      "cell_type": "markdown",
      "metadata": {},
      "source": [
        "**Key Observations:**  \n",
        "\n",
        "- 1AM-8AM had lowest sales across all weekdays  "
      ]
    },
    {
      "cell_type": "markdown",
      "metadata": {},
      "source": [
        "**By Review Score**"
      ]
    },
    {
      "cell_type": "code",
      "execution_count": null,
      "metadata": {},
      "outputs": [],
      "source": [
        "pb.bar_groupby(y='order_avg_reviews_score')"
      ]
    },
    {
      "cell_type": "markdown",
      "metadata": {},
      "source": [
        "**Key Observations:**  \n",
        "\n",
        "- Review score distribution:  \n",
        "  - 5 stars: 59%  \n",
        "  - 2 stars: 3% (lowest)  \n",
        "  - More 1-star than 2/3-star orders  "
      ]
    },
    {
      "cell_type": "markdown",
      "metadata": {},
      "source": [
        "**By Whether the Order is Delayed or Not**"
      ]
    },
    {
      "cell_type": "code",
      "execution_count": null,
      "metadata": {},
      "outputs": [],
      "source": [
        "pb.bar_groupby(y='is_delayed')"
      ]
    },
    {
      "cell_type": "markdown",
      "metadata": {},
      "source": [
        "**Key Observations:**  \n",
        "\n",
        "- 92% of orders had no delivery delay  "
      ]
    },
    {
      "cell_type": "markdown",
      "metadata": {},
      "source": [
        "**By Payment Category**"
      ]
    },
    {
      "cell_type": "code",
      "execution_count": null,
      "metadata": {},
      "outputs": [],
      "source": [
        "pb.bar_groupby(y='order_total_payment_cat')"
      ]
    },
    {
      "cell_type": "markdown",
      "metadata": {},
      "source": [
        "**Key Observations:**  \n",
        "\n",
        "- 63% of orders were medium-priced  "
      ]
    },
    {
      "cell_type": "markdown",
      "metadata": {},
      "source": [
        "**By Order Weight Category**"
      ]
    },
    {
      "cell_type": "code",
      "execution_count": null,
      "metadata": {},
      "outputs": [],
      "source": [
        "pb.bar_groupby(y='order_total_weight_cat')"
      ]
    },
    {
      "cell_type": "markdown",
      "metadata": {},
      "source": [
        "**Key Observations:**  \n",
        "\n",
        "- Order weight distribution:  \n",
        "  - Medium: 46%  \n",
        "  - Light: 40%  "
      ]
    },
    {
      "cell_type": "markdown",
      "metadata": {},
      "source": [
        "**By Delivery Time Category**"
      ]
    },
    {
      "cell_type": "code",
      "execution_count": null,
      "metadata": {},
      "outputs": [],
      "source": [
        "pb.bar_groupby(y='delivery_time_days_cat')"
      ]
    },
    {
      "cell_type": "markdown",
      "metadata": {},
      "source": [
        "**Key Observations:**  \n",
        "\n",
        "- 59% of orders had medium delivery time  "
      ]
    },
    {
      "cell_type": "markdown",
      "metadata": {},
      "source": [
        "**By Presence of Installment Payments**"
      ]
    },
    {
      "cell_type": "code",
      "execution_count": null,
      "metadata": {},
      "outputs": [],
      "source": [
        "pb.bar_groupby(y='order_has_installment')"
      ]
    },
    {
      "cell_type": "markdown",
      "metadata": {},
      "source": [
        "**Key Observations:**  \n",
        "\n",
        "- 51% of orders used installments  "
      ]
    },
    {
      "cell_type": "markdown",
      "metadata": {},
      "source": [
        "**By Payment Type**"
      ]
    },
    {
      "cell_type": "code",
      "execution_count": null,
      "metadata": {},
      "outputs": [],
      "source": [
        "pb.bar_groupby(y='order_payment_types')"
      ]
    },
    {
      "cell_type": "markdown",
      "metadata": {},
      "source": [
        "**Key Observations:**  \n",
        "\n",
        "- Payment methods:  \n",
        "  - Credit card: 75%  \n",
        "  - Boleto: 20%  "
      ]
    },
    {
      "cell_type": "markdown",
      "metadata": {},
      "source": [
        "**By Product Category**"
      ]
    },
    {
      "cell_type": "code",
      "execution_count": null,
      "metadata": {},
      "outputs": [],
      "source": [
        "pb.bar_groupby(\n",
        "    y='order_product_categories'\n",
        "    , text_auto=False\n",
        ")"
      ]
    },
    {
      "cell_type": "markdown",
      "metadata": {},
      "source": [
        "**Key Observations:**  \n",
        "\n",
        "- Top 3 product categories:  \n",
        "  1. Bed Bath Table: 9%  \n",
        "  2. Health Beauty: 9%  \n",
        "  3. Sports Leisure: 8%  "
      ]
    },
    {
      "cell_type": "markdown",
      "metadata": {},
      "source": [
        "**By Generalized Product Category**"
      ]
    },
    {
      "cell_type": "code",
      "execution_count": null,
      "metadata": {},
      "outputs": [],
      "source": [
        "pb.bar_groupby(\n",
        "    y='order_general_product_categories'\n",
        "    , text_auto=False\n",
        ")"
      ]
    },
    {
      "cell_type": "markdown",
      "metadata": {},
      "source": [
        "**Key Observations:**  \n",
        "\n",
        "- Top 3 generalized categories:  \n",
        "  1. Electronics: 27%  \n",
        "  2. Furniture: 18%  \n",
        "  3. Home & Garden: 14%  "
      ]
    },
    {
      "cell_type": "markdown",
      "metadata": {},
      "source": [
        "**By Top Customer States**"
      ]
    },
    {
      "cell_type": "code",
      "execution_count": null,
      "metadata": {},
      "outputs": [],
      "source": [
        "pb.bar_groupby(y='customer_state', text_auto=False)"
      ]
    },
    {
      "cell_type": "markdown",
      "metadata": {},
      "source": [
        "**Key Observations:**  \n",
        "\n",
        "- Sales by state:  \n",
        "  - São Paulo: 42%  \n",
        "  - Rio de Janeiro: 13%  \n",
        "  - Minas Gerais: 12%  \n",
        "  - Others: ≤6%  "
      ]
    },
    {
      "cell_type": "markdown",
      "metadata": {},
      "source": [
        "**By Top Customer Cities**"
      ]
    },
    {
      "cell_type": "code",
      "execution_count": null,
      "metadata": {},
      "outputs": [],
      "source": [
        "pb.bar_groupby(y='customer_city', text_auto=False)"
      ]
    },
    {
      "cell_type": "markdown",
      "metadata": {},
      "source": [
        "**Key Observations:**  \n",
        "\n",
        "- Sales by city:  \n",
        "  - São Paulo: 16%  \n",
        "  - Rio de Janeiro: 7%  \n",
        "  - Others: ≤3%  "
      ]
    },
    {
      "cell_type": "markdown",
      "metadata": {},
      "source": [
        "## Sum of Sales"
      ]
    },
    {
      "cell_type": "code",
      "execution_count": null,
      "metadata": {},
      "outputs": [],
      "source": [
        "pb.configure(\n",
        "    df = df_sales\n",
        "    , time_column = 'order_purchase_dt'\n",
        "    , metric = 'total_payment'\n",
        "    , metric_label = 'Sum of Sales, R$'\n",
        "    , agg_func = 'sum'\n",
        "    , title_base = 'Sum and Number of Sales'\n",
        "    , axis_sort_order='descending'\n",
        "    , text_auto='.3s'\n",
        "    , update_fig={'xaxis2': {'title_text': 'Number of Sales'}}\n",
        ")"
      ]
    },
    {
      "cell_type": "code",
      "execution_count": null,
      "metadata": {},
      "outputs": [],
      "source": [
        "print(f'Total Sales Amount: {df_sales.total_payment.sum():,.2f}, R$')"
      ]
    },
    {
      "cell_type": "markdown",
      "metadata": {},
      "source": [
        "Let’s see at statistics and distribution of the metric."
      ]
    },
    {
      "cell_type": "code",
      "execution_count": null,
      "metadata": {},
      "outputs": [],
      "source": [
        "pb.metric_info(freq='D')"
      ]
    },
    {
      "cell_type": "markdown",
      "metadata": {},
      "source": [
        "**Key Observations:**  \n",
        "\n",
        "- 75% of days had sales ≤33K R$  \n",
        "- 5% of days had ≤6.7K R$  \n",
        "- 5% of days had ≥49K R$  \n",
        "- Several days exceeded 70K R$  "
      ]
    },
    {
      "cell_type": "markdown",
      "metadata": {},
      "source": [
        "Let’s look by different dimensions."
      ]
    },
    {
      "cell_type": "markdown",
      "metadata": {},
      "source": [
        "**By Season**"
      ]
    },
    {
      "cell_type": "markdown",
      "metadata": {},
      "source": [
        "Since 2018 has incomplete monthly data, it’s better to also analyze by year.."
      ]
    },
    {
      "cell_type": "code",
      "execution_count": null,
      "metadata": {},
      "outputs": [],
      "source": [
        "pb.bar_groupby(\n",
        "    x='purchase_season'\n",
        "    , color='purchase_year'\n",
        "    , title='Sum of Sales by Season and Year'\n",
        ")"
      ]
    },
    {
      "cell_type": "markdown",
      "metadata": {},
      "source": [
        "**Key Observations:**  \n",
        "\n",
        "- Lowest sales revenue in summer (both years)  \n",
        "- Highest revenue in autumn (2018)  "
      ]
    },
    {
      "cell_type": "markdown",
      "metadata": {},
      "source": [
        "**By Time of Day**"
      ]
    },
    {
      "cell_type": "code",
      "execution_count": null,
      "metadata": {},
      "outputs": [],
      "source": [
        "pb.bar_groupby(y='purchase_time_of_day', show_count=True, to_slide=True)"
      ]
    },
    {
      "cell_type": "markdown",
      "metadata": {},
      "source": [
        "**Key Observations:**  \n",
        "\n",
        "- Highest sales volume and revenue in evenings  \n",
        "- Lowest at night  "
      ]
    },
    {
      "cell_type": "markdown",
      "metadata": {},
      "source": [
        "**By Day of Week**"
      ]
    },
    {
      "cell_type": "code",
      "execution_count": null,
      "metadata": {},
      "outputs": [],
      "source": [
        "pb.bar_groupby(y='purchase_weekday', show_count=True, to_slide=True)"
      ]
    },
    {
      "cell_type": "markdown",
      "metadata": {},
      "source": [
        "**Key Observations:**  \n",
        "\n",
        "- Monday has highest sales volume/revenue  \n",
        "- Saturday has lowest "
      ]
    },
    {
      "cell_type": "markdown",
      "metadata": {},
      "source": [
        "**By Weekday vs Weekend**"
      ]
    },
    {
      "cell_type": "code",
      "execution_count": null,
      "metadata": {},
      "outputs": [],
      "source": [
        "pb.bar_groupby(y='purchase_day_type', show_count=True, to_slide=True)"
      ]
    },
    {
      "cell_type": "markdown",
      "metadata": {},
      "source": [
        "**Key Observations:**  \n",
        "\n",
        "- Weekday sales/revenue significantly higher than weekends  \n"
      ]
    },
    {
      "cell_type": "markdown",
      "metadata": {},
      "source": [
        "**By Day of the Week and Hour of the Day**"
      ]
    },
    {
      "cell_type": "code",
      "execution_count": null,
      "metadata": {},
      "outputs": [],
      "source": [
        "fig = pb.heatmap(\n",
        "    x='purchase_hour'\n",
        "    , y='purchase_weekday'\n",
        "    , text_auto='.3s'\n",
        "    , labels={'color': 'Amount, R$'}\n",
        "    , title='Sales Amount by Day of the Week and Hour of the Day'\n",
        ").update_layout(xaxis_dtick=1)\n",
        "pb.to_slide(fig)\n",
        "fig.show()"
      ]
    },
    {
      "cell_type": "markdown",
      "metadata": {},
      "source": [
        "**Key Observations:**  \n",
        "\n",
        "- 1AM-8AM has lowest revenue across all weekdays  "
      ]
    },
    {
      "cell_type": "markdown",
      "metadata": {},
      "source": [
        "**By Whether the Order is Delayed or Not**"
      ]
    },
    {
      "cell_type": "code",
      "execution_count": null,
      "metadata": {},
      "outputs": [],
      "source": [
        "pb.bar_groupby(y='is_delayed', show_count=True)"
      ]
    },
    {
      "cell_type": "markdown",
      "metadata": {},
      "source": [
        "**Key Observations:**  \n",
        "\n",
        "- Non-delayed orders have significantly higher sales/revenue  "
      ]
    },
    {
      "cell_type": "markdown",
      "metadata": {},
      "source": [
        "**By Order Weight Category**"
      ]
    },
    {
      "cell_type": "code",
      "execution_count": null,
      "metadata": {},
      "outputs": [],
      "source": [
        "pb.bar_groupby(y='order_total_weight_cat', show_count=True, to_slide=True)"
      ]
    },
    {
      "cell_type": "markdown",
      "metadata": {},
      "source": [
        "**Key Observations:**  \n",
        "\n",
        "- Medium-weight orders generate more revenue than heavy/light  \n",
        "- Light orders have higher quantity share but lower revenue share  \n",
        "- Heavy orders are more expensive  "
      ]
    },
    {
      "cell_type": "markdown",
      "metadata": {},
      "source": [
        "**By Presence of Installment Payments**"
      ]
    },
    {
      "cell_type": "code",
      "execution_count": null,
      "metadata": {},
      "outputs": [],
      "source": [
        "pb.bar_groupby(y='order_has_installment', show_count=True, to_slide=True)"
      ]
    },
    {
      "cell_type": "markdown",
      "metadata": {},
      "source": [
        "**Key Observations:**  \n",
        "\n",
        "- Installment orders generate significantly more revenue despite similar order counts  \n",
        "- Installment enables more expensive purchases  "
      ]
    },
    {
      "cell_type": "markdown",
      "metadata": {},
      "source": [
        "**By Top Customer States**"
      ]
    },
    {
      "cell_type": "code",
      "execution_count": null,
      "metadata": {},
      "outputs": [],
      "source": [
        "pb.bar_groupby(y='customer_state', show_count=True, to_slide=True)"
      ]
    },
    {
      "cell_type": "markdown",
      "metadata": {},
      "source": [
        "**Key Observations:**  \n",
        "\n",
        "- São Paulo state dominates sales volume/revenue  \n",
        "- Rio de Janeiro and Minas Gerais rank 2nd/3rd  "
      ]
    },
    {
      "cell_type": "markdown",
      "metadata": {},
      "source": [
        "**By Top Customer Cities**"
      ]
    },
    {
      "cell_type": "code",
      "execution_count": null,
      "metadata": {},
      "outputs": [],
      "source": [
        "pb.bar_groupby(y='customer_city', show_count=True, to_slide=True)"
      ]
    },
    {
      "cell_type": "markdown",
      "metadata": {},
      "source": [
        "**Key Observations:**  \n",
        "\n",
        "- São Paulo city leads in sales volume/revenue  \n",
        "- Rio de Janeiro ranks second  "
      ]
    },
    {
      "cell_type": "markdown",
      "metadata": {},
      "source": [
        "**By Review Score**"
      ]
    },
    {
      "cell_type": "code",
      "execution_count": null,
      "metadata": {},
      "outputs": [],
      "source": [
        "pb.bar_groupby(y='order_avg_reviews_score', show_count=True, to_slide=True)"
      ]
    },
    {
      "cell_type": "markdown",
      "metadata": {},
      "source": [
        "**Key Observations:**  \n",
        "\n",
        "- 5-star reviews have highest sales/revenue  \n",
        "- 2-star reviews have lowest  \n",
        "- 1-star reviews exceed 2/3-star in volume/revenue  "
      ]
    },
    {
      "cell_type": "markdown",
      "metadata": {},
      "source": [
        "**By Payment Type**"
      ]
    },
    {
      "cell_type": "markdown",
      "metadata": {},
      "source": [
        "Since a single order can have multiple payments, we will measure transaction volume based on payment count."
      ]
    },
    {
      "cell_type": "code",
      "execution_count": null,
      "metadata": {},
      "outputs": [],
      "source": [
        "pb.bar_groupby(\n",
        "    y='order_payment_types'\n",
        "    , show_count=True\n",
        "    , to_slide=True\n",
        ")"
      ]
    },
    {
      "cell_type": "markdown",
      "metadata": {},
      "source": [
        "**Key Observations:**  \n",
        "\n",
        "- Credit card leads payment methods (volume/revenue)  \n",
        "- Boleto ranks second  "
      ]
    },
    {
      "cell_type": "markdown",
      "metadata": {},
      "source": [
        "**By Product Category**"
      ]
    },
    {
      "cell_type": "markdown",
      "metadata": {},
      "source": [
        "For the category product split, we cannot take the payment amount. We will calculate the sum based on the product price and freight value. \n",
        "\n",
        "The count will be determined by the number of items."
      ]
    },
    {
      "cell_type": "code",
      "execution_count": null,
      "metadata": {},
      "outputs": [],
      "source": [
        "pb.bar_groupby(\n",
        "    y='order_general_product_categories'\n",
        "    , show_count=True\n",
        "    , to_slide=True\n",
        ")"
      ]
    },
    {
      "cell_type": "markdown",
      "metadata": {},
      "source": [
        "**Key Observations:**  \n",
        "\n",
        "- Electronics leads categories (volume/revenue)  \n",
        "- Furniture ranks second  \n",
        "- Furniture has smaller price gap in quantity vs revenue  "
      ]
    },
    {
      "cell_type": "markdown",
      "metadata": {},
      "source": [
        "## Average Order Value"
      ]
    },
    {
      "cell_type": "code",
      "execution_count": null,
      "metadata": {},
      "outputs": [],
      "source": [
        "pb.configure(\n",
        "    df = df_sales\n",
        "    , metric = 'total_payment'\n",
        "    , metric_label = 'Average Order Value, R$'\n",
        "    , metric_label_for_distribution = 'Order Value, R$'\n",
        "    , agg_func = 'mean'\n",
        "    , title_base = 'Average Order Value and Number of Sales'\n",
        "    , axis_sort_order='descending'\n",
        "    , text_auto='.3s'\n",
        "    , update_fig={'xaxis2': {'title_text': 'Number of Sales'}}    \n",
        ")"
      ]
    },
    {
      "cell_type": "markdown",
      "metadata": {},
      "source": [
        "Top Orders"
      ]
    },
    {
      "cell_type": "code",
      "execution_count": null,
      "metadata": {},
      "outputs": [],
      "source": [
        "pb.metric_top()"
      ]
    },
    {
      "cell_type": "markdown",
      "metadata": {},
      "source": [
        "Let’s see at statistics and distribution of the metric."
      ]
    },
    {
      "cell_type": "code",
      "execution_count": null,
      "metadata": {},
      "outputs": [],
      "source": [
        "pb.metric_info(\n",
        "    labels=dict(total_payment='Order Value, R$')\n",
        "    , title='Distribution of Order Value'\n",
        "    , upper_quantile=0.95\n",
        "    , hist_mode='dual_hist_trim'\n",
        ")"
      ]
    },
    {
      "cell_type": "markdown",
      "metadata": {},
      "source": [
        "**Key Observations:**  \n",
        "\n",
        "- 75% of orders ≤177 R$  \n",
        "- 5% ≤33 R$  \n",
        "- 5% ≥445 R$  \n",
        "- Many outliers >1000 R$  "
      ]
    },
    {
      "cell_type": "markdown",
      "metadata": {},
      "source": [
        "Let’s look by different dimensions."
      ]
    },
    {
      "cell_type": "markdown",
      "metadata": {},
      "source": [
        "**By Season**"
      ]
    },
    {
      "cell_type": "markdown",
      "metadata": {},
      "source": [
        "Since 2018 has incomplete monthly data, it’s better to also analyze by year.."
      ]
    },
    {
      "cell_type": "code",
      "execution_count": null,
      "metadata": {},
      "outputs": [],
      "source": [
        "pb.bar_groupby(\n",
        "    x='purchase_season'\n",
        "    , color='purchase_year'\n",
        "    , title='Average Order Value by Season and Year'\n",
        ")"
      ]
    },
    {
      "cell_type": "markdown",
      "metadata": {},
      "source": [
        "**Key Observations:**  \n",
        "\n",
        "- Summer 2017 had higher order values  \n",
        "- Other seasons slightly higher in 2018  "
      ]
    },
    {
      "cell_type": "markdown",
      "metadata": {},
      "source": [
        "**By Day of the Week and Hour of the Day**"
      ]
    },
    {
      "cell_type": "code",
      "execution_count": null,
      "metadata": {},
      "outputs": [],
      "source": [
        "fig = pb.heatmap(\n",
        "    x='purchase_hour'\n",
        "    , y='purchase_weekday'\n",
        "    , text_auto='.1f'\n",
        "    , labels={'color': 'AOV, R$'}\n",
        "    , title='Average Order Value by Day of the Week and Hour of the Day'\n",
        ").update_layout(xaxis_dtick=1)\n",
        "pb.to_slide(fig)\n",
        "fig.show()"
      ]
    },
    {
      "cell_type": "markdown",
      "metadata": {},
      "source": [
        "**Key Observations:**  \n",
        "\n",
        "- Nighttime doesn't always have lowest average order value  \n",
        "- Some weekday nights show value peaks  "
      ]
    },
    {
      "cell_type": "markdown",
      "metadata": {},
      "source": [
        "**By Whether the Order is Delayed or Not**"
      ]
    },
    {
      "cell_type": "code",
      "execution_count": null,
      "metadata": {},
      "outputs": [],
      "source": [
        "pb.histogram(\n",
        "    color='is_delayed'\n",
        "    , upper_quantile=0.95\n",
        "    , mode='dual_box_trim'\n",
        "    , show_box=True\n",
        "    , show_hist=True\n",
        "    , show_kde=False\n",
        "    , nbins=30\n",
        ").show()\n",
        "pb.bar_groupby(\n",
        "    y='is_delayed'\n",
        "    , show_count=True\n",
        ").show()"
      ]
    },
    {
      "cell_type": "markdown",
      "metadata": {},
      "source": [
        "**Key Observations:**  \n",
        "\n",
        "- Non-delayed orders have lower average values  "
      ]
    },
    {
      "cell_type": "markdown",
      "metadata": {},
      "source": [
        "**By Order Weight Category**"
      ]
    },
    {
      "cell_type": "code",
      "execution_count": null,
      "metadata": {},
      "outputs": [],
      "source": [
        "pb.histogram(\n",
        "    color='order_total_weight_cat'\n",
        "    , upper_quantile=0.95\n",
        "    , mode='dual_box_trim'\n",
        "    , show_box=True\n",
        "    , show_hist=True\n",
        "    , show_kde=False\n",
        "    , nbins=30\n",
        ").show()\n",
        "pb.bar_groupby(\n",
        "    y='order_total_weight_cat'\n",
        "    , show_count=True\n",
        ").show()"
      ]
    },
    {
      "cell_type": "markdown",
      "metadata": {},
      "source": [
        "**Key Observations:**  \n",
        "\n",
        "- Heavier orders have higher average values  "
      ]
    },
    {
      "cell_type": "markdown",
      "metadata": {},
      "source": [
        "**By Presence of Installment Payments**"
      ]
    },
    {
      "cell_type": "code",
      "execution_count": null,
      "metadata": {},
      "outputs": [],
      "source": [
        "pb.histogram(\n",
        "    color='order_has_installment'\n",
        "    , upper_quantile=0.95\n",
        "    , mode='dual_box_trim'\n",
        "    , show_box=True\n",
        "    , show_hist=True\n",
        "    , show_kde=False\n",
        "    , nbins=30\n",
        ").show()\n",
        "pb.bar_groupby(\n",
        "    y='order_has_installment'\n",
        "    , show_count=True\n",
        "    , to_slide=True\n",
        ").show()"
      ]
    },
    {
      "cell_type": "markdown",
      "metadata": {},
      "source": [
        "**Key Observations:**  \n",
        "\n",
        "- Installment orders have much higher average values  "
      ]
    },
    {
      "cell_type": "markdown",
      "metadata": {},
      "source": [
        "**By Top Customer States**"
      ]
    },
    {
      "cell_type": "code",
      "execution_count": null,
      "metadata": {},
      "outputs": [],
      "source": [
        "pb.box(\n",
        "    y='customer_state'\n",
        "    , upper_quantile=0.95\n",
        "    , show_dual=True\n",
        ").show()\n",
        "pb.bar_groupby(\n",
        "    y='customer_state'\n",
        "    , show_count=True\n",
        "    , to_slide=True\n",
        ").show()"
      ]
    },
    {
      "cell_type": "markdown",
      "metadata": {},
      "source": [
        "**Key Observations:**  \n",
        "\n",
        "- São Paulo has most orders but lowest average value among top states  \n",
        "- Para has highest average order value  "
      ]
    },
    {
      "cell_type": "markdown",
      "metadata": {},
      "source": [
        "**By Top Customer Cities**"
      ]
    },
    {
      "cell_type": "code",
      "execution_count": null,
      "metadata": {},
      "outputs": [],
      "source": [
        "pb.box(\n",
        "    y='customer_city'\n",
        "    , upper_quantile=0.95\n",
        "    , show_dual=True\n",
        ").show()\n",
        "pb.bar_groupby(\n",
        "    y='customer_city'\n",
        "    , show_count=True\n",
        "    , to_slide=True\n",
        ").show()"
      ]
    },
    {
      "cell_type": "markdown",
      "metadata": {},
      "source": [
        "**Key Observations:**  \n",
        "\n",
        "- Rio de Janeiro combines high volume with high average value  \n",
        "- Salvador has highest average order value among top cities  "
      ]
    },
    {
      "cell_type": "markdown",
      "metadata": {},
      "source": [
        "**By Review Score**"
      ]
    },
    {
      "cell_type": "code",
      "execution_count": null,
      "metadata": {},
      "outputs": [],
      "source": [
        "pb.histogram(\n",
        "    color='order_avg_reviews_score'\n",
        "    , upper_quantile=0.95\n",
        "    , mode='dual_box_trim'\n",
        "    , show_box=True\n",
        "    , show_hist=False\n",
        "    , show_kde=True\n",
        "    , nbins=30\n",
        ").show()\n",
        "pb.bar_groupby(\n",
        "    y='order_avg_reviews_score'\n",
        "    , show_count=True\n",
        "    , to_slide=True\n",
        ").show()"
      ]
    },
    {
      "cell_type": "markdown",
      "metadata": {},
      "source": [
        "**Key Observations:**  \n",
        "\n",
        "- 1-star reviews have highest order values  \n",
        "- 2-star reviews rank second  \n",
        "- Expensive orders receive more low ratings  "
      ]
    },
    {
      "cell_type": "markdown",
      "metadata": {},
      "source": [
        "## Reviews Score"
      ]
    },
    {
      "cell_type": "code",
      "execution_count": null,
      "metadata": {},
      "outputs": [],
      "source": [
        "pb.configure(\n",
        "    df = df_sales\n",
        "    , metric = 'order_avg_reviews_score'\n",
        "    , metric_label = 'Average Order Reviews Score'\n",
        "    , metric_label_for_distribution = 'Order Reviews Score'\n",
        "    , agg_func = 'mean'\n",
        "    , title_base = 'Average Order Reviews Score and Number of Sales'\n",
        "    , axis_sort_order='descending'\n",
        "    , text_auto='.3s'\n",
        "    , update_fig={'xaxis2': {'title_text': 'Number of Sales'}}        \n",
        ")"
      ]
    },
    {
      "cell_type": "markdown",
      "metadata": {},
      "source": [
        "Let’s see at statistics and distribution of the metric."
      ]
    },
    {
      "cell_type": "code",
      "execution_count": null,
      "metadata": {},
      "outputs": [],
      "source": [
        "pb.metric_info(\n",
        "    labels=dict(order_avg_reviews_score='Order Reviews Score')\n",
        "    , title='Distribution of Order Reviews Score'\n",
        "    , xaxis_type='category'\n",
        ")"
      ]
    },
    {
      "cell_type": "markdown",
      "metadata": {},
      "source": [
        "**Key Observations:**  \n",
        "\n",
        "- 59% of orders have 5-star reviews  "
      ]
    },
    {
      "cell_type": "markdown",
      "metadata": {},
      "source": [
        "Let’s look by different dimensions."
      ]
    },
    {
      "cell_type": "markdown",
      "metadata": {},
      "source": [
        "**By Season**"
      ]
    },
    {
      "cell_type": "code",
      "execution_count": null,
      "metadata": {},
      "outputs": [],
      "source": [
        "pb.bar_groupby(\n",
        "    x='purchase_season'\n",
        "    , color='purchase_year'\n",
        "    , title='Average Order Reviews Score by Season and Year'\n",
        ")"
      ]
    },
    {
      "cell_type": "markdown",
      "metadata": {},
      "source": [
        "**Key Observations:**  \n",
        "\n",
        "- Winter 2018 had slightly higher ratings  \n",
        "- Other seasons slightly higher in 2017 "
      ]
    },
    {
      "cell_type": "markdown",
      "metadata": {},
      "source": [
        "**By Day of the Week and Hour of the Day**"
      ]
    },
    {
      "cell_type": "code",
      "execution_count": null,
      "metadata": {},
      "outputs": [],
      "source": [
        "pb.heatmap(\n",
        "    x='purchase_hour'\n",
        "    , y='purchase_weekday'\n",
        "    , text_auto='.1f'\n",
        "    , title='Average Order Reviews Score by Day of the Week and Hour of the Day'\n",
        "    , labels=dict(color = 'Score')\n",
        ").update_layout(xaxis_dtick=1)"
      ]
    },
    {
      "cell_type": "markdown",
      "metadata": {},
      "source": [
        "**Key Observations:**  \n",
        "\n",
        "- Nighttime shows rating extremes (especially Thursdays)  "
      ]
    },
    {
      "cell_type": "markdown",
      "metadata": {},
      "source": [
        "**By Delivery Delay Status**"
      ]
    },
    {
      "cell_type": "code",
      "execution_count": null,
      "metadata": {},
      "outputs": [],
      "source": [
        "pb.cat_compare(\n",
        "    cat2='is_delayed'\n",
        "    , visible_graphs=[2]\n",
        ")\n",
        "pb.bar_groupby(\n",
        "    y='is_delayed'\n",
        "    , show_count=True\n",
        "    , to_slide=True\n",
        ").show()"
      ]
    },
    {
      "cell_type": "markdown",
      "metadata": {},
      "source": [
        "**Key Observations:**  \n",
        "\n",
        "- Non-delayed orders have significantly higher ratings  \n",
        "- Higher 5-star share for on-time deliveries  \n",
        "- \"Unknown\" delivery status orders mostly get 1-star  "
      ]
    },
    {
      "cell_type": "markdown",
      "metadata": {},
      "source": [
        "**By Delivery Time Category**"
      ]
    },
    {
      "cell_type": "code",
      "execution_count": null,
      "metadata": {},
      "outputs": [],
      "source": [
        "pb.cat_compare(\n",
        "    cat2='delivery_time_days_cat'\n",
        "    , visible_graphs=[2]\n",
        ")\n",
        "pb.bar_groupby(\n",
        "    y='delivery_time_days_cat'\n",
        "    , show_count=True\n",
        ").show()"
      ]
    },
    {
      "cell_type": "markdown",
      "metadata": {},
      "source": [
        "**Key Observations:**  \n",
        "\n",
        "- Faster deliveries get better ratings  "
      ]
    },
    {
      "cell_type": "markdown",
      "metadata": {},
      "source": [
        "**By Customer State**"
      ]
    },
    {
      "cell_type": "code",
      "execution_count": null,
      "metadata": {},
      "outputs": [],
      "source": [
        "pb.cat_compare(\n",
        "    cat2='customer_state'\n",
        "    , visible_graphs=[2]\n",
        "    , trim_top_n_cat2=7\n",
        ")\n",
        "fig = pb.bar_groupby(\n",
        "    y='customer_state'\n",
        "    , show_count=True\n",
        ").update_layout(xaxis_domain=[0, 0.4], xaxis2_domain=[0.6, 1])\n",
        "pb.to_slide(fig)\n",
        "fig.show()"
      ]
    },
    {
      "cell_type": "markdown",
      "metadata": {},
      "source": [
        "**Key Observations:**  \n",
        "\n",
        "- Maranhão has lowest average rating among top states  \n",
        "- Rio de Janeiro and Bahia have highest 1-star share "
      ]
    },
    {
      "cell_type": "markdown",
      "metadata": {},
      "source": [
        "**By Customer City**"
      ]
    },
    {
      "cell_type": "code",
      "execution_count": null,
      "metadata": {},
      "outputs": [],
      "source": [
        "pb.cat_compare(\n",
        "    cat2='customer_city'\n",
        "    , visible_graphs=[2]\n",
        "    , trim_top_n_cat2=7\n",
        ")\n",
        "pb.bar_groupby(\n",
        "    y='customer_city'\n",
        "    , show_count=True\n",
        ").update_layout(xaxis_domain=[0, 0.4], xaxis2_domain=[0.6, 1]).show()"
      ]
    },
    {
      "cell_type": "markdown",
      "metadata": {},
      "source": [
        "**Key Observations:**  \n",
        "\n",
        "- Rio de Janeiro and Porto Alegre have notable 1-star concentrations  \n"
      ]
    },
    {
      "cell_type": "markdown",
      "metadata": {},
      "source": [
        "## Order Weight"
      ]
    },
    {
      "cell_type": "code",
      "execution_count": null,
      "metadata": {},
      "outputs": [],
      "source": [
        "pb.configure(\n",
        "    df = df_sales\n",
        "    , metric = 'total_weight_kg'\n",
        "    , metric_label = 'Average Weight of Order, kg'\n",
        "    , metric_label_for_distribution = 'Weight of Order, kg'\n",
        "    , title_base = 'Average Weight of Order and Number of Sales'\n",
        "    , agg_func = 'mean'\n",
        "    , axis_sort_order='descending'\n",
        "    , text_auto='.3s'\n",
        "    , update_fig={'xaxis2': {'title_text': 'Number of Sales'}}        \n",
        ")"
      ]
    },
    {
      "cell_type": "markdown",
      "metadata": {},
      "source": [
        "Top Orders"
      ]
    },
    {
      "cell_type": "code",
      "execution_count": null,
      "metadata": {},
      "outputs": [],
      "source": [
        "pb.metric_top()"
      ]
    },
    {
      "cell_type": "markdown",
      "metadata": {},
      "source": [
        "Let’s see at statistics and distribution of the metric."
      ]
    },
    {
      "cell_type": "code",
      "execution_count": null,
      "metadata": {},
      "outputs": [],
      "source": [
        "pb.metric_info(\n",
        "    labels=dict(total_weight_kg='Weight of Order, kg')\n",
        "    , title='Distribution of Weight of Order'\n",
        "    , upper_quantile=0.99\n",
        "    , hist_mode='dual_hist_trim'\n",
        ")"
      ]
    },
    {
      "cell_type": "markdown",
      "metadata": {},
      "source": [
        "**Key Observations:**  \n",
        "\n",
        "- 75% of orders ≤2kg  \n",
        "- 5% ≤150g  \n",
        "- 5% ≥10kg  "
      ]
    },
    {
      "cell_type": "markdown",
      "metadata": {},
      "source": [
        "Let’s look by different dimensions."
      ]
    },
    {
      "cell_type": "markdown",
      "metadata": {},
      "source": [
        "**By Season**"
      ]
    },
    {
      "cell_type": "markdown",
      "metadata": {},
      "source": [
        "Since 2018 has incomplete monthly data, it’s better to also analyze by year.."
      ]
    },
    {
      "cell_type": "code",
      "execution_count": null,
      "metadata": {},
      "outputs": [],
      "source": [
        "pb.bar_groupby(\n",
        "    x='purchase_season'\n",
        "    , color='purchase_year'\n",
        "    , title='Average Weight of Order by Season and Year'\n",
        ")"
      ]
    },
    {
      "cell_type": "markdown",
      "metadata": {},
      "source": [
        "**Key Observations:**  \n",
        "\n",
        "- 2017 had heavier orders across all seasons  "
      ]
    },
    {
      "cell_type": "markdown",
      "metadata": {},
      "source": [
        "**By Time of Day**"
      ]
    },
    {
      "cell_type": "code",
      "execution_count": null,
      "metadata": {},
      "outputs": [],
      "source": [
        "pb.histogram(\n",
        "    color='purchase_time_of_day'\n",
        "    , upper_quantile=0.95\n",
        "    , mode='dual_box_trim'\n",
        "    , show_box=True\n",
        "    , show_hist=False\n",
        "    , show_kde=True\n",
        ").show()\n",
        "pb.bar_groupby(\n",
        "    y='purchase_time_of_day'\n",
        "    , show_count=True\n",
        ").show()"
      ]
    },
    {
      "cell_type": "markdown",
      "metadata": {},
      "source": [
        "**Key Observations:**  \n",
        "\n",
        "- Afternoons have heaviest orders  \n",
        "- Nights have lightest  "
      ]
    },
    {
      "cell_type": "markdown",
      "metadata": {},
      "source": [
        "**By Whether the Order is Delayed or Not**"
      ]
    },
    {
      "cell_type": "code",
      "execution_count": null,
      "metadata": {},
      "outputs": [],
      "source": [
        "pb.histogram(\n",
        "    color='is_delayed'\n",
        "    , upper_quantile=0.95\n",
        "    , mode='dual_box_trim'\n",
        "    , show_box=True\n",
        "    , show_hist=False\n",
        "    , show_kde=True\n",
        ").show()\n",
        "pb.bar_groupby(\n",
        "    y='is_delayed'\n",
        "    , show_count=True\n",
        "    , to_slide=True\n",
        ").show()"
      ]
    },
    {
      "cell_type": "markdown",
      "metadata": {},
      "source": [
        "**Key Observations:**  \n",
        "\n",
        "- Delayed orders are heavier  "
      ]
    },
    {
      "cell_type": "markdown",
      "metadata": {},
      "source": [
        "**By Presence of Installment Payments**"
      ]
    },
    {
      "cell_type": "code",
      "execution_count": null,
      "metadata": {},
      "outputs": [],
      "source": [
        "pb.histogram(\n",
        "    color='order_has_installment'\n",
        "    , upper_quantile=0.95\n",
        "    , mode='dual_box_trim'\n",
        "    , show_box=True\n",
        "    , show_hist=False\n",
        "    , show_kde=True\n",
        ").show()\n",
        "pb.bar_groupby(\n",
        "    y='order_has_installment'\n",
        "    , show_count=True\n",
        "    , to_slide=True\n",
        ")"
      ]
    },
    {
      "cell_type": "markdown",
      "metadata": {},
      "source": [
        "**Key Observations:**  \n",
        "\n",
        "- Installment orders are heavier  "
      ]
    },
    {
      "cell_type": "markdown",
      "metadata": {},
      "source": [
        "**By Top Customer States**"
      ]
    },
    {
      "cell_type": "code",
      "execution_count": null,
      "metadata": {},
      "outputs": [],
      "source": [
        "pb.box(\n",
        "    y='customer_state'\n",
        "    , upper_quantile=0.95\n",
        "    , show_dual=True\n",
        ").show()\n",
        "pb.bar_groupby(\n",
        "    y='customer_state'\n",
        "    , show_count=True\n",
        "    , to_slide=True\n",
        ").show()"
      ]
    },
    {
      "cell_type": "markdown",
      "metadata": {},
      "source": [
        "**Key Observations:**  \n",
        "\n",
        "- Mato Grosso has heaviest average orders among top states  "
      ]
    },
    {
      "cell_type": "markdown",
      "metadata": {},
      "source": [
        "**By Top Customer Cities**"
      ]
    },
    {
      "cell_type": "code",
      "execution_count": null,
      "metadata": {},
      "outputs": [],
      "source": [
        "pb.box(\n",
        "    y='customer_city'\n",
        "    , upper_quantile=0.95\n",
        "    , show_dual=True\n",
        ").show()\n",
        "pb.bar_groupby(\n",
        "    y='customer_city'\n",
        "    , show_count=True\n",
        "    , to_slide=True\n",
        ")"
      ]
    },
    {
      "cell_type": "markdown",
      "metadata": {},
      "source": [
        "**Key Observations:**  \n",
        "\n",
        "- Santos and Rio de Janeiro have heaviest average orders  "
      ]
    },
    {
      "cell_type": "markdown",
      "metadata": {},
      "source": [
        "**By Review Score**"
      ]
    },
    {
      "cell_type": "code",
      "execution_count": null,
      "metadata": {},
      "outputs": [],
      "source": [
        "pb.bar_groupby(y='order_avg_reviews_score', show_count=True, to_slide=True)"
      ]
    },
    {
      "cell_type": "markdown",
      "metadata": {},
      "source": [
        "**Key Observations:**  \n",
        "\n",
        "- 1-star reviews have significantly heavier orders  \n",
        "- 2-star reviews rank second  \n",
        "- Heavy orders receive lower ratings  "
      ]
    },
    {
      "cell_type": "markdown",
      "metadata": {},
      "source": [
        "## Number of Products per Order"
      ]
    },
    {
      "cell_type": "code",
      "execution_count": null,
      "metadata": {},
      "outputs": [],
      "source": [
        "pb.configure(\n",
        "    df = df_sales\n",
        "    , metric = 'products_cnt'\n",
        "    , metric_label = 'Average Number of Products in Order'\n",
        "    , metric_label_for_distribution = 'Number of Products in Order'\n",
        "    , title_base = 'Number of Products in Order and Number of Sales'\n",
        "    , agg_func = 'mean'\n",
        "    , axis_sort_order='descending'\n",
        "    , text_auto='.3s'\n",
        "    , update_fig={'xaxis2': {'title_text': 'Number of Sales'}}          \n",
        ")"
      ]
    },
    {
      "cell_type": "markdown",
      "metadata": {},
      "source": [
        "Top Orders"
      ]
    },
    {
      "cell_type": "code",
      "execution_count": null,
      "metadata": {},
      "outputs": [],
      "source": [
        "pb.metric_top()"
      ]
    },
    {
      "cell_type": "markdown",
      "metadata": {},
      "source": [
        "Let’s see at statistics and distribution of the metric."
      ]
    },
    {
      "cell_type": "code",
      "execution_count": null,
      "metadata": {},
      "outputs": [],
      "source": [
        "pb.metric_info(\n",
        "    labels=dict(products_cnt='Number of Products in Order')\n",
        "    , title='Distribution of Number of Products in Order'\n",
        ")"
      ]
    },
    {
      "cell_type": "markdown",
      "metadata": {},
      "source": [
        "**Key Observations:**  \n",
        "\n",
        "- 90% of orders contain single product  \n",
        "- Two anomalies had 20-21 products  "
      ]
    },
    {
      "cell_type": "markdown",
      "metadata": {},
      "source": [
        "Let’s look by different dimensions."
      ]
    },
    {
      "cell_type": "markdown",
      "metadata": {},
      "source": [
        "**By Whether the Order is Delayed or Not**"
      ]
    },
    {
      "cell_type": "code",
      "execution_count": null,
      "metadata": {},
      "outputs": [],
      "source": [
        "pb.bar_groupby(\n",
        "    y='is_delayed'\n",
        "    , show_count=True\n",
        ").show()"
      ]
    },
    {
      "cell_type": "markdown",
      "metadata": {},
      "source": [
        "**Key Observations:**  \n",
        "\n",
        "- Non-delayed orders have slightly more products  "
      ]
    },
    {
      "cell_type": "markdown",
      "metadata": {},
      "source": [
        "**By Review Score**"
      ]
    },
    {
      "cell_type": "code",
      "execution_count": null,
      "metadata": {},
      "outputs": [],
      "source": [
        "pb.bar_groupby(y='order_avg_reviews_score', show_count=True, to_slide=True)"
      ]
    },
    {
      "cell_type": "markdown",
      "metadata": {},
      "source": [
        "**Key Observations:**  \n",
        "\n",
        "- 1/2-star reviews have more products per order  "
      ]
    },
    {
      "cell_type": "markdown",
      "metadata": {},
      "source": [
        "## Product Price per Order"
      ]
    },
    {
      "cell_type": "code",
      "execution_count": null,
      "metadata": {},
      "outputs": [],
      "source": [
        "pb.configure(\n",
        "    df = df_sales\n",
        "    , metric = 'avg_products_price'\n",
        "    , metric_label = 'Average Product Price in Order, R$'\n",
        "    , metric_label_for_distribution = 'Product Price in Order, R$'\n",
        "    , agg_func = 'mean'\n",
        "    , title_base = 'Average Product Price in Order and Number of Sales'\n",
        "    , axis_sort_order='descending'\n",
        "    , text_auto='.3s'\n",
        "    , update_fig={'xaxis2': {'title_text': 'Number of Sales'}}         \n",
        ")"
      ]
    },
    {
      "cell_type": "markdown",
      "metadata": {},
      "source": [
        "Top Orders"
      ]
    },
    {
      "cell_type": "code",
      "execution_count": null,
      "metadata": {},
      "outputs": [],
      "source": [
        "pb.metric_top()"
      ]
    },
    {
      "cell_type": "markdown",
      "metadata": {},
      "source": [
        "Let’s see at statistics and distribution of the metric."
      ]
    },
    {
      "cell_type": "code",
      "execution_count": null,
      "metadata": {},
      "outputs": [],
      "source": [
        "pb.metric_info(\n",
        "    labels=dict(avg_products_price='Average Product Price in Order, R$')\n",
        "    , title='Distribution of Average Product Price in Order'\n",
        "    , upper_quantile=0.99\n",
        "    , hist_mode='dual_hist_trim'\n",
        ")"
      ]
    },
    {
      "cell_type": "markdown",
      "metadata": {},
      "source": [
        "**Key Observations:**  \n",
        "\n",
        "- 75% of orders have average product price ≤140 R$  \n",
        "- 5% have ≥363 R$  "
      ]
    },
    {
      "cell_type": "markdown",
      "metadata": {},
      "source": [
        "Let’s look by different dimensions."
      ]
    },
    {
      "cell_type": "markdown",
      "metadata": {},
      "source": [
        "**By Season**"
      ]
    },
    {
      "cell_type": "markdown",
      "metadata": {},
      "source": [
        "Since 2018 has incomplete monthly data, it’s better to also analyze by year.."
      ]
    },
    {
      "cell_type": "code",
      "execution_count": null,
      "metadata": {},
      "outputs": [],
      "source": [
        "pb.bar_groupby(\n",
        "    x='purchase_season'\n",
        "    , color='purchase_year'\n",
        "    , title='Average Product Price in Order by Season and Year'\n",
        ")"
      ]
    },
    {
      "cell_type": "markdown",
      "metadata": {},
      "source": [
        "**Key Observations:**  \n",
        "\n",
        "- Summer/fall 2017 had higher product prices  \n",
        "- Winter 2018 was higher  "
      ]
    },
    {
      "cell_type": "markdown",
      "metadata": {},
      "source": [
        "**By Time of Day**"
      ]
    },
    {
      "cell_type": "code",
      "execution_count": null,
      "metadata": {},
      "outputs": [],
      "source": [
        "pb.histogram(\n",
        "    color='purchase_time_of_day'\n",
        "    , upper_quantile=0.95\n",
        "    , mode='dual_box_trim'\n",
        "    , show_box=True\n",
        "    , show_hist=False\n",
        "    , show_kde=True\n",
        ").show()\n",
        "pb.bar_groupby(\n",
        "    y='purchase_time_of_day'\n",
        "    , show_count=True\n",
        ").show()"
      ]
    },
    {
      "cell_type": "markdown",
      "metadata": {},
      "source": [
        "**Key Observations:**  \n",
        "\n",
        "- Nighttime has lower product prices  "
      ]
    },
    {
      "cell_type": "markdown",
      "metadata": {},
      "source": [
        "**By Whether the Order is Delayed or Not**"
      ]
    },
    {
      "cell_type": "code",
      "execution_count": null,
      "metadata": {},
      "outputs": [],
      "source": [
        "pb.histogram(\n",
        "    color='is_delayed'\n",
        "    , upper_quantile=0.95\n",
        "    , mode='dual_box_trim'\n",
        "    , show_box=True\n",
        "    , show_hist=False\n",
        "    , show_kde=True\n",
        ").show()\n",
        "pb.bar_groupby(\n",
        "    y='is_delayed'\n",
        "    , show_count=True\n",
        ").show()"
      ]
    },
    {
      "cell_type": "markdown",
      "metadata": {},
      "source": [
        "**Key Observations:**  \n",
        "\n",
        "- Delayed orders have higher product prices  "
      ]
    },
    {
      "cell_type": "markdown",
      "metadata": {},
      "source": [
        "**By Presence of Installment Payments**"
      ]
    },
    {
      "cell_type": "code",
      "execution_count": null,
      "metadata": {},
      "outputs": [],
      "source": [
        "pb.histogram(\n",
        "    color='order_has_installment'\n",
        "    , upper_quantile=0.95\n",
        "    , mode='dual_box_trim'\n",
        "    , show_box=True\n",
        "    , show_hist=False\n",
        "    , show_kde=True\n",
        ").show()\n",
        "pb.bar_groupby(\n",
        "    y='order_has_installment'\n",
        "    , show_count=True\n",
        "    , to_slide=True\n",
        ").show()"
      ]
    },
    {
      "cell_type": "markdown",
      "metadata": {},
      "source": [
        "**Key Observations:**  \n",
        "\n",
        "- Installment orders have significantly higher product prices  "
      ]
    },
    {
      "cell_type": "markdown",
      "metadata": {},
      "source": [
        "**By Top Customer States**"
      ]
    },
    {
      "cell_type": "code",
      "execution_count": null,
      "metadata": {},
      "outputs": [],
      "source": [
        "pb.box(\n",
        "    y='customer_state'\n",
        "    , upper_quantile=0.95\n",
        "    , show_dual=True\n",
        ").show()\n",
        "pb.bar_groupby(\n",
        "    y='customer_state'\n",
        "    , show_count=True\n",
        ").show()"
      ]
    },
    {
      "cell_type": "markdown",
      "metadata": {},
      "source": [
        "**Key Observations:**  \n",
        "\n",
        "- Para has highest average product price among top states  \n",
        "- São Paulo has lowest  "
      ]
    },
    {
      "cell_type": "markdown",
      "metadata": {},
      "source": [
        "**By Top Customer Cities**"
      ]
    },
    {
      "cell_type": "code",
      "execution_count": null,
      "metadata": {},
      "outputs": [],
      "source": [
        "pb.box(\n",
        "    y='customer_city'\n",
        "    , upper_quantile=0.95\n",
        "    , show_dual=True\n",
        ").show()\n",
        "pb.bar_groupby(\n",
        "    y='customer_city'\n",
        "    , show_count=True\n",
        ").show()"
      ]
    },
    {
      "cell_type": "markdown",
      "metadata": {},
      "source": [
        "**Key Observations:**  \n",
        "\n",
        "- Brasília, Rio de Janeiro and Salvador have highest product prices among top cities.  "
      ]
    },
    {
      "cell_type": "markdown",
      "metadata": {},
      "source": [
        "## Number of Sellers per Order"
      ]
    },
    {
      "cell_type": "code",
      "execution_count": null,
      "metadata": {},
      "outputs": [],
      "source": [
        "pb.configure(\n",
        "    df = df_sales\n",
        "    , metric = 'sellers_cnt'\n",
        "    , metric_label = 'Average Number of Sellers in Order'\n",
        "    , agg_func = 'mean'\n",
        "    , axis_sort_order='descending'\n",
        ")"
      ]
    },
    {
      "cell_type": "markdown",
      "metadata": {},
      "source": [
        "Top Orders"
      ]
    },
    {
      "cell_type": "code",
      "execution_count": null,
      "metadata": {},
      "outputs": [],
      "source": [
        "pb.metric_top()"
      ]
    },
    {
      "cell_type": "markdown",
      "metadata": {},
      "source": [
        "Let’s see at statistics and distribution of the metric."
      ]
    },
    {
      "cell_type": "code",
      "execution_count": null,
      "metadata": {},
      "outputs": [],
      "source": [
        "pb.metric_info(\n",
        "    labels=dict(sellers_cnt='Number of Sellers in Order')\n",
        "    , title='Distribution of Number of Sellers in Order'\n",
        "    , xaxis_type='category'\n",
        ")"
      ]
    },
    {
      "cell_type": "markdown",
      "metadata": {},
      "source": [
        "**Key Observations:**  \n",
        "\n",
        "- 99% of orders have single seller  "
      ]
    },
    {
      "cell_type": "markdown",
      "metadata": {},
      "source": [
        "## Number of Categories per Order"
      ]
    },
    {
      "cell_type": "code",
      "execution_count": null,
      "metadata": {},
      "outputs": [],
      "source": [
        "pb.configure(\n",
        "    df = df_sales\n",
        "    , metric = 'product_categories_cnt'\n",
        "    , metric_label = 'Average Number of Categories in Order'\n",
        "    , agg_func = 'mean'\n",
        "    , axis_sort_order='descending'\n",
        ")"
      ]
    },
    {
      "cell_type": "markdown",
      "metadata": {},
      "source": [
        "Top Orders"
      ]
    },
    {
      "cell_type": "code",
      "execution_count": null,
      "metadata": {},
      "outputs": [],
      "source": [
        "pb.metric_top()"
      ]
    },
    {
      "cell_type": "markdown",
      "metadata": {},
      "source": [
        "Let’s see at statistics and distribution of the metric."
      ]
    },
    {
      "cell_type": "code",
      "execution_count": null,
      "metadata": {},
      "outputs": [],
      "source": [
        "pb.metric_info(\n",
        "    labels=dict(product_categories_cnt='Number of Categories in Order')\n",
        "    , title='Distribution of Number of Categories in Order'\n",
        "    , xaxis_type='category'\n",
        ")"
      ]
    },
    {
      "cell_type": "markdown",
      "metadata": {},
      "source": [
        "**Key Observations:**  \n",
        "\n",
        "- 99% of orders have single category  "
      ]
    },
    {
      "cell_type": "code",
      "execution_count": null,
      "metadata": {
        "tags": [
          "remove-cell"
        ]
      },
      "source": [
        "%run ../../_post_run.ipynb"
      ],
      "outputs": []
    }
  ]
}