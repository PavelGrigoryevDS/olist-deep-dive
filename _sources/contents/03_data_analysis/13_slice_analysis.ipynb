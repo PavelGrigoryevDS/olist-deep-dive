{
  "metadata": {},
  "nbformat": 4,
  "nbformat_minor": 4,
  "cells": [
    {
      "cell_type": "code",
      "execution_count": null,
      "metadata": {
        "tags": [
          "remove-cell"
        ]
      },
      "source": [
        "%run ../../_pre_run.ipynb"
      ],
      "outputs": []
    },
    {
      "cell_type": "markdown",
      "metadata": {},
      "source": [
        "# Slice Analysis"
      ]
    },
    {
      "cell_type": "markdown",
      "metadata": {},
      "source": [
        "## Black Friday"
      ]
    },
    {
      "cell_type": "markdown",
      "metadata": {},
      "source": [
        "Let's examine Black Friday, specifically November 24, 2017. \n",
        "\n",
        "We will consider November 23-25 to account for one day before and one day after.\n"
      ]
    },
    {
      "cell_type": "code",
      "execution_count": null,
      "metadata": {},
      "outputs": [],
      "source": [
        "mask = df_orders.order_purchase_dt.between('2017-11-23', '2017-11-26')\n",
        "df_black_orders = df_orders[mask]\n",
        "mask = df_sales.order_purchase_dt.between('2017-11-23', '2017-11-26')\n",
        "df_black_sales = df_sales[mask]"
      ]
    },
    {
      "cell_type": "markdown",
      "metadata": {},
      "source": [
        "### Number of Sales"
      ]
    },
    {
      "cell_type": "markdown",
      "metadata": {},
      "source": [
        "**By Hour**"
      ]
    },
    {
      "cell_type": "code",
      "execution_count": null,
      "metadata": {},
      "outputs": [],
      "source": [
        "pb.configure(\n",
        "    df = df_black_sales\n",
        "    , time_column = 'order_purchase_dt'\n",
        "    , time_column_label = 'Date'\n",
        "    , metric = 'order_id'\n",
        "    , metric_label = 'Number of Sales'\n",
        "    , agg_func = 'nunique'\n",
        "    , freq = 'h'\n",
        ")\n",
        "pb.line_resample()"
      ]
    },
    {
      "cell_type": "markdown",
      "metadata": {},
      "source": [
        "**Key Observations:**  \n",
        "\n",
        "- Sales grew from 5AM-10AM (first peak)  \n",
        "- Second peak at 1PM  \n",
        "- Decline until 6PM  \n",
        "- Evening growth until 10PM peak  \n",
        "- Anomalous spike at midnight Nov 24 (Black Friday start)  "
      ]
    },
    {
      "cell_type": "code",
      "execution_count": null,
      "metadata": {},
      "outputs": [],
      "source": [
        "pb.configure(\n",
        "    df = df_black_sales\n",
        "    , time_column = 'order_purchase_dt'\n",
        "    , time_column_label = 'Date'\n",
        "    , metric = 'order_id'\n",
        "    , metric_label = 'Share of Sales'\n",
        "    , agg_func = 'nunique'\n",
        "    , freq = 'h'\n",
        "    , norm_by='all'\n",
        "    , axis_sort_order='descending'    \n",
        "    , text_auto='.1%'\n",
        "    , update_fig={'xaxis': {'tickformat': '.0%'}}\n",
        ")"
      ]
    },
    {
      "cell_type": "markdown",
      "metadata": {},
      "source": [
        "**By Payment Category**"
      ]
    },
    {
      "cell_type": "code",
      "execution_count": null,
      "metadata": {},
      "outputs": [],
      "source": [
        "pb.bar_groupby(y='order_total_payment_cat', to_slide='_black_friday')"
      ]
    },
    {
      "cell_type": "markdown",
      "metadata": {},
      "source": [
        "**Key Observations:**  \n",
        "\n",
        "- 64% of orders are medium-priced  "
      ]
    },
    {
      "cell_type": "markdown",
      "metadata": {},
      "source": [
        "**By Order Weight Category**"
      ]
    },
    {
      "cell_type": "code",
      "execution_count": null,
      "metadata": {},
      "outputs": [],
      "source": [
        "pb.bar_groupby(y='order_total_weight_cat', to_slide='_black_friday')"
      ]
    },
    {
      "cell_type": "markdown",
      "metadata": {},
      "source": [
        "**Key Observations:**  \n",
        "\n",
        "- 52% medium weight, 36% light  "
      ]
    },
    {
      "cell_type": "markdown",
      "metadata": {},
      "source": [
        "**By Delivery Time Category**"
      ]
    },
    {
      "cell_type": "code",
      "execution_count": null,
      "metadata": {},
      "outputs": [],
      "source": [
        "pb.bar_groupby(y='delivery_time_days_cat', to_slide='_black_friday')"
      ]
    },
    {
      "cell_type": "markdown",
      "metadata": {},
      "source": [
        "**Key Observations:**  \n",
        "\n",
        "- Delivery time categories:  \n",
        "  - Long: 49%  \n",
        "  - Medium: 46%  \n",
        "  - Fast: 6%  \n",
        "- Black Friday increased delivery times  "
      ]
    },
    {
      "cell_type": "markdown",
      "metadata": {},
      "source": [
        "**By Presence of Installment Payments**"
      ]
    },
    {
      "cell_type": "code",
      "execution_count": null,
      "metadata": {},
      "outputs": [],
      "source": [
        "pb.bar_groupby(y='order_has_installment', to_slide='_black_friday')"
      ]
    },
    {
      "cell_type": "markdown",
      "metadata": {},
      "source": [
        "**Key Observations:**  \n",
        "\n",
        "- 58% of orders used installments  "
      ]
    },
    {
      "cell_type": "markdown",
      "metadata": {},
      "source": [
        "**By Payment Type**"
      ]
    },
    {
      "cell_type": "code",
      "execution_count": null,
      "metadata": {},
      "outputs": [],
      "source": [
        "pb.bar_groupby(y='order_payment_types', to_slide='_black_friday')"
      ]
    },
    {
      "cell_type": "markdown",
      "metadata": {},
      "source": [
        "**Key Observations:**  \n",
        "\n",
        "- Payment methods:  \n",
        "  - Credit card: 79%  \n",
        "  - Boleto: 18%  "
      ]
    },
    {
      "cell_type": "markdown",
      "metadata": {},
      "source": [
        "**By Product Category**"
      ]
    },
    {
      "cell_type": "code",
      "execution_count": null,
      "metadata": {},
      "outputs": [],
      "source": [
        "pb.bar_groupby(\n",
        "    y='order_product_categories'\n",
        "    , to_slide='_black_friday'\n",
        ")"
      ]
    },
    {
      "cell_type": "markdown",
      "metadata": {},
      "source": [
        "**Key Observations:**  \n",
        "\n",
        "- The majority of orders consisted of products from the Bed Bath Table category (13%)."
      ]
    },
    {
      "cell_type": "markdown",
      "metadata": {},
      "source": [
        "**By Generalized Product Category**"
      ]
    },
    {
      "cell_type": "code",
      "execution_count": null,
      "metadata": {},
      "outputs": [],
      "source": [
        "pb.bar_groupby(y='order_general_product_categories', to_slide='_black_friday')"
      ]
    },
    {
      "cell_type": "markdown",
      "metadata": {},
      "source": [
        "**Key Observations:**  \n",
        "\n",
        "- Top generalized categories:  \n",
        "  - Bed Bath Table: 25%  \n",
        "  - Furniture: 23%  "
      ]
    },
    {
      "cell_type": "markdown",
      "metadata": {},
      "source": [
        "**By Review Score**"
      ]
    },
    {
      "cell_type": "code",
      "execution_count": null,
      "metadata": {},
      "outputs": [],
      "source": [
        "pb.bar_groupby(y='order_avg_reviews_score', to_slide='_black_friday')"
      ]
    },
    {
      "cell_type": "markdown",
      "metadata": {},
      "source": [
        "**Key Observations:**  \n",
        "\n",
        "- Review scores:  \n",
        "  - 5 stars: 49%  \n",
        "  - 1 star: 17.5%  \n",
        "  - 3 stars: 10.7%  \n",
        "  - 2 stars: 4.3%  "
      ]
    },
    {
      "cell_type": "markdown",
      "metadata": {},
      "source": [
        "**By Top Customer States**"
      ]
    },
    {
      "cell_type": "code",
      "execution_count": null,
      "metadata": {},
      "outputs": [],
      "source": [
        "pb.bar_groupby(y='customer_state', to_slide='_black_friday')"
      ]
    },
    {
      "cell_type": "markdown",
      "metadata": {},
      "source": [
        "**Key Observations:**  \n",
        "\n",
        "- Sales by state:  \n",
        "  - São Paulo: 37%  \n",
        "  - Rio/Minas: 14% each  \n",
        "  - Others: ≤6%  "
      ]
    },
    {
      "cell_type": "markdown",
      "metadata": {},
      "source": [
        "**By Top Customer Cities**"
      ]
    },
    {
      "cell_type": "code",
      "execution_count": null,
      "metadata": {},
      "outputs": [],
      "source": [
        "pb.bar_groupby(y='customer_city', to_slide='_black_friday')"
      ]
    },
    {
      "cell_type": "markdown",
      "metadata": {},
      "source": [
        "**Key Observations:**  \n",
        "\n",
        "- Sales by city:  \n",
        "  - São Paulo: 14%  \n",
        "  - Rio: 8%  \n",
        "  - Others: ≤3%  "
      ]
    },
    {
      "cell_type": "markdown",
      "metadata": {},
      "source": [
        "### Sum of Sales"
      ]
    },
    {
      "cell_type": "markdown",
      "metadata": {},
      "source": [
        "**By Hour**"
      ]
    },
    {
      "cell_type": "code",
      "execution_count": null,
      "metadata": {},
      "outputs": [],
      "source": [
        "pb.configure(\n",
        "    df = df_black_sales\n",
        "    , time_column = 'order_purchase_dt'\n",
        "    , time_column_label = 'Date'\n",
        "    , metric = 'total_payment'\n",
        "    , metric_label = 'Sales Amount, R$'\n",
        "    , title_base = 'Sales Amount'\n",
        "    , agg_func = 'sum'\n",
        "    , freq = 'h'\n",
        ")\n",
        "pb.line_resample(to_slide='_black_friday')"
      ]
    },
    {
      "cell_type": "markdown",
      "metadata": {},
      "source": [
        "**Key Observations:**  \n",
        "\n",
        "- Revenue peaked 10-11AM, declined until 6PM, then rose without surpassing morning peak  "
      ]
    },
    {
      "cell_type": "markdown",
      "metadata": {},
      "source": [
        "### Average Order Value"
      ]
    },
    {
      "cell_type": "markdown",
      "metadata": {},
      "source": [
        "**By Hour**"
      ]
    },
    {
      "cell_type": "code",
      "execution_count": null,
      "metadata": {},
      "outputs": [],
      "source": [
        "pb.configure(\n",
        "    df = df_black_sales\n",
        "    , time_column = 'order_purchase_dt'\n",
        "    , time_column_label = 'Date'\n",
        "    , metric = 'total_payment'\n",
        "    , metric_label = 'Average Order Value, R$'\n",
        "    , metric_label_for_distribution = 'Order Value, R$'\n",
        "    , title_base = 'Average Order Value'\n",
        "    , agg_func = 'mean'\n",
        "    , freq='h'\n",
        ")\n",
        "pb.line_resample(to_slide='_black_friday')"
      ]
    },
    {
      "cell_type": "markdown",
      "metadata": {},
      "source": [
        "**Key Observations:**\n",
        "\n",
        "- There is an anomalous hour (4 AM) on November 25, 2017, in the average order value.\n",
        "- It is not clear that the average order value was higher on Black Friday compared to the neighboring days."
      ]
    },
    {
      "cell_type": "code",
      "execution_count": null,
      "metadata": {},
      "outputs": [],
      "source": [
        "pb.configure(\n",
        "    df = df_black_sales\n",
        "    , metric = 'total_payment'\n",
        "    , metric_label = 'Average Order Value, R$'\n",
        "    , metric_label_for_distribution = 'Order Value, R$'\n",
        "    , agg_func = 'mean'\n",
        "    , title_base = 'Average Order Value and Number of Sales'\n",
        "    , axis_sort_order='descending'\n",
        "    , text_auto='.0f'\n",
        ")"
      ]
    },
    {
      "cell_type": "markdown",
      "metadata": {},
      "source": [
        "Top Orders."
      ]
    },
    {
      "cell_type": "code",
      "execution_count": null,
      "metadata": {},
      "outputs": [],
      "source": [
        "pb.metric_top()"
      ]
    },
    {
      "cell_type": "markdown",
      "metadata": {},
      "source": [
        "Let’s see at statistics and distribution of the metric."
      ]
    },
    {
      "cell_type": "code",
      "execution_count": null,
      "metadata": {},
      "outputs": [],
      "source": [
        "pb.metric_info(\n",
        "    labels=dict(total_payment='Order Value, R$')\n",
        "    , title='Distribution of Order Value'\n",
        "    , upper_quantile=0.95\n",
        "    , hist_mode='dual_hist_trim'\n",
        ")"
      ]
    },
    {
      "cell_type": "markdown",
      "metadata": {},
      "source": [
        "**Key Observations:**  \n",
        "\n",
        "- 75% of Black Friday orders ≤170 R$ (many >1000 R$ outliers)  "
      ]
    },
    {
      "cell_type": "markdown",
      "metadata": {},
      "source": [
        "**By Top Customer States**"
      ]
    },
    {
      "cell_type": "code",
      "execution_count": null,
      "metadata": {},
      "outputs": [],
      "source": [
        "pb.bar_groupby(\n",
        "    y='customer_state'\n",
        "    , show_count=True\n",
        ").show()"
      ]
    },
    {
      "cell_type": "markdown",
      "metadata": {},
      "source": [
        "**Key Observations:**  \n",
        "\n",
        "- Highest order values in:  \n",
        "  1. Espírito Santo  \n",
        "  2. Mato Grosso  \n",
        "  3. Minas Gerais  "
      ]
    },
    {
      "cell_type": "markdown",
      "metadata": {},
      "source": [
        "### Number of Customers"
      ]
    },
    {
      "cell_type": "markdown",
      "metadata": {},
      "source": [
        "**By Hour**"
      ]
    },
    {
      "cell_type": "code",
      "execution_count": null,
      "metadata": {},
      "outputs": [],
      "source": [
        "pb.configure(\n",
        "    df = df_black_sales\n",
        "    , time_column = 'order_purchase_dt'\n",
        "    , time_column_label = 'Date'\n",
        "    , metric = 'customer_unique_id'\n",
        "    , metric_label = 'Number of Customers'\n",
        "    , agg_func = 'nunique'\n",
        "    , freq = 'h'\n",
        ")\n",
        "pb.line_resample(to_slide='_black_friday')"
      ]
    },
    {
      "cell_type": "markdown",
      "metadata": {},
      "source": [
        "**Key Observations:**  \n",
        "\n",
        "- Customer count trend matches order count (mostly single orders)  \n"
      ]
    },
    {
      "cell_type": "markdown",
      "metadata": {},
      "source": [
        "There is no sense in looking at it by segments, as customers primarily made only one order, and the results would be similar to the order count.\n"
      ]
    },
    {
      "cell_type": "markdown",
      "metadata": {},
      "source": [
        "### Share of Unavailable Orders"
      ]
    },
    {
      "cell_type": "code",
      "execution_count": null,
      "metadata": {},
      "outputs": [],
      "source": [
        "pb.configure(\n",
        "    time_column = 'order_purchase_dt'\n",
        "    , time_column_label = 'Date'\n",
        "    , metric = 'target_share'\n",
        "    , metric_label = 'Share of Unavailable Orders'\n",
        "    , freq='ME'\n",
        ")"
      ]
    },
    {
      "cell_type": "code",
      "execution_count": null,
      "metadata": {},
      "outputs": [],
      "source": [
        "tmp_tmp_df_res = df_black_orders['order_status'].preproc.calc_target_category_share(\n",
        "    target_category='Unavailable'\n",
        "    , group_columns=['order_purchase_dt']\n",
        "    , resample_freq = 'h'\n",
        ")"
      ]
    },
    {
      "cell_type": "code",
      "execution_count": null,
      "metadata": {},
      "outputs": [],
      "source": [
        "pb.line(\n",
        "    data_frame=tmp_tmp_df_res\n",
        ")"
      ]
    },
    {
      "cell_type": "markdown",
      "metadata": {},
      "source": [
        "**Key Observations:**  \n",
        "\n",
        "- The proportion of orders with the status unavailable has spikes at 0 AM and 10 AM on November 23, 2017, and at 3 AM on November 24, 2017. There is also a very strong spike on November 26, 2017.  \n",
        "- It is not clear that there was a shortage of products specifically on Black Friday.\n"
      ]
    },
    {
      "cell_type": "markdown",
      "metadata": {},
      "source": [
        "### Reviews Score"
      ]
    },
    {
      "cell_type": "code",
      "execution_count": null,
      "metadata": {},
      "outputs": [],
      "source": [
        "pb.configure(\n",
        "    df = df_black_sales\n",
        "    , metric = 'order_avg_reviews_score'\n",
        "    , metric_label = 'Average Order Reviews Score'\n",
        "    , metric_label_for_distribution = 'Order Reviews Score'\n",
        ")"
      ]
    },
    {
      "cell_type": "code",
      "execution_count": null,
      "metadata": {},
      "outputs": [],
      "source": [
        "pb.metric_info(\n",
        "    labels=dict(order_avg_reviews_score='Order Reviews Score')\n",
        "    , title='Distribution of Order Reviews Score'\n",
        "    , xaxis_type='category'\n",
        ")"
      ]
    },
    {
      "cell_type": "markdown",
      "metadata": {},
      "source": [
        "**Key Observations:**  \n",
        "\n",
        "- 49% of Nov 23-25 orders had 5-star reviews  "
      ]
    },
    {
      "cell_type": "markdown",
      "metadata": {},
      "source": [
        "## Canceled Orders"
      ]
    },
    {
      "cell_type": "markdown",
      "metadata": {},
      "source": [
        "Analyze canceled orders."
      ]
    },
    {
      "cell_type": "code",
      "execution_count": null,
      "metadata": {},
      "outputs": [],
      "source": [
        "df_canceled = df_orders[df_orders.order_status=='Canceled']"
      ]
    },
    {
      "cell_type": "markdown",
      "metadata": {},
      "source": [
        "### Number of Orders"
      ]
    },
    {
      "cell_type": "markdown",
      "metadata": {},
      "source": [
        "**By month**"
      ]
    },
    {
      "cell_type": "code",
      "execution_count": null,
      "metadata": {},
      "outputs": [],
      "source": [
        "pb.configure(\n",
        "    df = df_canceled\n",
        "    , time_column = 'order_purchase_dt'\n",
        "    , time_column_label = 'Date'\n",
        "    , metric = 'order_id'\n",
        "    , metric_label = 'Number of Canceled Orders'\n",
        "    , agg_func = 'nunique'\n",
        "    , freq = 'ME'\n",
        ")\n",
        "pb.line_resample()"
      ]
    },
    {
      "cell_type": "markdown",
      "metadata": {},
      "source": [
        "**Key Observations:**  \n",
        "\n",
        "- Typically 20-40 canceled orders/month  \n",
        "- Anomalous spikes in Feb/Aug 2018  "
      ]
    },
    {
      "cell_type": "code",
      "execution_count": null,
      "metadata": {},
      "outputs": [],
      "source": [
        "pb.configure(\n",
        "    df = df_canceled\n",
        "    , time_column = 'order_purchase_dt'\n",
        "    , time_column_label = 'Date'\n",
        "    , metric = 'order_id'\n",
        "    , metric_label = 'Share of Canceled Orders'\n",
        "    , agg_func = 'nunique'\n",
        "    , freq = 'h'\n",
        "    , norm_by='all'\n",
        "    , axis_sort_order='descending'    \n",
        "    , text_auto='.1%'\n",
        "    , update_fig={'xaxis': {'tickformat': '.0%'}}\n",
        ")"
      ]
    },
    {
      "cell_type": "markdown",
      "metadata": {},
      "source": [
        "**By Payment Category**"
      ]
    },
    {
      "cell_type": "code",
      "execution_count": null,
      "metadata": {},
      "outputs": [],
      "source": [
        "pb.bar_groupby(y='order_total_payment_cat')"
      ]
    },
    {
      "cell_type": "markdown",
      "metadata": {},
      "source": [
        "**Key Observations:**  \n",
        "\n",
        "- Canceled orders:  \n",
        "  - Medium price: 55%  \n",
        "  - Expensive: 28%  "
      ]
    },
    {
      "cell_type": "markdown",
      "metadata": {},
      "source": [
        "**By Order Weight Category**"
      ]
    },
    {
      "cell_type": "code",
      "execution_count": null,
      "metadata": {},
      "outputs": [],
      "source": [
        "pb.bar_groupby(y='order_total_weight_cat')"
      ]
    },
    {
      "cell_type": "markdown",
      "metadata": {},
      "source": [
        "**Key Observations:**  \n",
        "\n",
        "- Canceled order weights:  \n",
        "  - Medium: 36%  \n",
        "  - Light: 31%  \n"
      ]
    },
    {
      "cell_type": "markdown",
      "metadata": {},
      "source": [
        "**By Presence of Installment Payments**"
      ]
    },
    {
      "cell_type": "code",
      "execution_count": null,
      "metadata": {},
      "outputs": [],
      "source": [
        "pb.bar_groupby(y='order_has_installment')"
      ]
    },
    {
      "cell_type": "markdown",
      "metadata": {},
      "source": [
        "**Key Observations:**  \n",
        "\n",
        "- 51% of canceled orders didn't use installments  "
      ]
    },
    {
      "cell_type": "markdown",
      "metadata": {},
      "source": [
        "**By Payment Type**"
      ]
    },
    {
      "cell_type": "code",
      "execution_count": null,
      "metadata": {},
      "outputs": [],
      "source": [
        "pb.bar_groupby(y='order_payment_types')"
      ]
    },
    {
      "cell_type": "markdown",
      "metadata": {},
      "source": [
        "**Key Observations:**  \n",
        "\n",
        "- Canceled order payments:  \n",
        "  - Credit card: 70%  \n",
        "  - Boleto: 16%  \n",
        "  - Voucher: 10% (higher than overall)  "
      ]
    },
    {
      "cell_type": "markdown",
      "metadata": {},
      "source": [
        "**By Product Category**"
      ]
    },
    {
      "cell_type": "code",
      "execution_count": null,
      "metadata": {},
      "outputs": [],
      "source": [
        "pb.bar_groupby(\n",
        "    y='order_product_categories'\n",
        "    , text_auto=False\n",
        ")"
      ]
    },
    {
      "cell_type": "markdown",
      "metadata": {},
      "source": [
        "**Key Observations:**  \n",
        "\n",
        "- Top canceled order categories:  \n",
        "  1. Bed Bath Table  \n",
        "  2. Health Beauty  \n",
        "  3. Sports Leisure  "
      ]
    },
    {
      "cell_type": "markdown",
      "metadata": {},
      "source": [
        "**By Generalized Product Category**"
      ]
    },
    {
      "cell_type": "code",
      "execution_count": null,
      "metadata": {},
      "outputs": [],
      "source": [
        "pb.bar_groupby(\n",
        "    y='order_general_product_categories'\n",
        "    , text_auto=False\n",
        ")"
      ]
    },
    {
      "cell_type": "markdown",
      "metadata": {},
      "source": [
        "**Key Observations:**  \n",
        "\n",
        "- Top generalized canceled categories:  \n",
        "  1. Electronics  \n",
        "  2. Furniture  \n",
        "  3. Home & Garden  "
      ]
    },
    {
      "cell_type": "markdown",
      "metadata": {},
      "source": [
        "**By Top Customer States**"
      ]
    },
    {
      "cell_type": "code",
      "execution_count": null,
      "metadata": {},
      "outputs": [],
      "source": [
        "pb.bar_groupby(y='customer_state', text_auto=False)"
      ]
    },
    {
      "cell_type": "markdown",
      "metadata": {},
      "source": [
        "**Key Observations:**  \n",
        "\n",
        "- Canceled orders by state:  \n",
        "  - São Paulo: 42%  \n",
        "  - Rio: 13%  \n",
        "  - Minas: 12%  \n",
        "  - Others: ≤6%  "
      ]
    },
    {
      "cell_type": "markdown",
      "metadata": {},
      "source": [
        "### Sum of Orders"
      ]
    },
    {
      "cell_type": "markdown",
      "metadata": {},
      "source": [
        "**By month**"
      ]
    },
    {
      "cell_type": "code",
      "execution_count": null,
      "metadata": {},
      "outputs": [],
      "source": [
        "pb.configure(\n",
        "    df = df_canceled\n",
        "    , time_column = 'order_purchase_dt'\n",
        "    , time_column_label = 'Date'\n",
        "    , metric = 'total_payment'\n",
        "    , metric_label = 'Canceled Orders Amount, R$'\n",
        "    , title_base = 'Canceled Orders Amount'\n",
        "    , agg_func = 'sum'\n",
        "    , freq = 'ME'\n",
        ")\n",
        "pb.line_resample()"
      ]
    },
    {
      "cell_type": "markdown",
      "metadata": {},
      "source": [
        "**Key Observations:**  \n",
        "\n",
        "- Canceled order revenue typically 4K-8K R$/month  \n",
        "- Anomalous spikes in Jul/Aug 2018  "
      ]
    },
    {
      "cell_type": "markdown",
      "metadata": {},
      "source": [
        "### Average Order Value"
      ]
    },
    {
      "cell_type": "markdown",
      "metadata": {},
      "source": [
        "**By month**"
      ]
    },
    {
      "cell_type": "code",
      "execution_count": null,
      "metadata": {},
      "outputs": [],
      "source": [
        "pb.configure(\n",
        "    df = df_canceled\n",
        "    , time_column = 'order_purchase_dt'\n",
        "    , time_column_label = 'Date'\n",
        "    , metric = 'total_payment'\n",
        "    , metric_label = 'AOV (Canceled), R$'\n",
        "    , title_base = 'AOV (Canceled)'\n",
        "    , agg_func = 'mean'\n",
        "    , freq = 'ME'\n",
        ")\n",
        "pb.line_resample()"
      ]
    },
    {
      "cell_type": "markdown",
      "metadata": {},
      "source": [
        "**Key Observations:**  \n",
        "\n",
        "- Canceled order value spikes in Apr 2017 and Jul 2018  "
      ]
    },
    {
      "cell_type": "code",
      "execution_count": null,
      "metadata": {
        "tags": [
          "remove-cell"
        ]
      },
      "source": [
        "%run ../../_post_run.ipynb"
      ],
      "outputs": []
    }
  ]
}