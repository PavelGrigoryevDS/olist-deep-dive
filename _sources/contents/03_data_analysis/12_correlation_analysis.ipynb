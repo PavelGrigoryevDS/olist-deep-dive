{
  "metadata": {},
  "nbformat": 4,
  "nbformat_minor": 4,
  "cells": [
    {
      "cell_type": "code",
      "execution_count": null,
      "metadata": {
        "tags": [
          "remove-cell"
        ]
      },
      "source": [
        "%run ../../_pre_run.ipynb"
      ],
      "outputs": []
    },
    {
      "cell_type": "markdown",
      "metadata": {},
      "source": [
        "# Correlation Analysis"
      ]
    },
    {
      "cell_type": "markdown",
      "metadata": {},
      "source": [
        "Here we will build a correlation matrix for all numerical variables. \n",
        "\n",
        "We will also create scatter plots for those with a correlation coefficient greater than 0.3. \n",
        "\n",
        "Additionally, we can create scatter plots for specific pairs even if the correlation coefficient is low, as we are focused on the relationship rather than the correlation coefficient itself."
      ]
    },
    {
      "cell_type": "markdown",
      "metadata": {},
      "source": [
        "##  Table df_sales"
      ]
    },
    {
      "cell_type": "markdown",
      "metadata": {},
      "source": [
        "We will create labels for column names."
      ]
    },
    {
      "cell_type": "code",
      "execution_count": null,
      "metadata": {},
      "outputs": [],
      "source": [
        "labels = {\n",
        "    'from_purchase_to_approved_hours': 'Purchase To Approved',\n",
        "    'from_purchase_to_carrier_days': 'Purchase To Carrier',\n",
        "    'delivery_time_days': 'Delivery Time',\n",
        "    'delivery_time_estimated_days': 'Estimated Delivery',\n",
        "    'delivery_delay_days': 'Delivery Delay',\n",
        "    'from_approved_to_carrier_days': 'Approved To Carrier',\n",
        "    'from_carrier_to_customer_days': 'Carrier To Customer',\n",
        "    'payments_cnt': 'Payments Cnt',\n",
        "    'total_payment': 'Total Payment',\n",
        "    'avg_payment': 'Avg Payment',\n",
        "    'total_installments_cnt': 'Total Installments',\n",
        "    'products_cnt': 'Products Cnt',\n",
        "    'unique_products_cnt': 'Unique Products Cnt',\n",
        "    'sellers_cnt': 'Sellers Cnt',\n",
        "    'product_categories_cnt': 'Categories Cnt',\n",
        "    'total_products_price': 'Total Products Price',\n",
        "    'avg_products_price': 'Avg Product Price',\n",
        "    'total_freight_value': 'Total Freight Value',\n",
        "    'total_order_price': 'Total Order Price',\n",
        "    'total_weight_kg': 'Total Weight',\n",
        "    'total_volume_cm3': 'Total Volume',\n",
        "    'avg_distance_km': 'Avg Distance',\n",
        "    'avg_carrier_delivery_delay_days': 'Avg Carrier Delay',\n",
        "    'freight_ratio': 'Freight Ratio',\n",
        "    'reviews_cnt': 'Reviews Cnt',\n",
        "    'order_avg_reviews_score': 'Avg Review Score'\n",
        "}"
      ]
    },
    {
      "cell_type": "markdown",
      "metadata": {},
      "source": [
        "Let's look at the correlation between the metrics."
      ]
    },
    {
      "cell_type": "code",
      "execution_count": null,
      "metadata": {},
      "outputs": [],
      "source": [
        "df_sales.analysis.corr_matrix(labels=labels)"
      ]
    },
    {
      "cell_type": "markdown",
      "metadata": {},
      "source": [
        "**Key Observations:**\n",
        "- There is a moderate positive correlation (0.4) between the total delivery time and the delivery time to the carrier. Therefore, the delivery time to the carrier affects the total delivery time, which is logical.\n",
        "- There is a moderate positive correlation (0.6) between the total delivery time and the delivery time from the carrier. The delivery time from the carrier has a higher correlation with the total delivery time compared to the delivery time to the carrier. This suggests that the delivery time from the carrier affects the total delivery time more significantly.\n",
        "- There is a moderate positive correlation (0.5) between the total number of products in an order and the number of unique products in an order. This indicates that the total number of products in an order often increases due to the addition of unique products rather than by increasing the quantity of already existing products in the order.\n",
        "- There is also a moderate positive correlation (0.6) between the number of sellers in an order and the number of unique products in an order. This means that if customers buy more unique products, they are likely to buy from different sellers.\n",
        "- There is also a moderate positive correlation (0.6) between the number of sellers in an order and the number of categories in an order. This indicates that if customers buy products from more categories, they are likely to buy from different sellers.\n",
        "- There is a moderate positive correlation (0.5) between the delivery cost of an order and the order amount. This means that the more expensive the order, the higher the delivery cost, which is logical.\n",
        "- There is a moderate positive correlation (0.6) between the delivery cost of an order and the weight/volume of the order. This suggests that the heavier or larger the order, the higher the delivery cost.\n",
        "- There is a strong positive correlation (0.8) between the volume and weight of the order. This indicates that the heavier the order, the larger it is usually.\n"
      ]
    },
    {
      "cell_type": "markdown",
      "metadata": {},
      "source": [
        "**Does the order cost affect the delivery cost?**"
      ]
    },
    {
      "cell_type": "code",
      "execution_count": null,
      "metadata": {},
      "outputs": [],
      "source": [
        "df_sales.viz.pairplot(\n",
        "    pairs=['total_payment', 'total_freight_value']\n",
        "    , transforms='log'\n",
        "    , labels=labels\n",
        ")"
      ]
    },
    {
      "cell_type": "markdown",
      "metadata": {},
      "source": [
        "**Key Observations:**  \n",
        "\n",
        "\n",
        "- Higher order value → higher shipping cost  "
      ]
    },
    {
      "cell_type": "markdown",
      "metadata": {},
      "source": [
        "**Does the order weight affect the delivery cost?**"
      ]
    },
    {
      "cell_type": "code",
      "execution_count": null,
      "metadata": {},
      "outputs": [],
      "source": [
        "df_sales.viz.pairplot(\n",
        "    pairs=['total_weight_kg', 'total_freight_value']\n",
        "    , transforms='log'\n",
        "    , labels=labels\n",
        ")"
      ]
    },
    {
      "cell_type": "markdown",
      "metadata": {},
      "source": [
        "**Key Observations:**  \n",
        "\n",
        "- Heavier orders → higher shipping cost  "
      ]
    },
    {
      "cell_type": "markdown",
      "metadata": {},
      "source": [
        "---"
      ]
    },
    {
      "cell_type": "markdown",
      "metadata": {},
      "source": [
        "**Does the order volume affect the delivery cost?**"
      ]
    },
    {
      "cell_type": "code",
      "execution_count": null,
      "metadata": {},
      "outputs": [],
      "source": [
        "df_sales.viz.pairplot(\n",
        "    pairs=['total_volume_cm3', 'total_freight_value']\n",
        "    , transforms='log'\n",
        "    , labels=labels\n",
        ")\n"
      ]
    },
    {
      "cell_type": "markdown",
      "metadata": {},
      "source": [
        "**Key Observations:**  \n",
        "\n",
        "- Larger volume → higher shipping cost  "
      ]
    },
    {
      "cell_type": "markdown",
      "metadata": {},
      "source": [
        "---"
      ]
    },
    {
      "cell_type": "markdown",
      "metadata": {},
      "source": [
        "**Does the distance affect the delivery cost?**"
      ]
    },
    {
      "cell_type": "code",
      "execution_count": null,
      "metadata": {},
      "outputs": [],
      "source": [
        "df_sales.viz.pairplot(\n",
        "    pairs=['avg_distance_km', 'total_freight_value']\n",
        "    , transforms='log'\n",
        "    , labels=labels\n",
        ")"
      ]
    },
    {
      "cell_type": "markdown",
      "metadata": {},
      "source": [
        "**Key Observations:**  \n",
        "\n",
        "- Greater distance → higher shipping cost  "
      ]
    },
    {
      "cell_type": "markdown",
      "metadata": {},
      "source": [
        "---"
      ]
    },
    {
      "cell_type": "markdown",
      "metadata": {},
      "source": [
        "**Does the order cost affect the delivery time?**"
      ]
    },
    {
      "cell_type": "code",
      "execution_count": null,
      "metadata": {},
      "outputs": [],
      "source": [
        "df_sales.viz.pairplot(\n",
        "    pairs=['total_payment', 'delivery_time_days']\n",
        "    , transforms='log'\n",
        "    , labels=labels\n",
        ")"
      ]
    },
    {
      "cell_type": "markdown",
      "metadata": {},
      "source": [
        "**Key Observations:**  \n",
        "\n",
        "- Order value has minimal impact on delivery time  "
      ]
    },
    {
      "cell_type": "markdown",
      "metadata": {},
      "source": [
        "**Does the order weight affect the delivery time?**"
      ]
    },
    {
      "cell_type": "code",
      "execution_count": null,
      "metadata": {},
      "outputs": [],
      "source": [
        "df_sales.viz.pairplot(\n",
        "    pairs=['total_weight_kg', 'delivery_time_days']\n",
        "    , transforms='log'\n",
        "    , labels=labels\n",
        ")"
      ]
    },
    {
      "cell_type": "markdown",
      "metadata": {},
      "source": [
        "**Key Observations:**  \n",
        "\n",
        "- Weight has minimal impact on delivery time  "
      ]
    },
    {
      "cell_type": "markdown",
      "metadata": {},
      "source": [
        "---"
      ]
    },
    {
      "cell_type": "markdown",
      "metadata": {},
      "source": [
        "**Does the order volume affect the delivery time?**"
      ]
    },
    {
      "cell_type": "code",
      "execution_count": null,
      "metadata": {},
      "outputs": [],
      "source": [
        "df_sales.viz.pairplot(\n",
        "    pairs=['total_volume_cm3', 'delivery_time_days']\n",
        "    , transforms='log'\n",
        "    , labels=labels\n",
        ")"
      ]
    },
    {
      "cell_type": "markdown",
      "metadata": {},
      "source": [
        "**Key Observations:**  \n",
        "\n",
        "- Volume doesn't affect delivery time  "
      ]
    },
    {
      "cell_type": "markdown",
      "metadata": {},
      "source": [
        "---"
      ]
    },
    {
      "cell_type": "markdown",
      "metadata": {},
      "source": [
        "**Does the distance affect the delivery time?**"
      ]
    },
    {
      "cell_type": "code",
      "execution_count": null,
      "metadata": {},
      "outputs": [],
      "source": [
        "df_sales.viz.pairplot(\n",
        "    pairs=['avg_distance_km', 'delivery_time_days']\n",
        "    , transforms='log'\n",
        "    , labels=labels\n",
        ")"
      ]
    },
    {
      "cell_type": "markdown",
      "metadata": {},
      "source": [
        "**Key Observations:**  \n",
        "\n",
        "- Greater distance → longer delivery time  "
      ]
    },
    {
      "cell_type": "markdown",
      "metadata": {},
      "source": [
        "---"
      ]
    },
    {
      "cell_type": "markdown",
      "metadata": {},
      "source": [
        "**Is the heavier the order, the larger its volume?**"
      ]
    },
    {
      "cell_type": "code",
      "execution_count": null,
      "metadata": {},
      "outputs": [],
      "source": [
        "df_sales.viz.pairplot(\n",
        "    pairs=['total_weight_kg', 'total_volume_cm3']\n",
        "    , transforms='log'\n",
        "    , labels=labels\n",
        ")"
      ]
    },
    {
      "cell_type": "markdown",
      "metadata": {},
      "source": [
        "**Key Observations:**  \n",
        "\n",
        "- Heavier items tend to be larger  "
      ]
    },
    {
      "cell_type": "markdown",
      "metadata": {},
      "source": [
        "##  Table df_customers"
      ]
    },
    {
      "cell_type": "markdown",
      "metadata": {},
      "source": [
        "We will create labels for column names."
      ]
    },
    {
      "cell_type": "code",
      "execution_count": null,
      "metadata": {},
      "outputs": [],
      "source": [
        "labels = {\n",
        "    'orders_cnt': 'Total Orders',\n",
        "    'canceled_share': 'Canceled Share',\n",
        "    'canceled_orders_cnt': 'Canceled Orders',\n",
        "    'not_delivered_share': 'Not Delivered Share',\n",
        "    'customer_issue_share': 'Customer Issue Share',\n",
        "    'service_issue_share': 'Service Issue Share',\n",
        "    'buys_cnt': 'Total Purchases',\n",
        "    'avg_delivery_time_days': 'Avg Delivery Time',\n",
        "    'avg_delivery_delay_days': 'Avg Delivery Delay',\n",
        "    'delayed_orders_share': 'Delayed Orders Share',\n",
        "    'purchase_weekend_share': 'Weekend Purchase Share',\n",
        "    'repeat_purchase_share': 'Repeat Purchase Share',\n",
        "    'avg_payments_cnt': 'Avg Payments Cnt',\n",
        "    'total_customer_payment': 'Total Payment',\n",
        "    'avg_total_order_payment': 'Avg Order Payment',\n",
        "    'avg_individual_payment': 'Avg Individual Payment',\n",
        "    'installment_orders_share': 'Installment Orders Share',\n",
        "    'avg_products_cnt': 'Avg Products Cnt',\n",
        "    'avg_unique_products_cnt': 'Avg Unique Products',\n",
        "    'avg_sellers_cnt': 'Avg Sellers Cnt',\n",
        "    'avg_order_total_products_price': 'Avg Order Products Price',\n",
        "    'avg_total_order_price': 'Avg Total Order Price',\n",
        "    'avg_products_price': 'Avg Product Price',\n",
        "    'total_products_price': 'Total Products Price',\n",
        "    'avg_order_total_freight_value': 'Avg Order Freight Value',\n",
        "    'avg_order_total_weight_kg': 'Avg Order Weight',\n",
        "    'avg_order_total_volume_cm3': 'Avg Order Volume',\n",
        "    'free_shipping_share': 'Free Shipping Share',\n",
        "    'reviews_cnt': 'Reviews Cnt',\n",
        "    'customer_avg_reviews_score': 'Avg Review Score',\n",
        "    'avg_distance_km': 'Avg Distance',\n",
        "    'avg_buys_diff_days': 'Days Between Purchases',\n",
        "    'months_with_buys': 'Active Months',\n",
        "    'max_consecutive_months_with_buys': 'Max Consecutive Active Months'\n",
        "}"
      ]
    },
    {
      "cell_type": "markdown",
      "metadata": {},
      "source": [
        "Let's look at the correlation between the metrics."
      ]
    },
    {
      "cell_type": "code",
      "execution_count": null,
      "metadata": {},
      "outputs": [],
      "source": [
        "exclude_cols = ['lat_customer', 'lng_customer', 'customer_zip_code_prefix_3_digits', 'population', 'customer_zip_code_prefix']\n",
        "(\n",
        "    df_customers.drop(columns=exclude_cols)\n",
        "    .analysis.corr_matrix(text_size=10, labels=labels)\n",
        ")"
      ]
    },
    {
      "cell_type": "markdown",
      "metadata": {},
      "source": [
        "**Key Observations:**\n",
        "\n",
        "- There is a high positive correlation (0.8) between the number of canceled orders and the proportion of issues due to the customer. This is logical, as the Canceled status is included in the proportion of customer issues.\n",
        "- There is a high positive correlation (0.9) between the number of orders and the number of reviews. Therefore, the more orders a customer makes, the more reviews they leave.\n"
      ]
    },
    {
      "cell_type": "markdown",
      "metadata": {},
      "source": [
        "**Are there \"loyal\" customers with high activity?**"
      ]
    },
    {
      "cell_type": "code",
      "execution_count": null,
      "metadata": {},
      "outputs": [],
      "source": [
        "df_customers.viz.pairplot(\n",
        "    pairs=['max_consecutive_months_with_buys', 'orders_cnt']\n",
        "    , labels=labels\n",
        ")"
      ]
    },
    {
      "cell_type": "markdown",
      "metadata": {},
      "source": [
        "**Key Observations:**  \n",
        "\n",
        "- More active months → more orders  "
      ]
    },
    {
      "cell_type": "markdown",
      "metadata": {},
      "source": [
        "---"
      ]
    },
    {
      "cell_type": "markdown",
      "metadata": {},
      "source": [
        "**If customers buy many unique products, are the orders from different sellers?**"
      ]
    },
    {
      "cell_type": "code",
      "execution_count": null,
      "metadata": {},
      "outputs": [],
      "source": [
        "df_customers.viz.pairplot(\n",
        "    pairs=['avg_unique_products_cnt', 'avg_sellers_cnt']\n",
        "    , transforms='log'\n",
        "    , labels=labels\n",
        ")"
      ]
    },
    {
      "cell_type": "markdown",
      "metadata": {},
      "source": [
        "**Key Observations:**  \n",
        "\n",
        "- The higher the average number of unique products in an order for a customer, the higher the average number of sellers. This means that different products are more often bought from different sellers.\n"
      ]
    },
    {
      "cell_type": "markdown",
      "metadata": {},
      "source": [
        "---"
      ]
    },
    {
      "cell_type": "markdown",
      "metadata": {},
      "source": [
        "**Are active customers more likely to write reviews?**"
      ]
    },
    {
      "cell_type": "code",
      "execution_count": null,
      "metadata": {},
      "outputs": [],
      "source": [
        "df_customers.viz.pairplot(\n",
        "    pairs=['reviews_cnt', 'orders_cnt']\n",
        "    , transforms='log'\n",
        "    , labels=labels\n",
        ")"
      ]
    },
    {
      "cell_type": "markdown",
      "metadata": {},
      "source": [
        "**Key Observations:**  \n",
        "\n",
        "- More purchases → more reviews left  "
      ]
    },
    {
      "cell_type": "code",
      "execution_count": null,
      "metadata": {
        "tags": [
          "remove-cell"
        ]
      },
      "source": [
        "%run ../../_post_run.ipynb"
      ],
      "outputs": []
    }
  ]
}