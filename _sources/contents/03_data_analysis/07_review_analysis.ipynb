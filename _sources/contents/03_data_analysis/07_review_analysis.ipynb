{
  "cells": [
    {
      "cell_type": "code",
      "execution_count": null,
      "metadata": {
        "tags": [
          "remove-cell"
        ]
      },
      "outputs": [],
      "source": [
        "%run ../../_pre_run.ipynb"
      ]
    },
    {
      "cell_type": "markdown",
      "metadata": {},
      "source": [
        "# Review Analysis"
      ]
    },
    {
      "cell_type": "markdown",
      "metadata": {},
      "source": [
        "## Number of Reviews"
      ]
    },
    {
      "cell_type": "code",
      "execution_count": null,
      "metadata": {},
      "outputs": [],
      "source": [
        "pb.configure(\n",
        "    df = df_reviews\n",
        "    , time_column = 'review_creation_dt'\n",
        "    , metric = 'review_id'\n",
        "    , metric_label = 'Share of Reviews'\n",
        "    , metric_label_for_distribution = 'Number of Reviews'\n",
        "    , agg_func = 'nunique'\n",
        "    , norm_by='all'\n",
        "    , axis_sort_order='descending'\n",
        "    , text_auto='.1%'\n",
        "    , update_fig={'xaxis': {'tickformat': '.0%'}}    \n",
        ")"
      ]
    },
    {
      "cell_type": "code",
      "execution_count": null,
      "metadata": {},
      "outputs": [],
      "source": [
        "print(f'Total number of reviews: {df_reviews.review_id.nunique():,}')"
      ]
    },
    {
      "cell_type": "markdown",
      "metadata": {},
      "source": [
        "Let’s see at statistics and distribution of the metric."
      ]
    },
    {
      "cell_type": "code",
      "execution_count": null,
      "metadata": {},
      "outputs": [],
      "source": [
        "pb.metric_info(freq='D')"
      ]
    },
    {
      "cell_type": "markdown",
      "metadata": {},
      "source": [
        "**Key Observations:**  \n",
        "\n",
        "- Typical day: 1 review created  \n",
        "- 75% of days had ≤270 reviews  \n",
        "- Top 5% ≥375 reviews  "
      ]
    },
    {
      "cell_type": "markdown",
      "metadata": {},
      "source": [
        "Let’s look by different dimensions."
      ]
    },
    {
      "cell_type": "markdown",
      "metadata": {},
      "source": [
        "**By Day of Week**"
      ]
    },
    {
      "cell_type": "code",
      "execution_count": null,
      "metadata": {},
      "outputs": [],
      "source": [
        "pb.bar_groupby(y='review_creation_weekday', to_slide=True)"
      ]
    },
    {
      "cell_type": "markdown",
      "metadata": {},
      "source": [
        "**Key Observations:**  \n",
        "\n",
        "- Fewest reviews on Mondays  \n",
        "- Sundays slightly more than Mondays but still low  \n",
        "- Possible review registration pattern  "
      ]
    },
    {
      "cell_type": "markdown",
      "metadata": {},
      "source": [
        "**By Day Type**"
      ]
    },
    {
      "cell_type": "code",
      "execution_count": null,
      "metadata": {},
      "outputs": [],
      "source": [
        "pb.bar_groupby(y='review_day_type')"
      ]
    },
    {
      "cell_type": "markdown",
      "metadata": {},
      "source": [
        "**Key Observations:**  \n",
        "\n",
        "- 76% of reviews created on weekdays  \n",
        "- Matches fewer weekend days  "
      ]
    },
    {
      "cell_type": "markdown",
      "metadata": {},
      "source": [
        "**By Review Score**"
      ]
    },
    {
      "cell_type": "code",
      "execution_count": null,
      "metadata": {},
      "outputs": [],
      "source": [
        "pb.bar_groupby(y='review_score', to_slide=True)"
      ]
    },
    {
      "cell_type": "markdown",
      "metadata": {},
      "source": [
        "**Key Observations:**  \n",
        "\n",
        "- Review score distribution:  \n",
        "  - 5 stars: 58%  \n",
        "  - 4 stars: 19%  \n",
        "  - 1 star: 12%  \n",
        "  - 3 stars: 8%  \n",
        "  - 2 stars: 3% "
      ]
    },
    {
      "cell_type": "markdown",
      "metadata": {},
      "source": [
        "## Review score"
      ]
    },
    {
      "cell_type": "code",
      "execution_count": null,
      "metadata": {},
      "outputs": [],
      "source": [
        "pb.configure(\n",
        "    df = df_reviews\n",
        "    , time_column = 'review_creation_dt'\n",
        "    , metric = 'review_score'\n",
        "    , metric_label = 'Average Review score'\n",
        "    , agg_func = 'mean'\n",
        "    , axis_sort_order='descending'\n",
        "    , text_auto='.3s'\n",
        ")"
      ]
    },
    {
      "cell_type": "code",
      "execution_count": null,
      "metadata": {},
      "outputs": [],
      "source": [
        "print(f'Average Review score: {df_reviews.review_score.mean():.2f}')"
      ]
    },
    {
      "cell_type": "markdown",
      "metadata": {},
      "source": [
        "Let’s see at statistics and distribution of the metric."
      ]
    },
    {
      "cell_type": "code",
      "execution_count": null,
      "metadata": {},
      "outputs": [],
      "source": [
        "pb.metric_info(\n",
        "    labels=dict(review_score='Review score')\n",
        "    , title='Distribution of Review score'\n",
        "    , xaxis_type='category'\n",
        ")"
      ]
    },
    {
      "cell_type": "markdown",
      "metadata": {},
      "source": [
        "**Key Observations:**  \n",
        "\n",
        "- 58% of reviews had score 5."
      ]
    },
    {
      "cell_type": "markdown",
      "metadata": {},
      "source": [
        "Let’s see at statistics and distribution of the metric per day."
      ]
    },
    {
      "cell_type": "code",
      "execution_count": null,
      "metadata": {},
      "outputs": [],
      "source": [
        "pb.metric_info(freq='D')"
      ]
    },
    {
      "cell_type": "markdown",
      "metadata": {},
      "source": [
        "**Key Observations:**  \n",
        "\n",
        "- Daily average ratings:  \n",
        "  - Bottom 5% <3.26  \n",
        "  - Middle 50% 3.9-4.3  \n",
        "  - Top 5% >4.6  "
      ]
    },
    {
      "cell_type": "markdown",
      "metadata": {},
      "source": [
        "Let’s look by different dimensions."
      ]
    },
    {
      "cell_type": "markdown",
      "metadata": {},
      "source": [
        "**By Day Type**"
      ]
    },
    {
      "cell_type": "code",
      "execution_count": null,
      "metadata": {},
      "outputs": [],
      "source": [
        "pb.cat_compare(cat2='review_day_type'\n",
        "            , visible_graphs=[2]\n",
        ")\n",
        "pb.bar_groupby(y='review_day_type').show()"
      ]
    },
    {
      "cell_type": "markdown",
      "metadata": {},
      "source": [
        "**Key Observations:**  \n",
        "\n",
        "- Weekdays have slightly higher ratings  \n",
        "- More 5-star reviews weekdays  \n",
        "- More 1-star reviews weekends  "
      ]
    },
    {
      "cell_type": "markdown",
      "metadata": {},
      "source": [
        "**By Day of Week**"
      ]
    },
    {
      "cell_type": "code",
      "execution_count": null,
      "metadata": {},
      "outputs": [],
      "source": [
        "pb.cat_compare(cat2='review_creation_weekday'\n",
        "            , visible_graphs=[2]\n",
        ")\n",
        "pb.bar_groupby(y='review_creation_weekday').show()"
      ]
    },
    {
      "cell_type": "markdown",
      "metadata": {},
      "source": [
        "**Key Observations:**  \n",
        "\n",
        "- Sundays have lowest ratings  \n",
        "- Highest 1-star share on Sundays  \n",
        "- Lowest 5-star share on Sundays  "
      ]
    },
    {
      "cell_type": "markdown",
      "metadata": {},
      "source": [
        "## Review Answer Time"
      ]
    },
    {
      "cell_type": "code",
      "execution_count": null,
      "metadata": {},
      "outputs": [],
      "source": [
        "pb.configure(\n",
        "    df = df_reviews\n",
        "    , time_column = 'review_creation_dt'\n",
        "    , metric = 'review_answer_time_days'\n",
        "    , metric_label = 'Average Review Answer Time, days'\n",
        "    , metric_label_for_distribution = 'Review Answer Time, days'\n",
        "    , agg_func = 'mean'\n",
        "    , axis_sort_order='descending'\n",
        "    , text_auto='.3s'\n",
        ")"
      ]
    },
    {
      "cell_type": "code",
      "execution_count": null,
      "metadata": {},
      "outputs": [],
      "source": [
        "print(f'Average Review Answer Time: {df_reviews.review_answer_time_days.mean():.2f} days')"
      ]
    },
    {
      "cell_type": "markdown",
      "metadata": {},
      "source": [
        "Let’s see at statistics and distribution of the metric."
      ]
    },
    {
      "cell_type": "code",
      "execution_count": null,
      "metadata": {},
      "outputs": [],
      "source": [
        "pb.metric_info(\n",
        "    upper_quantile=0.95\n",
        "    , hist_mode='dual_hist_trim'    \n",
        ")"
      ]
    },
    {
      "cell_type": "markdown",
      "metadata": {},
      "source": [
        "**Key Observations:**  \n",
        "\n",
        "- Review response time bimodal: ~1 day and ~3.5 days  \n",
        "- 75% responded within 3.1 days  \n",
        "- Top 5% took ≥7 days  "
      ]
    },
    {
      "cell_type": "markdown",
      "metadata": {},
      "source": [
        "Let’s see at statistics and distribution of the metric per day."
      ]
    },
    {
      "cell_type": "code",
      "execution_count": null,
      "metadata": {},
      "outputs": [],
      "source": [
        "pb.metric_info(freq='D')"
      ]
    },
    {
      "cell_type": "markdown",
      "metadata": {},
      "source": [
        "**Key Observations:**  \n",
        "\n",
        "- 5% of review days had average response time ≥5.85 days  \n"
      ]
    },
    {
      "cell_type": "markdown",
      "metadata": {},
      "source": [
        "Let’s look by different dimensions."
      ]
    },
    {
      "cell_type": "markdown",
      "metadata": {},
      "source": [
        "**By Day of Week**"
      ]
    },
    {
      "cell_type": "code",
      "execution_count": null,
      "metadata": {},
      "outputs": [],
      "source": [
        "pb.histogram(color='review_creation_weekday').show()\n",
        "pb.bar_groupby(y='review_creation_weekday').show()"
      ]
    },
    {
      "cell_type": "markdown",
      "metadata": {},
      "source": [
        "**Key Observations:**  \n",
        "\n",
        "- Slowest responses to Friday reviews  \n",
        "- Fastest responses to Monday reviews  "
      ]
    },
    {
      "cell_type": "markdown",
      "metadata": {},
      "source": [
        "## Comment Message Lenght"
      ]
    },
    {
      "cell_type": "code",
      "execution_count": null,
      "metadata": {},
      "outputs": [],
      "source": [
        "pb.configure(\n",
        "    df=df_reviews\n",
        "    , time_column='review_creation_dt'\n",
        "    , metric='review_comment_message_len'\n",
        "    , metric_label='Median Review Comment Message Lenght'\n",
        "    , metric_label_for_distribution='Review Comment Message Lenght'\n",
        "    , agg_func='median'\n",
        "    , text_auto='.3s'\n",
        ")"
      ]
    },
    {
      "cell_type": "code",
      "execution_count": null,
      "metadata": {},
      "outputs": [],
      "source": [
        "print(f'Median Review comment message lenght: {df_reviews.review_comment_message_len.median():.2f}')"
      ]
    },
    {
      "cell_type": "markdown",
      "metadata": {},
      "source": [
        "Let’s see at statistics and distribution of the metric."
      ]
    },
    {
      "cell_type": "code",
      "execution_count": null,
      "metadata": {},
      "outputs": [],
      "source": [
        "pb.metric_info()"
      ]
    },
    {
      "cell_type": "markdown",
      "metadata": {},
      "source": [
        "**Key Observations:**  \n",
        "\n",
        "- 75% of reviews have messages ≤100 characters  "
      ]
    },
    {
      "cell_type": "markdown",
      "metadata": {},
      "source": [
        "Let’s look by different dimensions."
      ]
    },
    {
      "cell_type": "markdown",
      "metadata": {},
      "source": [
        "**By Review Score**"
      ]
    },
    {
      "cell_type": "code",
      "execution_count": null,
      "metadata": {},
      "outputs": [],
      "source": [
        "pb.bar_groupby(y='review_score', to_slide=True)"
      ]
    },
    {
      "cell_type": "markdown",
      "metadata": {},
      "source": [
        "**Key Observations:**  \n",
        "\n",
        "- Lower ratings correlate with longer messages  \n",
        "- Negative reviews tend to be more detailed  "
      ]
    },
    {
      "cell_type": "markdown",
      "metadata": {},
      "source": [
        "## NPS"
      ]
    },
    {
      "cell_type": "markdown",
      "metadata": {},
      "source": [
        "For calculating NPS, we will divide customers into the following groups:\n",
        "\n",
        "- Promoters: customers who gave a rating of 5\n",
        "- Passive: customers who gave a rating of 4\n",
        "- Detractors: customers who gave a rating of 1-3"
      ]
    },
    {
      "cell_type": "markdown",
      "metadata": {},
      "source": [
        "Let's look at how NPS changed by month."
      ]
    },
    {
      "cell_type": "code",
      "execution_count": null,
      "metadata": {},
      "outputs": [],
      "source": [
        "tmp_df_res = (\n",
        "    df_reviews.pivot_table(index=pd.Grouper(key='review_creation_dt', freq='D'), columns='review_score', values='review_id', aggfunc='nunique')\n",
        ")\n",
        "tmp_df_res['total_responses'] = tmp_df_res.sum(axis=1)\n",
        "tmp_df_res['promoters'] = tmp_df_res[5]\n",
        "tmp_df_res['detractors'] = tmp_df_res[1] + tmp_df_res[2] + tmp_df_res[3]\n",
        "tmp_df_res['nps'] = (tmp_df_res['promoters'] - tmp_df_res['detractors']) * 100 / tmp_df_res['total_responses']\n",
        "tmp_df_res.reset_index(inplace=True)"
      ]
    },
    {
      "cell_type": "markdown",
      "metadata": {},
      "source": [
        "Let’s see at statistics and distribution of the metric per day."
      ]
    },
    {
      "cell_type": "code",
      "execution_count": null,
      "metadata": {},
      "outputs": [],
      "source": [
        "tmp_df_res['nps'].explore.info(\n",
        "    labels=dict(nps='NPS per Day')\n",
        "    , title='Distribution of NPS per Day'\n",
        ")"
      ]
    },
    {
      "cell_type": "markdown",
      "metadata": {},
      "source": [
        "**Key Observations:**  \n",
        "\n",
        "- Only ~5% of days had good NPS (>50)  \n",
        "- 5% had negative NPS  \n",
        "- Indicates customer dissatisfaction spikes  "
      ]
    },
    {
      "cell_type": "markdown",
      "metadata": {},
      "source": [
        "## Comment Title"
      ]
    },
    {
      "cell_type": "markdown",
      "metadata": {},
      "source": [
        "Let's look at the word cloud from review titles."
      ]
    },
    {
      "cell_type": "code",
      "execution_count": null,
      "metadata": {},
      "outputs": [],
      "source": [
        "df_reviews.viz.wordcloud('review_comment_title')"
      ]
    },
    {
      "cell_type": "markdown",
      "metadata": {},
      "source": [
        "**Key Observations:**  \n",
        "\n",
        "- Most review titles use positive language  "
      ]
    },
    {
      "cell_type": "markdown",
      "metadata": {},
      "source": [
        "Let's look at the top words by frequency."
      ]
    },
    {
      "cell_type": "code",
      "execution_count": null,
      "metadata": {},
      "outputs": [],
      "source": [
        "fig = df_reviews.analysis.word_frequency(\n",
        "    'review_comment_title'\n",
        "    , text_auto=True\n",
        "    , title='Top 10 Most Frequent Words in Review Title'\n",
        ")\n",
        "pb.to_slide(fig)\n",
        "fig.show()"
      ]
    },
    {
      "cell_type": "markdown",
      "metadata": {},
      "source": [
        "**Key Observations:**  \n",
        "\n",
        "- Most common title words: \"recomend\", \"excellent\"  "
      ]
    },
    {
      "cell_type": "markdown",
      "metadata": {},
      "source": [
        "Let’s analyze the sentiment of the text."
      ]
    },
    {
      "cell_type": "code",
      "execution_count": null,
      "metadata": {},
      "outputs": [],
      "source": [
        "df_reviews.analysis.sentiment('review_comment_title')"
      ]
    },
    {
      "cell_type": "markdown",
      "metadata": {},
      "source": [
        "**Key Observations:**  \n",
        "\n",
        "- ~10% of titles are negative  \n",
        "- Sentiment IQR above 0 (neutral/positive bias)  "
      ]
    },
    {
      "cell_type": "markdown",
      "metadata": {},
      "source": [
        "## Comment Message"
      ]
    },
    {
      "cell_type": "markdown",
      "metadata": {},
      "source": [
        "Let's look at the word cloud and the top words by frequency from the review messages."
      ]
    },
    {
      "cell_type": "code",
      "execution_count": null,
      "metadata": {},
      "outputs": [],
      "source": [
        "df_reviews.viz.wordcloud('review_comment_message')\n",
        "fig = df_reviews.analysis.word_frequency(\n",
        "    'review_comment_message'\n",
        "    , text_auto=True\n",
        "    , title='Top 10 Most Frequent Words in Review Message'\n",
        ")\n",
        "pb.to_slide(fig)\n",
        "fig.show()"
      ]
    },
    {
      "cell_type": "markdown",
      "metadata": {},
      "source": [
        "**Key Observations:**  \n",
        "\n",
        "- Many words relate to delivery  \n",
        "- Most common review word: \"product\"  "
      ]
    },
    {
      "cell_type": "markdown",
      "metadata": {},
      "source": [
        "Let’s analyze the sentiment of the text."
      ]
    },
    {
      "cell_type": "code",
      "execution_count": null,
      "metadata": {},
      "outputs": [],
      "source": [
        "df_reviews.analysis.sentiment('review_comment_message')"
      ]
    },
    {
      "cell_type": "markdown",
      "metadata": {},
      "source": [
        "**Key Observations:**  \n",
        "\n",
        "- ~15% of messages are negative  \n",
        "- Overall sentiment leans positive  "
      ]
    },
    {
      "cell_type": "markdown",
      "metadata": {},
      "source": [
        "## Impact of Rating on Review Text"
      ]
    },
    {
      "cell_type": "markdown",
      "metadata": {},
      "source": [
        "**Score 1**"
      ]
    },
    {
      "cell_type": "markdown",
      "metadata": {},
      "source": [
        "Let's look at the word cloud, top 20 words by frequency, and the emotional tone of the text for a rating of 1."
      ]
    },
    {
      "cell_type": "code",
      "execution_count": null,
      "metadata": {},
      "outputs": [],
      "source": [
        "df_reviews[lambda x: x.review_score==1].viz.wordcloud('review_comment_message')\n",
        "df_reviews[lambda x: x.review_score==1].analysis.word_frequency('review_comment_message').show()\n",
        "df_reviews[lambda x: x.review_score==1].analysis.sentiment('review_comment_message')"
      ]
    },
    {
      "cell_type": "markdown",
      "metadata": {},
      "source": [
        "**Key Observations:**  \n",
        "\n",
        "- 1-star reviews:  \n",
        "  - Contain negative words  \n",
        "  - Clearly negative sentiment (IQR <0)  "
      ]
    },
    {
      "cell_type": "markdown",
      "metadata": {},
      "source": [
        "---"
      ]
    },
    {
      "cell_type": "markdown",
      "metadata": {},
      "source": [
        "**Score 2**"
      ]
    },
    {
      "cell_type": "markdown",
      "metadata": {},
      "source": [
        "Let's look at the word cloud, top 20 words by frequency, and the emotional tone of the text for a rating of 2."
      ]
    },
    {
      "cell_type": "code",
      "execution_count": null,
      "metadata": {},
      "outputs": [],
      "source": [
        "df_reviews[lambda x: x.review_score==2].viz.wordcloud('review_comment_message')\n",
        "df_reviews[lambda x: x.review_score==2].analysis.word_frequency('review_comment_message').show()\n",
        "df_reviews[lambda x: x.review_score==2].analysis.sentiment('review_comment_message')"
      ]
    },
    {
      "cell_type": "markdown",
      "metadata": {},
      "source": [
        "**Key Observations:**  \n",
        "\n",
        "- 2-star reviews:  \n",
        "  - Contain negative words  \n",
        "  - Mostly negative sentiment  "
      ]
    },
    {
      "cell_type": "markdown",
      "metadata": {},
      "source": [
        "---"
      ]
    },
    {
      "cell_type": "markdown",
      "metadata": {},
      "source": [
        "**Score 3**"
      ]
    },
    {
      "cell_type": "markdown",
      "metadata": {},
      "source": [
        "Let's look at the word cloud, top 20 words by frequency, and the emotional tone of the text for a rating of 3."
      ]
    },
    {
      "cell_type": "code",
      "execution_count": null,
      "metadata": {},
      "outputs": [],
      "source": [
        "df_reviews[lambda x: x.review_score==3].viz.wordcloud('review_comment_message')\n",
        "df_reviews[lambda x: x.review_score==3].analysis.word_frequency('review_comment_message').show()\n",
        "df_reviews[lambda x: x.review_score==3].analysis.sentiment('review_comment_message')"
      ]
    },
    {
      "cell_type": "markdown",
      "metadata": {},
      "source": [
        "**Key Observations:**  \n",
        "\n",
        "- 3-star reviews:  \n",
        "  - Fewer negative words  \n",
        "  - Leans positive overall  "
      ]
    },
    {
      "cell_type": "markdown",
      "metadata": {},
      "source": [
        "---"
      ]
    },
    {
      "cell_type": "markdown",
      "metadata": {},
      "source": [
        "**Score 4**"
      ]
    },
    {
      "cell_type": "markdown",
      "metadata": {},
      "source": [
        "Let's look at the word cloud, top 20 words by frequency, and the emotional tone of the text for a rating of 4."
      ]
    },
    {
      "cell_type": "code",
      "execution_count": null,
      "metadata": {},
      "outputs": [],
      "source": [
        "df_reviews[lambda x: x.review_score==4].viz.wordcloud('review_comment_message')\n",
        "df_reviews[lambda x: x.review_score==4].analysis.word_frequency('review_comment_message').show()\n",
        "df_reviews[lambda x: x.review_score==4].analysis.sentiment('review_comment_message')"
      ]
    },
    {
      "cell_type": "markdown",
      "metadata": {},
      "source": [
        "**Key Observations:**  \n",
        "\n",
        "- 4-star reviews:  \n",
        "  - Many positive words  \n",
        "  - Clearly positive sentiment  "
      ]
    },
    {
      "cell_type": "markdown",
      "metadata": {},
      "source": [
        "---"
      ]
    },
    {
      "cell_type": "markdown",
      "metadata": {},
      "source": [
        "**Score 5**"
      ]
    },
    {
      "cell_type": "markdown",
      "metadata": {},
      "source": [
        "Let's look at the word cloud, top 20 words by frequency, and the emotional tone of the text for a rating of 5."
      ]
    },
    {
      "cell_type": "code",
      "execution_count": null,
      "metadata": {},
      "outputs": [],
      "source": [
        "df_reviews[lambda x: x.review_score==5].viz.wordcloud('review_comment_message')\n",
        "df_reviews[lambda x: x.review_score==5].analysis.word_frequency('review_comment_message').show()\n",
        "df_reviews[lambda x: x.review_score==5].analysis.sentiment('review_comment_message')"
      ]
    },
    {
      "cell_type": "markdown",
      "metadata": {},
      "source": [
        "**Key Observations:**  \n",
        "\n",
        "- 5-star reviews:  \n",
        "  - Dominated by positive words  \n",
        "  - Strongly positive sentiment  "
      ]
    },
    {
      "cell_type": "code",
      "execution_count": null,
      "metadata": {
        "tags": [
          "remove-cell"
        ]
      },
      "outputs": [],
      "source": [
        "%run ../../_post_run.ipynb"
      ]
    }
  ],
  "metadata": {
    "language_info": {
      "name": "python"
    }
  },
  "nbformat": 4,
  "nbformat_minor": 4
}
