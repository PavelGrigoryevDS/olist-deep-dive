{
  "metadata": {},
  "nbformat": 4,
  "nbformat_minor": 4,
  "cells": [
    {
      "cell_type": "code",
      "execution_count": null,
      "metadata": {
        "tags": [
          "remove-cell"
        ]
      },
      "source": [
        "%run ../../_pre_run.ipynb"
      ],
      "outputs": []
    },
    {
      "cell_type": "markdown",
      "metadata": {},
      "source": [
        "# Product Analysis"
      ]
    },
    {
      "cell_type": "markdown",
      "metadata": {},
      "source": [
        "## Number of Products"
      ]
    },
    {
      "cell_type": "code",
      "execution_count": null,
      "metadata": {},
      "outputs": [],
      "source": [
        "pb.configure(\n",
        "    df = df_products\n",
        "    , metric = 'product_sales_cnt'\n",
        "    , metric_label = 'Share of Sold Products'\n",
        "    , agg_func = 'sum'\n",
        "    , norm_by='all'\n",
        "    , axis_sort_order='descending'\n",
        "    , text_auto='.1%'\n",
        "    , update_fig={'xaxis': {'tickformat': '.0%'}}\n",
        ")"
      ]
    },
    {
      "cell_type": "code",
      "execution_count": null,
      "metadata": {},
      "outputs": [],
      "source": [
        "print(f'Total sold products count: {df_products.product_sales_cnt.sum():,.0f}')"
      ]
    },
    {
      "cell_type": "markdown",
      "metadata": {},
      "source": [
        "Let's look at the top values of the metrics"
      ]
    },
    {
      "cell_type": "code",
      "execution_count": null,
      "metadata": {},
      "outputs": [],
      "source": [
        "pb.metric_top(id_column='product_id')"
      ]
    },
    {
      "cell_type": "markdown",
      "metadata": {},
      "source": [
        "Let’s see at statistics and distribution of the metric."
      ]
    },
    {
      "cell_type": "code",
      "execution_count": null,
      "metadata": {},
      "outputs": [],
      "source": [
        "pb.metric_info(\n",
        "    labels=dict(product_sales_cnt='Number of Units Sold per Product')\n",
        "    , title='Distribution of Number of Units Sold per Product'\n",
        "    , upper_quantile=0.99\n",
        "    , hist_mode='dual_hist_trim'\n",
        ")"
      ]
    },
    {
      "cell_type": "markdown",
      "metadata": {},
      "source": [
        "**Key Observations:**  \n",
        "\n",
        "- 75% of products sold 1-2 units total  \n",
        "- Top 5% sold ≥10 units  "
      ]
    },
    {
      "cell_type": "markdown",
      "metadata": {},
      "source": [
        "Let's look at the statistics and distribution of the number of sold products per day."
      ]
    },
    {
      "cell_type": "code",
      "execution_count": null,
      "metadata": {},
      "outputs": [],
      "source": [
        "tmp_df_res = (\n",
        "    df_sales.merge(df_items, on='order_id', how='left')\n",
        "    .groupby(pd.Grouper(key='order_purchase_dt', freq='D'), observed=False)['product_id']\n",
        "    .nunique()\n",
        "    .to_frame('products_cnt_per_day')\n",
        ")"
      ]
    },
    {
      "cell_type": "code",
      "execution_count": null,
      "metadata": {},
      "outputs": [],
      "source": [
        "tmp_df_res['products_cnt_per_day'].explore.info(\n",
        "    labels=dict(orders_cnt_per_day='Number of Sold Products per Day')\n",
        "    , title='Distribution of Number of Sold Products per Day'\n",
        ")"
      ]
    },
    {
      "cell_type": "markdown",
      "metadata": {},
      "source": [
        "**Key Observations:**  \n",
        "\n",
        "- 75% of days sold ≤207 products  \n",
        "- Top 5% sold ≥277 products  \n",
        "- Several days exceeded 400 products  "
      ]
    },
    {
      "cell_type": "markdown",
      "metadata": {},
      "source": [
        "Let’s look by different dimensions."
      ]
    },
    {
      "cell_type": "markdown",
      "metadata": {},
      "source": [
        "**By Product Category**"
      ]
    },
    {
      "cell_type": "code",
      "execution_count": null,
      "metadata": {},
      "outputs": [],
      "source": [
        "fig = pb.bar_groupby(\n",
        "    y='product_category'\n",
        "    , trim_top_n_y=20\n",
        "    , width=1100\n",
        "    , height=500   \n",
        "    , show_top_and_bottom_n = 15\n",
        "    , show_count=False\n",
        ").update_layout(xaxis_domain=[0, 0.4], xaxis2_domain=[0.6, 1], xaxis2_tickformat='.2%')\n",
        "pb.to_slide(fig)\n",
        "fig.show()"
      ]
    },
    {
      "cell_type": "markdown",
      "metadata": {},
      "source": [
        "**Key Observations:**  \n",
        "\n",
        "- Best-selling categories: Bed Bath Table, Health Beauty  \n",
        "- Lowest-selling: Security and Services  "
      ]
    },
    {
      "cell_type": "markdown",
      "metadata": {},
      "source": [
        "**By Generalized Product Category**"
      ]
    },
    {
      "cell_type": "code",
      "execution_count": null,
      "metadata": {},
      "outputs": [],
      "source": [
        "pb.bar_groupby(y='general_product_category', to_slide=True)"
      ]
    },
    {
      "cell_type": "markdown",
      "metadata": {},
      "source": [
        "**Key Observations:**  \n",
        "\n",
        "- Top 3 generalized categories by units sold:  \n",
        "  1. Electronics (27%)  \n",
        "  2. Furniture (19%)  \n",
        "  3. Home & Garden (15%)  \n",
        "- Lowest: Food & Drinks (1%)  "
      ]
    },
    {
      "cell_type": "markdown",
      "metadata": {},
      "source": [
        "## Product Price"
      ]
    },
    {
      "cell_type": "code",
      "execution_count": null,
      "metadata": {},
      "outputs": [],
      "source": [
        "pb.configure(\n",
        "    df = df_products\n",
        "    , metric = 'avg_price'\n",
        "    , metric_label = 'Average Product Price, R$'\n",
        "    , metric_label_for_distribution = 'Product Price, R$'\n",
        "    , agg_func = 'mean'\n",
        "    , axis_sort_order='descending'\n",
        "    , text_auto='.3s'\n",
        ")"
      ]
    },
    {
      "cell_type": "markdown",
      "metadata": {},
      "source": [
        "Top products."
      ]
    },
    {
      "cell_type": "code",
      "execution_count": null,
      "metadata": {},
      "outputs": [],
      "source": [
        "pb.metric_top(id_column='product_id')"
      ]
    },
    {
      "cell_type": "markdown",
      "metadata": {},
      "source": [
        "Let’s see at statistics and distribution of the metric."
      ]
    },
    {
      "cell_type": "code",
      "execution_count": null,
      "metadata": {},
      "outputs": [],
      "source": [
        "pb.metric_info(\n",
        "    labels=dict(product_sales_cnt='Average Product Price, R$')\n",
        "    , title='Distribution of Average Product Price'\n",
        "    , upper_quantile=0.99\n",
        "    , hist_mode='dual_hist_trim'\n",
        ")"
      ]
    },
    {
      "cell_type": "markdown",
      "metadata": {},
      "source": [
        "**Key Observations:**  \n",
        "\n",
        "- 75% of products had average price ≤153 R$  \n",
        "- Bottom 5% ≤17 R$  \n",
        "- Top 5% ≥470 R$  "
      ]
    },
    {
      "cell_type": "markdown",
      "metadata": {},
      "source": [
        "Let’s see at statistics and distribution of the metric per day."
      ]
    },
    {
      "cell_type": "code",
      "execution_count": null,
      "metadata": {},
      "outputs": [],
      "source": [
        "tmp_df_res = (\n",
        "    df_sales.merge(df_items, on='order_id', how='left')\n",
        "    .groupby(pd.Grouper(key='order_purchase_dt', freq='D'), observed=False)['price']\n",
        "    .mean()\n",
        "    .to_frame('avg_price_per_day')\n",
        ")"
      ]
    },
    {
      "cell_type": "code",
      "execution_count": null,
      "metadata": {},
      "outputs": [],
      "source": [
        "tmp_df_res['avg_price_per_day'].explore.info(\n",
        "    labels=dict(avg_price_per_day='Average Product Price per Day, R$')\n",
        "    , title='Distribution of Average Product Price per Day, R$'\n",
        ")"
      ]
    },
    {
      "cell_type": "markdown",
      "metadata": {},
      "source": [
        "**Key Observations:**  \n",
        "\n",
        "- Daily average product prices:  \n",
        "  - Bottom 5% ≤94 R$  \n",
        "  - Middle 50% 108-130 R$  \n",
        "  - Top 5% ≥162 R$  "
      ]
    },
    {
      "cell_type": "markdown",
      "metadata": {},
      "source": [
        "Let’s look by different dimensions."
      ]
    },
    {
      "cell_type": "markdown",
      "metadata": {},
      "source": [
        "**By Product Category**"
      ]
    },
    {
      "cell_type": "code",
      "execution_count": null,
      "metadata": {},
      "outputs": [],
      "source": [
        "print('Top Best')\n",
        "pb.box(y='product_category').show()\n",
        "print('Top Worst')\n",
        "pb.box(\n",
        "    y='product_category'\n",
        "    , trim_top_n_direction='bottom'\n",
        ").show()\n",
        "pb.bar_groupby(\n",
        "    y='product_category'\n",
        "    , show_top_and_bottom_n=15\n",
        "    , to_slide=True\n",
        ").show()"
      ]
    },
    {
      "cell_type": "markdown",
      "metadata": {},
      "source": [
        "**Key Observations:**  \n",
        "\n",
        "- Highest priced category: Watches Gifts  \n",
        "- Lowest priced: Flowers  "
      ]
    },
    {
      "cell_type": "markdown",
      "metadata": {},
      "source": [
        "**By Generalized Product Category**"
      ]
    },
    {
      "cell_type": "code",
      "execution_count": null,
      "metadata": {},
      "outputs": [],
      "source": [
        "pb.box(y='general_product_category').show()\n",
        "fig = pb.bar_groupby(\n",
        "    y='general_product_category'\n",
        "    , show_count=True\n",
        ").update_layout(xaxis2_title_text='Number of Sold Products')\n",
        "pb.to_slide(fig)\n",
        "fig.show()"
      ]
    },
    {
      "cell_type": "markdown",
      "metadata": {},
      "source": [
        "**Key Observations:**  \n",
        "\n",
        "- Top 3 categories by average price:  \n",
        "  1. Industry & Construction  \n",
        "  2. Electronics  \n",
        "  3. Fashion  \n",
        "- Lowest: Food & Drinks "
      ]
    },
    {
      "cell_type": "markdown",
      "metadata": {},
      "source": [
        "## Sales Amount of Products"
      ]
    },
    {
      "cell_type": "code",
      "execution_count": null,
      "metadata": {},
      "outputs": [],
      "source": [
        "pb.configure(\n",
        "    df = df_products\n",
        "    , metric = 'total_sales_amount'\n",
        "    , metric_label = 'Total Sales Amount of Products, R$'\n",
        "    , metric_label_for_distribution = 'Total Sales Amount per Product, R$'\n",
        "    , agg_func = 'sum'\n",
        "    , axis_sort_order='descending'\n",
        "    , text_auto='.3s'\n",
        ")"
      ]
    },
    {
      "cell_type": "markdown",
      "metadata": {},
      "source": [
        "Top products."
      ]
    },
    {
      "cell_type": "code",
      "execution_count": null,
      "metadata": {},
      "outputs": [],
      "source": [
        "pb.metric_top(id_column='product_id')"
      ]
    },
    {
      "cell_type": "markdown",
      "metadata": {},
      "source": [
        "Let’s see at statistics and distribution of the metric per day."
      ]
    },
    {
      "cell_type": "code",
      "execution_count": null,
      "metadata": {},
      "outputs": [],
      "source": [
        "tmp_df_res = (\n",
        "    df_sales.merge(df_items, on='order_id', how='left')\n",
        "    .groupby(pd.Grouper(key='order_purchase_dt', freq='D'), observed=False)['price']\n",
        "    .sum()\n",
        "    .to_frame('total_price_per_day')\n",
        ")"
      ]
    },
    {
      "cell_type": "code",
      "execution_count": null,
      "metadata": {},
      "outputs": [],
      "source": [
        "tmp_df_res['total_price_per_day'].explore.info(\n",
        "    labels=dict(avg_price_per_day='Total Product Price per Day, R$')\n",
        "    , title='Distribution of Total Product Price per Day, R$'\n",
        ")"
      ]
    },
    {
      "cell_type": "markdown",
      "metadata": {},
      "source": [
        "**Key Observations:**  \n",
        "\n",
        "- 75% of days had product revenue ≤29K R$  \n",
        "- Top 5% ≥42K R$  "
      ]
    },
    {
      "cell_type": "markdown",
      "metadata": {},
      "source": [
        "Let’s look by different dimensions."
      ]
    },
    {
      "cell_type": "markdown",
      "metadata": {},
      "source": [
        "**By Product Category**"
      ]
    },
    {
      "cell_type": "code",
      "execution_count": null,
      "metadata": {},
      "outputs": [],
      "source": [
        "print('Top Best')\n",
        "pb.box(y='product_category').show()\n",
        "print('Top Worst')\n",
        "pb.box(\n",
        "    y='product_category'\n",
        "    , trim_top_n_direction='bottom'\n",
        ").show()\n",
        "pb.bar_groupby(\n",
        "    y='product_category'\n",
        "    , show_top_and_bottom_n=15\n",
        "    , horizontal_spacing=0.25\n",
        "    , to_slide=True\n",
        ").show()"
      ]
    },
    {
      "cell_type": "markdown",
      "metadata": {},
      "source": [
        "**Key Observations:**  \n",
        "\n",
        "- Highest revenue categories: Health beauty, Watches gifts  \n",
        "- Lowest: Security and services  "
      ]
    },
    {
      "cell_type": "markdown",
      "metadata": {},
      "source": [
        "**By Generalized Product Category**"
      ]
    },
    {
      "cell_type": "code",
      "execution_count": null,
      "metadata": {},
      "outputs": [],
      "source": [
        "pb.box(y='general_product_category').show()\n",
        "fig = (\n",
        "    pb.bar_groupby(y='general_product_category', show_count=True)\n",
        "    .update_layout(\n",
        "        xaxis2_title_text='Number of Sold Products'\n",
        "    )\n",
        ")\n",
        "pb.to_slide(fig)\n",
        "fig.show()"
      ]
    },
    {
      "cell_type": "markdown",
      "metadata": {},
      "source": [
        "**Key Observations:**  \n",
        "\n",
        "- Top 3 categories by revenue:  \n",
        "  1. Electronics  \n",
        "  2. Furniture  \n",
        "  3. Home & Garden  \n",
        "- Lowest: Food & Drinks  "
      ]
    },
    {
      "cell_type": "markdown",
      "metadata": {},
      "source": [
        "## Sales Amount per Product"
      ]
    },
    {
      "cell_type": "code",
      "execution_count": null,
      "metadata": {},
      "outputs": [],
      "source": [
        "pb.configure(\n",
        "    df = df_products\n",
        "    , metric = 'total_sales_amount'\n",
        "    , metric_label = 'Average Sales Amount per Products, R$'\n",
        "    , metric_label_for_distribution = 'Total Sales Amount per Product, R$'\n",
        "    , agg_func = 'mean'\n",
        "    , axis_sort_order='descending'\n",
        "    , text_auto='.3s'    \n",
        ")"
      ]
    },
    {
      "cell_type": "markdown",
      "metadata": {},
      "source": [
        "Let’s see at statistics and distribution of the metric."
      ]
    },
    {
      "cell_type": "code",
      "execution_count": null,
      "metadata": {},
      "outputs": [],
      "source": [
        "pb.metric_info(\n",
        "    labels=dict(total_sales_amount='Total Sales Amount per Product, R$')\n",
        "    , title='Distribution of Total Sales Amount per Product'\n",
        "    , upper_quantile=0.99\n",
        "    , hist_mode='dual_hist_trim'\n",
        ")"
      ]
    },
    {
      "cell_type": "markdown",
      "metadata": {},
      "source": [
        "**Key Observations:**  \n",
        "\n",
        "- 75% of products generated ≤325 R$ lifetime revenue  "
      ]
    },
    {
      "cell_type": "markdown",
      "metadata": {},
      "source": [
        "Let’s look by different dimensions."
      ]
    },
    {
      "cell_type": "markdown",
      "metadata": {},
      "source": [
        "**By Product Category**"
      ]
    },
    {
      "cell_type": "code",
      "execution_count": null,
      "metadata": {},
      "outputs": [],
      "source": [
        "print('Top Best')\n",
        "pb.box(y='product_category').show()\n",
        "print('Top Worst')\n",
        "pb.box(\n",
        "    y='product_category'\n",
        "    , trim_top_n_direction='bottom'\n",
        ").show()\n",
        "pb.bar_groupby(\n",
        "    y='product_category'\n",
        "    , show_top_and_bottom_n=15\n",
        "    , horizontal_spacing=0.25\n",
        "    , to_slide=True\n",
        ")"
      ]
    },
    {
      "cell_type": "markdown",
      "metadata": {},
      "source": [
        "**Key Observations:**  \n",
        "\n",
        "- Highest average revenue per product: Watches gifts  \n",
        "- Lowest: Flowers  "
      ]
    },
    {
      "cell_type": "markdown",
      "metadata": {},
      "source": [
        "**By Generalized Product Category**"
      ]
    },
    {
      "cell_type": "code",
      "execution_count": null,
      "metadata": {},
      "outputs": [],
      "source": [
        "pb.box(y='general_product_category').show()\n",
        "pb.bar_groupby(y='general_product_category', to_slide=True).show()"
      ]
    },
    {
      "cell_type": "markdown",
      "metadata": {},
      "source": [
        "**Key Observations:**  \n",
        "\n",
        "- Top 3 categories by average revenue:  \n",
        "  1. Electronics  \n",
        "  2. Beauty & Health  \n",
        "  3. Industry & Construction  \n",
        "- Lowest: Books & Stationery "
      ]
    },
    {
      "cell_type": "markdown",
      "metadata": {},
      "source": [
        "## Price Range"
      ]
    },
    {
      "cell_type": "code",
      "execution_count": null,
      "metadata": {},
      "outputs": [],
      "source": [
        "pb.configure(\n",
        "    df = df_products\n",
        "    , metric = 'price_range'\n",
        "    , metric_label = 'Average Price Range per Product, R$'\n",
        "    , metric_label_for_distribution = 'Price Range per Product, R$'\n",
        "    , agg_func = 'mean'\n",
        "    , axis_sort_order='descending'\n",
        "    , text_auto='.2f'\n",
        ")"
      ]
    },
    {
      "cell_type": "markdown",
      "metadata": {},
      "source": [
        "Top products."
      ]
    },
    {
      "cell_type": "code",
      "execution_count": null,
      "metadata": {},
      "outputs": [],
      "source": [
        "pb.metric_top(id_column='product_id')"
      ]
    },
    {
      "cell_type": "markdown",
      "metadata": {},
      "source": [
        "Let’s see at statistics and distribution of the metric."
      ]
    },
    {
      "cell_type": "code",
      "execution_count": null,
      "metadata": {},
      "outputs": [],
      "source": [
        "pb.metric_info(\n",
        "    upper_quantile=0.95\n",
        "    , hist_mode='dual_hist_trim'\n",
        ")"
      ]
    },
    {
      "cell_type": "markdown",
      "metadata": {},
      "source": [
        "**Key Observations:**  \n",
        "\n",
        "- 80% of products maintained stable prices  \n",
        "- 5% had price changes ≥20 R$  "
      ]
    },
    {
      "cell_type": "markdown",
      "metadata": {},
      "source": [
        "Let’s look by different dimensions."
      ]
    },
    {
      "cell_type": "markdown",
      "metadata": {},
      "source": [
        "**By Product Category**"
      ]
    },
    {
      "cell_type": "code",
      "execution_count": null,
      "metadata": {},
      "outputs": [],
      "source": [
        "print('Top Best')\n",
        "pb.box(y='product_category').show()\n",
        "print('Top Worst')\n",
        "pb.box(\n",
        "    y='product_category'\n",
        "    , trim_top_n_direction='bottom'\n",
        ").show()\n",
        "pb.bar_groupby(\n",
        "    y='product_category'\n",
        "    , show_top_and_bottom_n=15\n",
        "    , horizontal_spacing=0.25\n",
        "    , to_slide=True\n",
        ").show()"
      ]
    },
    {
      "cell_type": "markdown",
      "metadata": {},
      "source": [
        "**Key Observations:**  \n",
        "\n",
        "- Most price volatility: Watches gifts  "
      ]
    },
    {
      "cell_type": "markdown",
      "metadata": {},
      "source": [
        "**By Generalized Product Category**"
      ]
    },
    {
      "cell_type": "code",
      "execution_count": null,
      "metadata": {},
      "outputs": [],
      "source": [
        "pb.box(y='general_product_category').show()\n",
        "pb.bar_groupby(y='general_product_category', to_slide=True)"
      ]
    },
    {
      "cell_type": "markdown",
      "metadata": {},
      "source": [
        "**Key Observations:**  \n",
        "\n",
        "- Top 3 categories by price changes:  \n",
        "  1. Electronics  \n",
        "  2. Industry & Construction  \n",
        "  3. Beauty & Health  \n",
        "- Lowest volatility: Food & Drinks  "
      ]
    },
    {
      "cell_type": "markdown",
      "metadata": {},
      "source": [
        "## Quantity of Product per Order"
      ]
    },
    {
      "cell_type": "code",
      "execution_count": null,
      "metadata": {},
      "outputs": [],
      "source": [
        "pb.configure(\n",
        "    df = df_products\n",
        "    , metric = 'avg_product_qty_per_order'\n",
        "    , metric_label = 'Average Quantity of Product per Order'\n",
        "    , agg_func = 'mean'\n",
        "    , axis_sort_order='descending'\n",
        "    , text_auto='.3s'\n",
        ")"
      ]
    },
    {
      "cell_type": "markdown",
      "metadata": {},
      "source": [
        "Top products."
      ]
    },
    {
      "cell_type": "code",
      "execution_count": null,
      "metadata": {},
      "outputs": [],
      "source": [
        "pb.metric_top(id_column='product_id')"
      ]
    },
    {
      "cell_type": "markdown",
      "metadata": {},
      "source": [
        "Let’s see at statistics and distribution of the metric."
      ]
    },
    {
      "cell_type": "code",
      "execution_count": null,
      "metadata": {},
      "outputs": [],
      "source": [
        "pb.metric_info(\n",
        "    upper_quantile=0.95\n",
        "    , hist_mode='dual_hist_trim'\n",
        ")"
      ]
    },
    {
      "cell_type": "markdown",
      "metadata": {},
      "source": [
        "**Key Observations:**  \n",
        "\n",
        "- 85% of products appeared as single units in orders  "
      ]
    },
    {
      "cell_type": "markdown",
      "metadata": {},
      "source": [
        "Let’s look by different dimensions."
      ]
    },
    {
      "cell_type": "markdown",
      "metadata": {},
      "source": [
        "**By Generalized Product Category**"
      ]
    },
    {
      "cell_type": "code",
      "execution_count": null,
      "metadata": {},
      "outputs": [],
      "source": [
        "pb.box(y='general_product_category').show()\n",
        "pb.bar_groupby(y='general_product_category').show()"
      ]
    },
    {
      "cell_type": "markdown",
      "metadata": {},
      "source": [
        "**Key Observations:**  \n",
        "\n",
        "- Highest average quantity per order: Food & Drinks  "
      ]
    },
    {
      "cell_type": "markdown",
      "metadata": {},
      "source": [
        "## Length of Product Name"
      ]
    },
    {
      "cell_type": "code",
      "execution_count": null,
      "metadata": {},
      "outputs": [],
      "source": [
        "pb.configure(\n",
        "    df = df_products\n",
        "    , metric = 'product_name_lenght'\n",
        "    , metric_label = 'Length of Product Name'\n",
        ")"
      ]
    },
    {
      "cell_type": "markdown",
      "metadata": {},
      "source": [
        "Top products."
      ]
    },
    {
      "cell_type": "code",
      "execution_count": null,
      "metadata": {},
      "outputs": [],
      "source": [
        "pb.metric_top(id_column='product_id')"
      ]
    },
    {
      "cell_type": "markdown",
      "metadata": {},
      "source": [
        "Let’s see at statistics and distribution of the metric."
      ]
    },
    {
      "cell_type": "code",
      "execution_count": null,
      "metadata": {},
      "outputs": [],
      "source": [
        "pb.metric_info()"
      ]
    },
    {
      "cell_type": "markdown",
      "metadata": {},
      "source": [
        "**Key Observations:**  \n",
        "\n",
        "- 75% of products have names ≤57 characters  "
      ]
    },
    {
      "cell_type": "markdown",
      "metadata": {},
      "source": [
        "## Length of Product Description"
      ]
    },
    {
      "cell_type": "code",
      "execution_count": null,
      "metadata": {},
      "outputs": [],
      "source": [
        "pb.configure(\n",
        "    df = df_products\n",
        "    , metric = 'product_description_lenght'\n",
        "    , metric_label = 'Length of Product Description'\n",
        ")"
      ]
    },
    {
      "cell_type": "markdown",
      "metadata": {},
      "source": [
        "Top products."
      ]
    },
    {
      "cell_type": "code",
      "execution_count": null,
      "metadata": {},
      "outputs": [],
      "source": [
        "pb.metric_top(id_column='product_id')"
      ]
    },
    {
      "cell_type": "markdown",
      "metadata": {},
      "source": [
        "Let’s see at statistics and distribution of the metric."
      ]
    },
    {
      "cell_type": "code",
      "execution_count": null,
      "metadata": {},
      "outputs": [],
      "source": [
        "pb.metric_info()"
      ]
    },
    {
      "cell_type": "markdown",
      "metadata": {},
      "source": [
        "**Key Observations:**  \n",
        "\n",
        "- 75% of products have descriptions ≤1000 characters  "
      ]
    },
    {
      "cell_type": "markdown",
      "metadata": {},
      "source": [
        "## Number of Product Photos"
      ]
    },
    {
      "cell_type": "code",
      "execution_count": null,
      "metadata": {},
      "outputs": [],
      "source": [
        "pb.configure(\n",
        "    df = df_products\n",
        "    , metric = 'product_photos_qty'\n",
        "    , metric_label = 'Number of Product Photos'\n",
        ")"
      ]
    },
    {
      "cell_type": "markdown",
      "metadata": {},
      "source": [
        "Top products."
      ]
    },
    {
      "cell_type": "code",
      "execution_count": null,
      "metadata": {},
      "outputs": [],
      "source": [
        "pb.metric_top(id_column='product_id')"
      ]
    },
    {
      "cell_type": "markdown",
      "metadata": {},
      "source": [
        "Let’s see at statistics and distribution of the metric."
      ]
    },
    {
      "cell_type": "code",
      "execution_count": null,
      "metadata": {},
      "outputs": [],
      "source": [
        "pb.metric_info()"
      ]
    },
    {
      "cell_type": "markdown",
      "metadata": {},
      "source": [
        "**Key Observations:**  \n",
        "\n",
        "- 52% of products have 1 photo  \n",
        "- Top 5% have ≥6 photos  "
      ]
    },
    {
      "cell_type": "markdown",
      "metadata": {},
      "source": [
        "## Product Weight"
      ]
    },
    {
      "cell_type": "code",
      "execution_count": null,
      "metadata": {},
      "outputs": [],
      "source": [
        "pb.configure(\n",
        "    df = df_products\n",
        "    , metric = 'product_weight_g'\n",
        "    , metric_label = 'Product Weight, g'\n",
        ")"
      ]
    },
    {
      "cell_type": "markdown",
      "metadata": {},
      "source": [
        "Top products."
      ]
    },
    {
      "cell_type": "code",
      "execution_count": null,
      "metadata": {},
      "outputs": [],
      "source": [
        "pb.metric_top(id_column='product_id')"
      ]
    },
    {
      "cell_type": "markdown",
      "metadata": {},
      "source": [
        "Let’s see at statistics and distribution of the metric."
      ]
    },
    {
      "cell_type": "code",
      "execution_count": null,
      "metadata": {},
      "outputs": [],
      "source": [
        "pb.metric_info(\n",
        "    upper_quantile=0.95\n",
        "    , hist_mode='dual_hist_trim'    \n",
        ")"
      ]
    },
    {
      "cell_type": "markdown",
      "metadata": {},
      "source": [
        "**Key Observations:**  \n",
        "\n",
        "- 75% of products weigh ≤1.9kg  \n",
        "- Top 5% weigh ≥11kg  "
      ]
    },
    {
      "cell_type": "markdown",
      "metadata": {},
      "source": [
        "## Product Length"
      ]
    },
    {
      "cell_type": "code",
      "execution_count": null,
      "metadata": {},
      "outputs": [],
      "source": [
        "pb.configure(\n",
        "    df = df_products\n",
        "    , metric = 'product_length_cm'\n",
        "    , metric_label = 'Product Length, cm'\n",
        ")"
      ]
    },
    {
      "cell_type": "markdown",
      "metadata": {},
      "source": [
        "Top products."
      ]
    },
    {
      "cell_type": "code",
      "execution_count": null,
      "metadata": {},
      "outputs": [],
      "source": [
        "pb.metric_top(id_column='product_id')"
      ]
    },
    {
      "cell_type": "markdown",
      "metadata": {},
      "source": [
        "Let’s see at statistics and distribution of the metric."
      ]
    },
    {
      "cell_type": "code",
      "execution_count": null,
      "metadata": {},
      "outputs": [],
      "source": [
        "pb.metric_info()"
      ]
    },
    {
      "cell_type": "markdown",
      "metadata": {},
      "source": [
        "**Key Observations:**  \n",
        "\n",
        "- 75% of products are ≤38cm long  \n",
        "- Top 5% ≥65cm  "
      ]
    },
    {
      "cell_type": "markdown",
      "metadata": {},
      "source": [
        "## Product Width"
      ]
    },
    {
      "cell_type": "code",
      "execution_count": null,
      "metadata": {},
      "outputs": [],
      "source": [
        "pb.configure(\n",
        "    df = df_products\n",
        "    , metric = 'product_width_cm'\n",
        "    , metric_label = 'Product Width, cm'\n",
        ")"
      ]
    },
    {
      "cell_type": "markdown",
      "metadata": {},
      "source": [
        "Top products."
      ]
    },
    {
      "cell_type": "code",
      "execution_count": null,
      "metadata": {},
      "outputs": [],
      "source": [
        "pb.metric_top(id_column='product_id')"
      ]
    },
    {
      "cell_type": "markdown",
      "metadata": {},
      "source": [
        "Let’s see at statistics and distribution of the metric."
      ]
    },
    {
      "cell_type": "code",
      "execution_count": null,
      "metadata": {},
      "outputs": [],
      "source": [
        "pb.metric_info()"
      ]
    },
    {
      "cell_type": "markdown",
      "metadata": {},
      "source": [
        "**Key Observations:**  \n",
        "\n",
        "- 75% of products are ≤30cm wide  \n",
        "- Top 5% ≥47cm  "
      ]
    },
    {
      "cell_type": "markdown",
      "metadata": {},
      "source": [
        "## Product Height"
      ]
    },
    {
      "cell_type": "code",
      "execution_count": null,
      "metadata": {},
      "outputs": [],
      "source": [
        "pb.configure(\n",
        "    df = df_products\n",
        "    , metric = 'product_height_cm'\n",
        "    , metric_label = 'Product Height, cm'\n",
        ")"
      ]
    },
    {
      "cell_type": "markdown",
      "metadata": {},
      "source": [
        "Top products."
      ]
    },
    {
      "cell_type": "code",
      "execution_count": null,
      "metadata": {},
      "outputs": [],
      "source": [
        "pb.metric_top(id_column='product_id')"
      ]
    },
    {
      "cell_type": "markdown",
      "metadata": {},
      "source": [
        "Let’s see at statistics and distribution of the metric."
      ]
    },
    {
      "cell_type": "code",
      "execution_count": null,
      "metadata": {},
      "outputs": [],
      "source": [
        "pb.metric_info()"
      ]
    },
    {
      "cell_type": "markdown",
      "metadata": {},
      "source": [
        "**Key Observations:**  \n",
        "\n",
        "- 75% of products are ≤21cm tall  \n",
        "- Top 5% ≥44cm  "
      ]
    },
    {
      "cell_type": "markdown",
      "metadata": {},
      "source": [
        "## Product Volume"
      ]
    },
    {
      "cell_type": "code",
      "execution_count": null,
      "metadata": {},
      "outputs": [],
      "source": [
        "pb.configure(\n",
        "    df = df_products\n",
        "    , metric = 'product_volume_cm3'\n",
        "    , metric_label = 'Product Volume, cm3'\n",
        ")"
      ]
    },
    {
      "cell_type": "markdown",
      "metadata": {},
      "source": [
        "Top products."
      ]
    },
    {
      "cell_type": "code",
      "execution_count": null,
      "metadata": {},
      "outputs": [],
      "source": [
        "pb.metric_top(id_column='product_id')"
      ]
    },
    {
      "cell_type": "markdown",
      "metadata": {},
      "source": [
        "Let’s see at statistics and distribution of the metric."
      ]
    },
    {
      "cell_type": "code",
      "execution_count": null,
      "metadata": {},
      "outputs": [],
      "source": [
        "pb.metric_info()"
      ]
    },
    {
      "cell_type": "markdown",
      "metadata": {},
      "source": [
        "**Key Observations:**  \n",
        "\n",
        "- 75% of products have volume ≤19K cm3\n",
        "- Top 5% ≥64K cm3"
      ]
    },
    {
      "cell_type": "markdown",
      "metadata": {},
      "source": [
        "## Weight to Volume Ratio"
      ]
    },
    {
      "cell_type": "code",
      "execution_count": null,
      "metadata": {},
      "outputs": [],
      "source": [
        "pb.configure(\n",
        "    df = df_products\n",
        "    , metric = 'weight_to_volume_ratio'\n",
        "    , metric_label = 'Product Weight to Volume Ratio'\n",
        ")"
      ]
    },
    {
      "cell_type": "markdown",
      "metadata": {},
      "source": [
        "Top products."
      ]
    },
    {
      "cell_type": "code",
      "execution_count": null,
      "metadata": {},
      "outputs": [],
      "source": [
        "pb.metric_top(id_column='product_id')"
      ]
    },
    {
      "cell_type": "markdown",
      "metadata": {},
      "source": [
        "Let’s see at statistics and distribution of the metric."
      ]
    },
    {
      "cell_type": "code",
      "execution_count": null,
      "metadata": {},
      "outputs": [],
      "source": [
        "pb.metric_info(\n",
        "    upper_quantile=0.99\n",
        "    , hist_mode='dual_hist_trim'    \n",
        ")"
      ]
    },
    {
      "cell_type": "markdown",
      "metadata": {},
      "source": [
        "**Key Observations:**  \n",
        "\n",
        "- 75% of products have weight/volume ratio ≤0.2  \n",
        "- Top 5% ≥0.5  "
      ]
    },
    {
      "cell_type": "markdown",
      "metadata": {},
      "source": [
        "## Other metrics"
      ]
    },
    {
      "cell_type": "markdown",
      "metadata": {},
      "source": [
        "**What fraction of products were not sold at all?**"
      ]
    },
    {
      "cell_type": "markdown",
      "metadata": {},
      "source": [
        "We have missing values in the number of sold units for products that were never sold."
      ]
    },
    {
      "cell_type": "code",
      "execution_count": null,
      "metadata": {},
      "outputs": [],
      "source": [
        "products_no_sales_share = (df_products.total_units_sold.isna()).mean()"
      ]
    },
    {
      "cell_type": "code",
      "execution_count": null,
      "metadata": {},
      "outputs": [],
      "source": [
        "print(f'Share of Products with No Sales: {products_no_sales_share:.1%}')"
      ]
    },
    {
      "cell_type": "code",
      "execution_count": null,
      "metadata": {
        "tags": [
          "remove-cell"
        ]
      },
      "source": [
        "%run ../../_post_run.ipynb"
      ],
      "outputs": []
    }
  ]
}