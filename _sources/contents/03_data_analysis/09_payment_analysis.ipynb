{
  "metadata": {},
  "nbformat": 4,
  "nbformat_minor": 4,
  "cells": [
    {
      "cell_type": "code",
      "execution_count": null,
      "metadata": {
        "tags": [
          "remove-cell"
        ]
      },
      "source": [
        "%run ../../_pre_run.ipynb"
      ],
      "outputs": []
    },
    {
      "cell_type": "markdown",
      "metadata": {},
      "source": [
        "# Payment Analysis"
      ]
    },
    {
      "cell_type": "markdown",
      "metadata": {},
      "source": [
        "## Number of Payments"
      ]
    },
    {
      "cell_type": "code",
      "execution_count": null,
      "metadata": {},
      "outputs": [],
      "source": [
        "pb.configure(\n",
        "    df = df_payments\n",
        "    , metric = 'payment_sequential'\n",
        "    , metric_label = 'Share of Payments'\n",
        "    , metric_label_for_distribution = 'Number of Payments' \n",
        "    , agg_func = 'count'\n",
        "    , norm_by = 'all'\n",
        "    , axis_sort_order='descending'\n",
        "    , text_auto='.1%'\n",
        "    , update_fig={'xaxis': {'tickformat': '.0%'}}\n",
        ")"
      ]
    },
    {
      "cell_type": "code",
      "execution_count": null,
      "metadata": {},
      "outputs": [],
      "source": [
        "print(f'Total number of payments in order: {df_payments.payment_sequential.count():,}')"
      ]
    },
    {
      "cell_type": "markdown",
      "metadata": {},
      "source": [
        "Let's look at the statistics and distribution of the number of payments per day."
      ]
    },
    {
      "cell_type": "code",
      "execution_count": null,
      "metadata": {},
      "outputs": [],
      "source": [
        "tmp_df_res = (\n",
        "    df_orders.merge(df_payments, on='order_id', how='left')\n",
        "    .groupby(pd.Grouper(key='order_purchase_dt', freq='D'), observed=False)['payment_sequential']\n",
        "    .count()\n",
        "    .to_frame('payments_cnt_per_day')\n",
        ")"
      ]
    },
    {
      "cell_type": "code",
      "execution_count": null,
      "metadata": {},
      "outputs": [],
      "source": [
        "tmp_df_res['payments_cnt_per_day'].explore.info(\n",
        "    labels=dict(payments_cnt_per_day='Number of Payments per Day')\n",
        "    , title='Distribution of Number of Payments per Day'\n",
        ")"
      ]
    },
    {
      "cell_type": "markdown",
      "metadata": {},
      "source": [
        "**Key Observations:**  \n",
        "\n",
        "- 75% of days have ≤230 payments  \n",
        "- Top 5% have ≥312 payments  \n",
        "- Several days exceeded 500 payments  "
      ]
    },
    {
      "cell_type": "markdown",
      "metadata": {},
      "source": [
        "Let's look at top days."
      ]
    },
    {
      "cell_type": "code",
      "execution_count": null,
      "metadata": {},
      "outputs": [],
      "source": [
        "tmp_df_res.sort_values('payments_cnt_per_day', ascending=False).head()"
      ]
    },
    {
      "cell_type": "markdown",
      "metadata": {},
      "source": [
        "**Key Observations:**  \n",
        "\n",
        "- Black Friday had anomalous payment volumes  "
      ]
    },
    {
      "cell_type": "markdown",
      "metadata": {},
      "source": [
        "**By Payment Type**"
      ]
    },
    {
      "cell_type": "code",
      "execution_count": null,
      "metadata": {},
      "outputs": [],
      "source": [
        "pb.bar_groupby(y='payment_type', to_slide=True)"
      ]
    },
    {
      "cell_type": "markdown",
      "metadata": {},
      "source": [
        "**Key Observations:**  \n",
        "\n",
        "- Payment method distribution:  \n",
        "  - Credit card: 74%  \n",
        "  - Boleto: 19%  \n",
        "  - Voucher: 5.5%  \n",
        "  - Debit card: 1.5%  "
      ]
    },
    {
      "cell_type": "markdown",
      "metadata": {},
      "source": [
        "## Payment Value"
      ]
    },
    {
      "cell_type": "code",
      "execution_count": null,
      "metadata": {},
      "outputs": [],
      "source": [
        "pb.configure(\n",
        "    df = df_payments\n",
        "    , metric = 'payment_value'\n",
        "    , metric_label = 'Average Payment Value, R$'\n",
        "    , metric_label_for_distribution = 'Payment Value, R$'\n",
        "    , agg_func = 'mean'\n",
        "    , axis_sort_order='descending'\n",
        "    , text_auto='.3s'\n",
        ")"
      ]
    },
    {
      "cell_type": "markdown",
      "metadata": {},
      "source": [
        "Let’s see at statistics and distribution of the metric."
      ]
    },
    {
      "cell_type": "code",
      "execution_count": null,
      "metadata": {},
      "outputs": [],
      "source": [
        "pb.metric_info(\n",
        "    upper_quantile=0.95\n",
        "    , hist_mode='dual_hist_trim'        \n",
        ")"
      ]
    },
    {
      "cell_type": "markdown",
      "metadata": {},
      "source": [
        "**Key Observations:**  \n",
        "\n",
        "- 75% of payments are ≤172 R$  \n",
        "- Top 5% are ≥440 R$  \n",
        "- Several exceed 6,000 R$  "
      ]
    },
    {
      "cell_type": "markdown",
      "metadata": {},
      "source": [
        "**By Payment Type**"
      ]
    },
    {
      "cell_type": "code",
      "execution_count": null,
      "metadata": {},
      "outputs": [],
      "source": [
        "pb.bar_groupby(y='payment_type', to_slide=True)"
      ]
    },
    {
      "cell_type": "markdown",
      "metadata": {},
      "source": [
        "**Key Observations:**  \n",
        "\n",
        "- Credit card payments have highest average value  \n",
        "- Vouchers have lowest  "
      ]
    },
    {
      "cell_type": "markdown",
      "metadata": {},
      "source": [
        "## Number of Payment Installments"
      ]
    },
    {
      "cell_type": "code",
      "execution_count": null,
      "metadata": {},
      "outputs": [],
      "source": [
        "pb.configure(\n",
        "    df = df_payments\n",
        "    , metric = 'payment_installments'\n",
        "    , metric_label = 'Average Payment Installments'\n",
        "    , metric_label_for_distribution = 'Payment Installments'\n",
        "    , agg_func = 'mean'\n",
        "    , axis_sort_order='descending'\n",
        "    , text_auto='.2s'\n",
        ")"
      ]
    },
    {
      "cell_type": "markdown",
      "metadata": {},
      "source": [
        "Let’s see at statistics and distribution of the metric."
      ]
    },
    {
      "cell_type": "code",
      "execution_count": null,
      "metadata": {},
      "outputs": [],
      "source": [
        "pb.metric_info()"
      ]
    },
    {
      "cell_type": "markdown",
      "metadata": {},
      "source": [
        "**Key Observations:**  \n",
        "\n",
        "- 51% of payments are single-installment  \n",
        "- Some have ≥9 installments "
      ]
    },
    {
      "cell_type": "markdown",
      "metadata": {},
      "source": [
        "**By Payment Type**"
      ]
    },
    {
      "cell_type": "code",
      "execution_count": null,
      "metadata": {},
      "outputs": [],
      "source": [
        "pb.bar_groupby(y='payment_type', to_slide=True)"
      ]
    },
    {
      "cell_type": "markdown",
      "metadata": {},
      "source": [
        "**Key Observations:**  \n",
        "\n",
        "- Credit cards average 3.5 installments  \n",
        "- Other methods have no installments  "
      ]
    },
    {
      "cell_type": "code",
      "execution_count": null,
      "metadata": {
        "tags": [
          "remove-cell"
        ]
      },
      "source": [
        "%run ../../_post_run.ipynb"
      ],
      "outputs": []
    }
  ]
}