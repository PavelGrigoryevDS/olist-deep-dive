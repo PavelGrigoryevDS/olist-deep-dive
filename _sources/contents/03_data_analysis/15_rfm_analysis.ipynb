{
  "metadata": {},
  "nbformat": 4,
  "nbformat_minor": 4,
  "cells": [
    {
      "cell_type": "code",
      "execution_count": null,
      "metadata": {
        "tags": [
          "remove-cell"
        ]
      },
      "source": [
        "%run ../../_pre_run.ipynb"
      ],
      "outputs": []
    },
    {
      "cell_type": "markdown",
      "metadata": {},
      "source": [
        "# RFM Analysis\n"
      ]
    },
    {
      "cell_type": "code",
      "execution_count": null,
      "metadata": {},
      "outputs": [],
      "source": [
        "rfm_res = df_sales.analysis.rfm(\n",
        "    user_id_col='customer_unique_id'\n",
        "    , order_id_col='order_id'\n",
        "    , date_col='order_purchase_dt'\n",
        "    , revenue_col='total_payment'\n",
        "    , upper_quantile=0.99\n",
        "    , return_rfm=True\n",
        ")"
      ]
    },
    {
      "cell_type": "markdown",
      "metadata": {},
      "source": [
        "Let’s examine the distributions of Recency, Frequency, and Monetary."
      ]
    },
    {
      "cell_type": "code",
      "execution_count": null,
      "metadata": {},
      "outputs": [],
      "source": [
        "rfm_res['hist']"
      ]
    },
    {
      "cell_type": "markdown",
      "metadata": {},
      "source": [
        "Let’s look at the RFM heatmap where color represents Monetary."
      ]
    },
    {
      "cell_type": "code",
      "execution_count": null,
      "metadata": {},
      "outputs": [],
      "source": [
        "fig = rfm_res['heat']\n",
        "pb.to_slide(fig)\n",
        "fig.show()"
      ]
    },
    {
      "cell_type": "markdown",
      "metadata": {},
      "source": [
        "**Key Observations:**\n",
        "\n",
        "- The FR segment 33 generates the highest payments - frequent recent buyers."
      ]
    },
    {
      "cell_type": "markdown",
      "metadata": {},
      "source": [
        "Let’s examine the distribution of customers by RFM pairwise combinations."
      ]
    },
    {
      "cell_type": "code",
      "execution_count": null,
      "metadata": {},
      "outputs": [],
      "source": [
        "fig = rfm_res['heat_pairs']\n",
        "pb.to_slide(fig)\n",
        "fig.show()"
      ]
    },
    {
      "cell_type": "markdown",
      "metadata": {},
      "source": [
        "**Key Observations:**\n",
        "\n",
        "- The FM segment 33 clearly stands out in terms of customer count - frequent high-value buyers.\n"
      ]
    },
    {
      "cell_type": "markdown",
      "metadata": {},
      "source": [
        "Let’s examine slices of the FM pair by R."
      ]
    },
    {
      "cell_type": "code",
      "execution_count": null,
      "metadata": {},
      "outputs": [],
      "source": [
        "fig = rfm_res['heat_sliced']\n",
        "pb.to_slide(fig)\n",
        "fig.show()"
      ]
    },
    {
      "cell_type": "markdown",
      "metadata": {},
      "source": [
        "**Key Observations:**\n",
        "\n",
        "- The FM33 segment contains the most R=3 customers - frequent recent high-value buyers.\n"
      ]
    },
    {
      "cell_type": "markdown",
      "metadata": {},
      "source": [
        "Let’s look at the distribution by segments."
      ]
    },
    {
      "cell_type": "code",
      "execution_count": null,
      "metadata": {},
      "outputs": [],
      "source": [
        "fig_tree = rfm_res['seg_tree']\n",
        "fig_bar = rfm_res['seg_bar']\n",
        "pb.to_slide(fig_tree, '_treemap')\n",
        "pb.to_slide(fig_bar, '_bar')\n",
        "fig_tree.show()\n",
        "fig_bar.show()"
      ]
    },
    {
      "cell_type": "markdown",
      "metadata": {},
      "source": [
        "**Key Observations:**\n",
        "\n",
        "- Largest segments: Hibernating (22%), About to Sleep (18%), Promising (14%) - mostly inactive customers.\n",
        "- Champions: 4%, Loyal: 7%, Lost: 4%."
      ]
    },
    {
      "cell_type": "markdown",
      "metadata": {},
      "source": [
        "Save the RFM dataframe for clustering."
      ]
    },
    {
      "cell_type": "code",
      "execution_count": null,
      "metadata": {},
      "outputs": [],
      "source": [
        "df_rfm = rfm_res['df_rfm']\n",
        "del rfm_res"
      ]
    },
    {
      "cell_type": "code",
      "execution_count": null,
      "metadata": {
        "tags": [
          "remove-cell"
        ]
      },
      "source": [
        "%run ../../_post_run.ipynb"
      ],
      "outputs": []
    }
  ]
}