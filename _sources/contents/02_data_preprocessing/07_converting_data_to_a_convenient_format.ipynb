{
  "metadata": {},
  "nbformat": 4,
  "nbformat_minor": 4,
  "cells": [
    {
      "cell_type": "code",
      "execution_count": null,
      "metadata": {
        "tags": [
          "remove-cell"
        ]
      },
      "source": [
        "%run ../../_pre_run.ipynb"
      ],
      "outputs": []
    },
    {
      "cell_type": "markdown",
      "metadata": {},
      "source": [
        "# Converting Data to a Convenient Format"
      ]
    },
    {
      "cell_type": "markdown",
      "metadata": {},
      "source": [
        "Replace state names with more readable versions."
      ]
    },
    {
      "cell_type": "code",
      "execution_count": null,
      "metadata": {},
      "outputs": [],
      "source": [
        "state_name = {\n",
        "    \"AC\" : \"Acre\",\n",
        "    \"AL\" : \"Alagoas\",\n",
        "    \"AM\" : \"Amazonas\",\n",
        "    \"AP\" : \"Amapa\",\n",
        "    \"BA\" : \"Bahia\",\n",
        "    \"CE\" : \"Ceara\",\n",
        "    \"DF\" : \"Distrito Federal\",\n",
        "    \"ES\" : \"Espirito Santo\",\n",
        "    \"GO\" : \"Goias\",\n",
        "    \"MA\" : \"Maranhao\",\n",
        "    \"MG\" : \"Minas Gerais\",\n",
        "    \"MS\" : \"Mato Grosso do Sul\",\n",
        "    \"MT\" : \"Mato Grosso\",\n",
        "    \"PA\" : \"Para\",\n",
        "    \"PB\" : \"Paraiba\",\n",
        "    \"PE\" : \"Pernambuco\",\n",
        "    \"PI\" : \"Piaui\",\n",
        "    \"PR\" : \"Parana\",\n",
        "    \"RJ\" : \"Rio de Janeiro\",\n",
        "    \"RN\" : \"Rio Grande do Norte\",\n",
        "    \"RO\" : \"Rondonia\",\n",
        "    \"RR\" : \"Roraima\",\n",
        "    \"RS\" : \"Rio Grande do Sul\",\n",
        "    \"SC\" : \"Santa Catarina\",\n",
        "    \"SE\" : \"Sergipe\",\n",
        "    \"SP\" : \"Sao Paulo\",\n",
        "    \"TO\" : \"Tocantins\"\n",
        "}"
      ]
    },
    {
      "cell_type": "code",
      "execution_count": null,
      "metadata": {},
      "outputs": [],
      "source": [
        "df_customers['customer_state_short'] = df_customers['customer_state'].str.upper()"
      ]
    },
    {
      "cell_type": "code",
      "execution_count": null,
      "metadata": {},
      "outputs": [],
      "source": [
        "df_customers['customer_state'] = (\n",
        "    df_customers['customer_state']\n",
        "    .str.upper()\n",
        "    .replace(state_name)\n",
        "    .astype('category')\n",
        ")\n",
        "\n",
        "df_sellers['seller_state'] = (\n",
        "    df_sellers['seller_state']\n",
        "    .str.upper()\n",
        "    .replace(state_name)\n",
        "    .astype('category')\n",
        ")"
      ]
    },
    {
      "cell_type": "markdown",
      "metadata": {},
      "source": [
        "Verify no states were lost."
      ]
    },
    {
      "cell_type": "code",
      "execution_count": null,
      "metadata": {},
      "outputs": [],
      "source": [
        "df_customers['customer_state'].isna().sum()"
      ]
    },
    {
      "cell_type": "code",
      "execution_count": null,
      "metadata": {},
      "outputs": [],
      "source": [
        "df_sellers['seller_state'].isna().sum()"
      ]
    },
    {
      "cell_type": "markdown",
      "metadata": {},
      "source": [
        "Check for fractional values in product specifications."
      ]
    },
    {
      "cell_type": "code",
      "execution_count": null,
      "metadata": {},
      "outputs": [],
      "source": [
        "for col in df_products.columns.difference(['product_id', 'product_category', 'general_product_category']):\n",
        "    print(f'{col}: {(df_products[col] % 1 != 0).sum()}')"
      ]
    },
    {
      "cell_type": "markdown",
      "metadata": {},
      "source": [
        "All is well - convert to integer type."
      ]
    },
    {
      "cell_type": "code",
      "execution_count": null,
      "metadata": {},
      "outputs": [],
      "source": [
        "df_products.product_height_cm = df_products.product_height_cm.astype('int32')\n",
        "df_products.product_length_cm = df_products.product_length_cm.astype('int32')\n",
        "df_products.product_photos_qty = df_products.product_photos_qty.astype('int32')\n",
        "df_products.product_weight_g = df_products.product_weight_g.astype('int32')\n",
        "df_products.product_width_cm = df_products.product_width_cm.astype('int32')\n",
        "df_products.head(1)"
      ]
    },
    {
      "cell_type": "code",
      "execution_count": null,
      "metadata": {
        "tags": [
          "remove-cell"
        ]
      },
      "source": [
        "%run ../../_post_run.ipynb"
      ],
      "outputs": []
    }
  ]
}