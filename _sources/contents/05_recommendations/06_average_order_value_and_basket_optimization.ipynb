{
  "metadata": {},
  "nbformat": 4,
  "nbformat_minor": 4,
  "cells": [
    {
      "cell_type": "code",
      "execution_count": null,
      "metadata": {
        "tags": [
          "remove-cell"
        ]
      },
      "source": [
        "%run ../../_pre_run.ipynb"
      ],
      "outputs": []
    },
    {
      "cell_type": "markdown",
      "metadata": {},
      "source": [
        "# Average Order Value and Basket Optimization"
      ]
    },
    {
      "cell_type": "markdown",
      "metadata": {},
      "source": [
        "- Increase AOV (currently stagnant at 150-170 R$).\n",
        "- Boost average products per order (currently 1.12-1.16).\n",
        "- Address issues with high-value, multi-item orders (disproportionate 1-2 star ratings—critical segment).\n",
        "- Raise AOV in São Paulo (key market with low AOV).\n",
        "- Increase products per order (90% of orders contain one item).\n",
        "  - Free shipping thresholds for multi-item orders.\n",
        "- Weekend AOV growth: Since weekends show weak AOV lift vs. weekdays, develop strategies to capitalize on typical weekend spending spikes—a potential growth lever."
      ]
    },
    {
      "cell_type": "code",
      "execution_count": null,
      "metadata": {
        "tags": [
          "remove-cell"
        ]
      },
      "source": [
        "%run ../../_post_run.ipynb"
      ],
      "outputs": []
    }
  ]
}