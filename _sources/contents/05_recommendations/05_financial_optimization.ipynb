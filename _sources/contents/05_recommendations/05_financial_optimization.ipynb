{
  "metadata": {},
  "nbformat": 4,
  "nbformat_minor": 4,
  "cells": [
    {
      "cell_type": "code",
      "execution_count": null,
      "metadata": {
        "tags": [
          "remove-cell"
        ]
      },
      "source": [
        "%run ../../_pre_run.ipynb"
      ],
      "outputs": []
    },
    {
      "cell_type": "markdown",
      "metadata": {},
      "source": [
        "# Financial optimization"
      ]
    },
    {
      "cell_type": "markdown",
      "metadata": {},
      "source": [
        "**For High-Spend segment:**\n",
        "\n",
        "- Premium installment plans for orders >500 R$.\n",
        "- Free insurance for heavy orders (>10 kg)."
      ]
    },
    {
      "cell_type": "markdown",
      "metadata": {},
      "source": [
        "**Payment incentives:**\n",
        "\n",
        "- Promote credit cards (75% of payments, high average order value).\n",
        "  - Cashback/bonuses for card payments.\n",
        "  - Partner bank exclusives."
      ]
    },
    {
      "cell_type": "markdown",
      "metadata": {},
      "source": [
        "**Boost installment adoption:**\n",
        "\n",
        "- Installment orders have higher values and weights.\n",
        "- Simplify application process.\n",
        "- Partner with banks to reduce interest rates."
      ]
    },
    {
      "cell_type": "markdown",
      "metadata": {},
      "source": [
        "**Voucher strategy:**\n",
        "\n",
        "- Voucher-only users have low average order values.\n",
        "- Time-limited offers to convert vouchers to purchases.\n",
        "- Bundled \"voucher + discounted item\" deals."
      ]
    },
    {
      "cell_type": "markdown",
      "metadata": {},
      "source": [
        "**Canceled order reduction:**\n",
        "\n",
        "- Reduce credit card cancellations (70% of canceled orders).\n",
        "- Address voucher payment issues (overrepresented in cancellations)."
      ]
    },
    {
      "cell_type": "code",
      "execution_count": null,
      "metadata": {
        "tags": [
          "remove-cell"
        ]
      },
      "source": [
        "%run ../../_post_run.ipynb"
      ],
      "outputs": []
    }
  ]
}