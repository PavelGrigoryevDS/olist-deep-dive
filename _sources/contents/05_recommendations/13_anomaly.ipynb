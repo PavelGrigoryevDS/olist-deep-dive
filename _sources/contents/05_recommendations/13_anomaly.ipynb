{
  "cells": [
    {
      "cell_type": "code",
      "execution_count": null,
      "metadata": {
        "tags": [
          "remove-cell"
        ]
      },
      "outputs": [],
      "source": [
        "%run ../../_pre_run.ipynb"
      ]
    },
    {
      "cell_type": "markdown",
      "metadata": {},
      "source": [
        "# Anomaly"
      ]
    },
    {
      "cell_type": "markdown",
      "metadata": {},
      "source": [
        "- Identify and resolve the reasons for order delays at different stages. This can affect the customer experience and may be a software bug.\n",
        "- Determine the cause of date discrepancies. Correct situations where the date of a subsequent order stage is earlier than the date of the previous stage.\n",
        "- Investigate why there is a mismatch between order status and date. For example, an order with a status of delivered should have a delivery date, but this is not always the case.\n",
        "- Verify product IDs that were sold by different sellers to ensure there are no software bugs.\n",
        "- Investigate why there are cases where a single review is left for multiple orders. Ensure that this is not an anomaly.\n"
      ]
    },
    {
      "cell_type": "code",
      "execution_count": null,
      "metadata": {
        "tags": [
          "remove-cell"
        ]
      },
      "outputs": [],
      "source": [
        "%run ../../_post_run.ipynb"
      ]
    }
  ],
  "metadata": {
    "language_info": {
      "name": "python"
    }
  },
  "nbformat": 4,
  "nbformat_minor": 4
}
