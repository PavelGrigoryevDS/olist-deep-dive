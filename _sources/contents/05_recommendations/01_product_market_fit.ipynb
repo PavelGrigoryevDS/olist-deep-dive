{
  "metadata": {},
  "nbformat": 4,
  "nbformat_minor": 4,
  "cells": [
    {
      "cell_type": "code",
      "execution_count": null,
      "metadata": {
        "tags": [
          "remove-cell"
        ]
      },
      "source": [
        "%run ../../_pre_run.ipynb"
      ],
      "outputs": []
    },
    {
      "cell_type": "markdown",
      "metadata": {},
      "source": [
        "# Product market fit"
      ]
    },
    {
      "cell_type": "markdown",
      "metadata": {},
      "source": [
        "- Explore ways to increase retention. This is the most critical issue currently as retention is too low. Formulate and conduct A/B tests to improve retention.\n",
        "- Analyze reviews from non-returning customers to gather feedback and identify the root causes of low retention. This is the most accurate way to understand why customers don't return.\n",
        "- Improve positioning on external marketplaces like Amazon to ensure Olist appears in product cards. This could drive more external marketplace purchases.\n",
        "- Develop promotions and discounts for repeat purchases to boost conversion rates for returning customers.\n",
        "- Review the product assortment. The marketplace may lack desired products or suffer from quality issues.\n",
        "- Study the customer experience on the website/app to identify potential pain points that may contribute to low retention and poor product/market fit.\n",
        "- Find ways to increase the number of active buyers, as growth has stalled since 2018. Meanwhile, the number of sellers continues to grow, risking an imbalance.\n",
        "- Reduce the time between first and second purchases, as currently ~50% of customers take more than 29 days to make a second purchase."
      ]
    },
    {
      "cell_type": "code",
      "execution_count": null,
      "metadata": {
        "tags": [
          "remove-cell"
        ]
      },
      "source": [
        "%run ../../_post_run.ipynb"
      ],
      "outputs": []
    }
  ]
}