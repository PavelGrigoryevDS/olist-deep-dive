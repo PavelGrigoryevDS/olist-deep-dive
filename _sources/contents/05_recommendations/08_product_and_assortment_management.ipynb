{
  "metadata": {},
  "nbformat": 4,
  "nbformat_minor": 4,
  "cells": [
    {
      "cell_type": "code",
      "execution_count": null,
      "metadata": {
        "tags": [
          "remove-cell"
        ]
      },
      "source": [
        "%run ../../_pre_run.ipynb"
      ],
      "outputs": []
    },
    {
      "cell_type": "markdown",
      "metadata": {},
      "source": [
        "#  Product and Assortment Management"
      ]
    },
    {
      "cell_type": "markdown",
      "metadata": {},
      "source": [
        "**Growing categories:**\n",
        "\n",
        "- Expand Beauty/Health and Home/Garden categories showing consistent growth in 2018\n",
        "- Increase inventory depth in these segments\n",
        "- Launch targeted advertising campaigns"
      ]
    },
    {
      "cell_type": "markdown",
      "metadata": {},
      "source": [
        "**Top-performing categories:**\n",
        "\n",
        "- Electronics (27%), Furniture (18%), Home & Garden (14%) require:\n",
        "  - Extended assortment\n",
        "  - Value-added services (e.g., furniture assembly)\n",
        "  - Enhanced warranties"
      ]
    },
    {
      "cell_type": "markdown",
      "metadata": {},
      "source": [
        "**Underperforming categories:**\n",
        "\n",
        "- Review pricing strategy for Watches & Gifts (most price volatility)\n",
        "- Address issues in Security & Services (lowest sales volume)"
      ]
    },
    {
      "cell_type": "markdown",
      "metadata": {},
      "source": [
        "**Multi-item order incentives:**\n",
        "\n",
        "- Implement bundle strategies:\n",
        "  - Free shipping thresholds (e.g., 3+ items)\n",
        "  - Curated product sets with discounts"
      ]
    },
    {
      "cell_type": "markdown",
      "metadata": {},
      "source": [
        "**Dead stock management:**\n",
        "\n",
        "- 2.5% of products have never sold - analyze and liquidate"
      ]
    },
    {
      "cell_type": "code",
      "execution_count": null,
      "metadata": {
        "tags": [
          "remove-cell"
        ]
      },
      "source": [
        "%run ../../_post_run.ipynb"
      ],
      "outputs": []
    }
  ]
}