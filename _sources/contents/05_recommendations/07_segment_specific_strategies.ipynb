{
  "metadata": {},
  "nbformat": 4,
  "nbformat_minor": 4,
  "cells": [
    {
      "cell_type": "code",
      "execution_count": null,
      "metadata": {
        "tags": [
          "remove-cell"
        ]
      },
      "source": [
        "%run ../../_pre_run.ipynb"
      ],
      "outputs": []
    },
    {
      "cell_type": "markdown",
      "metadata": {},
      "source": [
        "# Segment-Specific Strategies"
      ]
    },
    {
      "cell_type": "markdown",
      "metadata": {},
      "source": [
        "- **Champions RFM segment (4% of total):** Implement VIP service for this high-value group. Retention is critical.\n",
        "- **High-Spend customers:** Improve delivery speed (currently slow) and service quality to reduce critic complaints.\n",
        "- **Low-Spend customers:** Encourage higher AOV through cross-category discounts.\n",
        "- **Fast repeat purchasers:** Enhance post-purchase experience to maintain their engagement.\n",
        "- **Seasonal buyers (\"Quarterly\" segment):** Send targeted reminders before peak seasons.\n",
        "- **Promoters:** Leverage their positive ratings to drive repeat purchases through tailored incentives.\n",
        "- **Critics:** Focus on logistics and service improvements - their high spending makes them valuable if issues are resolved."
      ]
    },
    {
      "cell_type": "code",
      "execution_count": null,
      "metadata": {
        "tags": [
          "remove-cell"
        ]
      },
      "source": [
        "%run ../../_post_run.ipynb"
      ],
      "outputs": []
    }
  ]
}