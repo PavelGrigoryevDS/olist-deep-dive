{
  "metadata": {},
  "nbformat": 4,
  "nbformat_minor": 4,
  "cells": [
    {
      "cell_type": "code",
      "execution_count": null,
      "metadata": {
        "tags": [
          "remove-cell"
        ]
      },
      "source": [
        "%run ../../_pre_run.ipynb"
      ],
      "outputs": []
    },
    {
      "cell_type": "markdown",
      "metadata": {},
      "source": [
        "# Marketing and Promotion"
      ]
    },
    {
      "cell_type": "markdown",
      "metadata": {},
      "source": [
        "**Geo-targeted campaigns:**\n",
        "\n",
        "- **São Paulo (42% share):** Furniture-focused promotions\n",
        "- **Rio de Janeiro (13%):** Electronics with expedited delivery options\n",
        "- **Minas Gerais (12%):** Regional-specific deals\n",
        "- Tactics:\n",
        "  - \"City Days\" with localized discounts\n",
        "  - Micro-influencer partnerships"
      ]
    },
    {
      "cell_type": "markdown",
      "metadata": {},
      "source": [
        "**Peak hour optimization:**\n",
        "\n",
        "- Evening focus (36% of orders occur 18-22h)\n",
        "- Implement \"Happy Hour\" flash sales\n",
        "- Increase ad spend during peak windows"
      ]
    },
    {
      "cell_type": "markdown",
      "metadata": {},
      "source": [
        "**Dormant customer reactivation:**\n",
        "\n",
        "- Automated email sequences for:\n",
        "  - Hibernating (22%)\n",
        "  - Lost (4%) segments\n",
        "- Personalized win-back offers"
      ]
    },
    {
      "cell_type": "code",
      "execution_count": null,
      "metadata": {
        "tags": [
          "remove-cell"
        ]
      },
      "source": [
        "%run ../../_post_run.ipynb"
      ],
      "outputs": []
    }
  ]
}